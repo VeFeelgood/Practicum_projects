{
 "cells": [
  {
   "cell_type": "markdown",
   "metadata": {},
   "source": [
    "# Проект Принятие решений в бизнесе\n",
    "\n",
    "В данном проекте мне в качестве аналитика крупного интернет-магазина было необходимо выполнить приоритизацию гипотез и проанализировать А/В тест. Для выполнения первой части мне были доступны данные о гипотезах с их кратким описанием и оценками различных показателей по десятибальной шкале. \n",
    "Для приоритизации гипотез я планирую применить распространенные фреймворки ICE и RICE, сравнив полученные очки и сделав по итогам соответствующие выводы.\n",
    "\n",
    "Вторая часть проекта заключается в оценке и визуализации метрик продаж интернет-магазина, а также проведении А/В теста и оценке его результатов. На данном этапе я планирую выполнить следующие шаги:\n",
    "\n",
    "1. Визуализировать данные о кумулятивной выручке и среднем чеке по группам, построив графики, для дальнейшего анализа и наглядного представления динамики и различий в случае их наличия;\n",
    "2. Выявить аномальные данные о количестве заказов и выручке на одного пользователя, которые могут повлиять на результаты А/В теста, визуализировав соответствующие данные и оценив их процентили.\n",
    "3. Посчитать статистические значимости различий между двумя группами в средней выручке и среднем количестве заказов по \"сырым\" и очищенным данным, выявить наличие или отсутствие отличий.\n",
    "4. Принять решение по результатам выполнения теста."
   ]
  },
  {
   "cell_type": "markdown",
   "metadata": {},
   "source": [
    "## Часть 1. Приоритизация гипотез."
   ]
  },
  {
   "cell_type": "code",
   "execution_count": 1,
   "metadata": {},
   "outputs": [],
   "source": [
    "import pandas as pd\n",
    "import scipy.stats as stats\n",
    "import datetime as dt\n",
    "import numpy as np\n",
    "import matplotlib.pyplot as plt\n",
    "import datetime as dt"
   ]
  },
  {
   "cell_type": "code",
   "execution_count": 2,
   "metadata": {},
   "outputs": [],
   "source": [
    "hypothesis = pd.read_csv('/datasets/hypothesis.csv')"
   ]
  },
  {
   "cell_type": "code",
   "execution_count": 3,
   "metadata": {},
   "outputs": [
    {
     "data": {
      "text/html": [
       "<div>\n",
       "<style scoped>\n",
       "    .dataframe tbody tr th:only-of-type {\n",
       "        vertical-align: middle;\n",
       "    }\n",
       "\n",
       "    .dataframe tbody tr th {\n",
       "        vertical-align: top;\n",
       "    }\n",
       "\n",
       "    .dataframe thead th {\n",
       "        text-align: right;\n",
       "    }\n",
       "</style>\n",
       "<table border=\"1\" class=\"dataframe\">\n",
       "  <thead>\n",
       "    <tr style=\"text-align: right;\">\n",
       "      <th></th>\n",
       "      <th>Hypothesis</th>\n",
       "      <th>Reach</th>\n",
       "      <th>Impact</th>\n",
       "      <th>Confidence</th>\n",
       "      <th>Efforts</th>\n",
       "    </tr>\n",
       "  </thead>\n",
       "  <tbody>\n",
       "    <tr>\n",
       "      <th>0</th>\n",
       "      <td>Добавить два новых канала привлечения трафика, что позволит привлекать на 30% больше пользователей</td>\n",
       "      <td>3</td>\n",
       "      <td>10</td>\n",
       "      <td>8</td>\n",
       "      <td>6</td>\n",
       "    </tr>\n",
       "    <tr>\n",
       "      <th>1</th>\n",
       "      <td>Запустить собственную службу доставки, что сократит срок доставки заказов</td>\n",
       "      <td>2</td>\n",
       "      <td>5</td>\n",
       "      <td>4</td>\n",
       "      <td>10</td>\n",
       "    </tr>\n",
       "    <tr>\n",
       "      <th>2</th>\n",
       "      <td>Добавить блоки рекомендаций товаров на сайт интернет магазина, чтобы повысить конверсию и средний чек заказа</td>\n",
       "      <td>8</td>\n",
       "      <td>3</td>\n",
       "      <td>7</td>\n",
       "      <td>3</td>\n",
       "    </tr>\n",
       "    <tr>\n",
       "      <th>3</th>\n",
       "      <td>Изменить структура категорий, что увеличит конверсию, т.к. пользователи быстрее найдут нужный товар</td>\n",
       "      <td>8</td>\n",
       "      <td>3</td>\n",
       "      <td>3</td>\n",
       "      <td>8</td>\n",
       "    </tr>\n",
       "    <tr>\n",
       "      <th>4</th>\n",
       "      <td>Изменить цвет фона главной страницы, чтобы увеличить вовлеченность пользователей</td>\n",
       "      <td>3</td>\n",
       "      <td>1</td>\n",
       "      <td>1</td>\n",
       "      <td>1</td>\n",
       "    </tr>\n",
       "    <tr>\n",
       "      <th>5</th>\n",
       "      <td>Добавить страницу отзывов клиентов о магазине, что позволит увеличить количество заказов</td>\n",
       "      <td>3</td>\n",
       "      <td>2</td>\n",
       "      <td>2</td>\n",
       "      <td>3</td>\n",
       "    </tr>\n",
       "    <tr>\n",
       "      <th>6</th>\n",
       "      <td>Показать на главной странице баннеры с актуальными акциями и распродажами, чтобы увеличить конверсию</td>\n",
       "      <td>5</td>\n",
       "      <td>3</td>\n",
       "      <td>8</td>\n",
       "      <td>3</td>\n",
       "    </tr>\n",
       "    <tr>\n",
       "      <th>7</th>\n",
       "      <td>Добавить форму подписки на все основные страницы, чтобы собрать базу клиентов для email-рассылок</td>\n",
       "      <td>10</td>\n",
       "      <td>7</td>\n",
       "      <td>8</td>\n",
       "      <td>5</td>\n",
       "    </tr>\n",
       "    <tr>\n",
       "      <th>8</th>\n",
       "      <td>Запустить акцию, дающую скидку на товар в день рождения</td>\n",
       "      <td>1</td>\n",
       "      <td>9</td>\n",
       "      <td>9</td>\n",
       "      <td>5</td>\n",
       "    </tr>\n",
       "  </tbody>\n",
       "</table>\n",
       "</div>"
      ],
      "text/plain": [
       "                                                                                                     Hypothesis  \\\n",
       "0            Добавить два новых канала привлечения трафика, что позволит привлекать на 30% больше пользователей   \n",
       "1                                     Запустить собственную службу доставки, что сократит срок доставки заказов   \n",
       "2  Добавить блоки рекомендаций товаров на сайт интернет магазина, чтобы повысить конверсию и средний чек заказа   \n",
       "3           Изменить структура категорий, что увеличит конверсию, т.к. пользователи быстрее найдут нужный товар   \n",
       "4                              Изменить цвет фона главной страницы, чтобы увеличить вовлеченность пользователей   \n",
       "5                      Добавить страницу отзывов клиентов о магазине, что позволит увеличить количество заказов   \n",
       "6          Показать на главной странице баннеры с актуальными акциями и распродажами, чтобы увеличить конверсию   \n",
       "7              Добавить форму подписки на все основные страницы, чтобы собрать базу клиентов для email-рассылок   \n",
       "8                                                       Запустить акцию, дающую скидку на товар в день рождения   \n",
       "\n",
       "   Reach  Impact  Confidence  Efforts  \n",
       "0      3      10           8        6  \n",
       "1      2       5           4       10  \n",
       "2      8       3           7        3  \n",
       "3      8       3           3        8  \n",
       "4      3       1           1        1  \n",
       "5      3       2           2        3  \n",
       "6      5       3           8        3  \n",
       "7     10       7           8        5  \n",
       "8      1       9           9        5  "
      ]
     },
     "metadata": {},
     "output_type": "display_data"
    }
   ],
   "source": [
    "pd.set_option('max_colwidth', 200)\n",
    "display(hypothesis)"
   ]
  },
  {
   "cell_type": "markdown",
   "metadata": {},
   "source": [
    "Как видно из приведенной выше таблицы, к оценке и приоритизации представлены девять гипотез, а также необходимые данные об их охвате, влиянии на пользователей, уверенности в оценках и сложности их проверки."
   ]
  },
  {
   "cell_type": "code",
   "execution_count": 4,
   "metadata": {},
   "outputs": [
    {
     "data": {
      "text/html": [
       "<div>\n",
       "<style scoped>\n",
       "    .dataframe tbody tr th:only-of-type {\n",
       "        vertical-align: middle;\n",
       "    }\n",
       "\n",
       "    .dataframe tbody tr th {\n",
       "        vertical-align: top;\n",
       "    }\n",
       "\n",
       "    .dataframe thead th {\n",
       "        text-align: right;\n",
       "    }\n",
       "</style>\n",
       "<table border=\"1\" class=\"dataframe\">\n",
       "  <thead>\n",
       "    <tr style=\"text-align: right;\">\n",
       "      <th></th>\n",
       "      <th>Hypothesis</th>\n",
       "      <th>Reach</th>\n",
       "      <th>Impact</th>\n",
       "      <th>Confidence</th>\n",
       "      <th>Efforts</th>\n",
       "      <th>ice_score</th>\n",
       "    </tr>\n",
       "  </thead>\n",
       "  <tbody>\n",
       "    <tr>\n",
       "      <th>8</th>\n",
       "      <td>Запустить акцию, дающую скидку на товар в день рождения</td>\n",
       "      <td>1</td>\n",
       "      <td>9</td>\n",
       "      <td>9</td>\n",
       "      <td>5</td>\n",
       "      <td>16.200</td>\n",
       "    </tr>\n",
       "    <tr>\n",
       "      <th>0</th>\n",
       "      <td>Добавить два новых канала привлечения трафика, что позволит привлекать на 30% больше пользователей</td>\n",
       "      <td>3</td>\n",
       "      <td>10</td>\n",
       "      <td>8</td>\n",
       "      <td>6</td>\n",
       "      <td>13.333</td>\n",
       "    </tr>\n",
       "    <tr>\n",
       "      <th>7</th>\n",
       "      <td>Добавить форму подписки на все основные страницы, чтобы собрать базу клиентов для email-рассылок</td>\n",
       "      <td>10</td>\n",
       "      <td>7</td>\n",
       "      <td>8</td>\n",
       "      <td>5</td>\n",
       "      <td>11.200</td>\n",
       "    </tr>\n",
       "    <tr>\n",
       "      <th>6</th>\n",
       "      <td>Показать на главной странице баннеры с актуальными акциями и распродажами, чтобы увеличить конверсию</td>\n",
       "      <td>5</td>\n",
       "      <td>3</td>\n",
       "      <td>8</td>\n",
       "      <td>3</td>\n",
       "      <td>8.000</td>\n",
       "    </tr>\n",
       "    <tr>\n",
       "      <th>2</th>\n",
       "      <td>Добавить блоки рекомендаций товаров на сайт интернет магазина, чтобы повысить конверсию и средний чек заказа</td>\n",
       "      <td>8</td>\n",
       "      <td>3</td>\n",
       "      <td>7</td>\n",
       "      <td>3</td>\n",
       "      <td>7.000</td>\n",
       "    </tr>\n",
       "    <tr>\n",
       "      <th>1</th>\n",
       "      <td>Запустить собственную службу доставки, что сократит срок доставки заказов</td>\n",
       "      <td>2</td>\n",
       "      <td>5</td>\n",
       "      <td>4</td>\n",
       "      <td>10</td>\n",
       "      <td>2.000</td>\n",
       "    </tr>\n",
       "    <tr>\n",
       "      <th>5</th>\n",
       "      <td>Добавить страницу отзывов клиентов о магазине, что позволит увеличить количество заказов</td>\n",
       "      <td>3</td>\n",
       "      <td>2</td>\n",
       "      <td>2</td>\n",
       "      <td>3</td>\n",
       "      <td>1.333</td>\n",
       "    </tr>\n",
       "    <tr>\n",
       "      <th>3</th>\n",
       "      <td>Изменить структура категорий, что увеличит конверсию, т.к. пользователи быстрее найдут нужный товар</td>\n",
       "      <td>8</td>\n",
       "      <td>3</td>\n",
       "      <td>3</td>\n",
       "      <td>8</td>\n",
       "      <td>1.125</td>\n",
       "    </tr>\n",
       "    <tr>\n",
       "      <th>4</th>\n",
       "      <td>Изменить цвет фона главной страницы, чтобы увеличить вовлеченность пользователей</td>\n",
       "      <td>3</td>\n",
       "      <td>1</td>\n",
       "      <td>1</td>\n",
       "      <td>1</td>\n",
       "      <td>1.000</td>\n",
       "    </tr>\n",
       "  </tbody>\n",
       "</table>\n",
       "</div>"
      ],
      "text/plain": [
       "                                                                                                     Hypothesis  \\\n",
       "8                                                       Запустить акцию, дающую скидку на товар в день рождения   \n",
       "0            Добавить два новых канала привлечения трафика, что позволит привлекать на 30% больше пользователей   \n",
       "7              Добавить форму подписки на все основные страницы, чтобы собрать базу клиентов для email-рассылок   \n",
       "6          Показать на главной странице баннеры с актуальными акциями и распродажами, чтобы увеличить конверсию   \n",
       "2  Добавить блоки рекомендаций товаров на сайт интернет магазина, чтобы повысить конверсию и средний чек заказа   \n",
       "1                                     Запустить собственную службу доставки, что сократит срок доставки заказов   \n",
       "5                      Добавить страницу отзывов клиентов о магазине, что позволит увеличить количество заказов   \n",
       "3           Изменить структура категорий, что увеличит конверсию, т.к. пользователи быстрее найдут нужный товар   \n",
       "4                              Изменить цвет фона главной страницы, чтобы увеличить вовлеченность пользователей   \n",
       "\n",
       "   Reach  Impact  Confidence  Efforts  ice_score  \n",
       "8      1       9           9        5     16.200  \n",
       "0      3      10           8        6     13.333  \n",
       "7     10       7           8        5     11.200  \n",
       "6      5       3           8        3      8.000  \n",
       "2      8       3           7        3      7.000  \n",
       "1      2       5           4       10      2.000  \n",
       "5      3       2           2        3      1.333  \n",
       "3      8       3           3        8      1.125  \n",
       "4      3       1           1        1      1.000  "
      ]
     },
     "metadata": {},
     "output_type": "display_data"
    }
   ],
   "source": [
    "hypothesis['ice_score'] = round(hypothesis['Impact'] * hypothesis['Confidence'] / hypothesis['Efforts'], 3)\n",
    "display(hypothesis.sort_values(by = 'ice_score', ascending = False))"
   ]
  },
  {
   "cell_type": "code",
   "execution_count": 5,
   "metadata": {},
   "outputs": [
    {
     "data": {
      "text/html": [
       "<div>\n",
       "<style scoped>\n",
       "    .dataframe tbody tr th:only-of-type {\n",
       "        vertical-align: middle;\n",
       "    }\n",
       "\n",
       "    .dataframe tbody tr th {\n",
       "        vertical-align: top;\n",
       "    }\n",
       "\n",
       "    .dataframe thead th {\n",
       "        text-align: right;\n",
       "    }\n",
       "</style>\n",
       "<table border=\"1\" class=\"dataframe\">\n",
       "  <thead>\n",
       "    <tr style=\"text-align: right;\">\n",
       "      <th></th>\n",
       "      <th>Hypothesis</th>\n",
       "      <th>Reach</th>\n",
       "      <th>Impact</th>\n",
       "      <th>Confidence</th>\n",
       "      <th>Efforts</th>\n",
       "      <th>ice_score</th>\n",
       "      <th>rice_score</th>\n",
       "    </tr>\n",
       "  </thead>\n",
       "  <tbody>\n",
       "    <tr>\n",
       "      <th>7</th>\n",
       "      <td>Добавить форму подписки на все основные страницы, чтобы собрать базу клиентов для email-рассылок</td>\n",
       "      <td>10</td>\n",
       "      <td>7</td>\n",
       "      <td>8</td>\n",
       "      <td>5</td>\n",
       "      <td>11.200</td>\n",
       "      <td>112.0</td>\n",
       "    </tr>\n",
       "    <tr>\n",
       "      <th>2</th>\n",
       "      <td>Добавить блоки рекомендаций товаров на сайт интернет магазина, чтобы повысить конверсию и средний чек заказа</td>\n",
       "      <td>8</td>\n",
       "      <td>3</td>\n",
       "      <td>7</td>\n",
       "      <td>3</td>\n",
       "      <td>7.000</td>\n",
       "      <td>56.0</td>\n",
       "    </tr>\n",
       "    <tr>\n",
       "      <th>0</th>\n",
       "      <td>Добавить два новых канала привлечения трафика, что позволит привлекать на 30% больше пользователей</td>\n",
       "      <td>3</td>\n",
       "      <td>10</td>\n",
       "      <td>8</td>\n",
       "      <td>6</td>\n",
       "      <td>13.333</td>\n",
       "      <td>40.0</td>\n",
       "    </tr>\n",
       "    <tr>\n",
       "      <th>6</th>\n",
       "      <td>Показать на главной странице баннеры с актуальными акциями и распродажами, чтобы увеличить конверсию</td>\n",
       "      <td>5</td>\n",
       "      <td>3</td>\n",
       "      <td>8</td>\n",
       "      <td>3</td>\n",
       "      <td>8.000</td>\n",
       "      <td>40.0</td>\n",
       "    </tr>\n",
       "    <tr>\n",
       "      <th>8</th>\n",
       "      <td>Запустить акцию, дающую скидку на товар в день рождения</td>\n",
       "      <td>1</td>\n",
       "      <td>9</td>\n",
       "      <td>9</td>\n",
       "      <td>5</td>\n",
       "      <td>16.200</td>\n",
       "      <td>16.2</td>\n",
       "    </tr>\n",
       "    <tr>\n",
       "      <th>3</th>\n",
       "      <td>Изменить структура категорий, что увеличит конверсию, т.к. пользователи быстрее найдут нужный товар</td>\n",
       "      <td>8</td>\n",
       "      <td>3</td>\n",
       "      <td>3</td>\n",
       "      <td>8</td>\n",
       "      <td>1.125</td>\n",
       "      <td>9.0</td>\n",
       "    </tr>\n",
       "    <tr>\n",
       "      <th>1</th>\n",
       "      <td>Запустить собственную службу доставки, что сократит срок доставки заказов</td>\n",
       "      <td>2</td>\n",
       "      <td>5</td>\n",
       "      <td>4</td>\n",
       "      <td>10</td>\n",
       "      <td>2.000</td>\n",
       "      <td>4.0</td>\n",
       "    </tr>\n",
       "    <tr>\n",
       "      <th>5</th>\n",
       "      <td>Добавить страницу отзывов клиентов о магазине, что позволит увеличить количество заказов</td>\n",
       "      <td>3</td>\n",
       "      <td>2</td>\n",
       "      <td>2</td>\n",
       "      <td>3</td>\n",
       "      <td>1.333</td>\n",
       "      <td>4.0</td>\n",
       "    </tr>\n",
       "    <tr>\n",
       "      <th>4</th>\n",
       "      <td>Изменить цвет фона главной страницы, чтобы увеличить вовлеченность пользователей</td>\n",
       "      <td>3</td>\n",
       "      <td>1</td>\n",
       "      <td>1</td>\n",
       "      <td>1</td>\n",
       "      <td>1.000</td>\n",
       "      <td>3.0</td>\n",
       "    </tr>\n",
       "  </tbody>\n",
       "</table>\n",
       "</div>"
      ],
      "text/plain": [
       "                                                                                                     Hypothesis  \\\n",
       "7              Добавить форму подписки на все основные страницы, чтобы собрать базу клиентов для email-рассылок   \n",
       "2  Добавить блоки рекомендаций товаров на сайт интернет магазина, чтобы повысить конверсию и средний чек заказа   \n",
       "0            Добавить два новых канала привлечения трафика, что позволит привлекать на 30% больше пользователей   \n",
       "6          Показать на главной странице баннеры с актуальными акциями и распродажами, чтобы увеличить конверсию   \n",
       "8                                                       Запустить акцию, дающую скидку на товар в день рождения   \n",
       "3           Изменить структура категорий, что увеличит конверсию, т.к. пользователи быстрее найдут нужный товар   \n",
       "1                                     Запустить собственную службу доставки, что сократит срок доставки заказов   \n",
       "5                      Добавить страницу отзывов клиентов о магазине, что позволит увеличить количество заказов   \n",
       "4                              Изменить цвет фона главной страницы, чтобы увеличить вовлеченность пользователей   \n",
       "\n",
       "   Reach  Impact  Confidence  Efforts  ice_score  rice_score  \n",
       "7     10       7           8        5     11.200       112.0  \n",
       "2      8       3           7        3      7.000        56.0  \n",
       "0      3      10           8        6     13.333        40.0  \n",
       "6      5       3           8        3      8.000        40.0  \n",
       "8      1       9           9        5     16.200        16.2  \n",
       "3      8       3           3        8      1.125         9.0  \n",
       "1      2       5           4       10      2.000         4.0  \n",
       "5      3       2           2        3      1.333         4.0  \n",
       "4      3       1           1        1      1.000         3.0  "
      ]
     },
     "metadata": {},
     "output_type": "display_data"
    }
   ],
   "source": [
    "hypothesis['rice_score'] = round(hypothesis['Reach'] * hypothesis['Impact'] * hypothesis['Confidence'] / hypothesis['Efforts'], 3)\n",
    "display(hypothesis.sort_values(by = 'rice_score', ascending = False))"
   ]
  },
  {
   "cell_type": "markdown",
   "metadata": {},
   "source": [
    "Выше были применены два фреймворка для приоритизации гипотез ICE и RICE. Первый рассчитывается по следующей формуле: произведение показателей влияния на пользователей Impact и уверенности в оценках других параметров Confidence делят на показатель сложности проверки данной гипотезы Efforts. При расчете очков RICE в числитель добавляется показатель охвата Reach.\n",
    "\n",
    "Итоговые результаты после применения разных фреймворков ожидаемо отличаются. Гипотеза №8 \"Запустить акцию, дающую скидку на товар в день рождения\", которая была первой в списке приоритетов после применения фреймворка ICE, оказалась только на пятой позиции по количеству очков RICE, что связано с низким уровнем охвата пользователей. После применения второго фреймворка первой в списке оказалась гипотеза №7 \"Добавить форму подписки на все основные страницы, чтобы собрать базу клиентов для email-рассылок\", очевидно, благодаря высоким показателям охвата. На втором и третьем месте после применения двух фреймворков ICE и RICE соответственно оказалась гипотеза под номером 0 \"Добавить два новых канала привлечения трафика, что позволит привлекать на 30% больше пользователей\" с высоким показателем влияния на пользователей Impact. В обеих фреймворках гипотезы номер 7 и 0 оказались в тройке лидеров, поменялись лидеры и порядок следующих в списке гипотез. \n",
    "\n",
    "Первой к проверке кажется логичным принять гипотезу номер 7 \"Добавить форму подписки на все основные страницы, чтобы собрать базу клиентов для email-рассылок\"."
   ]
  },
  {
   "cell_type": "markdown",
   "metadata": {},
   "source": [
    "## Часть 2. Анализ A/B-теста"
   ]
  },
  {
   "cell_type": "markdown",
   "metadata": {},
   "source": [
    "### Первое знакомство с данными"
   ]
  },
  {
   "cell_type": "code",
   "execution_count": 6,
   "metadata": {},
   "outputs": [],
   "source": [
    "orders = pd.read_csv('/datasets/orders.csv')\n",
    "visitors = pd.read_csv('/datasets/visitors.csv')"
   ]
  },
  {
   "cell_type": "code",
   "execution_count": 7,
   "metadata": {},
   "outputs": [
    {
     "name": "stdout",
     "output_type": "stream",
     "text": [
      "<class 'pandas.core.frame.DataFrame'>\n",
      "RangeIndex: 1197 entries, 0 to 1196\n",
      "Data columns (total 5 columns):\n",
      " #   Column         Non-Null Count  Dtype \n",
      "---  ------         --------------  ----- \n",
      " 0   transactionId  1197 non-null   int64 \n",
      " 1   visitorId      1197 non-null   int64 \n",
      " 2   date           1197 non-null   object\n",
      " 3   revenue        1197 non-null   int64 \n",
      " 4   group          1197 non-null   object\n",
      "dtypes: int64(3), object(2)\n",
      "memory usage: 46.9+ KB\n"
     ]
    },
    {
     "data": {
      "text/plain": [
       "None"
      ]
     },
     "metadata": {},
     "output_type": "display_data"
    }
   ],
   "source": [
    "display(orders.info())"
   ]
  },
  {
   "cell_type": "markdown",
   "metadata": {},
   "source": [
    "В нашем распоряжении данные о 1197 заказах пользователей, которые включают в себя номер транзакции, идентификатор пользователя, совершившего заказ, дату и стоимость заказа, а также соответствующую группу А/В теста, в которую попал пользователь."
   ]
  },
  {
   "cell_type": "code",
   "execution_count": 8,
   "metadata": {},
   "outputs": [
    {
     "name": "stdout",
     "output_type": "stream",
     "text": [
      "<class 'pandas.core.frame.DataFrame'>\n",
      "RangeIndex: 62 entries, 0 to 61\n",
      "Data columns (total 3 columns):\n",
      " #   Column    Non-Null Count  Dtype \n",
      "---  ------    --------------  ----- \n",
      " 0   date      62 non-null     object\n",
      " 1   group     62 non-null     object\n",
      " 2   visitors  62 non-null     int64 \n",
      "dtypes: int64(1), object(2)\n",
      "memory usage: 1.6+ KB\n"
     ]
    },
    {
     "data": {
      "text/plain": [
       "None"
      ]
     },
     "metadata": {},
     "output_type": "display_data"
    }
   ],
   "source": [
    "display(visitors.info())"
   ]
  },
  {
   "cell_type": "markdown",
   "metadata": {},
   "source": [
    "В датафрейме visitors данные о датах проведения А/В теста в течение месяца и количестве пользователей одной и второй групп в соответствующую дату."
   ]
  },
  {
   "cell_type": "markdown",
   "metadata": {},
   "source": [
    "### Предобработка данных\n",
    "\n",
    "Выполним проверку данных на дубликаты."
   ]
  },
  {
   "cell_type": "code",
   "execution_count": 9,
   "metadata": {},
   "outputs": [
    {
     "data": {
      "text/plain": [
       "0"
      ]
     },
     "metadata": {},
     "output_type": "display_data"
    },
    {
     "data": {
      "text/plain": [
       "0"
      ]
     },
     "metadata": {},
     "output_type": "display_data"
    }
   ],
   "source": [
    "display(orders.duplicated().sum())\n",
    "display(visitors.duplicated().sum())"
   ]
  },
  {
   "cell_type": "code",
   "execution_count": 10,
   "metadata": {},
   "outputs": [
    {
     "data": {
      "text/plain": [
       "89"
      ]
     },
     "metadata": {},
     "output_type": "display_data"
    }
   ],
   "source": [
    "display(orders.query(\"group == 'A'\")['visitorId'].isin(orders.query(\"group == 'B'\")['visitorId']).sum())"
   ]
  },
  {
   "cell_type": "markdown",
   "metadata": {},
   "source": [
    "В обеих таблицах не было обнаружено дубликатов. Однако 89 пользователей попали в обе группы, что также может повлиять на результаты теста.\n",
    "\n",
    "Приведем столбцы с датами из обеих таблиц к нужному формату для удобства обработки и визуализации."
   ]
  },
  {
   "cell_type": "code",
   "execution_count": 11,
   "metadata": {},
   "outputs": [],
   "source": [
    "orders['date'] = orders['date'].map(lambda x: dt.datetime.strptime(x, '%Y-%m-%d'))\n",
    "visitors['date'] = visitors['date'].map(lambda x: dt.datetime.strptime(x, '%Y-%m-%d'))"
   ]
  },
  {
   "cell_type": "markdown",
   "metadata": {},
   "source": [
    "### Визуализация данных\n",
    "\n",
    "#### График кумулятивной выручки по группам"
   ]
  },
  {
   "cell_type": "code",
   "execution_count": 12,
   "metadata": {},
   "outputs": [
    {
     "name": "stdout",
     "output_type": "stream",
     "text": [
      "        date group  orders  buyers  revenue  visitors\n",
      "0 2019-08-01     A      24      20   148579       719\n",
      "1 2019-08-01     B      21      20   101217       713\n",
      "2 2019-08-02     A      44      38   242401      1338\n",
      "3 2019-08-02     B      45      43   266748      1294\n",
      "4 2019-08-03     A      68      62   354874      1845\n"
     ]
    }
   ],
   "source": [
    "datesGroups = orders[['date','group']].drop_duplicates()\n",
    "# получаем агрегированные кумулятивные по дням данные о заказах \n",
    "ordersAggregated = datesGroups.apply(lambda x: orders[np.logical_and(orders['date'] <= x['date'], orders['group'] == x['group'])].agg({'date' : 'max', 'group' : 'max', 'transactionId' : 'nunique', 'visitorId' : 'nunique', 'revenue' : 'sum'}), axis=1).sort_values(by=['date','group'])\n",
    "\n",
    "# получаем агрегированные кумулятивные по дням данные о посетителях интернет-магазина \n",
    "visitorsAggregated = datesGroups.apply(lambda x: visitors[np.logical_and(visitors['date'] <= x['date'], visitors['group'] == x['group'])].agg({'date' : 'max', 'group' : 'max', 'visitors' : 'sum'}), axis=1).sort_values(by=['date','group'])\n",
    "\n",
    "# объединяем кумулятивные данные в одной таблице и присваиваем ее столбцам понятные названия\n",
    "cumulativeData = ordersAggregated.merge(visitorsAggregated, left_on=['date', 'group'], right_on=['date', 'group'])\n",
    "cumulativeData.columns = ['date', 'group', 'orders', 'buyers', 'revenue', 'visitors']\n",
    "\n",
    "print(cumulativeData.head(5)) "
   ]
  },
  {
   "cell_type": "code",
   "execution_count": 13,
   "metadata": {},
   "outputs": [
    {
     "name": "stdout",
     "output_type": "stream",
     "text": [
      "2019-08-31 00:00:00 2019-08-01 00:00:00\n",
      "2019-08-31 00:00:00 2019-08-01 00:00:00\n"
     ]
    }
   ],
   "source": [
    "print(cumulativeData['date'].max(), cumulativeData['date'].min())\n",
    "print(orders['date'].max(), orders['date'].min())"
   ]
  },
  {
   "cell_type": "markdown",
   "metadata": {},
   "source": [
    "В таблице выше мы получили агрегированные данные проведения А/В теста о количестве пользователей, покупателей, а также кумулятивной выручке по двум группам. Максимальная и минимальная даты в исходных и агрегированных данных совпадают."
   ]
  },
  {
   "cell_type": "code",
   "execution_count": 14,
   "metadata": {},
   "outputs": [],
   "source": [
    "# датафрейм с кумулятивным количеством заказов и кумулятивной выручкой по дням в группе А\n",
    "cumulativeRevenueA = cumulativeData[cumulativeData['group']=='A'][['date','revenue', 'orders']]\n",
    "\n",
    "# датафрейм с кумулятивным количеством заказов и кумулятивной выручкой по дням в группе B\n",
    "cumulativeRevenueB = cumulativeData[cumulativeData['group']=='B'][['date','revenue', 'orders']]"
   ]
  },
  {
   "cell_type": "code",
   "execution_count": 15,
   "metadata": {},
   "outputs": [
    {
     "data": {
      "image/png": "[encoded data removed]",
      "text/plain": [
       "<Figure size 1296x432 with 1 Axes>"
      ]
     },
     "metadata": {
      "needs_background": "light"
     },
     "output_type": "display_data"
    }
   ],
   "source": [
    "# Строим график выручки группы А\n",
    "plt.figure(figsize=(18,6))\n",
    "plt.title('Выручка по группам')\n",
    "plt.plot(cumulativeRevenueA['date'], cumulativeRevenueA['revenue'], label='A')\n",
    "plt.xticks(rotation=90)\n",
    "\n",
    "# Строим график выручки группы B\n",
    "plt.plot(cumulativeRevenueB['date'], cumulativeRevenueB['revenue'], label='B')\n",
    "plt.legend()\n",
    "plt.xlabel(\"Даты проведения теста\")\n",
    "plt.ylabel(\"Уровень выручки\")\n",
    "plt.show()"
   ]
  },
  {
   "cell_type": "markdown",
   "metadata": {},
   "source": [
    "На графике кумулятивной выручки по группам за месяц проведения А/В теста превосходство группы В становится очевидным после стабилизации результатов примерно на второй неделе проведения теста. В показателях группы В можно отметить один резкий скачок в районе 18-20 августа, причины и общее влияние которого необходимо изучить дополнительно."
   ]
  },
  {
   "cell_type": "markdown",
   "metadata": {},
   "source": [
    "#### График кумулятивного среднего чека по группам"
   ]
  },
  {
   "cell_type": "code",
   "execution_count": 16,
   "metadata": {
    "scrolled": false
   },
   "outputs": [
    {
     "data": {
      "image/png": "[encoded data removed]",
      "text/plain": [
       "<Figure size 1296x432 with 1 Axes>"
      ]
     },
     "metadata": {
      "needs_background": "light"
     },
     "output_type": "display_data"
    }
   ],
   "source": [
    "plt.figure(figsize=(18,6))\n",
    "plt.title('Кумулятивный средний чек по группам')\n",
    "plt.plot(cumulativeRevenueA['date'], cumulativeRevenueA['revenue']/cumulativeRevenueA['orders'], label='A')\n",
    "plt.plot(cumulativeRevenueB['date'], cumulativeRevenueB['revenue']/cumulativeRevenueB['orders'], label='B')\n",
    "plt.xticks(rotation=90)\n",
    "plt.legend()\n",
    "plt.xlabel(\"Даты проведения теста\")\n",
    "plt.ylabel(\"Стоимость среднего чека\")\n",
    "plt.show()"
   ]
  },
  {
   "cell_type": "markdown",
   "metadata": {},
   "source": [
    "Графики кумулятивного среднего чека по группам не такие плавные, как графики кумулятивной выручки, в их росте наблюдаются значительные скачки. Во второй половине месяца превосходство группы В в показателях среднего чека становится очевидным, что происходит как раз после резкого скачка, совпадающего по времени с выше выявленным скачком выручки 18-20 августа. Далее показатели среднего чека группы В немного снижаются, но остаются на уровне выше группы А."
   ]
  },
  {
   "cell_type": "markdown",
   "metadata": {},
   "source": [
    "#### График относительного изменения кумулятивного среднего чека группы В к группе А"
   ]
  },
  {
   "cell_type": "code",
   "execution_count": 17,
   "metadata": {},
   "outputs": [
    {
     "data": {
      "image/png": "[encoded data removed]",
      "text/plain": [
       "<Figure size 1296x432 with 1 Axes>"
      ]
     },
     "metadata": {
      "needs_background": "light"
     },
     "output_type": "display_data"
    }
   ],
   "source": [
    "#Постройте график относительного изменения кумулятивного среднего чека группы B к группе A\n",
    "# собираем данные в одном датафрейме\n",
    "mergedCumulativeRevenue = cumulativeRevenueA.merge(cumulativeRevenueB, left_on='date', right_on='date', how='left', suffixes=['A', 'B'])\n",
    "\n",
    "# cтроим отношение средних чеков\n",
    "plt.figure(figsize=(18,6))\n",
    "plt.title('Относительное изменение кумулятивного среднего чека группы В к группе А')\n",
    "plt.plot(mergedCumulativeRevenue['date'], (mergedCumulativeRevenue['revenueB']/mergedCumulativeRevenue['ordersB'])/(mergedCumulativeRevenue['revenueA']/mergedCumulativeRevenue['ordersA'])-1)\n",
    "plt.xticks(rotation=90)\n",
    "# добавляем ось X\n",
    "plt.axhline(y=0, color='black', linestyle='--')\n",
    "plt.xlabel(\"Даты проведения теста\")\n",
    "plt.ylabel(\"Уровень относительного изменения\")\n",
    "plt.show()"
   ]
  },
  {
   "cell_type": "markdown",
   "metadata": {},
   "source": [
    "На графике относительного изменения кумулятивного среднего чека группы В к группе А можно увидеть более высокие показатели тестовой группы на протяжении всего периода проведения теста с одним скачком в пользу группы А в 12-15ых числах августа. После уже выявленного скачка среднего чека в группе В превосходство остается на ее стороне до конца тестового периода с некоторым снижением показателей."
   ]
  },
  {
   "cell_type": "markdown",
   "metadata": {},
   "source": [
    "#### График кумулятивного среднего количества заказов на посетителя по группам"
   ]
  },
  {
   "cell_type": "code",
   "execution_count": 18,
   "metadata": {
    "scrolled": false
   },
   "outputs": [
    {
     "data": {
      "image/png": "[encoded data removed]",
      "text/plain": [
       "<Figure size 1296x432 with 1 Axes>"
      ]
     },
     "metadata": {
      "needs_background": "light"
     },
     "output_type": "display_data"
    }
   ],
   "source": [
    "# считаем среднее количество заказов на посетителя\n",
    "cumulativeData['conversion'] = cumulativeData['orders']/cumulativeData['visitors']\n",
    "\n",
    "# отделяем данные по группе A\n",
    "cumulativeDataA = cumulativeData[cumulativeData['group']=='A']\n",
    "\n",
    "# отделяем данные по группе B\n",
    "cumulativeDataB = cumulativeData[cumulativeData['group']=='B']\n",
    "\n",
    "# строим графики\n",
    "plt.figure(figsize=(18,6))\n",
    "plt.xticks(rotation=90)\n",
    "plt.plot(cumulativeDataA['date'], cumulativeDataA['conversion'], label='A')\n",
    "plt.plot(cumulativeDataB['date'], cumulativeDataB['conversion'], label='B')\n",
    "plt.title('Кумулятивное среднее количество заказов на посетителя по группам')\n",
    "plt.legend()\n",
    "plt.xlabel(\"Даты проведения теста\")\n",
    "plt.ylabel(\"Среднее количество заказов на пользователя\")\n",
    "plt.show()"
   ]
  },
  {
   "cell_type": "markdown",
   "metadata": {},
   "source": [
    "Визуализация кумулятивного среднего количества заказов на посетителя по группам представляет похожую картину соотношения двух групп. Данный показатель выравнивается для обеих групп после первого скачка и пары дней превосходства количества заказов пользователей группы А, оставаясь для группы А на достаточно низких показателях 0.030 - 0.031, для группы В этот показатель еще после пары скачков устанавливается на уровне 0.034-0.035 (примерно на 12% превышая показатель контрольной группы)."
   ]
  },
  {
   "cell_type": "markdown",
   "metadata": {},
   "source": [
    "#### График относительного изменения кумулятивного среднего количества заказов на посетителя группы B к группе A"
   ]
  },
  {
   "cell_type": "code",
   "execution_count": 19,
   "metadata": {},
   "outputs": [
    {
     "data": {
      "image/png": "[encoded data removed]",
      "text/plain": [
       "<Figure size 1296x432 with 1 Axes>"
      ]
     },
     "metadata": {
      "needs_background": "light"
     },
     "output_type": "display_data"
    }
   ],
   "source": [
    "mergedCumulativeConversions = cumulativeDataA[['date','conversion']].merge(cumulativeDataB[['date','conversion']], left_on='date', right_on='date', how='left', suffixes=['A', 'B'])\n",
    "\n",
    "plt.figure(figsize=(18,6))\n",
    "plt.xticks(rotation=90)\n",
    "plt.plot(mergedCumulativeConversions['date'], mergedCumulativeConversions['conversionB']/mergedCumulativeConversions['conversionA']-1, label=\"Относительный прирост кумулятивного среднего количества заказов на посетителя группы B относительно группы A\")\n",
    "plt.legend()\n",
    "plt.axhline(y=0, color='black', linestyle='--')\n",
    "plt.axhline(y=0.15, color='grey', linestyle='--')\n",
    "plt.title('Относительное изменение кумулятивного среднего количества заказов на посетителя группы B к группе A')\n",
    "plt.xlabel(\"Даты проведения теста\")\n",
    "plt.ylabel(\"Уровень относительного изменения среднего количества заказов\")\n",
    "plt.show()"
   ]
  },
  {
   "cell_type": "markdown",
   "metadata": {},
   "source": [
    "На выше приведенном графике видно, что среднее количество заказов на пользователя группы В начинает превосходить группу А примерно через неделю после начала проведения теста. С течением времени превосходство группы В увеличивается, достигая максимума к середине месяца (15-17 августа) и, немного снижаясь, выравнивается к концу тестового периода."
   ]
  },
  {
   "cell_type": "markdown",
   "metadata": {},
   "source": [
    "Теперь сосредоточимся на выявлении аномалий в данных, которые могут вносить ненужные шумы и даже искажать результаты теста."
   ]
  },
  {
   "cell_type": "markdown",
   "metadata": {},
   "source": [
    "### Определение аномалий"
   ]
  },
  {
   "cell_type": "code",
   "execution_count": 20,
   "metadata": {},
   "outputs": [
    {
     "name": "stdout",
     "output_type": "stream",
     "text": [
      "       visitorId  orders\n",
      "1023  4256040402      11\n",
      "591   2458001652      11\n",
      "569   2378935119       9\n",
      "487   2038680547       8\n",
      "44     199603092       5\n",
      "744   3062433592       5\n",
      "55     237748145       5\n",
      "917   3803269165       5\n",
      "299   1230306981       5\n",
      "897   3717692402       5\n"
     ]
    },
    {
     "data": {
      "image/png": "[encoded data removed]",
      "text/plain": [
       "<Figure size 432x288 with 1 Axes>"
      ]
     },
     "metadata": {
      "needs_background": "light"
     },
     "output_type": "display_data"
    }
   ],
   "source": [
    "#точечный график количества заказов по пользователям\n",
    "ordersByUsers = (\n",
    "    orders.groupby('visitorId', as_index=False)\n",
    "    .agg({'transactionId': 'nunique'})\n",
    ")\n",
    "\n",
    "ordersByUsers.columns = ['visitorId', 'orders']\n",
    "\n",
    "print(ordersByUsers.sort_values(by='orders', ascending=False).head(10))\n",
    "\n",
    "x_values = pd.Series(range(0,len(ordersByUsers)))\n",
    "\n",
    "plt.title('Точечный график количества заказов по пользователям')\n",
    "plt.scatter(x_values, ordersByUsers['orders'])\n",
    "plt.xlabel(\"Количество пользователей\")\n",
    "plt.ylabel(\"Количество заказов\")\n",
    "plt.show()\n"
   ]
  },
  {
   "cell_type": "markdown",
   "metadata": {},
   "source": [
    "На точечном графике количества заказов по пользователям видно, что более четырех заказов оформило незначительное количество покупателей, а основная масса оформила 1-2 заказа."
   ]
  },
  {
   "cell_type": "code",
   "execution_count": 21,
   "metadata": {},
   "outputs": [
    {
     "name": "stdout",
     "output_type": "stream",
     "text": [
      "[2. 4.]\n"
     ]
    }
   ],
   "source": [
    "#95-й и 99-й перцентили количества заказов на пользователя\n",
    "print(np.percentile(ordersByUsers['orders'], [95, 99]))"
   ]
  },
  {
   "cell_type": "markdown",
   "metadata": {},
   "source": [
    "Расчет перцентилей подтверждает выявленные на графике аномалии: более 4 заказов оформил лишь 1% пользователей, что делает возможным очищение таблиц от этих данных для более точных расчетов статистической значимости отличий."
   ]
  },
  {
   "cell_type": "code",
   "execution_count": 22,
   "metadata": {
    "scrolled": false
   },
   "outputs": [
    {
     "name": "stdout",
     "output_type": "stream",
     "text": [
      "      transactionId  revenue\n",
      "168       590470918  1294500\n",
      "1107     3936777065   202740\n",
      "49        192721366    93940\n",
      "188       666610489    92550\n",
      "1029     3668308183    86620\n",
      "322      1216533772    78990\n",
      "503      1811671147    78990\n",
      "1000     3603576309    67990\n",
      "364      1348774318    66350\n",
      "81        316924019    65710\n"
     ]
    },
    {
     "data": {
      "image/png": "[encoded data removed]",
      "text/plain": [
       "<Figure size 432x288 with 1 Axes>"
      ]
     },
     "metadata": {
      "needs_background": "light"
     },
     "output_type": "display_data"
    }
   ],
   "source": [
    "# точечный график стоимостей заказов\n",
    "revenueByOrders = (\n",
    "    orders.groupby('transactionId', as_index = False)\n",
    "    .agg({'revenue': 'sum'})\n",
    ")\n",
    "revenueByOrders.columns = ['transactionId', 'revenue']\n",
    "print(revenueByOrders.sort_values(by='revenue', ascending=False).head(10))\n",
    "\n",
    "x_values = pd.Series(range(0,len(revenueByOrders)))\n",
    "plt.title('Точечный график стоимости заказов')\n",
    "plt.ylim(top=250000)\n",
    "plt.scatter(x_values, revenueByOrders['revenue'])\n",
    "plt.xlabel(\"Заказы\")\n",
    "plt.ylabel(\"Стоимость заказов\")\n",
    "plt.show()"
   ]
  },
  {
   "cell_type": "markdown",
   "metadata": {},
   "source": [
    "Основная масса заказов выполнена на сумму до 50000, в диапазон 50000-100000 попадают лишь точечные заказы, на сумму выше 100000 на графике виден лишь один заказ."
   ]
  },
  {
   "cell_type": "code",
   "execution_count": 23,
   "metadata": {},
   "outputs": [
    {
     "name": "stdout",
     "output_type": "stream",
     "text": [
      "[28000.  58233.2]\n"
     ]
    }
   ],
   "source": [
    "#95-й и 99-й перцентили стоимости заказов на пользователя\n",
    "print(np.percentile(revenueByOrders['revenue'], [95, 99]))"
   ]
  },
  {
   "cell_type": "markdown",
   "metadata": {},
   "source": [
    "Определение процентилей помогает выявить границу аномальности заказов: выше 58233.2 их всего 1%. Таким образом можно отфильтровать данные о заказах по верхней границе в 58233.2."
   ]
  },
  {
   "cell_type": "markdown",
   "metadata": {},
   "source": [
    "### Расчет статистической значимости"
   ]
  },
  {
   "cell_type": "markdown",
   "metadata": {},
   "source": [
    "#### Cтатистическая значимость различий в среднем количестве заказов на посетителя между группами по «сырым» данным\n",
    "\n",
    "**Нулевая гипотеза H0:** нет отличия между группами в среднем количестве заказов.\n",
    "**Альтернативная гипотеза H1:** среднее количество заказов между группами отличается.\n",
    "**Уровень статистической значимости α** = 0.05\n",
    "Для проверки используется **метод Манна-Уитни** для оценки различий между двумя независимыми и малыми выборками по уровню количественного критерия."
   ]
  },
  {
   "cell_type": "code",
   "execution_count": 24,
   "metadata": {},
   "outputs": [
    {
     "name": "stdout",
     "output_type": "stream",
     "text": [
      "P-value равен 0.017\n",
      "Относительная разница между двумя сегментами: 0.138\n"
     ]
    }
   ],
   "source": [
    "visitorsADaily = visitors[visitors['group'] == 'A'][['date', 'visitors']]\n",
    "visitorsADaily.columns = ['date', 'visitorsPerDateA']\n",
    "\n",
    "visitorsACummulative = visitorsADaily.apply(\n",
    "    lambda x: visitorsADaily[visitorsADaily['date'] <= x['date']].agg(\n",
    "        {'date': 'max', 'visitorsPerDateA': 'sum'}\n",
    "    ),\n",
    "    axis=1,\n",
    ")\n",
    "visitorsACummulative.columns = ['date', 'visitorsCummulativeA']\n",
    "\n",
    "visitorsBDaily = visitors[visitors['group'] == 'B'][['date', 'visitors']]\n",
    "visitorsBDaily.columns = ['date', 'visitorsPerDateB']\n",
    "\n",
    "visitorsBCummulative = visitorsBDaily.apply(\n",
    "    lambda x: visitorsBDaily[visitorsBDaily['date'] <= x['date']].agg(\n",
    "        {'date': 'max', 'visitorsPerDateB': 'sum'}\n",
    "    ),\n",
    "    axis=1,\n",
    ")\n",
    "visitorsBCummulative.columns = ['date', 'visitorsCummulativeB']\n",
    "\n",
    "ordersADaily = (\n",
    "    orders[orders['group'] == 'A'][['date', 'transactionId', 'visitorId', 'revenue']]\n",
    "    .groupby('date', as_index=False)\n",
    "    .agg({'transactionId': pd.Series.nunique, 'revenue': 'sum'})\n",
    ")\n",
    "ordersADaily.columns = ['date', 'ordersPerDateA', 'revenuePerDateA']\n",
    "\n",
    "ordersACummulative = ordersADaily.apply(\n",
    "    lambda x: ordersADaily[ordersADaily['date'] <= x['date']].agg(\n",
    "        {'date': 'max', 'ordersPerDateA': 'sum', 'revenuePerDateA': 'sum'}\n",
    "    ),\n",
    "    axis=1,\n",
    ").sort_values(by=['date'])\n",
    "ordersACummulative.columns = [\n",
    "    'date',\n",
    "    'ordersCummulativeA',\n",
    "    'revenueCummulativeA',\n",
    "]\n",
    "\n",
    "ordersBDaily = (\n",
    "    orders[orders['group'] == 'B'][['date', 'transactionId', 'visitorId', 'revenue']]\n",
    "    .groupby('date', as_index=False)\n",
    "    .agg({'transactionId': pd.Series.nunique, 'revenue': 'sum'})\n",
    ")\n",
    "ordersBDaily.columns = ['date', 'ordersPerDateB', 'revenuePerDateB']\n",
    "\n",
    "ordersBCummulative = ordersBDaily.apply(\n",
    "    lambda x: ordersBDaily[ordersBDaily['date'] <= x['date']].agg(\n",
    "        {'date': 'max', 'ordersPerDateB': 'sum', 'revenuePerDateB': 'sum'}\n",
    "    ),\n",
    "    axis=1,\n",
    ").sort_values(by=['date'])\n",
    "ordersBCummulative.columns = [\n",
    "    'date',\n",
    "    'ordersCummulativeB',\n",
    "    'revenueCummulativeB',\n",
    "]\n",
    "\n",
    "data = (\n",
    "    ordersADaily.merge(\n",
    "        ordersBDaily, left_on='date', right_on='date', how='left'\n",
    "    )\n",
    "    .merge(ordersACummulative, left_on='date', right_on='date', how='left')\n",
    "    .merge(ordersBCummulative, left_on='date', right_on='date', how='left')\n",
    "    .merge(visitorsADaily, left_on='date', right_on='date', how='left')\n",
    "    .merge(visitorsBDaily, left_on='date', right_on='date', how='left')\n",
    "    .merge(visitorsACummulative, left_on='date', right_on='date', how='left')\n",
    "    .merge(visitorsBCummulative, left_on='date', right_on='date', how='left')\n",
    ")\n",
    "\n",
    "\n",
    "ordersByUsersA = (\n",
    "    orders[orders['group'] == 'A']\n",
    "    .groupby('visitorId', as_index=False)\n",
    "    .agg({'transactionId': pd.Series.nunique})\n",
    ")\n",
    "ordersByUsersA.columns = ['userId', 'orders']\n",
    "\n",
    "ordersByUsersB = (\n",
    "    orders[orders['group'] == 'B']\n",
    "    .groupby('visitorId', as_index=False)\n",
    "    .agg({'transactionId': pd.Series.nunique})\n",
    ")\n",
    "ordersByUsersB.columns = ['userId', 'orders']\n",
    "\n",
    "\n",
    "sampleA = pd.concat(\n",
    "    [\n",
    "        ordersByUsersA['orders'],\n",
    "        pd.Series(\n",
    "            0,\n",
    "            index=np.arange(\n",
    "                data['visitorsPerDateA'].sum() - len(ordersByUsersA['orders'])\n",
    "            ),\n",
    "            name='orders',\n",
    "        ),\n",
    "    ],\n",
    "    axis=0,\n",
    ")\n",
    "\n",
    "sampleB = pd.concat(\n",
    "    [\n",
    "        ordersByUsersB['orders'],\n",
    "        pd.Series(\n",
    "            0,\n",
    "            index=np.arange(\n",
    "                data['visitorsPerDateB'].sum() - len(ordersByUsersB['orders'])\n",
    "            ),\n",
    "            name='orders',\n",
    "        ),\n",
    "    ],\n",
    "    axis=0,\n",
    ")\n",
    "\n",
    "print(\"P-value равен\", \"{0:.3f}\".format(stats.mannwhitneyu(sampleA, sampleB)[1]))\n",
    "\n",
    "print(\"Относительная разница между двумя сегментами:\", \"{0:.3f}\".format(sampleB.mean() / sampleA.mean() - 1))"
   ]
  },
  {
   "cell_type": "markdown",
   "metadata": {},
   "source": [
    "Уже по \"сырым\" данным выявлена статистическая значимость различий между двумя группами, так как p-value меньше 0.05. Разница между сегментами также достаточно значительна - почти 14%. \n",
    "\n",
    "***Отвергаем нулевую гипотезу об идентичности показателей количества заказов в контрольной и тестовой группах.***"
   ]
  },
  {
   "cell_type": "markdown",
   "metadata": {},
   "source": [
    "#### Статистическая значимость различий в среднем чеке заказа между группами по «сырым» данным\n",
    "\n",
    "**Нулевая гипотеза H0:** нет отличия между группами в среднем чеке заказа.\n",
    "**Альтернативная гипотеза H1:** средний чек заказа между группами отличается.\n",
    "**Уровень статистической значимости α** = 0.05\n",
    "Для проверки используется **метод Манна-Уитни** для оценки различий между двумя независимыми и малыми выборками по уровню количественного критерия."
   ]
  },
  {
   "cell_type": "code",
   "execution_count": 25,
   "metadata": {},
   "outputs": [
    {
     "name": "stdout",
     "output_type": "stream",
     "text": [
      "P-value равен 0.729\n",
      "Относительная разница между двумя сегментами: 0.259\n"
     ]
    }
   ],
   "source": [
    "print(\"P-value равен\", '{0:.3f}'.format(stats.mannwhitneyu(orders[orders['group']=='A']['revenue'], orders[orders['group']=='B']['revenue'])[1]))\n",
    "print(\"Относительная разница между двумя сегментами:\", '{0:.3f}'.format(orders[orders['group']=='B']['revenue'].mean()/orders[orders['group']=='A']['revenue'].mean()-1))"
   ]
  },
  {
   "cell_type": "markdown",
   "metadata": {},
   "source": [
    "По \"сырым\" данным не выявлено статистической значимости различий между группами, хотя расчет относительной разницы в среднем чеке между тестовой и контрольной группами выдает цифру в 25%. P-value значительно превышает заданный уровень альфа.\n",
    "\n",
    "***Нет оснований отвергнуть нулевую гипотезу об идентичности показателей среднего чека в контрольной и тестовой группах.*** Рассчитанная относительная разница не имеет статистической значимости, может быть вызвана наличием аномалий в данных и требует дополнительной проверки."
   ]
  },
  {
   "cell_type": "code",
   "execution_count": 26,
   "metadata": {},
   "outputs": [
    {
     "name": "stdout",
     "output_type": "stream",
     "text": [
      "1099     148427295\n",
      "949      887908475\n",
      "744      888512513\n",
      "1103    1164614297\n",
      "1136    1307669133\n",
      "dtype: int64\n",
      "15\n"
     ]
    }
   ],
   "source": [
    "#уберем аномальные данные\n",
    "usersWithManyOrders = pd.concat(\n",
    "    [\n",
    "        ordersByUsersA[ordersByUsersA['orders'] > np.percentile(ordersByUsers['orders'], 99)]['userId'],\n",
    "        ordersByUsersB[ordersByUsersB['orders'] > np.percentile(ordersByUsers['orders'], 99)]['userId'],\n",
    "    ],\n",
    "    axis=0,\n",
    ")\n",
    "usersWithExpensiveOrders = orders[orders['revenue'] > np.percentile(revenueByOrders['revenue'], 99)]['visitorId']\n",
    "abnormalUsers = (\n",
    "    pd.concat([usersWithManyOrders, usersWithExpensiveOrders], axis=0)\n",
    "    .drop_duplicates()\n",
    "    .sort_values()\n",
    ")\n",
    "print(abnormalUsers.head(5))\n",
    "print(abnormalUsers.shape[0])"
   ]
  },
  {
   "cell_type": "markdown",
   "metadata": {},
   "source": [
    "Пользователей с нетипичным количеством и суммой заказов всего 15, их поведение может влиять на результаты теста. После подсчета статистической значимости по очищенным данным можно будет сделать выводы о силе их влияния."
   ]
  },
  {
   "cell_type": "markdown",
   "metadata": {},
   "source": [
    "#### Статистическая значимость различий в среднем количестве заказов на пользователя между группами по очищенным данным\n",
    "\n",
    "**Нулевая гипотеза H0:** нет отличия между группами в среднем количестве заказов.\n",
    "**Альтернативная гипотеза H1:** среднее количество заказов между группами отличается.\n",
    "**Уровень статистической значимости α** = 0.05\n",
    "Для проверки используется **метод Манна-Уитни** для оценки различий между двумя независимыми и малыми выборками по уровню количественного критерия."
   ]
  },
  {
   "cell_type": "code",
   "execution_count": 27,
   "metadata": {},
   "outputs": [
    {
     "name": "stdout",
     "output_type": "stream",
     "text": [
      "P-value равен 0.014\n",
      "Относительная разница между двумя сегментами: 0.153\n"
     ]
    }
   ],
   "source": [
    "sampleAFiltered = pd.concat(\n",
    "    [\n",
    "        ordersByUsersA[\n",
    "            np.logical_not(ordersByUsersA['userId'].isin(abnormalUsers))\n",
    "        ]['orders'],\n",
    "        pd.Series(\n",
    "            0,\n",
    "            index=np.arange(\n",
    "                data['visitorsPerDateA'].sum() - len(ordersByUsersA['orders'])\n",
    "            ),\n",
    "            name='orders',\n",
    "        ),\n",
    "    ],\n",
    "    axis=0,\n",
    ")\n",
    "\n",
    "sampleBFiltered = pd.concat(\n",
    "    [\n",
    "        ordersByUsersB[\n",
    "            np.logical_not(ordersByUsersB['userId'].isin(abnormalUsers))\n",
    "        ]['orders'],\n",
    "        pd.Series(\n",
    "            0,\n",
    "            index=np.arange(\n",
    "                data['visitorsPerDateB'].sum() - len(ordersByUsersB['orders'])\n",
    "            ),\n",
    "            name='orders',\n",
    "        ),\n",
    "    ],\n",
    "    axis=0,\n",
    ") \n",
    "\n",
    "print(\"P-value равен\", '{0:.3f}'.format(stats.mannwhitneyu(sampleAFiltered, sampleBFiltered)[1]))\n",
    "print(\"Относительная разница между двумя сегментами:\", '{0:.3f}'.format(sampleBFiltered.mean()/sampleAFiltered.mean()-1)) "
   ]
  },
  {
   "cell_type": "markdown",
   "metadata": {},
   "source": [
    "P-value, рассчитанный по очищенным данным, уменьшился, разница между сегментами увеличилась. Можно сделать вывод о том, что аномальные данные влияли на результаты А/В теста.\n",
    "***Отвергаем нулевую гипотезу об идентичности показателей количества заказов в контрольной и тестовой группах.***"
   ]
  },
  {
   "cell_type": "markdown",
   "metadata": {},
   "source": [
    "#### Статистическая значимость различий в среднем чеке заказа между группами по очищенным данным\n",
    "\n",
    "**Нулевая гипотеза H0:** нет отличия между группами в среднем чеке заказа.\n",
    "**Альтернативная гипотеза H1:** средний чек заказа между группами отличается.\n",
    "**Уровень статистической значимости α** = 0.05\n",
    "Для проверки используется **метод Манна-Уитни** для оценки различий между двумя независимыми и малыми выборками по уровню количественного критерия."
   ]
  },
  {
   "cell_type": "code",
   "execution_count": 28,
   "metadata": {},
   "outputs": [
    {
     "name": "stdout",
     "output_type": "stream",
     "text": [
      "P-value равен 0.851\n",
      "Относительная разница между двумя сегментами: -0.006\n"
     ]
    }
   ],
   "source": [
    "print(\"P-value равен\", \n",
    "    '{0:.3f}'.format(\n",
    "        stats.mannwhitneyu(\n",
    "            orders[\n",
    "                np.logical_and(\n",
    "                    orders['group'] == 'A',\n",
    "                    np.logical_not(orders['visitorId'].isin(abnormalUsers)),\n",
    "                )\n",
    "            ]['revenue'],\n",
    "            orders[\n",
    "                np.logical_and(\n",
    "                    orders['group'] == 'B',\n",
    "                    np.logical_not(orders['visitorId'].isin(abnormalUsers)),\n",
    "                )\n",
    "            ]['revenue'],\n",
    "        )[1]\n",
    "    )\n",
    ")\n",
    "\n",
    "print(\"Относительная разница между двумя сегментами:\", \n",
    "    \"{0:.3f}\".format(\n",
    "        orders[\n",
    "            np.logical_and(\n",
    "                orders['group'] == 'B',\n",
    "                np.logical_not(orders['visitorId'].isin(abnormalUsers)),\n",
    "            )\n",
    "        ]['revenue'].mean()\n",
    "        / orders[\n",
    "            np.logical_and(\n",
    "                orders['group'] == 'A',\n",
    "                np.logical_not(orders['visitorId'].isin(abnormalUsers)),\n",
    "            )\n",
    "        ]['revenue'].mean()\n",
    "        - 1\n",
    "    )\n",
    ") "
   ]
  },
  {
   "cell_type": "markdown",
   "metadata": {},
   "source": [
    "После очищения данных уровень статистической значимости различий между двумя группами увеличился, рассчитанная относительная разница между сегментами показала отсутствие преимущества группы В. ***Таким образом, нет оснований отвергать гипотезу об относительной идентичности показателей среднего чека в двух группах.***"
   ]
  },
  {
   "cell_type": "markdown",
   "metadata": {},
   "source": [
    "### Итоговый вывод"
   ]
  },
  {
   "cell_type": "markdown",
   "metadata": {},
   "source": [
    "Таким образом, по итогам проведения А/В теста можно сделать следующие выводы:\n",
    "    \n",
    "    - выявлена статистическая значимость различий между двумя группами в количестве заказов и по \"сырым\", и по очищенным данным. Есть основания отвергнуть нулевую гипотезу в пользу альтернативной о том, что разница между группами значительная.\n",
    "    - не выявлено статистической значимости в показателях среднего чека в контрольной и тестовой группах, нулевую гипотезу не отвергаем.\n",
    "    - аномальные данные оказывали влияние на результаты теста, но не на его итоговый вывод. После их удаления различие в количестве заказов между двумя группами стало еще заметнее, а разница в показателях среднего чека стала меньше.\n",
    "    \n",
    "Можно предположить, что выявленный скачок в показателях среднего чека для группы В оказал влияние на относительную разницу, но в итоге статистически значимых изменений не произошло. Проведение теста можно остановить, так как в случае с количеством заказов разница очевидна, а для показатели среднего чека она не достигает уровня статистической значимости, хотя на графиках визуализации ее можно явно увидеть. Необходимо оценить и выявить факторы, повлиявшие на контрольную группу помимо целевых изменений, соответствующих проверяемой гипотезе. Если есть эффект для количества заказов на пользователя, но нет влияния на общую выручку, значит, можно предположить, что заказы в контрольной группе оформлялись на меньшую сумму, хоть и в большем количестве. Явно необходима переформулировка гипотезы и проверка других, если главной целью является увеличение выручки от заказов. График различия среднего чека между группами показывает значительно лучшие результаты для группы В, но можно предположить, что они были вызваны сторонними факторами."
   ]
  }
 ],
 "metadata": {
  "ExecuteTimeLog": [
   {
    "duration": 803,
    "start_time": "2024-06-02T20:11:09.818Z"
   },
   {
    "duration": 145,
    "start_time": "2024-06-02T20:12:10.068Z"
   },
   {
    "duration": 71,
    "start_time": "2024-06-02T20:12:22.346Z"
   },
   {
    "duration": 27,
    "start_time": "2024-06-02T20:12:28.592Z"
   },
   {
    "duration": 12,
    "start_time": "2024-06-02T20:12:42.612Z"
   },
   {
    "duration": 6,
    "start_time": "2024-06-02T20:12:59.952Z"
   },
   {
    "duration": 895,
    "start_time": "2024-06-04T01:53:56.301Z"
   },
   {
    "duration": 70,
    "start_time": "2024-06-04T01:54:01.194Z"
   },
   {
    "duration": 15,
    "start_time": "2024-06-04T01:54:03.309Z"
   },
   {
    "duration": 7,
    "start_time": "2024-06-04T01:54:07.269Z"
   },
   {
    "duration": 10,
    "start_time": "2024-06-04T01:54:27.554Z"
   },
   {
    "duration": 10,
    "start_time": "2024-06-04T01:55:13.490Z"
   },
   {
    "duration": 95,
    "start_time": "2024-06-04T01:55:53.265Z"
   },
   {
    "duration": 13,
    "start_time": "2024-06-04T01:56:55.885Z"
   },
   {
    "duration": 10,
    "start_time": "2024-06-04T01:57:24.805Z"
   },
   {
    "duration": 16,
    "start_time": "2024-06-04T01:57:45.816Z"
   },
   {
    "duration": 11,
    "start_time": "2024-06-04T01:57:58.178Z"
   },
   {
    "duration": 4,
    "start_time": "2024-06-04T02:00:16.877Z"
   },
   {
    "duration": 13,
    "start_time": "2024-06-04T02:01:08.443Z"
   },
   {
    "duration": 168,
    "start_time": "2024-06-04T02:23:09.037Z"
   },
   {
    "duration": 61,
    "start_time": "2024-06-04T02:23:12.374Z"
   },
   {
    "duration": 9,
    "start_time": "2024-06-04T02:23:25.023Z"
   },
   {
    "duration": 7,
    "start_time": "2024-06-04T02:23:30.332Z"
   },
   {
    "duration": 8,
    "start_time": "2024-06-04T02:23:45.452Z"
   },
   {
    "duration": 13,
    "start_time": "2024-06-04T02:24:01.052Z"
   },
   {
    "duration": 19,
    "start_time": "2024-06-04T02:24:17.582Z"
   },
   {
    "duration": 16,
    "start_time": "2024-06-04T02:24:35.392Z"
   },
   {
    "duration": 20,
    "start_time": "2024-06-04T02:24:52.290Z"
   },
   {
    "duration": 315,
    "start_time": "2024-06-04T02:28:55.066Z"
   },
   {
    "duration": 456,
    "start_time": "2024-06-04T02:30:08.567Z"
   },
   {
    "duration": 9,
    "start_time": "2024-06-04T02:31:31.980Z"
   },
   {
    "duration": 282,
    "start_time": "2024-06-04T02:31:59.072Z"
   },
   {
    "duration": 387,
    "start_time": "2024-06-04T02:32:09.797Z"
   },
   {
    "duration": 749,
    "start_time": "2024-06-04T02:32:37.073Z"
   },
   {
    "duration": 7,
    "start_time": "2024-06-04T02:33:14.618Z"
   },
   {
    "duration": 29,
    "start_time": "2024-06-04T02:33:37.483Z"
   },
   {
    "duration": 167,
    "start_time": "2024-06-04T02:34:32.387Z"
   },
   {
    "duration": 175,
    "start_time": "2024-06-04T02:34:58.663Z"
   },
   {
    "duration": 278,
    "start_time": "2024-06-04T02:35:31.861Z"
   },
   {
    "duration": 297,
    "start_time": "2024-06-04T02:36:04.482Z"
   },
   {
    "duration": 302,
    "start_time": "2024-06-04T02:36:11.219Z"
   },
   {
    "duration": 6,
    "start_time": "2024-06-04T02:36:42.838Z"
   },
   {
    "duration": 8,
    "start_time": "2024-06-04T02:37:04.550Z"
   },
   {
    "duration": 426,
    "start_time": "2024-06-04T02:37:33.528Z"
   },
   {
    "duration": 272,
    "start_time": "2024-06-04T02:37:38.930Z"
   },
   {
    "duration": 186,
    "start_time": "2024-06-04T02:39:48.383Z"
   },
   {
    "duration": 196,
    "start_time": "2024-06-04T02:39:56.487Z"
   },
   {
    "duration": 179,
    "start_time": "2024-06-04T02:40:15.289Z"
   },
   {
    "duration": 186,
    "start_time": "2024-06-04T02:41:02.748Z"
   },
   {
    "duration": 167,
    "start_time": "2024-06-04T02:41:12.732Z"
   },
   {
    "duration": 178,
    "start_time": "2024-06-04T02:41:23.500Z"
   },
   {
    "duration": 233,
    "start_time": "2024-06-04T02:41:41.366Z"
   },
   {
    "duration": 182,
    "start_time": "2024-06-04T02:41:54.713Z"
   },
   {
    "duration": 206,
    "start_time": "2024-06-04T02:42:49.036Z"
   },
   {
    "duration": 202,
    "start_time": "2024-06-04T02:43:07.566Z"
   },
   {
    "duration": 186,
    "start_time": "2024-06-04T02:43:39.151Z"
   },
   {
    "duration": 207,
    "start_time": "2024-06-04T02:43:52.431Z"
   },
   {
    "duration": 377,
    "start_time": "2024-06-04T02:46:18.420Z"
   },
   {
    "duration": 311,
    "start_time": "2024-06-04T02:46:43.344Z"
   },
   {
    "duration": 212,
    "start_time": "2024-06-04T02:47:49.671Z"
   },
   {
    "duration": 231,
    "start_time": "2024-06-04T02:48:13.695Z"
   },
   {
    "duration": 234,
    "start_time": "2024-06-04T02:50:44.540Z"
   },
   {
    "duration": 326,
    "start_time": "2024-06-04T02:51:05.033Z"
   },
   {
    "duration": 338,
    "start_time": "2024-06-04T02:51:27.856Z"
   },
   {
    "duration": 304,
    "start_time": "2024-06-04T02:53:20.900Z"
   },
   {
    "duration": 327,
    "start_time": "2024-06-04T02:54:15.360Z"
   },
   {
    "duration": 370,
    "start_time": "2024-06-04T02:54:47.610Z"
   },
   {
    "duration": 225,
    "start_time": "2024-06-04T02:54:55.966Z"
   },
   {
    "duration": 248,
    "start_time": "2024-06-04T02:54:59.818Z"
   },
   {
    "duration": 212,
    "start_time": "2024-06-04T02:55:23.287Z"
   },
   {
    "duration": 4,
    "start_time": "2024-06-04T02:57:47.072Z"
   },
   {
    "duration": 11,
    "start_time": "2024-06-04T02:59:19.191Z"
   },
   {
    "duration": 122,
    "start_time": "2024-06-04T02:59:49.574Z"
   },
   {
    "duration": 6,
    "start_time": "2024-06-04T03:06:10.071Z"
   },
   {
    "duration": 9,
    "start_time": "2024-06-04T03:09:45.890Z"
   },
   {
    "duration": 11,
    "start_time": "2024-06-04T03:10:53.036Z"
   },
   {
    "duration": 136,
    "start_time": "2024-06-04T03:12:07.816Z"
   },
   {
    "duration": 153,
    "start_time": "2024-06-04T03:14:30.556Z"
   },
   {
    "duration": 143,
    "start_time": "2024-06-04T03:14:42.659Z"
   },
   {
    "duration": 136,
    "start_time": "2024-06-04T03:14:48.699Z"
   },
   {
    "duration": 27,
    "start_time": "2024-06-04T03:14:57.941Z"
   },
   {
    "duration": 140,
    "start_time": "2024-06-04T03:15:06.437Z"
   },
   {
    "duration": 150,
    "start_time": "2024-06-04T03:15:26.400Z"
   },
   {
    "duration": 306,
    "start_time": "2024-06-04T03:15:42.327Z"
   },
   {
    "duration": 135,
    "start_time": "2024-06-04T03:15:51.105Z"
   },
   {
    "duration": 122,
    "start_time": "2024-06-04T03:16:14.364Z"
   },
   {
    "duration": 143,
    "start_time": "2024-06-04T03:16:26.719Z"
   },
   {
    "duration": 158,
    "start_time": "2024-06-04T03:18:07.524Z"
   },
   {
    "duration": 143,
    "start_time": "2024-06-04T03:18:49.964Z"
   },
   {
    "duration": 137,
    "start_time": "2024-06-04T03:19:18.258Z"
   },
   {
    "duration": 137,
    "start_time": "2024-06-04T03:20:05.406Z"
   },
   {
    "duration": 139,
    "start_time": "2024-06-04T03:20:17.599Z"
   },
   {
    "duration": 153,
    "start_time": "2024-06-04T03:20:30.580Z"
   },
   {
    "duration": 130,
    "start_time": "2024-06-04T03:20:42.102Z"
   },
   {
    "duration": 144,
    "start_time": "2024-06-04T03:23:02.416Z"
   },
   {
    "duration": 137,
    "start_time": "2024-06-04T03:23:20.556Z"
   },
   {
    "duration": 148,
    "start_time": "2024-06-04T03:23:31.934Z"
   },
   {
    "duration": 147,
    "start_time": "2024-06-04T03:24:26.744Z"
   },
   {
    "duration": 153,
    "start_time": "2024-06-04T03:25:02.776Z"
   },
   {
    "duration": 160,
    "start_time": "2024-06-04T03:25:53.191Z"
   },
   {
    "duration": 155,
    "start_time": "2024-06-04T03:26:06.622Z"
   },
   {
    "duration": 160,
    "start_time": "2024-06-04T03:26:26.408Z"
   },
   {
    "duration": 285,
    "start_time": "2024-06-04T03:29:38.257Z"
   },
   {
    "duration": 145,
    "start_time": "2024-06-04T03:29:47.281Z"
   },
   {
    "duration": 173,
    "start_time": "2024-06-04T03:29:56.953Z"
   },
   {
    "duration": 1146,
    "start_time": "2024-06-04T03:30:34.914Z"
   },
   {
    "duration": 85,
    "start_time": "2024-06-04T03:30:36.062Z"
   },
   {
    "duration": 13,
    "start_time": "2024-06-04T03:30:36.148Z"
   },
   {
    "duration": 14,
    "start_time": "2024-06-04T03:30:36.163Z"
   },
   {
    "duration": 17,
    "start_time": "2024-06-04T03:30:36.179Z"
   },
   {
    "duration": 51,
    "start_time": "2024-06-04T03:30:36.199Z"
   },
   {
    "duration": 12,
    "start_time": "2024-06-04T03:30:36.253Z"
   },
   {
    "duration": 12,
    "start_time": "2024-06-04T03:30:36.267Z"
   },
   {
    "duration": 306,
    "start_time": "2024-06-04T03:30:36.281Z"
   },
   {
    "duration": 6,
    "start_time": "2024-06-04T03:30:36.588Z"
   },
   {
    "duration": 323,
    "start_time": "2024-06-04T03:30:36.595Z"
   },
   {
    "duration": 313,
    "start_time": "2024-06-04T03:30:36.920Z"
   },
   {
    "duration": 424,
    "start_time": "2024-06-04T03:30:37.235Z"
   },
   {
    "duration": 349,
    "start_time": "2024-06-04T03:30:37.662Z"
   },
   {
    "duration": 449,
    "start_time": "2024-06-04T03:30:38.013Z"
   },
   {
    "duration": 166,
    "start_time": "2024-06-04T03:30:38.463Z"
   },
   {
    "duration": 5,
    "start_time": "2024-06-04T03:30:38.631Z"
   },
   {
    "duration": 164,
    "start_time": "2024-06-04T03:30:38.646Z"
   },
   {
    "duration": 148,
    "start_time": "2024-06-04T03:32:12.738Z"
   },
   {
    "duration": 147,
    "start_time": "2024-06-04T03:33:44.874Z"
   },
   {
    "duration": 136,
    "start_time": "2024-06-04T03:34:00.690Z"
   },
   {
    "duration": 230,
    "start_time": "2024-06-04T03:35:23.843Z"
   },
   {
    "duration": 164,
    "start_time": "2024-06-04T03:35:54.354Z"
   },
   {
    "duration": 148,
    "start_time": "2024-06-04T03:36:03.608Z"
   },
   {
    "duration": 177,
    "start_time": "2024-06-04T03:36:11.623Z"
   },
   {
    "duration": 149,
    "start_time": "2024-06-04T03:36:19.237Z"
   },
   {
    "duration": 5,
    "start_time": "2024-06-04T03:36:50.026Z"
   },
   {
    "duration": 150,
    "start_time": "2024-06-04T03:37:16.354Z"
   },
   {
    "duration": 171,
    "start_time": "2024-06-04T03:38:11.955Z"
   },
   {
    "duration": 130,
    "start_time": "2024-06-04T03:38:37.809Z"
   },
   {
    "duration": 1095,
    "start_time": "2024-06-04T19:54:32.961Z"
   },
   {
    "duration": 122,
    "start_time": "2024-06-04T19:54:34.057Z"
   },
   {
    "duration": 11,
    "start_time": "2024-06-04T19:54:34.181Z"
   },
   {
    "duration": 10,
    "start_time": "2024-06-04T19:54:34.193Z"
   },
   {
    "duration": 11,
    "start_time": "2024-06-04T19:54:34.204Z"
   },
   {
    "duration": 132,
    "start_time": "2024-06-04T19:54:34.216Z"
   },
   {
    "duration": 11,
    "start_time": "2024-06-04T19:54:34.349Z"
   },
   {
    "duration": 15,
    "start_time": "2024-06-04T19:54:34.361Z"
   },
   {
    "duration": 253,
    "start_time": "2024-06-04T19:54:34.378Z"
   },
   {
    "duration": 5,
    "start_time": "2024-06-04T19:54:34.633Z"
   },
   {
    "duration": 249,
    "start_time": "2024-06-04T19:54:34.639Z"
   },
   {
    "duration": 230,
    "start_time": "2024-06-04T19:54:34.889Z"
   },
   {
    "duration": 382,
    "start_time": "2024-06-04T19:54:35.120Z"
   },
   {
    "duration": 248,
    "start_time": "2024-06-04T19:54:35.503Z"
   },
   {
    "duration": 407,
    "start_time": "2024-06-04T19:54:35.752Z"
   },
   {
    "duration": 103,
    "start_time": "2024-06-04T19:54:36.160Z"
   },
   {
    "duration": 9,
    "start_time": "2024-06-04T19:54:36.264Z"
   },
   {
    "duration": 120,
    "start_time": "2024-06-04T19:54:36.274Z"
   },
   {
    "duration": 3,
    "start_time": "2024-06-04T19:54:36.395Z"
   },
   {
    "duration": 887,
    "start_time": "2024-06-04T19:57:55.542Z"
   },
   {
    "duration": 54,
    "start_time": "2024-06-04T19:57:56.430Z"
   },
   {
    "duration": 9,
    "start_time": "2024-06-04T19:57:56.485Z"
   },
   {
    "duration": 10,
    "start_time": "2024-06-04T19:57:56.495Z"
   },
   {
    "duration": 9,
    "start_time": "2024-06-04T19:57:56.506Z"
   },
   {
    "duration": 46,
    "start_time": "2024-06-04T19:57:56.516Z"
   },
   {
    "duration": 10,
    "start_time": "2024-06-04T19:57:56.563Z"
   },
   {
    "duration": 8,
    "start_time": "2024-06-04T19:57:56.574Z"
   },
   {
    "duration": 215,
    "start_time": "2024-06-04T19:57:56.583Z"
   },
   {
    "duration": 4,
    "start_time": "2024-06-04T19:57:56.800Z"
   },
   {
    "duration": 240,
    "start_time": "2024-06-04T19:57:56.805Z"
   },
   {
    "duration": 239,
    "start_time": "2024-06-04T19:57:57.046Z"
   },
   {
    "duration": 326,
    "start_time": "2024-06-04T19:57:57.286Z"
   },
   {
    "duration": 262,
    "start_time": "2024-06-04T19:57:57.613Z"
   },
   {
    "duration": 343,
    "start_time": "2024-06-04T19:57:57.876Z"
   },
   {
    "duration": 107,
    "start_time": "2024-06-04T19:57:58.221Z"
   },
   {
    "duration": 4,
    "start_time": "2024-06-04T19:57:58.329Z"
   },
   {
    "duration": 110,
    "start_time": "2024-06-04T19:57:58.334Z"
   },
   {
    "duration": 3,
    "start_time": "2024-06-04T19:57:58.446Z"
   },
   {
    "duration": 240,
    "start_time": "2024-06-04T19:58:37.720Z"
   },
   {
    "duration": 232,
    "start_time": "2024-06-04T20:03:22.260Z"
   },
   {
    "duration": 214,
    "start_time": "2024-06-04T20:12:36.663Z"
   },
   {
    "duration": 277,
    "start_time": "2024-06-04T20:12:51.576Z"
   },
   {
    "duration": 317,
    "start_time": "2024-06-04T20:20:15.973Z"
   },
   {
    "duration": 318,
    "start_time": "2024-06-04T20:20:28.485Z"
   },
   {
    "duration": 958,
    "start_time": "2024-06-04T20:44:31.558Z"
   },
   {
    "duration": 53,
    "start_time": "2024-06-04T20:44:32.518Z"
   },
   {
    "duration": 11,
    "start_time": "2024-06-04T20:44:32.572Z"
   },
   {
    "duration": 10,
    "start_time": "2024-06-04T20:44:32.586Z"
   },
   {
    "duration": 15,
    "start_time": "2024-06-04T20:44:32.597Z"
   },
   {
    "duration": 74,
    "start_time": "2024-06-04T20:44:32.613Z"
   },
   {
    "duration": 17,
    "start_time": "2024-06-04T20:44:32.688Z"
   },
   {
    "duration": 17,
    "start_time": "2024-06-04T20:44:32.706Z"
   },
   {
    "duration": 218,
    "start_time": "2024-06-04T20:44:32.724Z"
   },
   {
    "duration": 5,
    "start_time": "2024-06-04T20:44:32.944Z"
   },
   {
    "duration": 269,
    "start_time": "2024-06-04T20:44:32.950Z"
   },
   {
    "duration": 249,
    "start_time": "2024-06-04T20:44:33.220Z"
   },
   {
    "duration": 343,
    "start_time": "2024-06-04T20:44:33.470Z"
   },
   {
    "duration": 288,
    "start_time": "2024-06-04T20:44:33.814Z"
   },
   {
    "duration": 330,
    "start_time": "2024-06-04T20:44:34.103Z"
   },
   {
    "duration": 146,
    "start_time": "2024-06-04T20:44:34.435Z"
   },
   {
    "duration": 6,
    "start_time": "2024-06-04T20:44:34.582Z"
   },
   {
    "duration": 121,
    "start_time": "2024-06-04T20:44:34.599Z"
   },
   {
    "duration": 3,
    "start_time": "2024-06-04T20:44:34.721Z"
   },
   {
    "duration": 398,
    "start_time": "2024-06-04T20:45:08.473Z"
   },
   {
    "duration": 106,
    "start_time": "2024-06-04T21:21:06.881Z"
   },
   {
    "duration": 114,
    "start_time": "2024-06-04T21:21:19.053Z"
   },
   {
    "duration": 3,
    "start_time": "2024-06-04T21:21:40.461Z"
   },
   {
    "duration": 37,
    "start_time": "2024-06-04T21:28:26.421Z"
   },
   {
    "duration": 36,
    "start_time": "2024-06-04T21:32:02.004Z"
   },
   {
    "duration": 33,
    "start_time": "2024-06-04T21:32:04.741Z"
   },
   {
    "duration": 57,
    "start_time": "2024-06-04T21:32:35.463Z"
   },
   {
    "duration": 49,
    "start_time": "2024-06-04T21:33:27.784Z"
   },
   {
    "duration": 43,
    "start_time": "2024-06-04T21:34:24.638Z"
   },
   {
    "duration": 23,
    "start_time": "2024-06-04T21:34:50.991Z"
   },
   {
    "duration": 139,
    "start_time": "2024-06-04T21:39:49.272Z"
   },
   {
    "duration": 140,
    "start_time": "2024-06-04T21:40:48.072Z"
   },
   {
    "duration": 8,
    "start_time": "2024-06-04T21:42:03.031Z"
   },
   {
    "duration": 864,
    "start_time": "2024-06-04T21:44:15.366Z"
   },
   {
    "duration": 7,
    "start_time": "2024-06-04T21:47:23.776Z"
   },
   {
    "duration": 23,
    "start_time": "2024-06-04T21:48:59.156Z"
   },
   {
    "duration": 753,
    "start_time": "2024-06-04T21:50:03.476Z"
   },
   {
    "duration": 15,
    "start_time": "2024-06-04T21:51:42.005Z"
   },
   {
    "duration": 11,
    "start_time": "2024-06-04T21:53:06.745Z"
   },
   {
    "duration": 1277,
    "start_time": "2024-06-05T04:47:49.031Z"
   },
   {
    "duration": 156,
    "start_time": "2024-06-05T04:47:50.310Z"
   },
   {
    "duration": 12,
    "start_time": "2024-06-05T04:47:50.468Z"
   },
   {
    "duration": 14,
    "start_time": "2024-06-05T04:47:50.482Z"
   },
   {
    "duration": 13,
    "start_time": "2024-06-05T04:47:50.498Z"
   },
   {
    "duration": 146,
    "start_time": "2024-06-05T04:47:50.513Z"
   },
   {
    "duration": 13,
    "start_time": "2024-06-05T04:47:50.660Z"
   },
   {
    "duration": 21,
    "start_time": "2024-06-05T04:47:50.675Z"
   },
   {
    "duration": 286,
    "start_time": "2024-06-05T04:47:50.697Z"
   },
   {
    "duration": 6,
    "start_time": "2024-06-05T04:47:50.985Z"
   },
   {
    "duration": 325,
    "start_time": "2024-06-05T04:47:50.992Z"
   },
   {
    "duration": 321,
    "start_time": "2024-06-05T04:47:51.319Z"
   },
   {
    "duration": 489,
    "start_time": "2024-06-05T04:47:51.642Z"
   },
   {
    "duration": 338,
    "start_time": "2024-06-05T04:47:52.133Z"
   },
   {
    "duration": 414,
    "start_time": "2024-06-05T04:47:52.473Z"
   },
   {
    "duration": 139,
    "start_time": "2024-06-05T04:47:52.888Z"
   },
   {
    "duration": 4,
    "start_time": "2024-06-05T04:47:53.029Z"
   },
   {
    "duration": 164,
    "start_time": "2024-06-05T04:47:53.035Z"
   },
   {
    "duration": 4,
    "start_time": "2024-06-05T04:47:53.201Z"
   },
   {
    "duration": 248,
    "start_time": "2024-06-05T04:47:53.207Z"
   },
   {
    "duration": 0,
    "start_time": "2024-06-05T04:47:53.457Z"
   },
   {
    "duration": 0,
    "start_time": "2024-06-05T04:47:53.458Z"
   },
   {
    "duration": 0,
    "start_time": "2024-06-05T04:47:53.459Z"
   },
   {
    "duration": 0,
    "start_time": "2024-06-05T04:47:53.460Z"
   },
   {
    "duration": 69,
    "start_time": "2024-06-05T05:01:21.488Z"
   },
   {
    "duration": 2,
    "start_time": "2024-06-05T19:00:43.445Z"
   },
   {
    "duration": 25,
    "start_time": "2024-06-05T19:00:52.035Z"
   },
   {
    "duration": 9,
    "start_time": "2024-06-05T19:00:53.875Z"
   },
   {
    "duration": 7,
    "start_time": "2024-06-05T19:01:19.822Z"
   },
   {
    "duration": 8,
    "start_time": "2024-06-05T19:01:43.479Z"
   },
   {
    "duration": 177,
    "start_time": "2024-06-05T19:18:00.258Z"
   },
   {
    "duration": 13,
    "start_time": "2024-06-05T19:18:02.176Z"
   },
   {
    "duration": 10,
    "start_time": "2024-06-05T19:18:08.288Z"
   },
   {
    "duration": 9,
    "start_time": "2024-06-05T19:21:59.536Z"
   },
   {
    "duration": 8,
    "start_time": "2024-06-05T19:24:44.236Z"
   },
   {
    "duration": 11,
    "start_time": "2024-06-05T19:26:40.717Z"
   },
   {
    "duration": 340,
    "start_time": "2024-06-05T19:27:21.625Z"
   },
   {
    "duration": 4,
    "start_time": "2024-06-05T19:27:38.742Z"
   },
   {
    "duration": 1087,
    "start_time": "2024-06-05T19:33:04.702Z"
   },
   {
    "duration": 1011,
    "start_time": "2024-06-05T19:38:26.165Z"
   },
   {
    "duration": 18,
    "start_time": "2024-06-05T19:39:20.613Z"
   },
   {
    "duration": 4,
    "start_time": "2024-06-05T19:39:41.034Z"
   },
   {
    "duration": 12,
    "start_time": "2024-06-05T19:42:53.726Z"
   },
   {
    "duration": 14,
    "start_time": "2024-06-05T19:43:47.807Z"
   },
   {
    "duration": 27,
    "start_time": "2024-06-05T19:44:00.238Z"
   },
   {
    "duration": 6,
    "start_time": "2024-06-05T19:44:27.575Z"
   },
   {
    "duration": 15,
    "start_time": "2024-06-05T19:44:42.440Z"
   },
   {
    "duration": 7,
    "start_time": "2024-06-05T19:44:57.425Z"
   },
   {
    "duration": 9,
    "start_time": "2024-06-05T19:45:48.433Z"
   },
   {
    "duration": 10,
    "start_time": "2024-06-05T19:46:01.907Z"
   },
   {
    "duration": 13,
    "start_time": "2024-06-05T19:46:49.393Z"
   },
   {
    "duration": 122,
    "start_time": "2024-06-05T19:47:37.447Z"
   },
   {
    "duration": 9,
    "start_time": "2024-06-05T19:47:50.994Z"
   },
   {
    "duration": 8,
    "start_time": "2024-06-05T19:48:18.997Z"
   },
   {
    "duration": 986,
    "start_time": "2024-06-05T19:55:43.671Z"
   },
   {
    "duration": 69,
    "start_time": "2024-06-05T19:55:44.659Z"
   },
   {
    "duration": 10,
    "start_time": "2024-06-05T19:55:44.729Z"
   },
   {
    "duration": 23,
    "start_time": "2024-06-05T19:55:44.740Z"
   },
   {
    "duration": 11,
    "start_time": "2024-06-05T19:55:44.765Z"
   },
   {
    "duration": 54,
    "start_time": "2024-06-05T19:55:44.777Z"
   },
   {
    "duration": 12,
    "start_time": "2024-06-05T19:55:44.832Z"
   },
   {
    "duration": 11,
    "start_time": "2024-06-05T19:55:44.846Z"
   },
   {
    "duration": 9,
    "start_time": "2024-06-05T19:55:44.859Z"
   },
   {
    "duration": 8,
    "start_time": "2024-06-05T19:55:44.870Z"
   },
   {
    "duration": 13,
    "start_time": "2024-06-05T19:55:44.879Z"
   },
   {
    "duration": 297,
    "start_time": "2024-06-05T19:55:44.893Z"
   },
   {
    "duration": 6,
    "start_time": "2024-06-05T19:55:45.191Z"
   },
   {
    "duration": 318,
    "start_time": "2024-06-05T19:55:45.200Z"
   },
   {
    "duration": 229,
    "start_time": "2024-06-05T19:55:45.520Z"
   },
   {
    "duration": 326,
    "start_time": "2024-06-05T19:55:45.750Z"
   },
   {
    "duration": 230,
    "start_time": "2024-06-05T19:55:46.077Z"
   },
   {
    "duration": 363,
    "start_time": "2024-06-05T19:55:46.309Z"
   },
   {
    "duration": 131,
    "start_time": "2024-06-05T19:55:46.673Z"
   },
   {
    "duration": 4,
    "start_time": "2024-06-05T19:55:46.805Z"
   },
   {
    "duration": 146,
    "start_time": "2024-06-05T19:55:46.811Z"
   },
   {
    "duration": 5,
    "start_time": "2024-06-05T19:55:46.958Z"
   },
   {
    "duration": 254,
    "start_time": "2024-06-05T19:55:46.964Z"
   },
   {
    "duration": 0,
    "start_time": "2024-06-05T19:55:47.220Z"
   },
   {
    "duration": 0,
    "start_time": "2024-06-05T19:55:47.221Z"
   },
   {
    "duration": 0,
    "start_time": "2024-06-05T19:55:47.222Z"
   },
   {
    "duration": 0,
    "start_time": "2024-06-05T19:55:47.223Z"
   },
   {
    "duration": 198,
    "start_time": "2024-06-05T19:56:36.361Z"
   },
   {
    "duration": 232,
    "start_time": "2024-06-05T20:01:51.123Z"
   },
   {
    "duration": 278,
    "start_time": "2024-06-05T20:04:51.039Z"
   },
   {
    "duration": 338,
    "start_time": "2024-06-05T20:06:54.224Z"
   },
   {
    "duration": 275,
    "start_time": "2024-06-05T20:08:26.247Z"
   },
   {
    "duration": 305,
    "start_time": "2024-06-05T20:10:56.687Z"
   },
   {
    "duration": 361,
    "start_time": "2024-06-05T20:11:12.006Z"
   },
   {
    "duration": 327,
    "start_time": "2024-06-05T20:11:20.405Z"
   },
   {
    "duration": 336,
    "start_time": "2024-06-05T20:12:17.898Z"
   },
   {
    "duration": 116,
    "start_time": "2024-06-05T20:14:13.214Z"
   },
   {
    "duration": 126,
    "start_time": "2024-06-05T20:15:40.748Z"
   },
   {
    "duration": 132,
    "start_time": "2024-06-05T20:16:48.870Z"
   },
   {
    "duration": 97,
    "start_time": "2024-06-05T20:28:49.689Z"
   },
   {
    "duration": 102,
    "start_time": "2024-06-05T20:30:52.822Z"
   },
   {
    "duration": 353,
    "start_time": "2024-06-05T20:31:23.060Z"
   },
   {
    "duration": 9,
    "start_time": "2024-06-05T20:40:18.963Z"
   },
   {
    "duration": 9,
    "start_time": "2024-06-05T20:46:38.831Z"
   },
   {
    "duration": 9,
    "start_time": "2024-06-05T20:50:25.014Z"
   },
   {
    "duration": 13,
    "start_time": "2024-06-05T20:51:39.462Z"
   },
   {
    "duration": 31,
    "start_time": "2024-06-05T21:03:47.090Z"
   },
   {
    "duration": 14,
    "start_time": "2024-06-05T21:06:06.618Z"
   },
   {
    "duration": 361,
    "start_time": "2024-06-05T21:11:29.890Z"
   },
   {
    "duration": 330,
    "start_time": "2024-06-05T21:12:39.204Z"
   },
   {
    "duration": 10,
    "start_time": "2024-06-05T21:13:15.172Z"
   },
   {
    "duration": 28,
    "start_time": "2024-06-05T21:13:29.700Z"
   },
   {
    "duration": 14,
    "start_time": "2024-06-05T21:13:39.603Z"
   },
   {
    "duration": 11,
    "start_time": "2024-06-05T21:14:07.482Z"
   },
   {
    "duration": 30,
    "start_time": "2024-06-05T21:14:40.580Z"
   },
   {
    "duration": 20,
    "start_time": "2024-06-05T21:15:00.841Z"
   },
   {
    "duration": 45,
    "start_time": "2024-06-05T22:35:25.371Z"
   },
   {
    "duration": 1121,
    "start_time": "2024-06-05T22:35:33.653Z"
   },
   {
    "duration": 129,
    "start_time": "2024-06-05T22:35:34.777Z"
   },
   {
    "duration": 14,
    "start_time": "2024-06-05T22:35:34.908Z"
   },
   {
    "duration": 15,
    "start_time": "2024-06-05T22:35:34.923Z"
   },
   {
    "duration": 15,
    "start_time": "2024-06-05T22:35:34.940Z"
   },
   {
    "duration": 144,
    "start_time": "2024-06-05T22:35:34.957Z"
   },
   {
    "duration": 15,
    "start_time": "2024-06-05T22:35:35.103Z"
   },
   {
    "duration": 16,
    "start_time": "2024-06-05T22:35:35.119Z"
   },
   {
    "duration": 30,
    "start_time": "2024-06-05T22:35:35.136Z"
   },
   {
    "duration": 19,
    "start_time": "2024-06-05T22:35:35.167Z"
   },
   {
    "duration": 20,
    "start_time": "2024-06-05T22:35:35.188Z"
   },
   {
    "duration": 271,
    "start_time": "2024-06-05T22:35:35.210Z"
   },
   {
    "duration": 4,
    "start_time": "2024-06-05T22:35:35.482Z"
   },
   {
    "duration": 8,
    "start_time": "2024-06-05T22:35:35.488Z"
   },
   {
    "duration": 300,
    "start_time": "2024-06-05T22:35:35.497Z"
   },
   {
    "duration": 210,
    "start_time": "2024-06-05T22:35:35.799Z"
   },
   {
    "duration": 378,
    "start_time": "2024-06-05T22:35:36.019Z"
   },
   {
    "duration": 277,
    "start_time": "2024-06-05T22:35:36.398Z"
   },
   {
    "duration": 331,
    "start_time": "2024-06-05T22:35:36.677Z"
   },
   {
    "duration": 122,
    "start_time": "2024-06-05T22:35:37.009Z"
   },
   {
    "duration": 4,
    "start_time": "2024-06-05T22:35:37.133Z"
   },
   {
    "duration": 131,
    "start_time": "2024-06-05T22:35:37.138Z"
   },
   {
    "duration": 3,
    "start_time": "2024-06-05T22:35:37.271Z"
   },
   {
    "duration": 336,
    "start_time": "2024-06-05T22:35:37.275Z"
   },
   {
    "duration": 13,
    "start_time": "2024-06-05T22:35:37.612Z"
   },
   {
    "duration": 11,
    "start_time": "2024-06-05T22:35:37.626Z"
   },
   {
    "duration": 42,
    "start_time": "2024-06-05T22:35:37.639Z"
   },
   {
    "duration": 14,
    "start_time": "2024-06-05T22:35:37.683Z"
   },
   {
    "duration": 3,
    "start_time": "2024-06-05T22:36:58.234Z"
   },
   {
    "duration": 970,
    "start_time": "2024-06-05T22:44:34.864Z"
   },
   {
    "duration": 63,
    "start_time": "2024-06-05T22:44:35.836Z"
   },
   {
    "duration": 11,
    "start_time": "2024-06-05T22:44:35.900Z"
   },
   {
    "duration": 28,
    "start_time": "2024-06-05T22:44:35.912Z"
   },
   {
    "duration": 10,
    "start_time": "2024-06-05T22:44:35.942Z"
   },
   {
    "duration": 56,
    "start_time": "2024-06-05T22:44:35.953Z"
   },
   {
    "duration": 9,
    "start_time": "2024-06-05T22:44:36.011Z"
   },
   {
    "duration": 22,
    "start_time": "2024-06-05T22:44:36.022Z"
   },
   {
    "duration": 6,
    "start_time": "2024-06-05T22:44:36.045Z"
   },
   {
    "duration": 7,
    "start_time": "2024-06-05T22:44:36.052Z"
   },
   {
    "duration": 19,
    "start_time": "2024-06-05T22:44:36.060Z"
   },
   {
    "duration": 261,
    "start_time": "2024-06-05T22:44:36.080Z"
   },
   {
    "duration": 4,
    "start_time": "2024-06-05T22:44:36.343Z"
   },
   {
    "duration": 12,
    "start_time": "2024-06-05T22:44:36.349Z"
   },
   {
    "duration": 305,
    "start_time": "2024-06-05T22:44:36.363Z"
   },
   {
    "duration": 211,
    "start_time": "2024-06-05T22:44:36.669Z"
   },
   {
    "duration": 304,
    "start_time": "2024-06-05T22:44:36.881Z"
   },
   {
    "duration": 253,
    "start_time": "2024-06-05T22:44:37.186Z"
   },
   {
    "duration": 325,
    "start_time": "2024-06-05T22:44:37.441Z"
   },
   {
    "duration": 127,
    "start_time": "2024-06-05T22:44:37.767Z"
   },
   {
    "duration": 4,
    "start_time": "2024-06-05T22:44:37.895Z"
   },
   {
    "duration": 137,
    "start_time": "2024-06-05T22:44:37.901Z"
   },
   {
    "duration": 3,
    "start_time": "2024-06-05T22:44:38.040Z"
   },
   {
    "duration": 353,
    "start_time": "2024-06-05T22:44:38.044Z"
   },
   {
    "duration": 9,
    "start_time": "2024-06-05T22:44:38.399Z"
   },
   {
    "duration": 17,
    "start_time": "2024-06-05T22:44:38.409Z"
   },
   {
    "duration": 31,
    "start_time": "2024-06-05T22:44:38.427Z"
   },
   {
    "duration": 11,
    "start_time": "2024-06-05T22:44:38.460Z"
   },
   {
    "duration": 903,
    "start_time": "2024-06-06T04:06:31.507Z"
   },
   {
    "duration": 103,
    "start_time": "2024-06-06T04:06:32.412Z"
   },
   {
    "duration": 9,
    "start_time": "2024-06-06T04:06:32.516Z"
   },
   {
    "duration": 9,
    "start_time": "2024-06-06T04:06:32.526Z"
   },
   {
    "duration": 21,
    "start_time": "2024-06-06T04:06:32.537Z"
   },
   {
    "duration": 129,
    "start_time": "2024-06-06T04:06:32.559Z"
   },
   {
    "duration": 10,
    "start_time": "2024-06-06T04:06:32.689Z"
   },
   {
    "duration": 8,
    "start_time": "2024-06-06T04:06:32.700Z"
   },
   {
    "duration": 6,
    "start_time": "2024-06-06T04:06:32.709Z"
   },
   {
    "duration": 20,
    "start_time": "2024-06-06T04:06:32.717Z"
   },
   {
    "duration": 13,
    "start_time": "2024-06-06T04:06:32.738Z"
   },
   {
    "duration": 230,
    "start_time": "2024-06-06T04:06:32.752Z"
   },
   {
    "duration": 5,
    "start_time": "2024-06-06T04:06:32.983Z"
   },
   {
    "duration": 6,
    "start_time": "2024-06-06T04:06:32.989Z"
   },
   {
    "duration": 291,
    "start_time": "2024-06-06T04:06:32.996Z"
   },
   {
    "duration": 210,
    "start_time": "2024-06-06T04:06:33.288Z"
   },
   {
    "duration": 280,
    "start_time": "2024-06-06T04:06:33.499Z"
   },
   {
    "duration": 223,
    "start_time": "2024-06-06T04:06:33.780Z"
   },
   {
    "duration": 300,
    "start_time": "2024-06-06T04:06:34.005Z"
   },
   {
    "duration": 110,
    "start_time": "2024-06-06T04:06:34.307Z"
   },
   {
    "duration": 4,
    "start_time": "2024-06-06T04:06:34.418Z"
   },
   {
    "duration": 134,
    "start_time": "2024-06-06T04:06:34.423Z"
   },
   {
    "duration": 3,
    "start_time": "2024-06-06T04:06:34.571Z"
   },
   {
    "duration": 301,
    "start_time": "2024-06-06T04:06:34.575Z"
   },
   {
    "duration": 9,
    "start_time": "2024-06-06T04:06:34.877Z"
   },
   {
    "duration": 7,
    "start_time": "2024-06-06T04:06:34.887Z"
   },
   {
    "duration": 21,
    "start_time": "2024-06-06T04:06:34.896Z"
   },
   {
    "duration": 10,
    "start_time": "2024-06-06T04:06:34.919Z"
   },
   {
    "duration": 82,
    "start_time": "2024-06-06T04:09:59.442Z"
   },
   {
    "duration": 6,
    "start_time": "2024-06-06T04:10:04.743Z"
   },
   {
    "duration": 11,
    "start_time": "2024-06-06T04:10:23.519Z"
   },
   {
    "duration": 5,
    "start_time": "2024-06-06T04:10:34.754Z"
   },
   {
    "duration": 5,
    "start_time": "2024-06-06T04:10:52.694Z"
   }
  ],
  "kernelspec": {
   "display_name": "Python 3 (ipykernel)",
   "language": "python",
   "name": "python3"
  },
  "language_info": {
   "codemirror_mode": {
    "name": "ipython",
    "version": 3
   },
   "file_extension": ".py",
   "mimetype": "text/x-python",
   "name": "python",
   "nbconvert_exporter": "python",
   "pygments_lexer": "ipython3",
   "version": "3.11.5"
  },
  "toc": {
   "base_numbering": 1,
   "nav_menu": {},
   "number_sections": true,
   "sideBar": true,
   "skip_h1_title": true,
   "title_cell": "Table of Contents",
   "title_sidebar": "Contents",
   "toc_cell": false,
   "toc_position": {},
   "toc_section_display": true,
   "toc_window_display": false
  }
 },
 "nbformat": 4,
 "nbformat_minor": 2
}
