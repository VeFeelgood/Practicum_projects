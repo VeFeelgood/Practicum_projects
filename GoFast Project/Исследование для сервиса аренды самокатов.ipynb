{
 "cells": [
  {
   "cell_type": "markdown",
   "id": "546b7f99",
   "metadata": {},
   "source": [
    "# Проект: Статистический анализ данных.\n",
    "В качестве аналитика сервиса аренды самокатов GoFast, мне было необходимо проанализировать данные о более 18000 поездках и 1565 пользователях сервиса. Также были доступны сведения о наличии или отсутствии у пользователей ежемесячной подписки и условиях осуществления поездок для обеих групп.\n",
    "Целью настоящего исследования является проверка некоторых предложенных гипотез, которые могут помочь росту бизнеса. В процессе исследования я планирую осуществить следующие шаги:\n",
    "\n",
    "1. Открыть файлы с данными, изучить информацию о них.\n",
    "2. Выявить возможные пропуски и дубликаты и обработать их.\n",
    "3. Произвести исследовательский анализ данных, чтобы получить больше информации о пользователях и осуществленных ими поездках (частота встречаемости городов, возраст наиболее активных пользователей, соотношение клиентов с подпиской и без подписки, а также продолжительность и расстояние поездок).\n",
    "4. Объединить данные на основе имеющихся таблиц для упрощения работы с ними, а также произвести разделение пользователей и информации о них на две группы (с подпиской и без) для дальнейшего сравнения двух категорий.\n",
    "5. Создать агрегированные данные для каждого пользователя о количестве, расстоянии и продолжительности поездок в месяц, а также посчитать принесенную каждым ежемесячную выручку.\n",
    "6. Проверить предложенные бизнесом гипотезы:\n",
    "- о большей продолжительности поездок пользователей с подпиской;\n",
    "- о равенстве среднего расстояния одной поездки пользователей с подпиской 3130 метрам;\n",
    "- о большей помесячной выручке пользователей с подпиской.\n",
    "7. Построить графики распределения по заданным условиям:\n",
    "- количество промокодов, которые необходимо разослать пользователям для продления ежемесячной подписки, чтобы получить как минимум 100 продлений с вероятностью 95%;\n",
    "- вероятность открытия 1 миллиона разосланных push-уведомлений не более, чем 399,5 тысячами пользователей."
   ]
  },
  {
   "cell_type": "code",
   "execution_count": 1,
   "id": "72576667",
   "metadata": {},
   "outputs": [],
   "source": [
    "#Импортируем библиотеки\n",
    "import pandas as pd\n",
    "import numpy as np\n",
    "from scipy import stats as st\n",
    "from matplotlib import pyplot as plt\n",
    "from scipy.stats import binom"
   ]
  },
  {
   "cell_type": "markdown",
   "id": "c42cbe00",
   "metadata": {},
   "source": [
    "#### Шаг 1. Загрузка данных"
   ]
  },
  {
   "cell_type": "markdown",
   "id": "57fc72cc",
   "metadata": {},
   "source": [
    "Здесь произведена загрузка датасетов и изучена информация о них."
   ]
  },
  {
   "cell_type": "code",
   "execution_count": 2,
   "id": "eff9f206",
   "metadata": {},
   "outputs": [],
   "source": [
    "users = pd.read_csv('/datasets/users_go.csv')\n",
    "rides = pd.read_csv('/datasets/rides_go.csv')\n",
    "subscriptions = pd.read_csv('/datasets/subscriptions_go.csv')"
   ]
  },
  {
   "cell_type": "code",
   "execution_count": 3,
   "id": "63cf9091",
   "metadata": {},
   "outputs": [
    {
     "data": {
      "text/html": [
       "<div>\n",
       "<style scoped>\n",
       "    .dataframe tbody tr th:only-of-type {\n",
       "        vertical-align: middle;\n",
       "    }\n",
       "\n",
       "    .dataframe tbody tr th {\n",
       "        vertical-align: top;\n",
       "    }\n",
       "\n",
       "    .dataframe thead th {\n",
       "        text-align: right;\n",
       "    }\n",
       "</style>\n",
       "<table border=\"1\" class=\"dataframe\">\n",
       "  <thead>\n",
       "    <tr style=\"text-align: right;\">\n",
       "      <th></th>\n",
       "      <th>user_id</th>\n",
       "      <th>name</th>\n",
       "      <th>age</th>\n",
       "      <th>city</th>\n",
       "      <th>subscription_type</th>\n",
       "    </tr>\n",
       "  </thead>\n",
       "  <tbody>\n",
       "    <tr>\n",
       "      <th>0</th>\n",
       "      <td>1</td>\n",
       "      <td>Кира</td>\n",
       "      <td>22</td>\n",
       "      <td>Тюмень</td>\n",
       "      <td>ultra</td>\n",
       "    </tr>\n",
       "    <tr>\n",
       "      <th>1</th>\n",
       "      <td>2</td>\n",
       "      <td>Станислав</td>\n",
       "      <td>31</td>\n",
       "      <td>Омск</td>\n",
       "      <td>ultra</td>\n",
       "    </tr>\n",
       "    <tr>\n",
       "      <th>2</th>\n",
       "      <td>3</td>\n",
       "      <td>Алексей</td>\n",
       "      <td>20</td>\n",
       "      <td>Москва</td>\n",
       "      <td>ultra</td>\n",
       "    </tr>\n",
       "    <tr>\n",
       "      <th>3</th>\n",
       "      <td>4</td>\n",
       "      <td>Константин</td>\n",
       "      <td>26</td>\n",
       "      <td>Ростов-на-Дону</td>\n",
       "      <td>ultra</td>\n",
       "    </tr>\n",
       "    <tr>\n",
       "      <th>4</th>\n",
       "      <td>5</td>\n",
       "      <td>Адель</td>\n",
       "      <td>28</td>\n",
       "      <td>Омск</td>\n",
       "      <td>ultra</td>\n",
       "    </tr>\n",
       "    <tr>\n",
       "      <th>5</th>\n",
       "      <td>6</td>\n",
       "      <td>Регина</td>\n",
       "      <td>25</td>\n",
       "      <td>Краснодар</td>\n",
       "      <td>ultra</td>\n",
       "    </tr>\n",
       "    <tr>\n",
       "      <th>6</th>\n",
       "      <td>7</td>\n",
       "      <td>Игорь</td>\n",
       "      <td>23</td>\n",
       "      <td>Омск</td>\n",
       "      <td>ultra</td>\n",
       "    </tr>\n",
       "    <tr>\n",
       "      <th>7</th>\n",
       "      <td>8</td>\n",
       "      <td>Юрий</td>\n",
       "      <td>23</td>\n",
       "      <td>Краснодар</td>\n",
       "      <td>ultra</td>\n",
       "    </tr>\n",
       "    <tr>\n",
       "      <th>8</th>\n",
       "      <td>9</td>\n",
       "      <td>Ян</td>\n",
       "      <td>21</td>\n",
       "      <td>Пятигорск</td>\n",
       "      <td>ultra</td>\n",
       "    </tr>\n",
       "    <tr>\n",
       "      <th>9</th>\n",
       "      <td>10</td>\n",
       "      <td>Валерий</td>\n",
       "      <td>18</td>\n",
       "      <td>Екатеринбург</td>\n",
       "      <td>ultra</td>\n",
       "    </tr>\n",
       "  </tbody>\n",
       "</table>\n",
       "</div>"
      ],
      "text/plain": [
       "   user_id        name  age            city subscription_type\n",
       "0        1        Кира   22          Тюмень             ultra\n",
       "1        2   Станислав   31            Омск             ultra\n",
       "2        3     Алексей   20          Москва             ultra\n",
       "3        4  Константин   26  Ростов-на-Дону             ultra\n",
       "4        5       Адель   28            Омск             ultra\n",
       "5        6      Регина   25       Краснодар             ultra\n",
       "6        7       Игорь   23            Омск             ultra\n",
       "7        8        Юрий   23       Краснодар             ultra\n",
       "8        9          Ян   21       Пятигорск             ultra\n",
       "9       10     Валерий   18    Екатеринбург             ultra"
      ]
     },
     "metadata": {},
     "output_type": "display_data"
    }
   ],
   "source": [
    "display(users.head(10))"
   ]
  },
  {
   "cell_type": "code",
   "execution_count": 4,
   "id": "3dc3a810",
   "metadata": {},
   "outputs": [
    {
     "name": "stdout",
     "output_type": "stream",
     "text": [
      "<class 'pandas.core.frame.DataFrame'>\n",
      "RangeIndex: 1565 entries, 0 to 1564\n",
      "Data columns (total 5 columns):\n",
      " #   Column             Non-Null Count  Dtype \n",
      "---  ------             --------------  ----- \n",
      " 0   user_id            1565 non-null   int64 \n",
      " 1   name               1565 non-null   object\n",
      " 2   age                1565 non-null   int64 \n",
      " 3   city               1565 non-null   object\n",
      " 4   subscription_type  1565 non-null   object\n",
      "dtypes: int64(2), object(3)\n",
      "memory usage: 61.3+ KB\n"
     ]
    }
   ],
   "source": [
    "users.info()"
   ]
  },
  {
   "cell_type": "code",
   "execution_count": 5,
   "id": "84e0c735",
   "metadata": {},
   "outputs": [
    {
     "data": {
      "text/html": [
       "<div>\n",
       "<style scoped>\n",
       "    .dataframe tbody tr th:only-of-type {\n",
       "        vertical-align: middle;\n",
       "    }\n",
       "\n",
       "    .dataframe tbody tr th {\n",
       "        vertical-align: top;\n",
       "    }\n",
       "\n",
       "    .dataframe thead th {\n",
       "        text-align: right;\n",
       "    }\n",
       "</style>\n",
       "<table border=\"1\" class=\"dataframe\">\n",
       "  <thead>\n",
       "    <tr style=\"text-align: right;\">\n",
       "      <th></th>\n",
       "      <th>user_id</th>\n",
       "      <th>distance</th>\n",
       "      <th>duration</th>\n",
       "      <th>date</th>\n",
       "    </tr>\n",
       "  </thead>\n",
       "  <tbody>\n",
       "    <tr>\n",
       "      <th>0</th>\n",
       "      <td>1</td>\n",
       "      <td>4409.919140</td>\n",
       "      <td>25.599769</td>\n",
       "      <td>2021-01-01</td>\n",
       "    </tr>\n",
       "    <tr>\n",
       "      <th>1</th>\n",
       "      <td>1</td>\n",
       "      <td>2617.592153</td>\n",
       "      <td>15.816871</td>\n",
       "      <td>2021-01-18</td>\n",
       "    </tr>\n",
       "    <tr>\n",
       "      <th>2</th>\n",
       "      <td>1</td>\n",
       "      <td>754.159807</td>\n",
       "      <td>6.232113</td>\n",
       "      <td>2021-04-20</td>\n",
       "    </tr>\n",
       "    <tr>\n",
       "      <th>3</th>\n",
       "      <td>1</td>\n",
       "      <td>2694.783254</td>\n",
       "      <td>18.511000</td>\n",
       "      <td>2021-08-11</td>\n",
       "    </tr>\n",
       "    <tr>\n",
       "      <th>4</th>\n",
       "      <td>1</td>\n",
       "      <td>4028.687306</td>\n",
       "      <td>26.265803</td>\n",
       "      <td>2021-08-28</td>\n",
       "    </tr>\n",
       "    <tr>\n",
       "      <th>5</th>\n",
       "      <td>1</td>\n",
       "      <td>2770.890808</td>\n",
       "      <td>16.650138</td>\n",
       "      <td>2021-10-09</td>\n",
       "    </tr>\n",
       "    <tr>\n",
       "      <th>6</th>\n",
       "      <td>1</td>\n",
       "      <td>3039.020292</td>\n",
       "      <td>14.927879</td>\n",
       "      <td>2021-10-19</td>\n",
       "    </tr>\n",
       "    <tr>\n",
       "      <th>7</th>\n",
       "      <td>1</td>\n",
       "      <td>2842.118050</td>\n",
       "      <td>23.117468</td>\n",
       "      <td>2021-11-06</td>\n",
       "    </tr>\n",
       "    <tr>\n",
       "      <th>8</th>\n",
       "      <td>1</td>\n",
       "      <td>3412.690668</td>\n",
       "      <td>15.238072</td>\n",
       "      <td>2021-11-14</td>\n",
       "    </tr>\n",
       "    <tr>\n",
       "      <th>9</th>\n",
       "      <td>1</td>\n",
       "      <td>748.690645</td>\n",
       "      <td>15.041884</td>\n",
       "      <td>2021-11-22</td>\n",
       "    </tr>\n",
       "  </tbody>\n",
       "</table>\n",
       "</div>"
      ],
      "text/plain": [
       "   user_id     distance   duration        date\n",
       "0        1  4409.919140  25.599769  2021-01-01\n",
       "1        1  2617.592153  15.816871  2021-01-18\n",
       "2        1   754.159807   6.232113  2021-04-20\n",
       "3        1  2694.783254  18.511000  2021-08-11\n",
       "4        1  4028.687306  26.265803  2021-08-28\n",
       "5        1  2770.890808  16.650138  2021-10-09\n",
       "6        1  3039.020292  14.927879  2021-10-19\n",
       "7        1  2842.118050  23.117468  2021-11-06\n",
       "8        1  3412.690668  15.238072  2021-11-14\n",
       "9        1   748.690645  15.041884  2021-11-22"
      ]
     },
     "metadata": {},
     "output_type": "display_data"
    }
   ],
   "source": [
    "display(rides.head(10))"
   ]
  },
  {
   "cell_type": "code",
   "execution_count": 6,
   "id": "8d6a3e5c",
   "metadata": {},
   "outputs": [
    {
     "name": "stdout",
     "output_type": "stream",
     "text": [
      "<class 'pandas.core.frame.DataFrame'>\n",
      "RangeIndex: 18068 entries, 0 to 18067\n",
      "Data columns (total 4 columns):\n",
      " #   Column    Non-Null Count  Dtype  \n",
      "---  ------    --------------  -----  \n",
      " 0   user_id   18068 non-null  int64  \n",
      " 1   distance  18068 non-null  float64\n",
      " 2   duration  18068 non-null  float64\n",
      " 3   date      18068 non-null  object \n",
      "dtypes: float64(2), int64(1), object(1)\n",
      "memory usage: 564.8+ KB\n"
     ]
    }
   ],
   "source": [
    "rides.info()"
   ]
  },
  {
   "cell_type": "code",
   "execution_count": 7,
   "id": "6271fb6b",
   "metadata": {},
   "outputs": [
    {
     "data": {
      "text/html": [
       "<div>\n",
       "<style scoped>\n",
       "    .dataframe tbody tr th:only-of-type {\n",
       "        vertical-align: middle;\n",
       "    }\n",
       "\n",
       "    .dataframe tbody tr th {\n",
       "        vertical-align: top;\n",
       "    }\n",
       "\n",
       "    .dataframe thead th {\n",
       "        text-align: right;\n",
       "    }\n",
       "</style>\n",
       "<table border=\"1\" class=\"dataframe\">\n",
       "  <thead>\n",
       "    <tr style=\"text-align: right;\">\n",
       "      <th></th>\n",
       "      <th>subscription_type</th>\n",
       "      <th>minute_price</th>\n",
       "      <th>start_ride_price</th>\n",
       "      <th>subscription_fee</th>\n",
       "    </tr>\n",
       "  </thead>\n",
       "  <tbody>\n",
       "    <tr>\n",
       "      <th>0</th>\n",
       "      <td>free</td>\n",
       "      <td>8</td>\n",
       "      <td>50</td>\n",
       "      <td>0</td>\n",
       "    </tr>\n",
       "    <tr>\n",
       "      <th>1</th>\n",
       "      <td>ultra</td>\n",
       "      <td>6</td>\n",
       "      <td>0</td>\n",
       "      <td>199</td>\n",
       "    </tr>\n",
       "  </tbody>\n",
       "</table>\n",
       "</div>"
      ],
      "text/plain": [
       "  subscription_type  minute_price  start_ride_price  subscription_fee\n",
       "0              free             8                50                 0\n",
       "1             ultra             6                 0               199"
      ]
     },
     "metadata": {},
     "output_type": "display_data"
    }
   ],
   "source": [
    "display(subscriptions)"
   ]
  },
  {
   "cell_type": "code",
   "execution_count": 8,
   "id": "86a49069",
   "metadata": {},
   "outputs": [
    {
     "name": "stdout",
     "output_type": "stream",
     "text": [
      "<class 'pandas.core.frame.DataFrame'>\n",
      "RangeIndex: 2 entries, 0 to 1\n",
      "Data columns (total 4 columns):\n",
      " #   Column             Non-Null Count  Dtype \n",
      "---  ------             --------------  ----- \n",
      " 0   subscription_type  2 non-null      object\n",
      " 1   minute_price       2 non-null      int64 \n",
      " 2   start_ride_price   2 non-null      int64 \n",
      " 3   subscription_fee   2 non-null      int64 \n",
      "dtypes: int64(3), object(1)\n",
      "memory usage: 192.0+ bytes\n"
     ]
    }
   ],
   "source": [
    "subscriptions.info()"
   ]
  },
  {
   "cell_type": "markdown",
   "id": "d8f57b93",
   "metadata": {},
   "source": [
    "После первичного анализа данных можно сделать следующие выводы. В работе - три таблицы с различной информацией: первая содержит данные о самих пользователях, включая имя, возраст, город и наличие подписки, в ней 1565 строк. Во втором датафрейме отображены сведения о ежемесячных поездках каждого пользователя по его идентификационному номеру, всего 18068 поездок. Последний содержит информацию об условиях аренды самокатов с подпиской и без. На этапе предобработки необходимо произвести проверку данных на пропуски и дубликаты, а также поменять формат данных в столбце с датой поездки."
   ]
  },
  {
   "cell_type": "markdown",
   "id": "e95ebca7",
   "metadata": {},
   "source": [
    "#### Шаг 2. Предобработка данных"
   ]
  },
  {
   "cell_type": "markdown",
   "id": "5bcda0e1",
   "metadata": {},
   "source": [
    "Преобразование типа данных столбца с датами в формат datetime и добавление столбца с номером месяца, в котором была осуществлена поездка."
   ]
  },
  {
   "cell_type": "code",
   "execution_count": 9,
   "id": "af6d202c",
   "metadata": {},
   "outputs": [
    {
     "data": {
      "text/plain": [
       "dtype('<M8[ns]')"
      ]
     },
     "metadata": {},
     "output_type": "display_data"
    }
   ],
   "source": [
    "rides['date'] = pd.to_datetime(rides['date'], format = '%Y-%m-%d')\n",
    "display(rides.date.dtype)"
   ]
  },
  {
   "cell_type": "code",
   "execution_count": 10,
   "id": "d60b28e2",
   "metadata": {},
   "outputs": [
    {
     "data": {
      "text/html": [
       "<div>\n",
       "<style scoped>\n",
       "    .dataframe tbody tr th:only-of-type {\n",
       "        vertical-align: middle;\n",
       "    }\n",
       "\n",
       "    .dataframe tbody tr th {\n",
       "        vertical-align: top;\n",
       "    }\n",
       "\n",
       "    .dataframe thead th {\n",
       "        text-align: right;\n",
       "    }\n",
       "</style>\n",
       "<table border=\"1\" class=\"dataframe\">\n",
       "  <thead>\n",
       "    <tr style=\"text-align: right;\">\n",
       "      <th></th>\n",
       "      <th>user_id</th>\n",
       "      <th>distance</th>\n",
       "      <th>duration</th>\n",
       "      <th>date</th>\n",
       "      <th>month</th>\n",
       "    </tr>\n",
       "  </thead>\n",
       "  <tbody>\n",
       "    <tr>\n",
       "      <th>0</th>\n",
       "      <td>1</td>\n",
       "      <td>4409.919140</td>\n",
       "      <td>25.599769</td>\n",
       "      <td>2021-01-01</td>\n",
       "      <td>1</td>\n",
       "    </tr>\n",
       "    <tr>\n",
       "      <th>1</th>\n",
       "      <td>1</td>\n",
       "      <td>2617.592153</td>\n",
       "      <td>15.816871</td>\n",
       "      <td>2021-01-18</td>\n",
       "      <td>1</td>\n",
       "    </tr>\n",
       "    <tr>\n",
       "      <th>2</th>\n",
       "      <td>1</td>\n",
       "      <td>754.159807</td>\n",
       "      <td>6.232113</td>\n",
       "      <td>2021-04-20</td>\n",
       "      <td>4</td>\n",
       "    </tr>\n",
       "    <tr>\n",
       "      <th>3</th>\n",
       "      <td>1</td>\n",
       "      <td>2694.783254</td>\n",
       "      <td>18.511000</td>\n",
       "      <td>2021-08-11</td>\n",
       "      <td>8</td>\n",
       "    </tr>\n",
       "    <tr>\n",
       "      <th>4</th>\n",
       "      <td>1</td>\n",
       "      <td>4028.687306</td>\n",
       "      <td>26.265803</td>\n",
       "      <td>2021-08-28</td>\n",
       "      <td>8</td>\n",
       "    </tr>\n",
       "  </tbody>\n",
       "</table>\n",
       "</div>"
      ],
      "text/plain": [
       "   user_id     distance   duration       date  month\n",
       "0        1  4409.919140  25.599769 2021-01-01      1\n",
       "1        1  2617.592153  15.816871 2021-01-18      1\n",
       "2        1   754.159807   6.232113 2021-04-20      4\n",
       "3        1  2694.783254  18.511000 2021-08-11      8\n",
       "4        1  4028.687306  26.265803 2021-08-28      8"
      ]
     },
     "metadata": {},
     "output_type": "display_data"
    }
   ],
   "source": [
    "rides['month'] = pd.DatetimeIndex(rides['date']).month\n",
    "display(rides.head(5))"
   ]
  },
  {
   "cell_type": "markdown",
   "id": "a5a1dcd0",
   "metadata": {},
   "source": [
    "Проверка наличия пропусков в датафреймах."
   ]
  },
  {
   "cell_type": "code",
   "execution_count": 11,
   "id": "0763ec4d",
   "metadata": {},
   "outputs": [
    {
     "data": {
      "text/plain": [
       "user_id              0\n",
       "name                 0\n",
       "age                  0\n",
       "city                 0\n",
       "subscription_type    0\n",
       "dtype: int64"
      ]
     },
     "metadata": {},
     "output_type": "display_data"
    }
   ],
   "source": [
    "display(users.isna().sum())"
   ]
  },
  {
   "cell_type": "code",
   "execution_count": 12,
   "id": "317584ca",
   "metadata": {},
   "outputs": [
    {
     "data": {
      "text/plain": [
       "user_id     0\n",
       "distance    0\n",
       "duration    0\n",
       "date        0\n",
       "month       0\n",
       "dtype: int64"
      ]
     },
     "metadata": {},
     "output_type": "display_data"
    }
   ],
   "source": [
    "display(rides.isna().sum())"
   ]
  },
  {
   "cell_type": "code",
   "execution_count": 13,
   "id": "46b11712",
   "metadata": {},
   "outputs": [
    {
     "data": {
      "text/plain": [
       "subscription_type    0\n",
       "minute_price         0\n",
       "start_ride_price     0\n",
       "subscription_fee     0\n",
       "dtype: int64"
      ]
     },
     "metadata": {},
     "output_type": "display_data"
    }
   ],
   "source": [
    "display(subscriptions.isna().sum())"
   ]
  },
  {
   "cell_type": "markdown",
   "id": "f7eaf61f",
   "metadata": {},
   "source": [
    "Проверка количества дубликатов и их удаление в первом датафрейме."
   ]
  },
  {
   "cell_type": "code",
   "execution_count": 14,
   "id": "ec2f7232",
   "metadata": {},
   "outputs": [
    {
     "name": "stdout",
     "output_type": "stream",
     "text": [
      "Первоначальное количество дубликатов: 31\n",
      "Количество дубликатов после их удаления: 0\n"
     ]
    }
   ],
   "source": [
    "duplicates = users.duplicated().sum()\n",
    "print('Первоначальное количество дубликатов:', duplicates)\n",
    "users = users.drop_duplicates().reset_index(drop=True)\n",
    "\n",
    "print('Количество дубликатов после их удаления:', users.duplicated().sum())"
   ]
  },
  {
   "cell_type": "code",
   "execution_count": 15,
   "id": "c55f5ce6",
   "metadata": {},
   "outputs": [
    {
     "data": {
      "text/plain": [
       "0"
      ]
     },
     "metadata": {},
     "output_type": "display_data"
    }
   ],
   "source": [
    "display(rides.duplicated().sum())"
   ]
  },
  {
   "cell_type": "markdown",
   "id": "c6808c4e",
   "metadata": {},
   "source": [
    "В загруженных датафреймах не было обнаружено пропусков, что облегчило работу с данными. Дубликаты были найдены только в первой таблице с информацией о пользователях сервиса. В данном случае лучшим решением стало их удаление, так как для анализа не нужны несколько строк с одинаковыми данными для одних и тех же пользователей. "
   ]
  },
  {
   "cell_type": "markdown",
   "id": "212593c7",
   "metadata": {},
   "source": [
    "#### Шаг 3. Исследовательский анализ данных"
   ]
  },
  {
   "cell_type": "markdown",
   "id": "d46ff34d",
   "metadata": {},
   "source": [
    "Визуализация частоты встречаемости городов."
   ]
  },
  {
   "cell_type": "code",
   "execution_count": 16,
   "id": "e3a4274c",
   "metadata": {},
   "outputs": [
    {
     "data": {
      "text/html": [
       "<div>\n",
       "<style scoped>\n",
       "    .dataframe tbody tr th:only-of-type {\n",
       "        vertical-align: middle;\n",
       "    }\n",
       "\n",
       "    .dataframe tbody tr th {\n",
       "        vertical-align: top;\n",
       "    }\n",
       "\n",
       "    .dataframe thead th {\n",
       "        text-align: right;\n",
       "    }\n",
       "</style>\n",
       "<table border=\"1\" class=\"dataframe\">\n",
       "  <thead>\n",
       "    <tr style=\"text-align: right;\">\n",
       "      <th></th>\n",
       "      <th>city</th>\n",
       "      <th>count</th>\n",
       "    </tr>\n",
       "  </thead>\n",
       "  <tbody>\n",
       "    <tr>\n",
       "      <th>4</th>\n",
       "      <td>Пятигорск</td>\n",
       "      <td>219</td>\n",
       "    </tr>\n",
       "    <tr>\n",
       "      <th>0</th>\n",
       "      <td>Екатеринбург</td>\n",
       "      <td>204</td>\n",
       "    </tr>\n",
       "    <tr>\n",
       "      <th>5</th>\n",
       "      <td>Ростов-на-Дону</td>\n",
       "      <td>198</td>\n",
       "    </tr>\n",
       "    <tr>\n",
       "      <th>1</th>\n",
       "      <td>Краснодар</td>\n",
       "      <td>193</td>\n",
       "    </tr>\n",
       "    <tr>\n",
       "      <th>6</th>\n",
       "      <td>Сочи</td>\n",
       "      <td>189</td>\n",
       "    </tr>\n",
       "    <tr>\n",
       "      <th>3</th>\n",
       "      <td>Омск</td>\n",
       "      <td>183</td>\n",
       "    </tr>\n",
       "    <tr>\n",
       "      <th>7</th>\n",
       "      <td>Тюмень</td>\n",
       "      <td>180</td>\n",
       "    </tr>\n",
       "    <tr>\n",
       "      <th>2</th>\n",
       "      <td>Москва</td>\n",
       "      <td>168</td>\n",
       "    </tr>\n",
       "  </tbody>\n",
       "</table>\n",
       "</div>"
      ],
      "text/plain": [
       "             city  count\n",
       "4       Пятигорск    219\n",
       "0    Екатеринбург    204\n",
       "5  Ростов-на-Дону    198\n",
       "1       Краснодар    193\n",
       "6            Сочи    189\n",
       "3            Омск    183\n",
       "7          Тюмень    180\n",
       "2          Москва    168"
      ]
     },
     "metadata": {},
     "output_type": "display_data"
    }
   ],
   "source": [
    "city_info = users.pivot_table(index = 'city', values = 'user_id', aggfunc = 'count').reset_index().rename(columns={'user_id':'count'}).sort_values(by = 'count', ascending = False)\n",
    "display(city_info.head(10))"
   ]
  },
  {
   "cell_type": "code",
   "execution_count": 17,
   "id": "61837e31",
   "metadata": {},
   "outputs": [
    {
     "data": {
      "image/png": "[encoded data removed]",
      "text/plain": [
       "<Figure size 432x288 with 1 Axes>"
      ]
     },
     "metadata": {
      "needs_background": "light"
     },
     "output_type": "display_data"
    }
   ],
   "source": [
    "city_info.plot(x = 'city', y = 'count', kind = 'bar', title = 'Частота встречаемости городов', xlabel='Название города', ylabel='Сколько раз встречается в данных')\n",
    "plt.show()"
   ]
  },
  {
   "cell_type": "markdown",
   "id": "2f09df3e",
   "metadata": {},
   "source": [
    "Чаще всего поездки производились в Пятигорске, реже других городов - в Москве."
   ]
  },
  {
   "cell_type": "code",
   "execution_count": 18,
   "id": "36cc1bf4",
   "metadata": {},
   "outputs": [
    {
     "data": {
      "text/html": [
       "<div>\n",
       "<style scoped>\n",
       "    .dataframe tbody tr th:only-of-type {\n",
       "        vertical-align: middle;\n",
       "    }\n",
       "\n",
       "    .dataframe tbody tr th {\n",
       "        vertical-align: top;\n",
       "    }\n",
       "\n",
       "    .dataframe thead th {\n",
       "        text-align: right;\n",
       "    }\n",
       "</style>\n",
       "<table border=\"1\" class=\"dataframe\">\n",
       "  <thead>\n",
       "    <tr style=\"text-align: right;\">\n",
       "      <th></th>\n",
       "      <th>subscription_type</th>\n",
       "      <th>count</th>\n",
       "      <th>share</th>\n",
       "    </tr>\n",
       "  </thead>\n",
       "  <tbody>\n",
       "    <tr>\n",
       "      <th>0</th>\n",
       "      <td>free</td>\n",
       "      <td>835</td>\n",
       "      <td>0.544329</td>\n",
       "    </tr>\n",
       "    <tr>\n",
       "      <th>1</th>\n",
       "      <td>ultra</td>\n",
       "      <td>699</td>\n",
       "      <td>0.455671</td>\n",
       "    </tr>\n",
       "  </tbody>\n",
       "</table>\n",
       "</div>"
      ],
      "text/plain": [
       "  subscription_type  count     share\n",
       "0              free    835  0.544329\n",
       "1             ultra    699  0.455671"
      ]
     },
     "metadata": {},
     "output_type": "display_data"
    }
   ],
   "source": [
    "#соотношение пользователей с подпиской и без подписки\n",
    "subscription_rate = users.pivot_table(index = 'subscription_type', values = 'user_id', aggfunc = 'count').reset_index().rename(columns={'user_id':'count'})\n",
    "subscription_rate['share'] = subscription_rate['count'] / (subscription_rate.loc[0, 'count'] + subscription_rate.loc[1, 'count'])\n",
    "display(subscription_rate)"
   ]
  },
  {
   "cell_type": "code",
   "execution_count": 19,
   "id": "4fb54725",
   "metadata": {
    "scrolled": true
   },
   "outputs": [
    {
     "data": {
      "image/png": "[encoded data removed]",
      "text/plain": [
       "<Figure size 432x288 with 1 Axes>"
      ]
     },
     "metadata": {},
     "output_type": "display_data"
    }
   ],
   "source": [
    "subscription_rate['share'].plot(kind='pie', autopct='%1.2f%%')\n",
    "labels = [r'Пользователи без подписки (54.4 %)', r'Пользователи с подпиской (45.5 %)']\n",
    "plt.legend(labels, loc='upper right')\n",
    "plt.title('Соотношение пользователей с подпиской и без')\n",
    "plt.show()"
   ]
  },
  {
   "cell_type": "markdown",
   "id": "40a030e0",
   "metadata": {},
   "source": [
    "У сервиса сравнимое количество пользователей с подпиской и без с небольшим перевесом в пользу второй категории."
   ]
  },
  {
   "cell_type": "code",
   "execution_count": 21,
   "id": "7e012d01",
   "metadata": {},
   "outputs": [
    {
     "data": {
      "text/html": [
       "<div>\n",
       "<style scoped>\n",
       "    .dataframe tbody tr th:only-of-type {\n",
       "        vertical-align: middle;\n",
       "    }\n",
       "\n",
       "    .dataframe tbody tr th {\n",
       "        vertical-align: top;\n",
       "    }\n",
       "\n",
       "    .dataframe thead th {\n",
       "        text-align: right;\n",
       "    }\n",
       "</style>\n",
       "<table border=\"1\" class=\"dataframe\">\n",
       "  <thead>\n",
       "    <tr style=\"text-align: right;\">\n",
       "      <th></th>\n",
       "      <th>age</th>\n",
       "      <th>count</th>\n",
       "    </tr>\n",
       "  </thead>\n",
       "  <tbody>\n",
       "    <tr>\n",
       "      <th>0</th>\n",
       "      <td>43</td>\n",
       "      <td>1</td>\n",
       "    </tr>\n",
       "    <tr>\n",
       "      <th>1</th>\n",
       "      <td>39</td>\n",
       "      <td>1</td>\n",
       "    </tr>\n",
       "    <tr>\n",
       "      <th>2</th>\n",
       "      <td>38</td>\n",
       "      <td>3</td>\n",
       "    </tr>\n",
       "    <tr>\n",
       "      <th>3</th>\n",
       "      <td>37</td>\n",
       "      <td>2</td>\n",
       "    </tr>\n",
       "    <tr>\n",
       "      <th>4</th>\n",
       "      <td>36</td>\n",
       "      <td>6</td>\n",
       "    </tr>\n",
       "    <tr>\n",
       "      <th>5</th>\n",
       "      <td>35</td>\n",
       "      <td>15</td>\n",
       "    </tr>\n",
       "    <tr>\n",
       "      <th>6</th>\n",
       "      <td>34</td>\n",
       "      <td>19</td>\n",
       "    </tr>\n",
       "    <tr>\n",
       "      <th>7</th>\n",
       "      <td>33</td>\n",
       "      <td>39</td>\n",
       "    </tr>\n",
       "    <tr>\n",
       "      <th>8</th>\n",
       "      <td>32</td>\n",
       "      <td>41</td>\n",
       "    </tr>\n",
       "    <tr>\n",
       "      <th>9</th>\n",
       "      <td>31</td>\n",
       "      <td>48</td>\n",
       "    </tr>\n",
       "    <tr>\n",
       "      <th>10</th>\n",
       "      <td>30</td>\n",
       "      <td>68</td>\n",
       "    </tr>\n",
       "    <tr>\n",
       "      <th>11</th>\n",
       "      <td>29</td>\n",
       "      <td>68</td>\n",
       "    </tr>\n",
       "    <tr>\n",
       "      <th>12</th>\n",
       "      <td>28</td>\n",
       "      <td>112</td>\n",
       "    </tr>\n",
       "    <tr>\n",
       "      <th>13</th>\n",
       "      <td>27</td>\n",
       "      <td>119</td>\n",
       "    </tr>\n",
       "    <tr>\n",
       "      <th>14</th>\n",
       "      <td>26</td>\n",
       "      <td>131</td>\n",
       "    </tr>\n",
       "    <tr>\n",
       "      <th>15</th>\n",
       "      <td>25</td>\n",
       "      <td>145</td>\n",
       "    </tr>\n",
       "    <tr>\n",
       "      <th>16</th>\n",
       "      <td>24</td>\n",
       "      <td>132</td>\n",
       "    </tr>\n",
       "    <tr>\n",
       "      <th>17</th>\n",
       "      <td>23</td>\n",
       "      <td>129</td>\n",
       "    </tr>\n",
       "    <tr>\n",
       "      <th>18</th>\n",
       "      <td>22</td>\n",
       "      <td>119</td>\n",
       "    </tr>\n",
       "    <tr>\n",
       "      <th>19</th>\n",
       "      <td>21</td>\n",
       "      <td>93</td>\n",
       "    </tr>\n",
       "    <tr>\n",
       "      <th>20</th>\n",
       "      <td>20</td>\n",
       "      <td>71</td>\n",
       "    </tr>\n",
       "    <tr>\n",
       "      <th>21</th>\n",
       "      <td>19</td>\n",
       "      <td>47</td>\n",
       "    </tr>\n",
       "    <tr>\n",
       "      <th>22</th>\n",
       "      <td>18</td>\n",
       "      <td>46</td>\n",
       "    </tr>\n",
       "    <tr>\n",
       "      <th>23</th>\n",
       "      <td>17</td>\n",
       "      <td>26</td>\n",
       "    </tr>\n",
       "    <tr>\n",
       "      <th>24</th>\n",
       "      <td>16</td>\n",
       "      <td>19</td>\n",
       "    </tr>\n",
       "    <tr>\n",
       "      <th>25</th>\n",
       "      <td>15</td>\n",
       "      <td>13</td>\n",
       "    </tr>\n",
       "    <tr>\n",
       "      <th>26</th>\n",
       "      <td>14</td>\n",
       "      <td>9</td>\n",
       "    </tr>\n",
       "    <tr>\n",
       "      <th>27</th>\n",
       "      <td>13</td>\n",
       "      <td>8</td>\n",
       "    </tr>\n",
       "    <tr>\n",
       "      <th>28</th>\n",
       "      <td>12</td>\n",
       "      <td>4</td>\n",
       "    </tr>\n",
       "  </tbody>\n",
       "</table>\n",
       "</div>"
      ],
      "text/plain": [
       "    age  count\n",
       "0    43      1\n",
       "1    39      1\n",
       "2    38      3\n",
       "3    37      2\n",
       "4    36      6\n",
       "5    35     15\n",
       "6    34     19\n",
       "7    33     39\n",
       "8    32     41\n",
       "9    31     48\n",
       "10   30     68\n",
       "11   29     68\n",
       "12   28    112\n",
       "13   27    119\n",
       "14   26    131\n",
       "15   25    145\n",
       "16   24    132\n",
       "17   23    129\n",
       "18   22    119\n",
       "19   21     93\n",
       "20   20     71\n",
       "21   19     47\n",
       "22   18     46\n",
       "23   17     26\n",
       "24   16     19\n",
       "25   15     13\n",
       "26   14      9\n",
       "27   13      8\n",
       "28   12      4"
      ]
     },
     "metadata": {},
     "output_type": "display_data"
    }
   ],
   "source": [
    "# возраст пользователей\n",
    "users_age = users.pivot_table(index = 'age', values = 'user_id', aggfunc = 'count').reset_index().rename(columns={'user_id':'count'}).sort_values(by = 'age', ascending = False).reset_index(drop=True)\n",
    "display(users_age)"
   ]
  },
  {
   "cell_type": "code",
   "execution_count": 22,
   "id": "acf212da",
   "metadata": {},
   "outputs": [
    {
     "data": {
      "text/plain": [
       "count    29.000000\n",
       "mean     26.103448\n",
       "std       8.706914\n",
       "min      12.000000\n",
       "25%      19.000000\n",
       "50%      26.000000\n",
       "75%      33.000000\n",
       "max      43.000000\n",
       "Name: age, dtype: float64"
      ]
     },
     "metadata": {},
     "output_type": "display_data"
    },
    {
     "data": {
      "image/png": "[encoded data removed]",
      "text/plain": [
       "<Figure size 432x288 with 1 Axes>"
      ]
     },
     "metadata": {
      "needs_background": "light"
     },
     "output_type": "display_data"
    }
   ],
   "source": [
    "users_age.plot(x = 'age', y = 'count', kind = 'bar', color = 'g', title = 'Группы пользователей по возрастам', xlabel='Возраст пользователей', ylabel='Частота пользования сервисом')\n",
    "display(users_age['age'].describe())"
   ]
  },
  {
   "cell_type": "markdown",
   "id": "139040e7",
   "metadata": {},
   "source": [
    "Кажется логичным, что пик пользования сервиса аренды самокатов приходится на пользователей от 20 до 30 лет с плавным снижением активности в обе стороны (с 12 до 20 и с 30 до 43). Средний возраст пользователей, как видно из описания данных, 26 лет и 75% находятся в диапазоне до 33 лет."
   ]
  },
  {
   "cell_type": "code",
   "execution_count": 23,
   "id": "17fbae52",
   "metadata": {},
   "outputs": [
    {
     "data": {
      "text/plain": [
       "count    18068.000000\n",
       "mean      3070.659976\n",
       "std       1116.831209\n",
       "min          0.855683\n",
       "25%       2543.226360\n",
       "50%       3133.609994\n",
       "75%       3776.222735\n",
       "max       7211.007745\n",
       "Name: distance, dtype: float64"
      ]
     },
     "metadata": {},
     "output_type": "display_data"
    },
    {
     "data": {
      "image/png": "[encoded data removed]",
      "text/plain": [
       "<Figure size 432x288 with 1 Axes>"
      ]
     },
     "metadata": {
      "needs_background": "light"
     },
     "output_type": "display_data"
    }
   ],
   "source": [
    "#Расстояние, которое пользователь преодолел за одну поездку\n",
    "display(rides['distance'].describe())\n",
    "ax = rides['distance'].plot(kind='hist')\n",
    "ax.set_xlabel('Расстояние в метрах')\n",
    "ax.set_ylabel('Частота встречаемости')\n",
    "plt.title('Расстояние поездок пользователей')\n",
    "plt.show()"
   ]
  },
  {
   "cell_type": "markdown",
   "id": "bc780910",
   "metadata": {},
   "source": [
    "Чаще всего пользователи преодолевали расстояние около 2900 - 3700 метров. Также можно сделать вывод, что короткие поездки (до 5 км) более популярны среди клиентов."
   ]
  },
  {
   "cell_type": "code",
   "execution_count": 24,
   "id": "05c159de",
   "metadata": {},
   "outputs": [
    {
     "data": {
      "text/plain": [
       "count    18068.000000\n",
       "mean        17.805011\n",
       "std          6.091051\n",
       "min          0.500000\n",
       "25%         13.597563\n",
       "50%         17.678395\n",
       "75%         21.724800\n",
       "max         40.823963\n",
       "Name: duration, dtype: float64"
      ]
     },
     "metadata": {},
     "output_type": "display_data"
    },
    {
     "data": {
      "image/png": "[encoded data removed]",
      "text/plain": [
       "<Figure size 432x288 with 1 Axes>"
      ]
     },
     "metadata": {
      "needs_background": "light"
     },
     "output_type": "display_data"
    }
   ],
   "source": [
    "#продолжительность поездок\n",
    "display(rides['duration'].describe())\n",
    "ax1 = rides['duration'].plot(kind='hist')\n",
    "ax1.set_xlabel('Продолжительность в минутах')\n",
    "ax1.set_ylabel('Частота встречаемости')\n",
    "plt.title('Продолжительность поездок пользователей')\n",
    "plt.show()"
   ]
  },
  {
   "cell_type": "markdown",
   "id": "10b16caf",
   "metadata": {},
   "source": [
    "Как видно на графике, наиболее популярны поездки примерно от 13 до 22 минут, количество поездок, менее и более продолжительных по времени, плавно снижается по мере удаления от среднего значения."
   ]
  },
  {
   "cell_type": "markdown",
   "id": "747bebfa",
   "metadata": {},
   "source": [
    "На этапе исследовательского анализа данных были выявлены некоторые закономерности и произведены визуализации:\n",
    "1. Частота встречаемости разных городов среди клиентов сервиса: от Пятигорска на первом месте и Москвы на последнем.\n",
    "2. Наиболее активные пользователи аренды самокатов по возрастам: ожидаемо это диапазон 20-30 лет со средним значением 26.\n",
    "3. Доля пользователей сервиса с подпиской и без: количество последних немного выше.\n",
    "4. Средние дистанция и продолжительность большинства поездок составляют 3 км и 18 минут соответственно, менее и более продолжительные поездки встречаются реже."
   ]
  },
  {
   "cell_type": "markdown",
   "id": "4ef51331",
   "metadata": {},
   "source": [
    "#### Шаг 4. Объединение данных"
   ]
  },
  {
   "cell_type": "code",
   "execution_count": 25,
   "id": "6bf288b5",
   "metadata": {},
   "outputs": [
    {
     "data": {
      "text/html": [
       "<div>\n",
       "<style scoped>\n",
       "    .dataframe tbody tr th:only-of-type {\n",
       "        vertical-align: middle;\n",
       "    }\n",
       "\n",
       "    .dataframe tbody tr th {\n",
       "        vertical-align: top;\n",
       "    }\n",
       "\n",
       "    .dataframe thead th {\n",
       "        text-align: right;\n",
       "    }\n",
       "</style>\n",
       "<table border=\"1\" class=\"dataframe\">\n",
       "  <thead>\n",
       "    <tr style=\"text-align: right;\">\n",
       "      <th></th>\n",
       "      <th>user_id</th>\n",
       "      <th>name</th>\n",
       "      <th>age</th>\n",
       "      <th>city</th>\n",
       "      <th>subscription_type</th>\n",
       "      <th>distance</th>\n",
       "      <th>duration</th>\n",
       "      <th>date</th>\n",
       "      <th>month</th>\n",
       "    </tr>\n",
       "  </thead>\n",
       "  <tbody>\n",
       "    <tr>\n",
       "      <th>0</th>\n",
       "      <td>1</td>\n",
       "      <td>Кира</td>\n",
       "      <td>22</td>\n",
       "      <td>Тюмень</td>\n",
       "      <td>ultra</td>\n",
       "      <td>4409.919140</td>\n",
       "      <td>25.599769</td>\n",
       "      <td>2021-01-01</td>\n",
       "      <td>1</td>\n",
       "    </tr>\n",
       "    <tr>\n",
       "      <th>1</th>\n",
       "      <td>1</td>\n",
       "      <td>Кира</td>\n",
       "      <td>22</td>\n",
       "      <td>Тюмень</td>\n",
       "      <td>ultra</td>\n",
       "      <td>2617.592153</td>\n",
       "      <td>15.816871</td>\n",
       "      <td>2021-01-18</td>\n",
       "      <td>1</td>\n",
       "    </tr>\n",
       "    <tr>\n",
       "      <th>2</th>\n",
       "      <td>1</td>\n",
       "      <td>Кира</td>\n",
       "      <td>22</td>\n",
       "      <td>Тюмень</td>\n",
       "      <td>ultra</td>\n",
       "      <td>754.159807</td>\n",
       "      <td>6.232113</td>\n",
       "      <td>2021-04-20</td>\n",
       "      <td>4</td>\n",
       "    </tr>\n",
       "    <tr>\n",
       "      <th>3</th>\n",
       "      <td>1</td>\n",
       "      <td>Кира</td>\n",
       "      <td>22</td>\n",
       "      <td>Тюмень</td>\n",
       "      <td>ultra</td>\n",
       "      <td>2694.783254</td>\n",
       "      <td>18.511000</td>\n",
       "      <td>2021-08-11</td>\n",
       "      <td>8</td>\n",
       "    </tr>\n",
       "    <tr>\n",
       "      <th>4</th>\n",
       "      <td>1</td>\n",
       "      <td>Кира</td>\n",
       "      <td>22</td>\n",
       "      <td>Тюмень</td>\n",
       "      <td>ultra</td>\n",
       "      <td>4028.687306</td>\n",
       "      <td>26.265803</td>\n",
       "      <td>2021-08-28</td>\n",
       "      <td>8</td>\n",
       "    </tr>\n",
       "    <tr>\n",
       "      <th>5</th>\n",
       "      <td>1</td>\n",
       "      <td>Кира</td>\n",
       "      <td>22</td>\n",
       "      <td>Тюмень</td>\n",
       "      <td>ultra</td>\n",
       "      <td>2770.890808</td>\n",
       "      <td>16.650138</td>\n",
       "      <td>2021-10-09</td>\n",
       "      <td>10</td>\n",
       "    </tr>\n",
       "    <tr>\n",
       "      <th>6</th>\n",
       "      <td>1</td>\n",
       "      <td>Кира</td>\n",
       "      <td>22</td>\n",
       "      <td>Тюмень</td>\n",
       "      <td>ultra</td>\n",
       "      <td>3039.020292</td>\n",
       "      <td>14.927879</td>\n",
       "      <td>2021-10-19</td>\n",
       "      <td>10</td>\n",
       "    </tr>\n",
       "    <tr>\n",
       "      <th>7</th>\n",
       "      <td>1</td>\n",
       "      <td>Кира</td>\n",
       "      <td>22</td>\n",
       "      <td>Тюмень</td>\n",
       "      <td>ultra</td>\n",
       "      <td>2842.118050</td>\n",
       "      <td>23.117468</td>\n",
       "      <td>2021-11-06</td>\n",
       "      <td>11</td>\n",
       "    </tr>\n",
       "    <tr>\n",
       "      <th>8</th>\n",
       "      <td>1</td>\n",
       "      <td>Кира</td>\n",
       "      <td>22</td>\n",
       "      <td>Тюмень</td>\n",
       "      <td>ultra</td>\n",
       "      <td>3412.690668</td>\n",
       "      <td>15.238072</td>\n",
       "      <td>2021-11-14</td>\n",
       "      <td>11</td>\n",
       "    </tr>\n",
       "    <tr>\n",
       "      <th>9</th>\n",
       "      <td>1</td>\n",
       "      <td>Кира</td>\n",
       "      <td>22</td>\n",
       "      <td>Тюмень</td>\n",
       "      <td>ultra</td>\n",
       "      <td>748.690645</td>\n",
       "      <td>15.041884</td>\n",
       "      <td>2021-11-22</td>\n",
       "      <td>11</td>\n",
       "    </tr>\n",
       "    <tr>\n",
       "      <th>10</th>\n",
       "      <td>1</td>\n",
       "      <td>Кира</td>\n",
       "      <td>22</td>\n",
       "      <td>Тюмень</td>\n",
       "      <td>ultra</td>\n",
       "      <td>4031.020195</td>\n",
       "      <td>17.674448</td>\n",
       "      <td>2021-12-14</td>\n",
       "      <td>12</td>\n",
       "    </tr>\n",
       "    <tr>\n",
       "      <th>11</th>\n",
       "      <td>1</td>\n",
       "      <td>Кира</td>\n",
       "      <td>22</td>\n",
       "      <td>Тюмень</td>\n",
       "      <td>ultra</td>\n",
       "      <td>2720.609748</td>\n",
       "      <td>9.529463</td>\n",
       "      <td>2021-12-22</td>\n",
       "      <td>12</td>\n",
       "    </tr>\n",
       "    <tr>\n",
       "      <th>12</th>\n",
       "      <td>2</td>\n",
       "      <td>Станислав</td>\n",
       "      <td>31</td>\n",
       "      <td>Омск</td>\n",
       "      <td>ultra</td>\n",
       "      <td>3105.086678</td>\n",
       "      <td>24.307514</td>\n",
       "      <td>2021-03-15</td>\n",
       "      <td>3</td>\n",
       "    </tr>\n",
       "    <tr>\n",
       "      <th>13</th>\n",
       "      <td>2</td>\n",
       "      <td>Станислав</td>\n",
       "      <td>31</td>\n",
       "      <td>Омск</td>\n",
       "      <td>ultra</td>\n",
       "      <td>3053.519401</td>\n",
       "      <td>11.543256</td>\n",
       "      <td>2021-03-18</td>\n",
       "      <td>3</td>\n",
       "    </tr>\n",
       "    <tr>\n",
       "      <th>14</th>\n",
       "      <td>2</td>\n",
       "      <td>Станислав</td>\n",
       "      <td>31</td>\n",
       "      <td>Омск</td>\n",
       "      <td>ultra</td>\n",
       "      <td>4029.116927</td>\n",
       "      <td>25.109188</td>\n",
       "      <td>2021-03-23</td>\n",
       "      <td>3</td>\n",
       "    </tr>\n",
       "    <tr>\n",
       "      <th>15</th>\n",
       "      <td>2</td>\n",
       "      <td>Станислав</td>\n",
       "      <td>31</td>\n",
       "      <td>Омск</td>\n",
       "      <td>ultra</td>\n",
       "      <td>2805.786329</td>\n",
       "      <td>20.652145</td>\n",
       "      <td>2021-04-08</td>\n",
       "      <td>4</td>\n",
       "    </tr>\n",
       "    <tr>\n",
       "      <th>16</th>\n",
       "      <td>2</td>\n",
       "      <td>Станислав</td>\n",
       "      <td>31</td>\n",
       "      <td>Омск</td>\n",
       "      <td>ultra</td>\n",
       "      <td>3358.595495</td>\n",
       "      <td>18.396489</td>\n",
       "      <td>2021-04-13</td>\n",
       "      <td>4</td>\n",
       "    </tr>\n",
       "    <tr>\n",
       "      <th>17</th>\n",
       "      <td>2</td>\n",
       "      <td>Станислав</td>\n",
       "      <td>31</td>\n",
       "      <td>Омск</td>\n",
       "      <td>ultra</td>\n",
       "      <td>3255.338202</td>\n",
       "      <td>13.851127</td>\n",
       "      <td>2021-06-20</td>\n",
       "      <td>6</td>\n",
       "    </tr>\n",
       "    <tr>\n",
       "      <th>18</th>\n",
       "      <td>2</td>\n",
       "      <td>Станислав</td>\n",
       "      <td>31</td>\n",
       "      <td>Омск</td>\n",
       "      <td>ultra</td>\n",
       "      <td>3942.817648</td>\n",
       "      <td>20.142725</td>\n",
       "      <td>2021-07-02</td>\n",
       "      <td>7</td>\n",
       "    </tr>\n",
       "    <tr>\n",
       "      <th>19</th>\n",
       "      <td>2</td>\n",
       "      <td>Станислав</td>\n",
       "      <td>31</td>\n",
       "      <td>Омск</td>\n",
       "      <td>ultra</td>\n",
       "      <td>2837.905316</td>\n",
       "      <td>26.027432</td>\n",
       "      <td>2021-07-18</td>\n",
       "      <td>7</td>\n",
       "    </tr>\n",
       "  </tbody>\n",
       "</table>\n",
       "</div>"
      ],
      "text/plain": [
       "    user_id       name  age    city subscription_type     distance   duration  \\\n",
       "0         1       Кира   22  Тюмень             ultra  4409.919140  25.599769   \n",
       "1         1       Кира   22  Тюмень             ultra  2617.592153  15.816871   \n",
       "2         1       Кира   22  Тюмень             ultra   754.159807   6.232113   \n",
       "3         1       Кира   22  Тюмень             ultra  2694.783254  18.511000   \n",
       "4         1       Кира   22  Тюмень             ultra  4028.687306  26.265803   \n",
       "5         1       Кира   22  Тюмень             ultra  2770.890808  16.650138   \n",
       "6         1       Кира   22  Тюмень             ultra  3039.020292  14.927879   \n",
       "7         1       Кира   22  Тюмень             ultra  2842.118050  23.117468   \n",
       "8         1       Кира   22  Тюмень             ultra  3412.690668  15.238072   \n",
       "9         1       Кира   22  Тюмень             ultra   748.690645  15.041884   \n",
       "10        1       Кира   22  Тюмень             ultra  4031.020195  17.674448   \n",
       "11        1       Кира   22  Тюмень             ultra  2720.609748   9.529463   \n",
       "12        2  Станислав   31    Омск             ultra  3105.086678  24.307514   \n",
       "13        2  Станислав   31    Омск             ultra  3053.519401  11.543256   \n",
       "14        2  Станислав   31    Омск             ultra  4029.116927  25.109188   \n",
       "15        2  Станислав   31    Омск             ultra  2805.786329  20.652145   \n",
       "16        2  Станислав   31    Омск             ultra  3358.595495  18.396489   \n",
       "17        2  Станислав   31    Омск             ultra  3255.338202  13.851127   \n",
       "18        2  Станислав   31    Омск             ultra  3942.817648  20.142725   \n",
       "19        2  Станислав   31    Омск             ultra  2837.905316  26.027432   \n",
       "\n",
       "         date  month  \n",
       "0  2021-01-01      1  \n",
       "1  2021-01-18      1  \n",
       "2  2021-04-20      4  \n",
       "3  2021-08-11      8  \n",
       "4  2021-08-28      8  \n",
       "5  2021-10-09     10  \n",
       "6  2021-10-19     10  \n",
       "7  2021-11-06     11  \n",
       "8  2021-11-14     11  \n",
       "9  2021-11-22     11  \n",
       "10 2021-12-14     12  \n",
       "11 2021-12-22     12  \n",
       "12 2021-03-15      3  \n",
       "13 2021-03-18      3  \n",
       "14 2021-03-23      3  \n",
       "15 2021-04-08      4  \n",
       "16 2021-04-13      4  \n",
       "17 2021-06-20      6  \n",
       "18 2021-07-02      7  \n",
       "19 2021-07-18      7  "
      ]
     },
     "metadata": {},
     "output_type": "display_data"
    },
    {
     "data": {
      "text/plain": [
       "18068"
      ]
     },
     "metadata": {},
     "output_type": "display_data"
    }
   ],
   "source": [
    "full_data = users.merge(rides, on = 'user_id')\n",
    "display(full_data.head(20))\n",
    "display(full_data.shape[0])"
   ]
  },
  {
   "cell_type": "code",
   "execution_count": 26,
   "id": "df780be0",
   "metadata": {},
   "outputs": [
    {
     "data": {
      "text/html": [
       "<div>\n",
       "<style scoped>\n",
       "    .dataframe tbody tr th:only-of-type {\n",
       "        vertical-align: middle;\n",
       "    }\n",
       "\n",
       "    .dataframe tbody tr th {\n",
       "        vertical-align: top;\n",
       "    }\n",
       "\n",
       "    .dataframe thead th {\n",
       "        text-align: right;\n",
       "    }\n",
       "</style>\n",
       "<table border=\"1\" class=\"dataframe\">\n",
       "  <thead>\n",
       "    <tr style=\"text-align: right;\">\n",
       "      <th></th>\n",
       "      <th>user_id</th>\n",
       "      <th>name</th>\n",
       "      <th>age</th>\n",
       "      <th>city</th>\n",
       "      <th>subscription_type</th>\n",
       "      <th>distance</th>\n",
       "      <th>duration</th>\n",
       "      <th>date</th>\n",
       "      <th>month</th>\n",
       "      <th>minute_price</th>\n",
       "      <th>start_ride_price</th>\n",
       "      <th>subscription_fee</th>\n",
       "    </tr>\n",
       "  </thead>\n",
       "  <tbody>\n",
       "    <tr>\n",
       "      <th>0</th>\n",
       "      <td>1</td>\n",
       "      <td>Кира</td>\n",
       "      <td>22</td>\n",
       "      <td>Тюмень</td>\n",
       "      <td>ultra</td>\n",
       "      <td>4409.919140</td>\n",
       "      <td>25.599769</td>\n",
       "      <td>2021-01-01</td>\n",
       "      <td>1</td>\n",
       "      <td>6</td>\n",
       "      <td>0</td>\n",
       "      <td>199</td>\n",
       "    </tr>\n",
       "    <tr>\n",
       "      <th>1</th>\n",
       "      <td>1</td>\n",
       "      <td>Кира</td>\n",
       "      <td>22</td>\n",
       "      <td>Тюмень</td>\n",
       "      <td>ultra</td>\n",
       "      <td>2617.592153</td>\n",
       "      <td>15.816871</td>\n",
       "      <td>2021-01-18</td>\n",
       "      <td>1</td>\n",
       "      <td>6</td>\n",
       "      <td>0</td>\n",
       "      <td>199</td>\n",
       "    </tr>\n",
       "    <tr>\n",
       "      <th>2</th>\n",
       "      <td>1</td>\n",
       "      <td>Кира</td>\n",
       "      <td>22</td>\n",
       "      <td>Тюмень</td>\n",
       "      <td>ultra</td>\n",
       "      <td>754.159807</td>\n",
       "      <td>6.232113</td>\n",
       "      <td>2021-04-20</td>\n",
       "      <td>4</td>\n",
       "      <td>6</td>\n",
       "      <td>0</td>\n",
       "      <td>199</td>\n",
       "    </tr>\n",
       "    <tr>\n",
       "      <th>3</th>\n",
       "      <td>1</td>\n",
       "      <td>Кира</td>\n",
       "      <td>22</td>\n",
       "      <td>Тюмень</td>\n",
       "      <td>ultra</td>\n",
       "      <td>2694.783254</td>\n",
       "      <td>18.511000</td>\n",
       "      <td>2021-08-11</td>\n",
       "      <td>8</td>\n",
       "      <td>6</td>\n",
       "      <td>0</td>\n",
       "      <td>199</td>\n",
       "    </tr>\n",
       "    <tr>\n",
       "      <th>4</th>\n",
       "      <td>1</td>\n",
       "      <td>Кира</td>\n",
       "      <td>22</td>\n",
       "      <td>Тюмень</td>\n",
       "      <td>ultra</td>\n",
       "      <td>4028.687306</td>\n",
       "      <td>26.265803</td>\n",
       "      <td>2021-08-28</td>\n",
       "      <td>8</td>\n",
       "      <td>6</td>\n",
       "      <td>0</td>\n",
       "      <td>199</td>\n",
       "    </tr>\n",
       "    <tr>\n",
       "      <th>5</th>\n",
       "      <td>1</td>\n",
       "      <td>Кира</td>\n",
       "      <td>22</td>\n",
       "      <td>Тюмень</td>\n",
       "      <td>ultra</td>\n",
       "      <td>2770.890808</td>\n",
       "      <td>16.650138</td>\n",
       "      <td>2021-10-09</td>\n",
       "      <td>10</td>\n",
       "      <td>6</td>\n",
       "      <td>0</td>\n",
       "      <td>199</td>\n",
       "    </tr>\n",
       "    <tr>\n",
       "      <th>6</th>\n",
       "      <td>1</td>\n",
       "      <td>Кира</td>\n",
       "      <td>22</td>\n",
       "      <td>Тюмень</td>\n",
       "      <td>ultra</td>\n",
       "      <td>3039.020292</td>\n",
       "      <td>14.927879</td>\n",
       "      <td>2021-10-19</td>\n",
       "      <td>10</td>\n",
       "      <td>6</td>\n",
       "      <td>0</td>\n",
       "      <td>199</td>\n",
       "    </tr>\n",
       "    <tr>\n",
       "      <th>7</th>\n",
       "      <td>1</td>\n",
       "      <td>Кира</td>\n",
       "      <td>22</td>\n",
       "      <td>Тюмень</td>\n",
       "      <td>ultra</td>\n",
       "      <td>2842.118050</td>\n",
       "      <td>23.117468</td>\n",
       "      <td>2021-11-06</td>\n",
       "      <td>11</td>\n",
       "      <td>6</td>\n",
       "      <td>0</td>\n",
       "      <td>199</td>\n",
       "    </tr>\n",
       "    <tr>\n",
       "      <th>8</th>\n",
       "      <td>1</td>\n",
       "      <td>Кира</td>\n",
       "      <td>22</td>\n",
       "      <td>Тюмень</td>\n",
       "      <td>ultra</td>\n",
       "      <td>3412.690668</td>\n",
       "      <td>15.238072</td>\n",
       "      <td>2021-11-14</td>\n",
       "      <td>11</td>\n",
       "      <td>6</td>\n",
       "      <td>0</td>\n",
       "      <td>199</td>\n",
       "    </tr>\n",
       "    <tr>\n",
       "      <th>9</th>\n",
       "      <td>1</td>\n",
       "      <td>Кира</td>\n",
       "      <td>22</td>\n",
       "      <td>Тюмень</td>\n",
       "      <td>ultra</td>\n",
       "      <td>748.690645</td>\n",
       "      <td>15.041884</td>\n",
       "      <td>2021-11-22</td>\n",
       "      <td>11</td>\n",
       "      <td>6</td>\n",
       "      <td>0</td>\n",
       "      <td>199</td>\n",
       "    </tr>\n",
       "  </tbody>\n",
       "</table>\n",
       "</div>"
      ],
      "text/plain": [
       "   user_id  name  age    city subscription_type     distance   duration  \\\n",
       "0        1  Кира   22  Тюмень             ultra  4409.919140  25.599769   \n",
       "1        1  Кира   22  Тюмень             ultra  2617.592153  15.816871   \n",
       "2        1  Кира   22  Тюмень             ultra   754.159807   6.232113   \n",
       "3        1  Кира   22  Тюмень             ultra  2694.783254  18.511000   \n",
       "4        1  Кира   22  Тюмень             ultra  4028.687306  26.265803   \n",
       "5        1  Кира   22  Тюмень             ultra  2770.890808  16.650138   \n",
       "6        1  Кира   22  Тюмень             ultra  3039.020292  14.927879   \n",
       "7        1  Кира   22  Тюмень             ultra  2842.118050  23.117468   \n",
       "8        1  Кира   22  Тюмень             ultra  3412.690668  15.238072   \n",
       "9        1  Кира   22  Тюмень             ultra   748.690645  15.041884   \n",
       "\n",
       "        date  month  minute_price  start_ride_price  subscription_fee  \n",
       "0 2021-01-01      1             6                 0               199  \n",
       "1 2021-01-18      1             6                 0               199  \n",
       "2 2021-04-20      4             6                 0               199  \n",
       "3 2021-08-11      8             6                 0               199  \n",
       "4 2021-08-28      8             6                 0               199  \n",
       "5 2021-10-09     10             6                 0               199  \n",
       "6 2021-10-19     10             6                 0               199  \n",
       "7 2021-11-06     11             6                 0               199  \n",
       "8 2021-11-14     11             6                 0               199  \n",
       "9 2021-11-22     11             6                 0               199  "
      ]
     },
     "metadata": {},
     "output_type": "display_data"
    },
    {
     "data": {
      "text/plain": [
       "18068"
      ]
     },
     "metadata": {},
     "output_type": "display_data"
    }
   ],
   "source": [
    "full_data = full_data.merge(subscriptions, on = 'subscription_type')\n",
    "display(full_data.head(10))\n",
    "display(full_data.shape[0])"
   ]
  },
  {
   "cell_type": "markdown",
   "id": "eb428288",
   "metadata": {},
   "source": [
    "Получился один датафрейм с данными обо всех поездках пользователей. Далее произведем разделение по двум категориям: пользователи с подпиской и без."
   ]
  },
  {
   "cell_type": "code",
   "execution_count": 27,
   "id": "577a0739",
   "metadata": {},
   "outputs": [
    {
     "data": {
      "text/html": [
       "<div>\n",
       "<style scoped>\n",
       "    .dataframe tbody tr th:only-of-type {\n",
       "        vertical-align: middle;\n",
       "    }\n",
       "\n",
       "    .dataframe tbody tr th {\n",
       "        vertical-align: top;\n",
       "    }\n",
       "\n",
       "    .dataframe thead th {\n",
       "        text-align: right;\n",
       "    }\n",
       "</style>\n",
       "<table border=\"1\" class=\"dataframe\">\n",
       "  <thead>\n",
       "    <tr style=\"text-align: right;\">\n",
       "      <th></th>\n",
       "      <th>user_id</th>\n",
       "      <th>name</th>\n",
       "      <th>age</th>\n",
       "      <th>city</th>\n",
       "      <th>subscription_type</th>\n",
       "      <th>distance</th>\n",
       "      <th>duration</th>\n",
       "      <th>date</th>\n",
       "      <th>month</th>\n",
       "      <th>minute_price</th>\n",
       "      <th>start_ride_price</th>\n",
       "      <th>subscription_fee</th>\n",
       "    </tr>\n",
       "  </thead>\n",
       "  <tbody>\n",
       "    <tr>\n",
       "      <th>6500</th>\n",
       "      <td>700</td>\n",
       "      <td>Айдар</td>\n",
       "      <td>22</td>\n",
       "      <td>Омск</td>\n",
       "      <td>free</td>\n",
       "      <td>2515.690719</td>\n",
       "      <td>14.944286</td>\n",
       "      <td>2021-01-02</td>\n",
       "      <td>1</td>\n",
       "      <td>8</td>\n",
       "      <td>50</td>\n",
       "      <td>0</td>\n",
       "    </tr>\n",
       "    <tr>\n",
       "      <th>6501</th>\n",
       "      <td>700</td>\n",
       "      <td>Айдар</td>\n",
       "      <td>22</td>\n",
       "      <td>Омск</td>\n",
       "      <td>free</td>\n",
       "      <td>846.932642</td>\n",
       "      <td>16.234663</td>\n",
       "      <td>2021-02-01</td>\n",
       "      <td>2</td>\n",
       "      <td>8</td>\n",
       "      <td>50</td>\n",
       "      <td>0</td>\n",
       "    </tr>\n",
       "    <tr>\n",
       "      <th>6502</th>\n",
       "      <td>700</td>\n",
       "      <td>Айдар</td>\n",
       "      <td>22</td>\n",
       "      <td>Омск</td>\n",
       "      <td>free</td>\n",
       "      <td>4004.434142</td>\n",
       "      <td>20.016628</td>\n",
       "      <td>2021-02-04</td>\n",
       "      <td>2</td>\n",
       "      <td>8</td>\n",
       "      <td>50</td>\n",
       "      <td>0</td>\n",
       "    </tr>\n",
       "    <tr>\n",
       "      <th>6503</th>\n",
       "      <td>700</td>\n",
       "      <td>Айдар</td>\n",
       "      <td>22</td>\n",
       "      <td>Омск</td>\n",
       "      <td>free</td>\n",
       "      <td>1205.911290</td>\n",
       "      <td>9.782872</td>\n",
       "      <td>2021-02-10</td>\n",
       "      <td>2</td>\n",
       "      <td>8</td>\n",
       "      <td>50</td>\n",
       "      <td>0</td>\n",
       "    </tr>\n",
       "    <tr>\n",
       "      <th>6504</th>\n",
       "      <td>700</td>\n",
       "      <td>Айдар</td>\n",
       "      <td>22</td>\n",
       "      <td>Омск</td>\n",
       "      <td>free</td>\n",
       "      <td>3047.379435</td>\n",
       "      <td>17.427673</td>\n",
       "      <td>2021-02-14</td>\n",
       "      <td>2</td>\n",
       "      <td>8</td>\n",
       "      <td>50</td>\n",
       "      <td>0</td>\n",
       "    </tr>\n",
       "    <tr>\n",
       "      <th>6505</th>\n",
       "      <td>700</td>\n",
       "      <td>Айдар</td>\n",
       "      <td>22</td>\n",
       "      <td>Омск</td>\n",
       "      <td>free</td>\n",
       "      <td>4342.002254</td>\n",
       "      <td>22.368009</td>\n",
       "      <td>2021-02-23</td>\n",
       "      <td>2</td>\n",
       "      <td>8</td>\n",
       "      <td>50</td>\n",
       "      <td>0</td>\n",
       "    </tr>\n",
       "    <tr>\n",
       "      <th>6506</th>\n",
       "      <td>700</td>\n",
       "      <td>Айдар</td>\n",
       "      <td>22</td>\n",
       "      <td>Омск</td>\n",
       "      <td>free</td>\n",
       "      <td>3798.334905</td>\n",
       "      <td>18.243756</td>\n",
       "      <td>2021-03-03</td>\n",
       "      <td>3</td>\n",
       "      <td>8</td>\n",
       "      <td>50</td>\n",
       "      <td>0</td>\n",
       "    </tr>\n",
       "    <tr>\n",
       "      <th>6507</th>\n",
       "      <td>700</td>\n",
       "      <td>Айдар</td>\n",
       "      <td>22</td>\n",
       "      <td>Омск</td>\n",
       "      <td>free</td>\n",
       "      <td>2984.551206</td>\n",
       "      <td>15.424899</td>\n",
       "      <td>2021-04-09</td>\n",
       "      <td>4</td>\n",
       "      <td>8</td>\n",
       "      <td>50</td>\n",
       "      <td>0</td>\n",
       "    </tr>\n",
       "    <tr>\n",
       "      <th>6508</th>\n",
       "      <td>700</td>\n",
       "      <td>Айдар</td>\n",
       "      <td>22</td>\n",
       "      <td>Омск</td>\n",
       "      <td>free</td>\n",
       "      <td>3360.107141</td>\n",
       "      <td>16.765497</td>\n",
       "      <td>2021-06-12</td>\n",
       "      <td>6</td>\n",
       "      <td>8</td>\n",
       "      <td>50</td>\n",
       "      <td>0</td>\n",
       "    </tr>\n",
       "    <tr>\n",
       "      <th>6509</th>\n",
       "      <td>700</td>\n",
       "      <td>Айдар</td>\n",
       "      <td>22</td>\n",
       "      <td>Омск</td>\n",
       "      <td>free</td>\n",
       "      <td>2567.543847</td>\n",
       "      <td>11.312160</td>\n",
       "      <td>2021-06-23</td>\n",
       "      <td>6</td>\n",
       "      <td>8</td>\n",
       "      <td>50</td>\n",
       "      <td>0</td>\n",
       "    </tr>\n",
       "  </tbody>\n",
       "</table>\n",
       "</div>"
      ],
      "text/plain": [
       "      user_id   name  age  city subscription_type     distance   duration  \\\n",
       "6500      700  Айдар   22  Омск              free  2515.690719  14.944286   \n",
       "6501      700  Айдар   22  Омск              free   846.932642  16.234663   \n",
       "6502      700  Айдар   22  Омск              free  4004.434142  20.016628   \n",
       "6503      700  Айдар   22  Омск              free  1205.911290   9.782872   \n",
       "6504      700  Айдар   22  Омск              free  3047.379435  17.427673   \n",
       "6505      700  Айдар   22  Омск              free  4342.002254  22.368009   \n",
       "6506      700  Айдар   22  Омск              free  3798.334905  18.243756   \n",
       "6507      700  Айдар   22  Омск              free  2984.551206  15.424899   \n",
       "6508      700  Айдар   22  Омск              free  3360.107141  16.765497   \n",
       "6509      700  Айдар   22  Омск              free  2567.543847  11.312160   \n",
       "\n",
       "           date  month  minute_price  start_ride_price  subscription_fee  \n",
       "6500 2021-01-02      1             8                50                 0  \n",
       "6501 2021-02-01      2             8                50                 0  \n",
       "6502 2021-02-04      2             8                50                 0  \n",
       "6503 2021-02-10      2             8                50                 0  \n",
       "6504 2021-02-14      2             8                50                 0  \n",
       "6505 2021-02-23      2             8                50                 0  \n",
       "6506 2021-03-03      3             8                50                 0  \n",
       "6507 2021-04-09      4             8                50                 0  \n",
       "6508 2021-06-12      6             8                50                 0  \n",
       "6509 2021-06-23      6             8                50                 0  "
      ]
     },
     "metadata": {},
     "output_type": "display_data"
    },
    {
     "data": {
      "text/plain": [
       "11568"
      ]
     },
     "metadata": {},
     "output_type": "display_data"
    }
   ],
   "source": [
    "#Пользователи без подписки\n",
    "full_data_free = full_data.query('subscription_type == \"free\"')\n",
    "display(full_data_free.head(10))\n",
    "display(full_data_free.shape[0])"
   ]
  },
  {
   "cell_type": "code",
   "execution_count": 28,
   "id": "d055929d",
   "metadata": {},
   "outputs": [
    {
     "data": {
      "text/html": [
       "<div>\n",
       "<style scoped>\n",
       "    .dataframe tbody tr th:only-of-type {\n",
       "        vertical-align: middle;\n",
       "    }\n",
       "\n",
       "    .dataframe tbody tr th {\n",
       "        vertical-align: top;\n",
       "    }\n",
       "\n",
       "    .dataframe thead th {\n",
       "        text-align: right;\n",
       "    }\n",
       "</style>\n",
       "<table border=\"1\" class=\"dataframe\">\n",
       "  <thead>\n",
       "    <tr style=\"text-align: right;\">\n",
       "      <th></th>\n",
       "      <th>user_id</th>\n",
       "      <th>name</th>\n",
       "      <th>age</th>\n",
       "      <th>city</th>\n",
       "      <th>subscription_type</th>\n",
       "      <th>distance</th>\n",
       "      <th>duration</th>\n",
       "      <th>date</th>\n",
       "      <th>month</th>\n",
       "      <th>minute_price</th>\n",
       "      <th>start_ride_price</th>\n",
       "      <th>subscription_fee</th>\n",
       "    </tr>\n",
       "  </thead>\n",
       "  <tbody>\n",
       "    <tr>\n",
       "      <th>0</th>\n",
       "      <td>1</td>\n",
       "      <td>Кира</td>\n",
       "      <td>22</td>\n",
       "      <td>Тюмень</td>\n",
       "      <td>ultra</td>\n",
       "      <td>4409.919140</td>\n",
       "      <td>25.599769</td>\n",
       "      <td>2021-01-01</td>\n",
       "      <td>1</td>\n",
       "      <td>6</td>\n",
       "      <td>0</td>\n",
       "      <td>199</td>\n",
       "    </tr>\n",
       "    <tr>\n",
       "      <th>1</th>\n",
       "      <td>1</td>\n",
       "      <td>Кира</td>\n",
       "      <td>22</td>\n",
       "      <td>Тюмень</td>\n",
       "      <td>ultra</td>\n",
       "      <td>2617.592153</td>\n",
       "      <td>15.816871</td>\n",
       "      <td>2021-01-18</td>\n",
       "      <td>1</td>\n",
       "      <td>6</td>\n",
       "      <td>0</td>\n",
       "      <td>199</td>\n",
       "    </tr>\n",
       "    <tr>\n",
       "      <th>2</th>\n",
       "      <td>1</td>\n",
       "      <td>Кира</td>\n",
       "      <td>22</td>\n",
       "      <td>Тюмень</td>\n",
       "      <td>ultra</td>\n",
       "      <td>754.159807</td>\n",
       "      <td>6.232113</td>\n",
       "      <td>2021-04-20</td>\n",
       "      <td>4</td>\n",
       "      <td>6</td>\n",
       "      <td>0</td>\n",
       "      <td>199</td>\n",
       "    </tr>\n",
       "    <tr>\n",
       "      <th>3</th>\n",
       "      <td>1</td>\n",
       "      <td>Кира</td>\n",
       "      <td>22</td>\n",
       "      <td>Тюмень</td>\n",
       "      <td>ultra</td>\n",
       "      <td>2694.783254</td>\n",
       "      <td>18.511000</td>\n",
       "      <td>2021-08-11</td>\n",
       "      <td>8</td>\n",
       "      <td>6</td>\n",
       "      <td>0</td>\n",
       "      <td>199</td>\n",
       "    </tr>\n",
       "    <tr>\n",
       "      <th>4</th>\n",
       "      <td>1</td>\n",
       "      <td>Кира</td>\n",
       "      <td>22</td>\n",
       "      <td>Тюмень</td>\n",
       "      <td>ultra</td>\n",
       "      <td>4028.687306</td>\n",
       "      <td>26.265803</td>\n",
       "      <td>2021-08-28</td>\n",
       "      <td>8</td>\n",
       "      <td>6</td>\n",
       "      <td>0</td>\n",
       "      <td>199</td>\n",
       "    </tr>\n",
       "    <tr>\n",
       "      <th>5</th>\n",
       "      <td>1</td>\n",
       "      <td>Кира</td>\n",
       "      <td>22</td>\n",
       "      <td>Тюмень</td>\n",
       "      <td>ultra</td>\n",
       "      <td>2770.890808</td>\n",
       "      <td>16.650138</td>\n",
       "      <td>2021-10-09</td>\n",
       "      <td>10</td>\n",
       "      <td>6</td>\n",
       "      <td>0</td>\n",
       "      <td>199</td>\n",
       "    </tr>\n",
       "    <tr>\n",
       "      <th>6</th>\n",
       "      <td>1</td>\n",
       "      <td>Кира</td>\n",
       "      <td>22</td>\n",
       "      <td>Тюмень</td>\n",
       "      <td>ultra</td>\n",
       "      <td>3039.020292</td>\n",
       "      <td>14.927879</td>\n",
       "      <td>2021-10-19</td>\n",
       "      <td>10</td>\n",
       "      <td>6</td>\n",
       "      <td>0</td>\n",
       "      <td>199</td>\n",
       "    </tr>\n",
       "    <tr>\n",
       "      <th>7</th>\n",
       "      <td>1</td>\n",
       "      <td>Кира</td>\n",
       "      <td>22</td>\n",
       "      <td>Тюмень</td>\n",
       "      <td>ultra</td>\n",
       "      <td>2842.118050</td>\n",
       "      <td>23.117468</td>\n",
       "      <td>2021-11-06</td>\n",
       "      <td>11</td>\n",
       "      <td>6</td>\n",
       "      <td>0</td>\n",
       "      <td>199</td>\n",
       "    </tr>\n",
       "    <tr>\n",
       "      <th>8</th>\n",
       "      <td>1</td>\n",
       "      <td>Кира</td>\n",
       "      <td>22</td>\n",
       "      <td>Тюмень</td>\n",
       "      <td>ultra</td>\n",
       "      <td>3412.690668</td>\n",
       "      <td>15.238072</td>\n",
       "      <td>2021-11-14</td>\n",
       "      <td>11</td>\n",
       "      <td>6</td>\n",
       "      <td>0</td>\n",
       "      <td>199</td>\n",
       "    </tr>\n",
       "    <tr>\n",
       "      <th>9</th>\n",
       "      <td>1</td>\n",
       "      <td>Кира</td>\n",
       "      <td>22</td>\n",
       "      <td>Тюмень</td>\n",
       "      <td>ultra</td>\n",
       "      <td>748.690645</td>\n",
       "      <td>15.041884</td>\n",
       "      <td>2021-11-22</td>\n",
       "      <td>11</td>\n",
       "      <td>6</td>\n",
       "      <td>0</td>\n",
       "      <td>199</td>\n",
       "    </tr>\n",
       "  </tbody>\n",
       "</table>\n",
       "</div>"
      ],
      "text/plain": [
       "   user_id  name  age    city subscription_type     distance   duration  \\\n",
       "0        1  Кира   22  Тюмень             ultra  4409.919140  25.599769   \n",
       "1        1  Кира   22  Тюмень             ultra  2617.592153  15.816871   \n",
       "2        1  Кира   22  Тюмень             ultra   754.159807   6.232113   \n",
       "3        1  Кира   22  Тюмень             ultra  2694.783254  18.511000   \n",
       "4        1  Кира   22  Тюмень             ultra  4028.687306  26.265803   \n",
       "5        1  Кира   22  Тюмень             ultra  2770.890808  16.650138   \n",
       "6        1  Кира   22  Тюмень             ultra  3039.020292  14.927879   \n",
       "7        1  Кира   22  Тюмень             ultra  2842.118050  23.117468   \n",
       "8        1  Кира   22  Тюмень             ultra  3412.690668  15.238072   \n",
       "9        1  Кира   22  Тюмень             ultra   748.690645  15.041884   \n",
       "\n",
       "        date  month  minute_price  start_ride_price  subscription_fee  \n",
       "0 2021-01-01      1             6                 0               199  \n",
       "1 2021-01-18      1             6                 0               199  \n",
       "2 2021-04-20      4             6                 0               199  \n",
       "3 2021-08-11      8             6                 0               199  \n",
       "4 2021-08-28      8             6                 0               199  \n",
       "5 2021-10-09     10             6                 0               199  \n",
       "6 2021-10-19     10             6                 0               199  \n",
       "7 2021-11-06     11             6                 0               199  \n",
       "8 2021-11-14     11             6                 0               199  \n",
       "9 2021-11-22     11             6                 0               199  "
      ]
     },
     "metadata": {},
     "output_type": "display_data"
    },
    {
     "data": {
      "text/plain": [
       "6500"
      ]
     },
     "metadata": {},
     "output_type": "display_data"
    }
   ],
   "source": [
    "#Пользователи с подпиской\n",
    "full_data_ultra = full_data.query('subscription_type == \"ultra\"')\n",
    "display(full_data_ultra.head(10))\n",
    "display(full_data_ultra.shape[0])"
   ]
  },
  {
   "cell_type": "markdown",
   "id": "634a4b61",
   "metadata": {},
   "source": [
    "На этом шаге данные были объединены в один датафрейм, а потом разделены на две группы в соответствии с наличием или отсутствием у пользователей подписки. В общей итоговой таблице количество строк сопадает с изначальным - 18068."
   ]
  },
  {
   "cell_type": "code",
   "execution_count": 29,
   "id": "f538c9ae",
   "metadata": {},
   "outputs": [
    {
     "data": {
      "image/png": "[encoded data removed]",
      "text/plain": [
       "<Figure size 432x288 with 1 Axes>"
      ]
     },
     "metadata": {
      "needs_background": "light"
     },
     "output_type": "display_data"
    }
   ],
   "source": [
    "#Дистанция\n",
    "ax2 = full_data_free['distance'].plot(kind='hist')\n",
    "ax2 = full_data_ultra['distance'].plot(kind='hist')\n",
    "ax2.set_xlabel('Расстояние в метрах')\n",
    "ax2.set_ylabel('Частота встречаемости')\n",
    "plt.title('Расстояние поездок пользователей двух групп')\n",
    "labels1 = [r'Пользователи без подписки', r'Пользователи с подпиской']\n",
    "plt.legend(labels1, loc='upper right')\n",
    "plt.show()\n"
   ]
  },
  {
   "cell_type": "code",
   "execution_count": 30,
   "id": "6193cffa",
   "metadata": {},
   "outputs": [
    {
     "data": {
      "image/png": "[encoded data removed]",
      "text/plain": [
       "<Figure size 432x288 with 1 Axes>"
      ]
     },
     "metadata": {
      "needs_background": "light"
     },
     "output_type": "display_data"
    }
   ],
   "source": [
    "#Визуализация продолжительности\n",
    "ax3 = full_data_free['duration'].plot(kind='hist')\n",
    "ax3 = full_data_ultra['duration'].plot(kind='hist')\n",
    "ax3.set_xlabel('Продолжительность в минутах')\n",
    "ax3.set_ylabel('Частота встречаемости')\n",
    "plt.title('Продолжительность поездок пользователей двух групп')\n",
    "labels1 = [r'Пользователи без подписки', r'Пользователи с подпиской']\n",
    "plt.legend(labels1, loc='upper right')\n",
    "plt.show()"
   ]
  },
  {
   "cell_type": "markdown",
   "id": "34d58073",
   "metadata": {},
   "source": [
    "На этапе объединения данных была произведена агрегация всех датафреймов с информацией о пользователях сервиса и их поездках, а также созданы две новых таблицы для разных групп пользователей. В дальнейшем на основе созданных таблиц будут произведены необходимые расчеты для проверки гипотез.\n",
    "Также были визуализированы сравнительные данные двух групп пользователей о продолжительности и дистанции их поездок. Можно отметить тот факт, что наиболее частое расстояние поездок у пользователей с подпиской выше этого же показателя у пользователей из другой группы. По продолжительности поездки обеих групп пользователей похожи, но диапазон значений у пользователей без подписки больше."
   ]
  },
  {
   "cell_type": "markdown",
   "id": "402d620f",
   "metadata": {},
   "source": [
    "#### Шаг 5. Подсчёт выручки"
   ]
  },
  {
   "cell_type": "markdown",
   "id": "ddf01105",
   "metadata": {},
   "source": [
    "Целью этого шага является подсчет помесячной выручки, которую принес каждый пользователь сервиса."
   ]
  },
  {
   "cell_type": "code",
   "execution_count": 31,
   "id": "6b4fdacc",
   "metadata": {},
   "outputs": [
    {
     "data": {
      "text/html": [
       "<div>\n",
       "<style scoped>\n",
       "    .dataframe tbody tr th:only-of-type {\n",
       "        vertical-align: middle;\n",
       "    }\n",
       "\n",
       "    .dataframe tbody tr th {\n",
       "        vertical-align: top;\n",
       "    }\n",
       "\n",
       "    .dataframe thead th {\n",
       "        text-align: right;\n",
       "    }\n",
       "</style>\n",
       "<table border=\"1\" class=\"dataframe\">\n",
       "  <thead>\n",
       "    <tr style=\"text-align: right;\">\n",
       "      <th></th>\n",
       "      <th>user_id</th>\n",
       "      <th>distance</th>\n",
       "      <th>duration</th>\n",
       "      <th>date</th>\n",
       "      <th>month</th>\n",
       "    </tr>\n",
       "  </thead>\n",
       "  <tbody>\n",
       "    <tr>\n",
       "      <th>0</th>\n",
       "      <td>1</td>\n",
       "      <td>4409.919140</td>\n",
       "      <td>26.0</td>\n",
       "      <td>2021-01-01</td>\n",
       "      <td>1</td>\n",
       "    </tr>\n",
       "    <tr>\n",
       "      <th>1</th>\n",
       "      <td>1</td>\n",
       "      <td>2617.592153</td>\n",
       "      <td>16.0</td>\n",
       "      <td>2021-01-18</td>\n",
       "      <td>1</td>\n",
       "    </tr>\n",
       "    <tr>\n",
       "      <th>2</th>\n",
       "      <td>1</td>\n",
       "      <td>754.159807</td>\n",
       "      <td>7.0</td>\n",
       "      <td>2021-04-20</td>\n",
       "      <td>4</td>\n",
       "    </tr>\n",
       "    <tr>\n",
       "      <th>3</th>\n",
       "      <td>1</td>\n",
       "      <td>2694.783254</td>\n",
       "      <td>19.0</td>\n",
       "      <td>2021-08-11</td>\n",
       "      <td>8</td>\n",
       "    </tr>\n",
       "    <tr>\n",
       "      <th>4</th>\n",
       "      <td>1</td>\n",
       "      <td>4028.687306</td>\n",
       "      <td>27.0</td>\n",
       "      <td>2021-08-28</td>\n",
       "      <td>8</td>\n",
       "    </tr>\n",
       "    <tr>\n",
       "      <th>5</th>\n",
       "      <td>1</td>\n",
       "      <td>2770.890808</td>\n",
       "      <td>17.0</td>\n",
       "      <td>2021-10-09</td>\n",
       "      <td>10</td>\n",
       "    </tr>\n",
       "    <tr>\n",
       "      <th>6</th>\n",
       "      <td>1</td>\n",
       "      <td>3039.020292</td>\n",
       "      <td>15.0</td>\n",
       "      <td>2021-10-19</td>\n",
       "      <td>10</td>\n",
       "    </tr>\n",
       "    <tr>\n",
       "      <th>7</th>\n",
       "      <td>1</td>\n",
       "      <td>2842.118050</td>\n",
       "      <td>24.0</td>\n",
       "      <td>2021-11-06</td>\n",
       "      <td>11</td>\n",
       "    </tr>\n",
       "    <tr>\n",
       "      <th>8</th>\n",
       "      <td>1</td>\n",
       "      <td>3412.690668</td>\n",
       "      <td>16.0</td>\n",
       "      <td>2021-11-14</td>\n",
       "      <td>11</td>\n",
       "    </tr>\n",
       "    <tr>\n",
       "      <th>9</th>\n",
       "      <td>1</td>\n",
       "      <td>748.690645</td>\n",
       "      <td>16.0</td>\n",
       "      <td>2021-11-22</td>\n",
       "      <td>11</td>\n",
       "    </tr>\n",
       "  </tbody>\n",
       "</table>\n",
       "</div>"
      ],
      "text/plain": [
       "   user_id     distance  duration       date  month\n",
       "0        1  4409.919140      26.0 2021-01-01      1\n",
       "1        1  2617.592153      16.0 2021-01-18      1\n",
       "2        1   754.159807       7.0 2021-04-20      4\n",
       "3        1  2694.783254      19.0 2021-08-11      8\n",
       "4        1  4028.687306      27.0 2021-08-28      8\n",
       "5        1  2770.890808      17.0 2021-10-09     10\n",
       "6        1  3039.020292      15.0 2021-10-19     10\n",
       "7        1  2842.118050      24.0 2021-11-06     11\n",
       "8        1  3412.690668      16.0 2021-11-14     11\n",
       "9        1   748.690645      16.0 2021-11-22     11"
      ]
     },
     "metadata": {},
     "output_type": "display_data"
    }
   ],
   "source": [
    "rides['duration'] = np.ceil(rides['duration'])\n",
    "display(rides.head(10))"
   ]
  },
  {
   "cell_type": "code",
   "execution_count": 33,
   "id": "53049e0a",
   "metadata": {},
   "outputs": [
    {
     "data": {
      "text/html": [
       "<div>\n",
       "<style scoped>\n",
       "    .dataframe tbody tr th:only-of-type {\n",
       "        vertical-align: middle;\n",
       "    }\n",
       "\n",
       "    .dataframe tbody tr th {\n",
       "        vertical-align: top;\n",
       "    }\n",
       "\n",
       "    .dataframe thead th {\n",
       "        text-align: right;\n",
       "    }\n",
       "</style>\n",
       "<table border=\"1\" class=\"dataframe\">\n",
       "  <thead>\n",
       "    <tr style=\"text-align: right;\">\n",
       "      <th></th>\n",
       "      <th>user_id</th>\n",
       "      <th>month</th>\n",
       "      <th>subscription_type</th>\n",
       "      <th>total_distance</th>\n",
       "      <th>total_duration</th>\n",
       "      <th>total_rides</th>\n",
       "    </tr>\n",
       "  </thead>\n",
       "  <tbody>\n",
       "    <tr>\n",
       "      <th>11321</th>\n",
       "      <td>1533</td>\n",
       "      <td>8</td>\n",
       "      <td>free</td>\n",
       "      <td>4581.943632</td>\n",
       "      <td>22.0</td>\n",
       "      <td>1</td>\n",
       "    </tr>\n",
       "    <tr>\n",
       "      <th>11322</th>\n",
       "      <td>1533</td>\n",
       "      <td>11</td>\n",
       "      <td>free</td>\n",
       "      <td>3414.448028</td>\n",
       "      <td>26.0</td>\n",
       "      <td>1</td>\n",
       "    </tr>\n",
       "    <tr>\n",
       "      <th>11323</th>\n",
       "      <td>1534</td>\n",
       "      <td>1</td>\n",
       "      <td>free</td>\n",
       "      <td>4678.415899</td>\n",
       "      <td>16.0</td>\n",
       "      <td>1</td>\n",
       "    </tr>\n",
       "    <tr>\n",
       "      <th>11324</th>\n",
       "      <td>1534</td>\n",
       "      <td>2</td>\n",
       "      <td>free</td>\n",
       "      <td>2103.914120</td>\n",
       "      <td>14.0</td>\n",
       "      <td>1</td>\n",
       "    </tr>\n",
       "    <tr>\n",
       "      <th>11325</th>\n",
       "      <td>1534</td>\n",
       "      <td>4</td>\n",
       "      <td>free</td>\n",
       "      <td>3434.290912</td>\n",
       "      <td>15.0</td>\n",
       "      <td>1</td>\n",
       "    </tr>\n",
       "    <tr>\n",
       "      <th>11326</th>\n",
       "      <td>1534</td>\n",
       "      <td>6</td>\n",
       "      <td>free</td>\n",
       "      <td>3409.468534</td>\n",
       "      <td>26.0</td>\n",
       "      <td>2</td>\n",
       "    </tr>\n",
       "    <tr>\n",
       "      <th>11327</th>\n",
       "      <td>1534</td>\n",
       "      <td>8</td>\n",
       "      <td>free</td>\n",
       "      <td>7622.453034</td>\n",
       "      <td>48.0</td>\n",
       "      <td>2</td>\n",
       "    </tr>\n",
       "    <tr>\n",
       "      <th>11328</th>\n",
       "      <td>1534</td>\n",
       "      <td>9</td>\n",
       "      <td>free</td>\n",
       "      <td>4928.173852</td>\n",
       "      <td>23.0</td>\n",
       "      <td>1</td>\n",
       "    </tr>\n",
       "    <tr>\n",
       "      <th>11329</th>\n",
       "      <td>1534</td>\n",
       "      <td>11</td>\n",
       "      <td>free</td>\n",
       "      <td>13350.015305</td>\n",
       "      <td>78.0</td>\n",
       "      <td>4</td>\n",
       "    </tr>\n",
       "    <tr>\n",
       "      <th>11330</th>\n",
       "      <td>1534</td>\n",
       "      <td>12</td>\n",
       "      <td>free</td>\n",
       "      <td>2371.711192</td>\n",
       "      <td>16.0</td>\n",
       "      <td>1</td>\n",
       "    </tr>\n",
       "  </tbody>\n",
       "</table>\n",
       "</div>"
      ],
      "text/plain": [
       "       user_id  month subscription_type  total_distance  total_duration  \\\n",
       "11321     1533      8              free     4581.943632            22.0   \n",
       "11322     1533     11              free     3414.448028            26.0   \n",
       "11323     1534      1              free     4678.415899            16.0   \n",
       "11324     1534      2              free     2103.914120            14.0   \n",
       "11325     1534      4              free     3434.290912            15.0   \n",
       "11326     1534      6              free     3409.468534            26.0   \n",
       "11327     1534      8              free     7622.453034            48.0   \n",
       "11328     1534      9              free     4928.173852            23.0   \n",
       "11329     1534     11              free    13350.015305            78.0   \n",
       "11330     1534     12              free     2371.711192            16.0   \n",
       "\n",
       "       total_rides  \n",
       "11321            1  \n",
       "11322            1  \n",
       "11323            1  \n",
       "11324            1  \n",
       "11325            1  \n",
       "11326            2  \n",
       "11327            2  \n",
       "11328            1  \n",
       "11329            4  \n",
       "11330            1  "
      ]
     },
     "metadata": {},
     "output_type": "display_data"
    }
   ],
   "source": [
    "#Создаем таблицу с агрегированными данными о поездках пользователей\n",
    "users_rides = full_data.pivot_table(index = ['user_id','month', 'subscription_type'], values = ['distance', 'duration'], aggfunc = ['sum', 'count']).reset_index()\n",
    "users_rides.columns = ['user_id', 'month', 'subscription_type', 'total_distance', 'total_duration', 'total_rides', 'total_rides2']\n",
    "users_rides = users_rides.drop('total_rides2', axis = 1)\n",
    "users_rides['total_duration'] = np.ceil(users_rides['total_duration'])\n",
    "display(users_rides.tail(10))"
   ]
  },
  {
   "cell_type": "code",
   "execution_count": 34,
   "id": "1fbf1552",
   "metadata": {},
   "outputs": [
    {
     "data": {
      "text/html": [
       "<div>\n",
       "<style scoped>\n",
       "    .dataframe tbody tr th:only-of-type {\n",
       "        vertical-align: middle;\n",
       "    }\n",
       "\n",
       "    .dataframe tbody tr th {\n",
       "        vertical-align: top;\n",
       "    }\n",
       "\n",
       "    .dataframe thead th {\n",
       "        text-align: right;\n",
       "    }\n",
       "</style>\n",
       "<table border=\"1\" class=\"dataframe\">\n",
       "  <thead>\n",
       "    <tr style=\"text-align: right;\">\n",
       "      <th></th>\n",
       "      <th>user_id</th>\n",
       "      <th>month</th>\n",
       "      <th>subscription_type</th>\n",
       "      <th>total_distance</th>\n",
       "      <th>total_duration</th>\n",
       "      <th>total_rides</th>\n",
       "      <th>minute_price</th>\n",
       "      <th>start_ride_price</th>\n",
       "      <th>subscription_fee</th>\n",
       "      <th>revenue</th>\n",
       "    </tr>\n",
       "  </thead>\n",
       "  <tbody>\n",
       "    <tr>\n",
       "      <th>11321</th>\n",
       "      <td>1533</td>\n",
       "      <td>8</td>\n",
       "      <td>free</td>\n",
       "      <td>4581.943632</td>\n",
       "      <td>22.0</td>\n",
       "      <td>1</td>\n",
       "      <td>8</td>\n",
       "      <td>50</td>\n",
       "      <td>0</td>\n",
       "      <td>226.0</td>\n",
       "    </tr>\n",
       "    <tr>\n",
       "      <th>11322</th>\n",
       "      <td>1533</td>\n",
       "      <td>11</td>\n",
       "      <td>free</td>\n",
       "      <td>3414.448028</td>\n",
       "      <td>26.0</td>\n",
       "      <td>1</td>\n",
       "      <td>8</td>\n",
       "      <td>50</td>\n",
       "      <td>0</td>\n",
       "      <td>258.0</td>\n",
       "    </tr>\n",
       "    <tr>\n",
       "      <th>11323</th>\n",
       "      <td>1534</td>\n",
       "      <td>1</td>\n",
       "      <td>free</td>\n",
       "      <td>4678.415899</td>\n",
       "      <td>16.0</td>\n",
       "      <td>1</td>\n",
       "      <td>8</td>\n",
       "      <td>50</td>\n",
       "      <td>0</td>\n",
       "      <td>178.0</td>\n",
       "    </tr>\n",
       "    <tr>\n",
       "      <th>11324</th>\n",
       "      <td>1534</td>\n",
       "      <td>2</td>\n",
       "      <td>free</td>\n",
       "      <td>2103.914120</td>\n",
       "      <td>14.0</td>\n",
       "      <td>1</td>\n",
       "      <td>8</td>\n",
       "      <td>50</td>\n",
       "      <td>0</td>\n",
       "      <td>162.0</td>\n",
       "    </tr>\n",
       "    <tr>\n",
       "      <th>11325</th>\n",
       "      <td>1534</td>\n",
       "      <td>4</td>\n",
       "      <td>free</td>\n",
       "      <td>3434.290912</td>\n",
       "      <td>15.0</td>\n",
       "      <td>1</td>\n",
       "      <td>8</td>\n",
       "      <td>50</td>\n",
       "      <td>0</td>\n",
       "      <td>170.0</td>\n",
       "    </tr>\n",
       "    <tr>\n",
       "      <th>11326</th>\n",
       "      <td>1534</td>\n",
       "      <td>6</td>\n",
       "      <td>free</td>\n",
       "      <td>3409.468534</td>\n",
       "      <td>26.0</td>\n",
       "      <td>2</td>\n",
       "      <td>8</td>\n",
       "      <td>50</td>\n",
       "      <td>0</td>\n",
       "      <td>308.0</td>\n",
       "    </tr>\n",
       "    <tr>\n",
       "      <th>11327</th>\n",
       "      <td>1534</td>\n",
       "      <td>8</td>\n",
       "      <td>free</td>\n",
       "      <td>7622.453034</td>\n",
       "      <td>48.0</td>\n",
       "      <td>2</td>\n",
       "      <td>8</td>\n",
       "      <td>50</td>\n",
       "      <td>0</td>\n",
       "      <td>484.0</td>\n",
       "    </tr>\n",
       "    <tr>\n",
       "      <th>11328</th>\n",
       "      <td>1534</td>\n",
       "      <td>9</td>\n",
       "      <td>free</td>\n",
       "      <td>4928.173852</td>\n",
       "      <td>23.0</td>\n",
       "      <td>1</td>\n",
       "      <td>8</td>\n",
       "      <td>50</td>\n",
       "      <td>0</td>\n",
       "      <td>234.0</td>\n",
       "    </tr>\n",
       "    <tr>\n",
       "      <th>11329</th>\n",
       "      <td>1534</td>\n",
       "      <td>11</td>\n",
       "      <td>free</td>\n",
       "      <td>13350.015305</td>\n",
       "      <td>78.0</td>\n",
       "      <td>4</td>\n",
       "      <td>8</td>\n",
       "      <td>50</td>\n",
       "      <td>0</td>\n",
       "      <td>824.0</td>\n",
       "    </tr>\n",
       "    <tr>\n",
       "      <th>11330</th>\n",
       "      <td>1534</td>\n",
       "      <td>12</td>\n",
       "      <td>free</td>\n",
       "      <td>2371.711192</td>\n",
       "      <td>16.0</td>\n",
       "      <td>1</td>\n",
       "      <td>8</td>\n",
       "      <td>50</td>\n",
       "      <td>0</td>\n",
       "      <td>178.0</td>\n",
       "    </tr>\n",
       "  </tbody>\n",
       "</table>\n",
       "</div>"
      ],
      "text/plain": [
       "       user_id  month subscription_type  total_distance  total_duration  \\\n",
       "11321     1533      8              free     4581.943632            22.0   \n",
       "11322     1533     11              free     3414.448028            26.0   \n",
       "11323     1534      1              free     4678.415899            16.0   \n",
       "11324     1534      2              free     2103.914120            14.0   \n",
       "11325     1534      4              free     3434.290912            15.0   \n",
       "11326     1534      6              free     3409.468534            26.0   \n",
       "11327     1534      8              free     7622.453034            48.0   \n",
       "11328     1534      9              free     4928.173852            23.0   \n",
       "11329     1534     11              free    13350.015305            78.0   \n",
       "11330     1534     12              free     2371.711192            16.0   \n",
       "\n",
       "       total_rides  minute_price  start_ride_price  subscription_fee  revenue  \n",
       "11321            1             8                50                 0    226.0  \n",
       "11322            1             8                50                 0    258.0  \n",
       "11323            1             8                50                 0    178.0  \n",
       "11324            1             8                50                 0    162.0  \n",
       "11325            1             8                50                 0    170.0  \n",
       "11326            2             8                50                 0    308.0  \n",
       "11327            2             8                50                 0    484.0  \n",
       "11328            1             8                50                 0    234.0  \n",
       "11329            4             8                50                 0    824.0  \n",
       "11330            1             8                50                 0    178.0  "
      ]
     },
     "metadata": {},
     "output_type": "display_data"
    }
   ],
   "source": [
    "#подсчет выручки\n",
    "users_rides['minute_price'] = np.where(users_rides.subscription_type == 'ultra', 6, 8)\n",
    "users_rides['start_ride_price'] = np.where(users_rides.subscription_type == 'ultra', 0, 50)\n",
    "users_rides['subscription_fee'] = np.where(users_rides.subscription_type == 'ultra', 199, 0)\n",
    "users_rides['revenue'] = users_rides['start_ride_price'] * users_rides['total_rides'] + users_rides['minute_price'] * users_rides['total_duration'] + users_rides['subscription_fee']\n",
    "display(users_rides.tail(10))"
   ]
  },
  {
   "cell_type": "markdown",
   "id": "41545ac0",
   "metadata": {},
   "source": [
    "#### Шаг 6. Проверка гипотез"
   ]
  },
  {
   "cell_type": "markdown",
   "id": "f274f6ee",
   "metadata": {},
   "source": [
    "Нулевая гипотеза: Средняя продолжительность поездок пользователей с подпиской равна тому же показателю у пользователей из другой группы.\n",
    "Альтернативная гипотеза: Средняя продолжительность поездок пользователей с подпиской выше.\n",
    "\n",
    "H0: µ1 = µ2\n",
    "H1: µ1 > µ2"
   ]
  },
  {
   "cell_type": "code",
   "execution_count": 35,
   "id": "23ea867b",
   "metadata": {},
   "outputs": [
    {
     "name": "stdout",
     "output_type": "stream",
     "text": [
      "18.54198516280583\n",
      "17.39090929866399\n",
      "p-value: 1.2804098316645618e-34\n",
      "Отвергаем нулевую гипотезу\n"
     ]
    }
   ],
   "source": [
    "#тратят ли пользователи с подпиской больше времени на поездки\n",
    "print(np.mean(full_data_ultra['duration']))\n",
    "print(np.mean(full_data_free['duration']))\n",
    "alpha = 0.05\n",
    "results = st.ttest_ind(full_data_ultra['duration'], full_data_free['duration'], alternative = 'greater')\n",
    "print('p-value:', results.pvalue)\n",
    "if results.pvalue < alpha:\n",
    "    print('Отвергаем нулевую гипотезу')\n",
    "else:\n",
    "    print('Не получилось отвергнуть нулевую гипотезу')\n"
   ]
  },
  {
   "cell_type": "markdown",
   "id": "7a0352d7",
   "metadata": {},
   "source": [
    "Благодаря произведенному анализу, мы можем отвергнуть гипотезу о том, что средняя продолжительность поездки пользователей с подпиской такая же, как у другой группы без подписки, в пользу альтернативной гипотезы о том, что этот показатель выше для тех, у кого есть подписка."
   ]
  },
  {
   "cell_type": "markdown",
   "id": "f24c09f5",
   "metadata": {},
   "source": [
    "Нулевая гипотеза: Среднее расстояние поездок пользователей с подпиской равно 3130 метрам.\n",
    "Альтернативная гипотеза: Пользователи с подпиской в среднем проезжают больше 3130 метров.\n",
    "\n",
    "H0: µ1 = 3130\n",
    "H1: µ1 > 3130"
   ]
  },
  {
   "cell_type": "code",
   "execution_count": 36,
   "id": "a9a511d6",
   "metadata": {},
   "outputs": [
    {
     "name": "stdout",
     "output_type": "stream",
     "text": [
      "0.9195368847849785\n",
      "Не получилось отвергнуть нулевую гипотезу\n"
     ]
    }
   ],
   "source": [
    "#среднее расстояние, которое проезжают пользователи с подпиской за одну поездку, не превышает 3130 метров\n",
    "alpha = 0.05\n",
    "value = 3130\n",
    "results = st.ttest_1samp(full_data_ultra['distance'], value, alternative='greater')\n",
    "print(results.pvalue)\n",
    "if results.pvalue < alpha:\n",
    "    print('Отвергаем нулевую гипотезу')\n",
    "else:\n",
    "    print('Не получилось отвергнуть нулевую гипотезу')"
   ]
  },
  {
   "cell_type": "markdown",
   "id": "b2481bec",
   "metadata": {},
   "source": [
    "Мы не отвергаем нулевую гипотезу о том, что среднее расстояние, которые проезжают пользователи с подпиской, равно 3130 метрам."
   ]
  },
  {
   "cell_type": "markdown",
   "id": "a74141b9",
   "metadata": {},
   "source": [
    "Нулевая гипотеза: Помесячная выручка от пользователей с подпиской такая же, как от другой группы пользователей. Альтернативная гипотеза: Пользователи с подпиской приносят больше выручки по месяцам.\n",
    "\n",
    "H0: µ1 = µ2 H1: µ1 > µ2"
   ]
  },
  {
   "cell_type": "code",
   "execution_count": 37,
   "id": "efd8e62a",
   "metadata": {},
   "outputs": [
    {
     "name": "stdout",
     "output_type": "stream",
     "text": [
      "p-value: 1.8850394384715216e-31\n",
      "Отвергаем нулевую гипотезу\n"
     ]
    }
   ],
   "source": [
    "#помесячная выручка от пользователей с подпиской по месяцам выше, чем выручка от пользователей без подписки\n",
    "users_rides_ultra = users_rides[users_rides['subscription_type'] == 'ultra']\n",
    "users_rides_free = users_rides[users_rides['subscription_type'] == 'free']\n",
    "alpha = 0.05\n",
    "results = st.ttest_ind(users_rides_ultra['revenue'], users_rides_free['revenue'], alternative = 'greater')\n",
    "print('p-value:', results.pvalue)\n",
    "if results.pvalue < alpha:\n",
    "    print('Отвергаем нулевую гипотезу')\n",
    "else:\n",
    "    print('Не получилось отвергнуть нулевую гипотезу')"
   ]
  },
  {
   "cell_type": "markdown",
   "id": "f6f23e05",
   "metadata": {},
   "source": [
    "Мы отвергаем нулевую гипотезу о том, что выручка от пользователей с подпиской и без одинакова."
   ]
  },
  {
   "cell_type": "markdown",
   "id": "d22ef5a1",
   "metadata": {},
   "source": [
    "Вопрос из пункта 6.4: Какой тест понадобится для проверки гипотезы о том, что после обновления сервера взаимодествия с мобильным приложением количество обращений в техподдержку снизилось?\n",
    "Ответ: для проверки данной гипотезы потребовался бы тест на равенство средних для зависимых (парных) выборок с информацией об одних и тех же пользователях до обновления и после. Для этого можно применить метод Python scipy.stats.ttest_rel(), передав ему в качестве аргументов наборы данных до и после. С его помощью можно будет проверить правосторонную гипотезу о том, что истинное среднее генеральной совокупности до изменения превышает то же самое значение после изменений."
   ]
  },
  {
   "cell_type": "markdown",
   "id": "61213c5e",
   "metadata": {},
   "source": [
    "#### Шаг 7. Распределения"
   ]
  },
  {
   "cell_type": "code",
   "execution_count": 38,
   "id": "95cd1d51",
   "metadata": {},
   "outputs": [
    {
     "data": {
      "text/plain": [
       "<BarContainer object of 101 artists>"
      ]
     },
     "execution_count": 38,
     "metadata": {},
     "output_type": "execute_result"
    },
    {
     "data": {
      "image/png": "[encoded data removed]",
      "text/plain": [
       "<Figure size 432x288 with 1 Axes>"
      ]
     },
     "metadata": {
      "needs_background": "light"
     },
     "output_type": "display_data"
    }
   ],
   "source": [
    "#Построить график распределения вероятности\n",
    "\n",
    "n = 100\n",
    "p = 0.1\n",
    "\n",
    "distr = []\n",
    "\n",
    "for k in range(0, n + 1):\n",
    "    current_value = binom.pmf(k, n, p)\n",
    "    distr.append(current_value)\n",
    "    \n",
    "plt.bar(range(0, n + 1), distr)\n",
    "\n"
   ]
  },
  {
   "cell_type": "markdown",
   "id": "f7766b53",
   "metadata": {},
   "source": [
    "Как видно на графике, при 100 попытках эксперимента с вероятностью успеха 10% график оказывается сдвинут влево, то есть наиболее вероятно получить до 20 успешных результатов. "
   ]
  },
  {
   "cell_type": "code",
   "execution_count": 39,
   "id": "6f1e39ee",
   "metadata": {},
   "outputs": [
    {
     "data": {
      "text/plain": [
       "<BarContainer object of 101 artists>"
      ]
     },
     "execution_count": 39,
     "metadata": {},
     "output_type": "execute_result"
    },
    {
     "data": {
      "image/png": "[encoded data removed]",
      "text/plain": [
       "<Figure size 432x288 with 1 Axes>"
      ]
     },
     "metadata": {
      "needs_background": "light"
     },
     "output_type": "display_data"
    }
   ],
   "source": [
    "#Построить график распределения вероятности\n",
    "\n",
    "n = 100\n",
    "p = 0.1\n",
    "\n",
    "distr = []\n",
    "\n",
    "for k in range(0, n + 1):\n",
    "    current_value = binom.pmf(k, n, p)\n",
    "    distr.append(current_value)\n",
    "    \n",
    "plt.bar(range(0, n + 1), distr)\n",
    "\n"
   ]
  },
  {
   "cell_type": "code",
   "execution_count": 40,
   "id": "82e2acd1",
   "metadata": {},
   "outputs": [
    {
     "name": "stdout",
     "output_type": "stream",
     "text": [
      "0.05151491673741622\n"
     ]
    }
   ],
   "source": [
    "#Определить количество попыток, необходимое для продления подписки 100 пользователями с вероятностью 95%\n",
    "\n",
    "n1 = 1170\n",
    "p = 0.1\n",
    "k = 100\n",
    "print(binom.cdf(k,n1,p))"
   ]
  },
  {
   "cell_type": "markdown",
   "id": "4689a7c2",
   "metadata": {},
   "source": [
    "Благодаря встроенной функции можно сделать вывод, что количество отправок промокодов для такого процента продления должно быть примерно 1170, чтобы 100 пользователей осуществили продление подписки с вероятностью примерно 95%"
   ]
  },
  {
   "cell_type": "code",
   "execution_count": 41,
   "id": "80427fcf",
   "metadata": {},
   "outputs": [
    {
     "data": {
      "image/png": "[encoded data removed]",
      "text/plain": [
       "<Figure size 432x288 with 1 Axes>"
      ]
     },
     "metadata": {
      "needs_background": "light"
     },
     "output_type": "display_data"
    }
   ],
   "source": [
    "#Вероятность, что не более 399,5 тыс. пользователей из 1 млн откроют уведомление (процент успеха 40%)\n",
    "from math import sqrt\n",
    "import matplotlib.pyplot as plt\n",
    "from scipy.stats import binom, norm\n",
    "\n",
    "def linspace(start, stop, num):\n",
    "    step = (stop - start) / (num - 1)\n",
    "    result = []\n",
    "    for i in range(num):\n",
    "        result.append(start + step * i)\n",
    "    return result\n",
    " \n",
    "# задаём параметры биномиального распределения и аппроксимируем его нормальным\n",
    "n = 1000000\n",
    "p = 0.4\n",
    "\n",
    "left = int(n * p - 3 * sqrt(n * p * (1 - p)))\n",
    "right = int(n * p + 3 * sqrt(n * p * (1 - p)))\n",
    "\n",
    "x = list(range(max(0, left), right))\n",
    "\n",
    "ax = plt.subplot()\n",
    "\n",
    "ax.plot(x, binom.pmf(x, n, p))\n",
    "\n",
    "mu = n * p\n",
    "sigma = sqrt(n * p * (1 - p))\n",
    "\n",
    "x = linspace(left, right, 100)\n",
    "\n",
    "ax.plot(x, norm.pdf(x, mu, sigma))\n",
    "plt.show()\n"
   ]
  },
  {
   "cell_type": "markdown",
   "id": "6e326276",
   "metadata": {},
   "source": [
    "На графике видно, что большинство значений сосредоточено около 400000 пользователей."
   ]
  },
  {
   "cell_type": "code",
   "execution_count": 42,
   "id": "e850efc0",
   "metadata": {},
   "outputs": [
    {
     "name": "stdout",
     "output_type": "stream",
     "text": [
      "0.15371708296369768\n"
     ]
    }
   ],
   "source": [
    "distr = st.norm(mu, sigma)\n",
    "\n",
    "result = distr.cdf(399500)\n",
    "print(result)"
   ]
  },
  {
   "cell_type": "markdown",
   "id": "0f207ab4",
   "metadata": {},
   "source": [
    "Выявленная вероятность того, что уведомление откроют не более 399.5 тысяч пользователей из миллиона разосланных, составляет около 15%."
   ]
  },
  {
   "cell_type": "markdown",
   "id": "8912f077",
   "metadata": {},
   "source": [
    "# Общий вывод\n",
    "\n",
    "В процессе проведения исследования были осуществлены запланированные в начале шаги:\n",
    "- Изучение информации о данных;\n",
    "- Предобработка данных (работа с пропусками и дубликатами, изменение формата для некоторых данных);\n",
    "- Исследовательский анализ данных (о наиболее часто встречаемых значениях среди городов, возраста, продолжительности и расстоянии поездок пользователей);\n",
    "- Агрегирование данных о пользователях и разделение их на две группы с подпиской/без для дальнейшей визуализации их различий и более подробного изучения информации о них;\n",
    "- Проверка предложенных гипотез;\n",
    "- Построение распределений вероятности для возможного осуществления бизнесом некоторых шагов для его развития.\n",
    "\n",
    "Основные выводы, которые были сделаны на этапе проверки гипотез:\n",
    "1. Отвергнута гипотеза о том, что средняя продолжительность поездки пользователей с подпиской такая же, как у группы без подписки, в пользу альтернативной гипотезы о том, что этот показатель выше для тех, у кого есть подписка.\n",
    "2. Не получилось отвергнуть гипотезу о том, что среднее расстояние, которые проезжают пользователи с подпиской, не превышает 3130 метров.\n",
    "3. Отвергнута гипотеза о том, что выручка от пользователей с подпиской и без одинакова, в пользу альтернативной гипотезы, что клиенты с подпиской приносят больше выручки сервису."
   ]
  }
 ],
 "metadata": {
  "ExecuteTimeLog": [
   {
    "duration": 0,
    "start_time": "2024-03-12T10:54:20.649Z"
   },
   {
    "duration": 378,
    "start_time": "2024-03-12T10:54:21.416Z"
   },
   {
    "duration": 289,
    "start_time": "2024-03-12T10:54:23.108Z"
   },
   {
    "duration": 68,
    "start_time": "2024-03-12T10:54:31.102Z"
   },
   {
    "duration": 20,
    "start_time": "2024-03-12T10:54:51.352Z"
   },
   {
    "duration": 10,
    "start_time": "2024-03-12T10:55:12.242Z"
   },
   {
    "duration": 7,
    "start_time": "2024-03-12T10:55:36.242Z"
   },
   {
    "duration": 7,
    "start_time": "2024-03-12T10:55:45.796Z"
   },
   {
    "duration": 7,
    "start_time": "2024-03-12T10:55:52.057Z"
   },
   {
    "duration": 100,
    "start_time": "2024-03-12T11:00:16.935Z"
   },
   {
    "duration": 95,
    "start_time": "2024-03-12T11:00:30.448Z"
   },
   {
    "duration": 112,
    "start_time": "2024-03-12T11:00:48.550Z"
   },
   {
    "duration": 115,
    "start_time": "2024-03-12T11:00:59.113Z"
   },
   {
    "duration": 8,
    "start_time": "2024-03-12T11:01:15.334Z"
   },
   {
    "duration": 14,
    "start_time": "2024-03-12T11:01:34.482Z"
   },
   {
    "duration": 30,
    "start_time": "2024-03-12T11:01:56.193Z"
   },
   {
    "duration": 10,
    "start_time": "2024-03-12T11:02:30.056Z"
   },
   {
    "duration": 433,
    "start_time": "2024-03-12T11:02:40.053Z"
   },
   {
    "duration": 68,
    "start_time": "2024-03-12T11:02:40.488Z"
   },
   {
    "duration": 16,
    "start_time": "2024-03-12T11:02:40.558Z"
   },
   {
    "duration": 12,
    "start_time": "2024-03-12T11:02:40.576Z"
   },
   {
    "duration": 12,
    "start_time": "2024-03-12T11:02:40.589Z"
   },
   {
    "duration": 12,
    "start_time": "2024-03-12T11:02:40.603Z"
   },
   {
    "duration": 11,
    "start_time": "2024-03-12T11:02:40.617Z"
   },
   {
    "duration": 14,
    "start_time": "2024-03-12T11:02:40.630Z"
   },
   {
    "duration": 10,
    "start_time": "2024-03-12T11:03:05.910Z"
   },
   {
    "duration": 49,
    "start_time": "2024-03-12T11:03:12.691Z"
   },
   {
    "duration": 21,
    "start_time": "2024-03-12T11:03:26.702Z"
   },
   {
    "duration": 77,
    "start_time": "2024-03-12T11:03:53.863Z"
   },
   {
    "duration": 16,
    "start_time": "2024-03-12T11:04:45.604Z"
   },
   {
    "duration": 15,
    "start_time": "2024-03-12T11:05:55.691Z"
   },
   {
    "duration": 14,
    "start_time": "2024-03-12T11:06:09.837Z"
   },
   {
    "duration": 8,
    "start_time": "2024-03-12T11:09:21.101Z"
   },
   {
    "duration": 5,
    "start_time": "2024-03-12T11:10:02.199Z"
   },
   {
    "duration": 14,
    "start_time": "2024-03-12T11:10:18.733Z"
   },
   {
    "duration": 6,
    "start_time": "2024-03-12T11:11:06.393Z"
   },
   {
    "duration": 7,
    "start_time": "2024-03-12T11:11:24.266Z"
   },
   {
    "duration": 5,
    "start_time": "2024-03-12T11:11:45.411Z"
   },
   {
    "duration": 6,
    "start_time": "2024-03-12T11:12:06.585Z"
   },
   {
    "duration": 9,
    "start_time": "2024-03-12T11:12:22.072Z"
   },
   {
    "duration": 6,
    "start_time": "2024-03-12T11:13:09.315Z"
   },
   {
    "duration": 8,
    "start_time": "2024-03-12T11:14:08.255Z"
   },
   {
    "duration": 10,
    "start_time": "2024-03-12T11:14:38.463Z"
   },
   {
    "duration": 13,
    "start_time": "2024-03-12T11:14:43.598Z"
   },
   {
    "duration": 5,
    "start_time": "2024-03-12T11:16:03.348Z"
   },
   {
    "duration": 13,
    "start_time": "2024-03-12T11:16:17.656Z"
   },
   {
    "duration": 20,
    "start_time": "2024-03-12T11:17:08.480Z"
   },
   {
    "duration": 18,
    "start_time": "2024-03-12T11:17:15.499Z"
   },
   {
    "duration": 4,
    "start_time": "2024-03-12T11:17:19.614Z"
   },
   {
    "duration": 6,
    "start_time": "2024-03-12T11:17:51.423Z"
   },
   {
    "duration": 8,
    "start_time": "2024-03-12T11:21:14.578Z"
   },
   {
    "duration": 13,
    "start_time": "2024-03-12T11:21:54.248Z"
   },
   {
    "duration": 11,
    "start_time": "2024-03-12T11:22:19.500Z"
   },
   {
    "duration": 13,
    "start_time": "2024-03-12T11:22:41.621Z"
   },
   {
    "duration": 12,
    "start_time": "2024-03-12T11:23:31.117Z"
   },
   {
    "duration": 13,
    "start_time": "2024-03-12T11:23:54.187Z"
   },
   {
    "duration": 6,
    "start_time": "2024-03-12T11:24:29.767Z"
   },
   {
    "duration": 8,
    "start_time": "2024-03-12T11:25:26.720Z"
   },
   {
    "duration": 11,
    "start_time": "2024-03-12T11:25:35.643Z"
   },
   {
    "duration": 14,
    "start_time": "2024-03-12T11:26:20.970Z"
   },
   {
    "duration": 103,
    "start_time": "2024-03-12T11:26:34.097Z"
   },
   {
    "duration": 9,
    "start_time": "2024-03-12T11:26:49.759Z"
   },
   {
    "duration": 10,
    "start_time": "2024-03-12T11:27:14.470Z"
   },
   {
    "duration": 9,
    "start_time": "2024-03-12T11:27:32.148Z"
   },
   {
    "duration": 10,
    "start_time": "2024-03-12T11:28:19.812Z"
   },
   {
    "duration": 437,
    "start_time": "2024-03-12T11:28:25.757Z"
   },
   {
    "duration": 68,
    "start_time": "2024-03-12T11:28:26.195Z"
   },
   {
    "duration": 16,
    "start_time": "2024-03-12T11:28:26.265Z"
   },
   {
    "duration": 18,
    "start_time": "2024-03-12T11:28:26.282Z"
   },
   {
    "duration": 17,
    "start_time": "2024-03-12T11:28:26.302Z"
   },
   {
    "duration": 15,
    "start_time": "2024-03-12T11:28:26.321Z"
   },
   {
    "duration": 6,
    "start_time": "2024-03-12T11:28:26.337Z"
   },
   {
    "duration": 15,
    "start_time": "2024-03-12T11:28:26.345Z"
   },
   {
    "duration": 20,
    "start_time": "2024-03-12T11:28:26.361Z"
   },
   {
    "duration": 10,
    "start_time": "2024-03-12T11:28:26.383Z"
   },
   {
    "duration": 6,
    "start_time": "2024-03-12T11:28:26.395Z"
   },
   {
    "duration": 14,
    "start_time": "2024-03-12T11:28:26.402Z"
   },
   {
    "duration": 12,
    "start_time": "2024-03-12T11:28:26.418Z"
   },
   {
    "duration": 12,
    "start_time": "2024-03-12T11:28:26.432Z"
   },
   {
    "duration": 16,
    "start_time": "2024-03-12T11:28:26.446Z"
   },
   {
    "duration": 13,
    "start_time": "2024-03-12T11:30:56.182Z"
   },
   {
    "duration": 439,
    "start_time": "2024-03-12T11:33:52.493Z"
   },
   {
    "duration": 13,
    "start_time": "2024-03-12T11:34:17.815Z"
   },
   {
    "duration": 403,
    "start_time": "2024-03-12T11:34:45.723Z"
   },
   {
    "duration": 12,
    "start_time": "2024-03-12T11:35:54.732Z"
   },
   {
    "duration": 578,
    "start_time": "2024-03-12T11:36:48.631Z"
   },
   {
    "duration": 146,
    "start_time": "2024-03-12T11:37:08.842Z"
   },
   {
    "duration": 152,
    "start_time": "2024-03-12T11:38:43.377Z"
   },
   {
    "duration": 184,
    "start_time": "2024-03-12T11:39:24.464Z"
   },
   {
    "duration": 238,
    "start_time": "2024-03-12T11:40:15.616Z"
   },
   {
    "duration": 15,
    "start_time": "2024-03-12T11:40:42.398Z"
   },
   {
    "duration": 146,
    "start_time": "2024-03-12T11:40:47.626Z"
   },
   {
    "duration": 13,
    "start_time": "2024-03-12T11:43:48.309Z"
   },
   {
    "duration": 14,
    "start_time": "2024-03-12T11:44:50.911Z"
   },
   {
    "duration": 1554,
    "start_time": "2024-03-12T11:46:22.890Z"
   },
   {
    "duration": 15,
    "start_time": "2024-03-12T11:48:22.009Z"
   },
   {
    "duration": 15,
    "start_time": "2024-03-12T11:48:35.356Z"
   },
   {
    "duration": 106,
    "start_time": "2024-03-12T11:51:44.675Z"
   },
   {
    "duration": 10,
    "start_time": "2024-03-12T11:51:53.893Z"
   },
   {
    "duration": 15,
    "start_time": "2024-03-12T11:52:14.145Z"
   },
   {
    "duration": 163,
    "start_time": "2024-03-12T11:53:52.156Z"
   },
   {
    "duration": 144,
    "start_time": "2024-03-12T11:54:03.955Z"
   },
   {
    "duration": 15,
    "start_time": "2024-03-12T11:55:52.462Z"
   },
   {
    "duration": 15,
    "start_time": "2024-03-12T11:56:45.156Z"
   },
   {
    "duration": 15,
    "start_time": "2024-03-12T11:56:58.328Z"
   },
   {
    "duration": 14,
    "start_time": "2024-03-12T11:57:28.972Z"
   },
   {
    "duration": 264,
    "start_time": "2024-03-12T11:59:06.804Z"
   },
   {
    "duration": 22,
    "start_time": "2024-03-12T12:03:18.608Z"
   },
   {
    "duration": 13,
    "start_time": "2024-03-12T12:03:52.911Z"
   },
   {
    "duration": 14,
    "start_time": "2024-03-12T12:04:35.156Z"
   },
   {
    "duration": 102,
    "start_time": "2024-03-12T12:06:22.080Z"
   },
   {
    "duration": 19223,
    "start_time": "2024-03-12T12:06:44.749Z"
   },
   {
    "duration": 154,
    "start_time": "2024-03-12T12:07:33.905Z"
   },
   {
    "duration": 139,
    "start_time": "2024-03-12T12:07:48.147Z"
   },
   {
    "duration": 3,
    "start_time": "2024-03-12T12:09:21.751Z"
   },
   {
    "duration": 146,
    "start_time": "2024-03-12T12:09:57.014Z"
   },
   {
    "duration": 133,
    "start_time": "2024-03-12T12:11:39.930Z"
   },
   {
    "duration": 20,
    "start_time": "2024-03-12T12:21:22.782Z"
   },
   {
    "duration": 18,
    "start_time": "2024-03-12T12:21:48.818Z"
   },
   {
    "duration": 25,
    "start_time": "2024-03-12T12:22:02.347Z"
   },
   {
    "duration": 21,
    "start_time": "2024-03-12T12:25:59.717Z"
   },
   {
    "duration": 97,
    "start_time": "2024-03-12T12:30:23.155Z"
   },
   {
    "duration": 104,
    "start_time": "2024-03-12T12:30:28.825Z"
   },
   {
    "duration": 9,
    "start_time": "2024-03-12T12:30:35.113Z"
   },
   {
    "duration": 9,
    "start_time": "2024-03-12T12:30:43.275Z"
   },
   {
    "duration": 10,
    "start_time": "2024-03-12T12:31:41.444Z"
   },
   {
    "duration": 10,
    "start_time": "2024-03-12T12:32:11.485Z"
   },
   {
    "duration": 18,
    "start_time": "2024-03-12T12:32:32.959Z"
   },
   {
    "duration": 25,
    "start_time": "2024-03-12T12:33:36.343Z"
   },
   {
    "duration": 171,
    "start_time": "2024-03-12T12:37:35.526Z"
   },
   {
    "duration": 152,
    "start_time": "2024-03-12T12:38:04.550Z"
   },
   {
    "duration": 141,
    "start_time": "2024-03-12T12:39:34.551Z"
   },
   {
    "duration": 139,
    "start_time": "2024-03-12T12:40:26.711Z"
   },
   {
    "duration": 336,
    "start_time": "2024-03-12T12:41:35.094Z"
   },
   {
    "duration": 202,
    "start_time": "2024-03-12T12:43:13.725Z"
   },
   {
    "duration": 191,
    "start_time": "2024-03-12T12:43:34.237Z"
   },
   {
    "duration": 217,
    "start_time": "2024-03-12T12:44:41.859Z"
   },
   {
    "duration": 205,
    "start_time": "2024-03-12T12:50:42.857Z"
   },
   {
    "duration": 231,
    "start_time": "2024-03-12T12:51:01.790Z"
   },
   {
    "duration": 211,
    "start_time": "2024-03-12T12:51:26.478Z"
   },
   {
    "duration": 124,
    "start_time": "2024-03-12T12:59:17.825Z"
   },
   {
    "duration": 15,
    "start_time": "2024-03-12T13:04:43.340Z"
   },
   {
    "duration": 21,
    "start_time": "2024-03-12T13:05:39.136Z"
   },
   {
    "duration": 34,
    "start_time": "2024-03-12T13:06:15.920Z"
   },
   {
    "duration": 417,
    "start_time": "2024-03-12T13:10:26.922Z"
   },
   {
    "duration": 29,
    "start_time": "2024-03-12T13:10:59.429Z"
   },
   {
    "duration": 31,
    "start_time": "2024-03-12T13:14:03.107Z"
   },
   {
    "duration": 423,
    "start_time": "2024-03-12T13:18:58.748Z"
   },
   {
    "duration": 1629,
    "start_time": "2024-03-12T13:19:23.422Z"
   },
   {
    "duration": 1553,
    "start_time": "2024-03-12T13:19:25.705Z"
   },
   {
    "duration": 50,
    "start_time": "2024-03-12T13:19:39.883Z"
   },
   {
    "duration": 32,
    "start_time": "2024-03-12T13:20:03.918Z"
   },
   {
    "duration": 1623,
    "start_time": "2024-03-12T13:22:19.283Z"
   },
   {
    "duration": 5,
    "start_time": "2024-03-12T13:22:59.713Z"
   },
   {
    "duration": 12,
    "start_time": "2024-03-12T13:23:15.672Z"
   },
   {
    "duration": 425,
    "start_time": "2024-03-12T20:15:22.062Z"
   },
   {
    "duration": 62,
    "start_time": "2024-03-12T20:19:37.736Z"
   },
   {
    "duration": 368,
    "start_time": "2024-03-12T20:19:50.314Z"
   },
   {
    "duration": 188,
    "start_time": "2024-03-12T20:19:50.684Z"
   },
   {
    "duration": 15,
    "start_time": "2024-03-12T20:19:50.873Z"
   },
   {
    "duration": 24,
    "start_time": "2024-03-12T20:19:50.889Z"
   },
   {
    "duration": 29,
    "start_time": "2024-03-12T20:19:50.914Z"
   },
   {
    "duration": 19,
    "start_time": "2024-03-12T20:19:50.945Z"
   },
   {
    "duration": 23,
    "start_time": "2024-03-12T20:19:50.965Z"
   },
   {
    "duration": 30,
    "start_time": "2024-03-12T20:19:50.990Z"
   },
   {
    "duration": 14,
    "start_time": "2024-03-12T20:19:51.021Z"
   },
   {
    "duration": 25,
    "start_time": "2024-03-12T20:19:51.038Z"
   },
   {
    "duration": 8,
    "start_time": "2024-03-12T20:19:51.064Z"
   },
   {
    "duration": 22,
    "start_time": "2024-03-12T20:19:51.074Z"
   },
   {
    "duration": 10,
    "start_time": "2024-03-12T20:19:51.098Z"
   },
   {
    "duration": 32,
    "start_time": "2024-03-12T20:19:51.110Z"
   },
   {
    "duration": 10,
    "start_time": "2024-03-12T20:19:51.144Z"
   },
   {
    "duration": 16,
    "start_time": "2024-03-12T20:19:51.156Z"
   },
   {
    "duration": 617,
    "start_time": "2024-03-12T20:19:51.174Z"
   },
   {
    "duration": 16,
    "start_time": "2024-03-12T20:19:51.793Z"
   },
   {
    "duration": 156,
    "start_time": "2024-03-12T20:19:51.810Z"
   },
   {
    "duration": 22,
    "start_time": "2024-03-12T20:19:51.967Z"
   },
   {
    "duration": 256,
    "start_time": "2024-03-12T20:19:51.990Z"
   },
   {
    "duration": 180,
    "start_time": "2024-03-12T20:19:52.248Z"
   },
   {
    "duration": 143,
    "start_time": "2024-03-12T20:19:52.430Z"
   },
   {
    "duration": 19,
    "start_time": "2024-03-12T20:19:52.581Z"
   },
   {
    "duration": 17,
    "start_time": "2024-03-12T20:19:52.602Z"
   },
   {
    "duration": 16,
    "start_time": "2024-03-12T20:19:52.621Z"
   },
   {
    "duration": 15,
    "start_time": "2024-03-12T20:19:52.638Z"
   },
   {
    "duration": 197,
    "start_time": "2024-03-12T20:19:52.682Z"
   },
   {
    "duration": 208,
    "start_time": "2024-03-12T20:19:52.880Z"
   },
   {
    "duration": 39,
    "start_time": "2024-03-12T20:19:53.090Z"
   },
   {
    "duration": 13,
    "start_time": "2024-03-12T20:19:53.131Z"
   },
   {
    "duration": 93,
    "start_time": "2024-03-12T20:19:53.147Z"
   },
   {
    "duration": 1132,
    "start_time": "2024-03-12T20:20:09.219Z"
   },
   {
    "duration": 8,
    "start_time": "2024-03-12T20:20:30.656Z"
   },
   {
    "duration": 9,
    "start_time": "2024-03-12T20:20:39.775Z"
   },
   {
    "duration": 11,
    "start_time": "2024-03-12T20:22:35.218Z"
   },
   {
    "duration": 10,
    "start_time": "2024-03-12T20:25:49.430Z"
   },
   {
    "duration": 10,
    "start_time": "2024-03-12T20:26:30.113Z"
   },
   {
    "duration": 9,
    "start_time": "2024-03-12T20:28:33.503Z"
   },
   {
    "duration": 81,
    "start_time": "2024-03-12T20:32:47.563Z"
   },
   {
    "duration": 81,
    "start_time": "2024-03-12T20:32:57.309Z"
   },
   {
    "duration": 11,
    "start_time": "2024-03-12T20:33:07.857Z"
   },
   {
    "duration": 16,
    "start_time": "2024-03-12T20:36:52.987Z"
   },
   {
    "duration": 30,
    "start_time": "2024-03-12T20:37:12.642Z"
   },
   {
    "duration": 1071,
    "start_time": "2024-03-12T20:38:35.701Z"
   },
   {
    "duration": 8,
    "start_time": "2024-03-12T20:42:26.305Z"
   },
   {
    "duration": 12,
    "start_time": "2024-03-12T20:43:01.052Z"
   },
   {
    "duration": 20,
    "start_time": "2024-03-12T20:43:57.316Z"
   },
   {
    "duration": 12,
    "start_time": "2024-03-12T20:44:12.016Z"
   },
   {
    "duration": 9,
    "start_time": "2024-03-12T20:46:17.711Z"
   },
   {
    "duration": 371,
    "start_time": "2024-03-12T20:46:40.915Z"
   },
   {
    "duration": 68,
    "start_time": "2024-03-12T20:46:41.287Z"
   },
   {
    "duration": 20,
    "start_time": "2024-03-12T20:46:41.357Z"
   },
   {
    "duration": 12,
    "start_time": "2024-03-12T20:46:41.379Z"
   },
   {
    "duration": 14,
    "start_time": "2024-03-12T20:46:41.393Z"
   },
   {
    "duration": 11,
    "start_time": "2024-03-12T20:46:41.409Z"
   },
   {
    "duration": 7,
    "start_time": "2024-03-12T20:46:41.421Z"
   },
   {
    "duration": 11,
    "start_time": "2024-03-12T20:46:41.429Z"
   },
   {
    "duration": 8,
    "start_time": "2024-03-12T20:46:41.442Z"
   },
   {
    "duration": 12,
    "start_time": "2024-03-12T20:46:41.481Z"
   },
   {
    "duration": 5,
    "start_time": "2024-03-12T20:46:41.495Z"
   },
   {
    "duration": 9,
    "start_time": "2024-03-12T20:46:41.501Z"
   },
   {
    "duration": 5,
    "start_time": "2024-03-12T20:46:41.511Z"
   },
   {
    "duration": 13,
    "start_time": "2024-03-12T20:46:41.517Z"
   },
   {
    "duration": 9,
    "start_time": "2024-03-12T20:46:41.531Z"
   },
   {
    "duration": 49,
    "start_time": "2024-03-12T20:46:41.541Z"
   },
   {
    "duration": 410,
    "start_time": "2024-03-12T20:46:41.591Z"
   },
   {
    "duration": 15,
    "start_time": "2024-03-12T20:46:42.003Z"
   },
   {
    "duration": 150,
    "start_time": "2024-03-12T20:46:42.019Z"
   },
   {
    "duration": 21,
    "start_time": "2024-03-12T20:46:42.170Z"
   },
   {
    "duration": 260,
    "start_time": "2024-03-12T20:46:42.192Z"
   },
   {
    "duration": 157,
    "start_time": "2024-03-12T20:46:42.454Z"
   },
   {
    "duration": 171,
    "start_time": "2024-03-12T20:46:42.613Z"
   },
   {
    "duration": 20,
    "start_time": "2024-03-12T20:46:42.786Z"
   },
   {
    "duration": 29,
    "start_time": "2024-03-12T20:46:42.808Z"
   },
   {
    "duration": 19,
    "start_time": "2024-03-12T20:46:42.838Z"
   },
   {
    "duration": 15,
    "start_time": "2024-03-12T20:46:42.881Z"
   },
   {
    "duration": 223,
    "start_time": "2024-03-12T20:46:42.899Z"
   },
   {
    "duration": 206,
    "start_time": "2024-03-12T20:46:43.124Z"
   },
   {
    "duration": 30,
    "start_time": "2024-03-12T20:46:43.331Z"
   },
   {
    "duration": 24,
    "start_time": "2024-03-12T20:46:43.362Z"
   },
   {
    "duration": 9,
    "start_time": "2024-03-12T20:46:43.387Z"
   },
   {
    "duration": 12,
    "start_time": "2024-03-12T20:46:43.398Z"
   },
   {
    "duration": 25,
    "start_time": "2024-03-12T20:49:18.754Z"
   },
   {
    "duration": 32,
    "start_time": "2024-03-12T20:49:29.259Z"
   },
   {
    "duration": 70,
    "start_time": "2024-03-12T20:50:02.951Z"
   },
   {
    "duration": 4,
    "start_time": "2024-03-12T20:52:04.246Z"
   },
   {
    "duration": 11,
    "start_time": "2024-03-12T20:52:31.247Z"
   },
   {
    "duration": 12,
    "start_time": "2024-03-12T20:53:29.556Z"
   },
   {
    "duration": 16,
    "start_time": "2024-03-12T20:54:05.496Z"
   },
   {
    "duration": 16,
    "start_time": "2024-03-12T20:57:37.413Z"
   },
   {
    "duration": 414,
    "start_time": "2024-03-12T21:01:58.419Z"
   },
   {
    "duration": 152,
    "start_time": "2024-03-12T21:08:02.248Z"
   },
   {
    "duration": 6,
    "start_time": "2024-03-12T21:09:35.111Z"
   },
   {
    "duration": 1274,
    "start_time": "2024-03-12T21:10:05.296Z"
   },
   {
    "duration": 5,
    "start_time": "2024-03-12T21:10:35.301Z"
   },
   {
    "duration": 11,
    "start_time": "2024-03-12T21:11:29.992Z"
   },
   {
    "duration": 6,
    "start_time": "2024-03-12T21:11:41.002Z"
   },
   {
    "duration": 133,
    "start_time": "2024-03-12T21:16:43.548Z"
   },
   {
    "duration": 7,
    "start_time": "2024-03-12T21:17:47.978Z"
   },
   {
    "duration": 70,
    "start_time": "2024-03-12T21:22:13.337Z"
   },
   {
    "duration": 9,
    "start_time": "2024-03-12T21:22:22.944Z"
   },
   {
    "duration": 8,
    "start_time": "2024-03-12T21:29:42.806Z"
   },
   {
    "duration": 6,
    "start_time": "2024-03-12T21:30:03.526Z"
   },
   {
    "duration": 5,
    "start_time": "2024-03-12T21:34:49.048Z"
   },
   {
    "duration": 6,
    "start_time": "2024-03-12T21:35:06.052Z"
   },
   {
    "duration": 14,
    "start_time": "2024-03-12T21:35:33.939Z"
   },
   {
    "duration": 14,
    "start_time": "2024-03-12T21:35:46.432Z"
   },
   {
    "duration": 8,
    "start_time": "2024-03-12T21:37:12.706Z"
   },
   {
    "duration": 690,
    "start_time": "2024-03-13T09:06:31.625Z"
   },
   {
    "duration": 72,
    "start_time": "2024-03-13T09:13:06.028Z"
   },
   {
    "duration": 840,
    "start_time": "2024-03-13T09:13:17.471Z"
   },
   {
    "duration": 301,
    "start_time": "2024-03-13T09:13:18.313Z"
   },
   {
    "duration": 15,
    "start_time": "2024-03-13T09:13:18.616Z"
   },
   {
    "duration": 21,
    "start_time": "2024-03-13T09:13:18.633Z"
   },
   {
    "duration": 36,
    "start_time": "2024-03-13T09:13:18.656Z"
   },
   {
    "duration": 36,
    "start_time": "2024-03-13T09:13:18.693Z"
   },
   {
    "duration": 11,
    "start_time": "2024-03-13T09:13:18.731Z"
   },
   {
    "duration": 21,
    "start_time": "2024-03-13T09:13:18.743Z"
   },
   {
    "duration": 25,
    "start_time": "2024-03-13T09:13:18.765Z"
   },
   {
    "duration": 25,
    "start_time": "2024-03-13T09:13:18.792Z"
   },
   {
    "duration": 5,
    "start_time": "2024-03-13T09:13:18.819Z"
   },
   {
    "duration": 16,
    "start_time": "2024-03-13T09:13:18.826Z"
   },
   {
    "duration": 14,
    "start_time": "2024-03-13T09:13:18.844Z"
   },
   {
    "duration": 22,
    "start_time": "2024-03-13T09:13:18.860Z"
   },
   {
    "duration": 11,
    "start_time": "2024-03-13T09:13:18.884Z"
   },
   {
    "duration": 23,
    "start_time": "2024-03-13T09:13:18.897Z"
   },
   {
    "duration": 601,
    "start_time": "2024-03-13T09:13:18.921Z"
   },
   {
    "duration": 15,
    "start_time": "2024-03-13T09:13:19.523Z"
   },
   {
    "duration": 162,
    "start_time": "2024-03-13T09:13:19.539Z"
   },
   {
    "duration": 15,
    "start_time": "2024-03-13T09:13:19.702Z"
   },
   {
    "duration": 291,
    "start_time": "2024-03-13T09:13:19.718Z"
   },
   {
    "duration": 140,
    "start_time": "2024-03-13T09:13:20.011Z"
   },
   {
    "duration": 137,
    "start_time": "2024-03-13T09:13:20.152Z"
   },
   {
    "duration": 22,
    "start_time": "2024-03-13T09:13:20.290Z"
   },
   {
    "duration": 19,
    "start_time": "2024-03-13T09:13:20.314Z"
   },
   {
    "duration": 24,
    "start_time": "2024-03-13T09:13:20.334Z"
   },
   {
    "duration": 34,
    "start_time": "2024-03-13T09:13:20.360Z"
   },
   {
    "duration": 193,
    "start_time": "2024-03-13T09:13:20.397Z"
   },
   {
    "duration": 207,
    "start_time": "2024-03-13T09:13:20.592Z"
   },
   {
    "duration": 30,
    "start_time": "2024-03-13T09:13:20.801Z"
   },
   {
    "duration": 10,
    "start_time": "2024-03-13T09:13:20.833Z"
   },
   {
    "duration": 17,
    "start_time": "2024-03-13T09:13:20.844Z"
   },
   {
    "duration": 33,
    "start_time": "2024-03-13T09:13:20.863Z"
   },
   {
    "duration": 7,
    "start_time": "2024-03-13T09:13:20.898Z"
   },
   {
    "duration": 23,
    "start_time": "2024-03-13T09:13:20.906Z"
   },
   {
    "duration": 23,
    "start_time": "2024-03-13T09:13:20.930Z"
   },
   {
    "duration": 1786,
    "start_time": "2024-03-13T09:13:20.955Z"
   },
   {
    "duration": 3,
    "start_time": "2024-03-13T09:15:53.247Z"
   },
   {
    "duration": 10,
    "start_time": "2024-03-13T09:23:35.150Z"
   },
   {
    "duration": 1495,
    "start_time": "2024-03-13T09:24:08.298Z"
   },
   {
    "duration": 1631,
    "start_time": "2024-03-13T09:25:28.468Z"
   },
   {
    "duration": 3,
    "start_time": "2024-03-13T09:26:36.176Z"
   },
   {
    "duration": 1599,
    "start_time": "2024-03-13T09:27:45.271Z"
   },
   {
    "duration": 363,
    "start_time": "2024-03-13T09:29:08.731Z"
   },
   {
    "duration": 145,
    "start_time": "2024-03-13T09:29:19.411Z"
   },
   {
    "duration": 166,
    "start_time": "2024-03-13T09:31:21.565Z"
   },
   {
    "duration": 169,
    "start_time": "2024-03-13T09:37:12.786Z"
   },
   {
    "duration": 9,
    "start_time": "2024-03-13T09:38:40.759Z"
   },
   {
    "duration": 271,
    "start_time": "2024-03-13T09:39:36.713Z"
   },
   {
    "duration": 422,
    "start_time": "2024-03-13T09:41:39.338Z"
   },
   {
    "duration": 233,
    "start_time": "2024-03-13T09:44:05.795Z"
   },
   {
    "duration": 18,
    "start_time": "2024-03-13T09:44:37.532Z"
   },
   {
    "duration": 4,
    "start_time": "2024-03-13T09:44:48.371Z"
   },
   {
    "duration": 1821,
    "start_time": "2024-03-13T09:49:46.923Z"
   },
   {
    "duration": 248,
    "start_time": "2024-03-13T09:50:12.051Z"
   },
   {
    "duration": 1504,
    "start_time": "2024-03-13T10:06:28.381Z"
   },
   {
    "duration": 11,
    "start_time": "2024-03-13T10:11:31.037Z"
   },
   {
    "duration": 1853,
    "start_time": "2024-03-13T10:12:08.301Z"
   },
   {
    "duration": 16576,
    "start_time": "2024-03-13T10:13:08.041Z"
   },
   {
    "duration": 824,
    "start_time": "2024-03-13T10:13:44.214Z"
   },
   {
    "duration": 72,
    "start_time": "2024-03-13T10:13:45.040Z"
   },
   {
    "duration": 17,
    "start_time": "2024-03-13T10:13:45.114Z"
   },
   {
    "duration": 48,
    "start_time": "2024-03-13T10:13:45.134Z"
   },
   {
    "duration": 68,
    "start_time": "2024-03-13T10:13:45.184Z"
   },
   {
    "duration": 125,
    "start_time": "2024-03-13T10:13:45.254Z"
   },
   {
    "duration": 62,
    "start_time": "2024-03-13T10:13:45.381Z"
   },
   {
    "duration": 57,
    "start_time": "2024-03-13T10:13:45.445Z"
   },
   {
    "duration": 40,
    "start_time": "2024-03-13T10:13:45.504Z"
   },
   {
    "duration": 14,
    "start_time": "2024-03-13T10:13:45.547Z"
   },
   {
    "duration": 12,
    "start_time": "2024-03-13T10:13:45.563Z"
   },
   {
    "duration": 21,
    "start_time": "2024-03-13T10:13:45.577Z"
   },
   {
    "duration": 32,
    "start_time": "2024-03-13T10:13:45.600Z"
   },
   {
    "duration": 24,
    "start_time": "2024-03-13T10:13:45.633Z"
   },
   {
    "duration": 21,
    "start_time": "2024-03-13T10:13:45.658Z"
   },
   {
    "duration": 17,
    "start_time": "2024-03-13T10:13:45.680Z"
   },
   {
    "duration": 437,
    "start_time": "2024-03-13T10:13:45.698Z"
   },
   {
    "duration": 16,
    "start_time": "2024-03-13T10:13:46.137Z"
   },
   {
    "duration": 148,
    "start_time": "2024-03-13T10:13:46.154Z"
   },
   {
    "duration": 14,
    "start_time": "2024-03-13T10:13:46.304Z"
   },
   {
    "duration": 274,
    "start_time": "2024-03-13T10:13:46.319Z"
   },
   {
    "duration": 130,
    "start_time": "2024-03-13T10:13:46.595Z"
   },
   {
    "duration": 130,
    "start_time": "2024-03-13T10:13:46.726Z"
   },
   {
    "duration": 27,
    "start_time": "2024-03-13T10:13:46.858Z"
   },
   {
    "duration": 19,
    "start_time": "2024-03-13T10:13:46.886Z"
   },
   {
    "duration": 27,
    "start_time": "2024-03-13T10:13:46.906Z"
   },
   {
    "duration": 36,
    "start_time": "2024-03-13T10:13:46.935Z"
   },
   {
    "duration": 230,
    "start_time": "2024-03-13T10:13:46.974Z"
   },
   {
    "duration": 201,
    "start_time": "2024-03-13T10:13:47.206Z"
   },
   {
    "duration": 30,
    "start_time": "2024-03-13T10:13:47.408Z"
   },
   {
    "duration": 10,
    "start_time": "2024-03-13T10:13:47.440Z"
   },
   {
    "duration": 30,
    "start_time": "2024-03-13T10:13:47.451Z"
   },
   {
    "duration": 16,
    "start_time": "2024-03-13T10:13:47.483Z"
   },
   {
    "duration": 6,
    "start_time": "2024-03-13T10:13:47.501Z"
   },
   {
    "duration": 18,
    "start_time": "2024-03-13T10:13:47.508Z"
   },
   {
    "duration": 20,
    "start_time": "2024-03-13T10:13:47.528Z"
   },
   {
    "duration": 15222,
    "start_time": "2024-03-13T10:13:47.549Z"
   },
   {
    "duration": 16359,
    "start_time": "2024-03-13T10:14:10.264Z"
   },
   {
    "duration": 5,
    "start_time": "2024-03-13T10:18:55.669Z"
   },
   {
    "duration": 5,
    "start_time": "2024-03-13T10:19:31.884Z"
   },
   {
    "duration": 5,
    "start_time": "2024-03-13T10:21:50.986Z"
   },
   {
    "duration": 5,
    "start_time": "2024-03-13T10:22:04.100Z"
   },
   {
    "duration": 5,
    "start_time": "2024-03-13T10:22:18.555Z"
   },
   {
    "duration": 5,
    "start_time": "2024-03-13T10:26:27.527Z"
   },
   {
    "duration": 101,
    "start_time": "2024-03-13T10:28:58.519Z"
   },
   {
    "duration": 3705,
    "start_time": "2024-03-13T10:29:27.259Z"
   },
   {
    "duration": 403,
    "start_time": "2024-03-13T10:32:04.795Z"
   },
   {
    "duration": 3695,
    "start_time": "2024-03-13T10:32:22.146Z"
   },
   {
    "duration": 394,
    "start_time": "2024-03-13T10:35:02.584Z"
   },
   {
    "duration": 507,
    "start_time": "2024-03-13T10:35:14.039Z"
   },
   {
    "duration": 2308,
    "start_time": "2024-03-13T10:37:57.147Z"
   },
   {
    "duration": 9,
    "start_time": "2024-03-13T10:44:56.138Z"
   },
   {
    "duration": 5,
    "start_time": "2024-03-13T10:45:18.668Z"
   },
   {
    "duration": 34326,
    "start_time": "2024-03-13T10:50:45.815Z"
   },
   {
    "duration": 10,
    "start_time": "2024-03-13T10:58:07.236Z"
   },
   {
    "duration": 222,
    "start_time": "2024-03-13T10:58:53.667Z"
   },
   {
    "duration": 185,
    "start_time": "2024-03-13T11:05:03.169Z"
   },
   {
    "duration": 13,
    "start_time": "2024-03-13T11:09:38.281Z"
   },
   {
    "duration": 12,
    "start_time": "2024-03-13T11:10:17.971Z"
   },
   {
    "duration": 5,
    "start_time": "2024-03-13T11:10:39.175Z"
   },
   {
    "duration": 4,
    "start_time": "2024-03-13T11:10:39.657Z"
   },
   {
    "duration": 9,
    "start_time": "2024-03-13T11:10:43.393Z"
   },
   {
    "duration": 32920,
    "start_time": "2024-03-13T11:11:56.326Z"
   },
   {
    "duration": 34521,
    "start_time": "2024-03-13T11:12:49.631Z"
   },
   {
    "duration": 103,
    "start_time": "2024-03-13T11:14:14.617Z"
   },
   {
    "duration": 32935,
    "start_time": "2024-03-13T11:14:37.077Z"
   },
   {
    "duration": 33936,
    "start_time": "2024-03-13T11:15:44.928Z"
   },
   {
    "duration": 137,
    "start_time": "2024-03-13T11:16:45.053Z"
   },
   {
    "duration": 1429,
    "start_time": "2024-03-13T11:20:54.109Z"
   },
   {
    "duration": 17281,
    "start_time": "2024-03-13T11:21:06.868Z"
   },
   {
    "duration": 249,
    "start_time": "2024-03-13T11:21:47.148Z"
   },
   {
    "duration": 3229,
    "start_time": "2024-03-13T11:25:35.965Z"
   },
   {
    "duration": 1701,
    "start_time": "2024-03-13T11:26:11.628Z"
   },
   {
    "duration": 1749,
    "start_time": "2024-03-13T11:29:08.822Z"
   },
   {
    "duration": 1672,
    "start_time": "2024-03-13T11:29:20.136Z"
   },
   {
    "duration": 1743,
    "start_time": "2024-03-13T11:29:29.845Z"
   },
   {
    "duration": 3416,
    "start_time": "2024-03-13T11:29:40.329Z"
   },
   {
    "duration": 1688,
    "start_time": "2024-03-13T11:29:51.329Z"
   },
   {
    "duration": 1660,
    "start_time": "2024-03-13T11:30:03.735Z"
   },
   {
    "duration": 1660,
    "start_time": "2024-03-13T11:30:16.680Z"
   },
   {
    "duration": 355,
    "start_time": "2024-03-13T11:30:38.633Z"
   },
   {
    "duration": 414,
    "start_time": "2024-03-13T11:31:28.310Z"
   },
   {
    "duration": 368,
    "start_time": "2024-03-13T11:31:48.512Z"
   },
   {
    "duration": 3658,
    "start_time": "2024-03-13T11:32:16.040Z"
   },
   {
    "duration": 1667,
    "start_time": "2024-03-13T11:32:43.026Z"
   },
   {
    "duration": 1656,
    "start_time": "2024-03-13T11:34:36.492Z"
   },
   {
    "duration": 264,
    "start_time": "2024-03-13T11:35:30.397Z"
   },
   {
    "duration": 1727,
    "start_time": "2024-03-13T11:35:50.505Z"
   },
   {
    "duration": 4,
    "start_time": "2024-03-13T11:37:32.130Z"
   },
   {
    "duration": 390,
    "start_time": "2024-03-13T11:37:59.665Z"
   },
   {
    "duration": 252,
    "start_time": "2024-03-13T11:38:14.990Z"
   },
   {
    "duration": 3,
    "start_time": "2024-03-13T11:39:29.559Z"
   },
   {
    "duration": 14,
    "start_time": "2024-03-13T12:07:35.769Z"
   },
   {
    "duration": 14,
    "start_time": "2024-03-13T12:07:42.898Z"
   },
   {
    "duration": 195,
    "start_time": "2024-03-13T12:30:20.549Z"
   },
   {
    "duration": 198,
    "start_time": "2024-03-13T12:31:45.285Z"
   },
   {
    "duration": 198,
    "start_time": "2024-03-13T12:31:58.056Z"
   },
   {
    "duration": 206,
    "start_time": "2024-03-13T12:33:21.313Z"
   },
   {
    "duration": 209,
    "start_time": "2024-03-13T12:33:41.274Z"
   },
   {
    "duration": 197,
    "start_time": "2024-03-13T12:34:34.645Z"
   },
   {
    "duration": 198,
    "start_time": "2024-03-13T12:34:42.135Z"
   },
   {
    "duration": 134,
    "start_time": "2024-03-13T12:50:11.693Z"
   },
   {
    "duration": 1289,
    "start_time": "2024-03-13T20:12:00.216Z"
   },
   {
    "duration": 353,
    "start_time": "2024-03-13T20:12:06.769Z"
   },
   {
    "duration": 11,
    "start_time": "2024-03-13T20:12:09.477Z"
   },
   {
    "duration": 11,
    "start_time": "2024-03-13T20:12:13.136Z"
   },
   {
    "duration": 11,
    "start_time": "2024-03-13T20:12:17.275Z"
   },
   {
    "duration": 10,
    "start_time": "2024-03-13T20:12:21.214Z"
   },
   {
    "duration": 9,
    "start_time": "2024-03-13T20:12:23.472Z"
   },
   {
    "duration": 11,
    "start_time": "2024-03-13T20:12:26.890Z"
   },
   {
    "duration": 8,
    "start_time": "2024-03-13T20:12:35.725Z"
   },
   {
    "duration": 11,
    "start_time": "2024-03-13T20:12:42.299Z"
   },
   {
    "duration": 6,
    "start_time": "2024-03-13T20:12:48.791Z"
   },
   {
    "duration": 8,
    "start_time": "2024-03-13T20:12:56.365Z"
   },
   {
    "duration": 5,
    "start_time": "2024-03-13T20:12:59.701Z"
   },
   {
    "duration": 10,
    "start_time": "2024-03-13T20:13:02.924Z"
   },
   {
    "duration": 9,
    "start_time": "2024-03-13T20:13:08.716Z"
   },
   {
    "duration": 15,
    "start_time": "2024-03-13T20:13:12.942Z"
   },
   {
    "duration": 15,
    "start_time": "2024-03-13T20:13:20.470Z"
   },
   {
    "duration": 15,
    "start_time": "2024-03-13T20:13:30.269Z"
   },
   {
    "duration": 292,
    "start_time": "2024-03-13T20:13:36.381Z"
   },
   {
    "duration": 132,
    "start_time": "2024-03-13T20:14:04.717Z"
   },
   {
    "duration": 223,
    "start_time": "2024-03-13T20:14:51.159Z"
   },
   {
    "duration": 158,
    "start_time": "2024-03-13T20:15:09.503Z"
   },
   {
    "duration": 128,
    "start_time": "2024-03-13T20:15:27.732Z"
   },
   {
    "duration": 8,
    "start_time": "2024-03-13T20:16:59.354Z"
   },
   {
    "duration": 8,
    "start_time": "2024-03-13T20:17:08.506Z"
   },
   {
    "duration": 22,
    "start_time": "2024-03-13T20:17:14.416Z"
   },
   {
    "duration": 27,
    "start_time": "2024-03-13T20:17:18.531Z"
   },
   {
    "duration": 19,
    "start_time": "2024-03-13T20:17:22.283Z"
   },
   {
    "duration": 23,
    "start_time": "2024-03-13T20:17:28.586Z"
   },
   {
    "duration": 201,
    "start_time": "2024-03-13T20:17:55.333Z"
   },
   {
    "duration": 34,
    "start_time": "2024-03-13T20:20:09.842Z"
   },
   {
    "duration": 11,
    "start_time": "2024-03-13T20:20:13.516Z"
   },
   {
    "duration": 13,
    "start_time": "2024-03-13T20:20:17.361Z"
   },
   {
    "duration": 17,
    "start_time": "2024-03-13T20:20:20.802Z"
   },
   {
    "duration": 8,
    "start_time": "2024-03-13T20:20:25.450Z"
   },
   {
    "duration": 5,
    "start_time": "2024-03-13T20:20:42.573Z"
   },
   {
    "duration": 9,
    "start_time": "2024-03-13T20:20:47.976Z"
   },
   {
    "duration": 245,
    "start_time": "2024-03-13T20:21:17.361Z"
   },
   {
    "duration": 3,
    "start_time": "2024-03-13T20:22:17.003Z"
   },
   {
    "duration": 150,
    "start_time": "2024-03-13T20:22:20.240Z"
   },
   {
    "duration": 130,
    "start_time": "2024-03-13T20:23:47.523Z"
   },
   {
    "duration": 6,
    "start_time": "2024-03-13T20:23:52.379Z"
   },
   {
    "duration": 1140,
    "start_time": "2024-03-13T20:42:42.651Z"
   },
   {
    "duration": 123,
    "start_time": "2024-03-13T20:42:43.793Z"
   },
   {
    "duration": 12,
    "start_time": "2024-03-13T20:42:43.918Z"
   },
   {
    "duration": 11,
    "start_time": "2024-03-13T20:42:43.932Z"
   },
   {
    "duration": 10,
    "start_time": "2024-03-13T20:42:43.945Z"
   },
   {
    "duration": 15,
    "start_time": "2024-03-13T20:42:43.956Z"
   },
   {
    "duration": 10,
    "start_time": "2024-03-13T20:42:43.973Z"
   },
   {
    "duration": 13,
    "start_time": "2024-03-13T20:42:43.985Z"
   },
   {
    "duration": 13,
    "start_time": "2024-03-13T20:42:44.000Z"
   },
   {
    "duration": 12,
    "start_time": "2024-03-13T20:42:44.017Z"
   },
   {
    "duration": 6,
    "start_time": "2024-03-13T20:42:44.031Z"
   },
   {
    "duration": 9,
    "start_time": "2024-03-13T20:42:44.039Z"
   },
   {
    "duration": 34,
    "start_time": "2024-03-13T20:42:44.049Z"
   },
   {
    "duration": 10,
    "start_time": "2024-03-13T20:42:44.085Z"
   },
   {
    "duration": 11,
    "start_time": "2024-03-13T20:42:44.097Z"
   },
   {
    "duration": 16,
    "start_time": "2024-03-13T20:42:44.109Z"
   },
   {
    "duration": 199,
    "start_time": "2024-03-13T20:42:44.127Z"
   },
   {
    "duration": 15,
    "start_time": "2024-03-13T20:42:44.328Z"
   },
   {
    "duration": 149,
    "start_time": "2024-03-13T20:42:44.345Z"
   },
   {
    "duration": 15,
    "start_time": "2024-03-13T20:42:44.496Z"
   },
   {
    "duration": 298,
    "start_time": "2024-03-13T20:42:44.513Z"
   },
   {
    "duration": 151,
    "start_time": "2024-03-13T20:42:44.812Z"
   },
   {
    "duration": 148,
    "start_time": "2024-03-13T20:42:44.965Z"
   },
   {
    "duration": 23,
    "start_time": "2024-03-13T20:42:45.115Z"
   },
   {
    "duration": 43,
    "start_time": "2024-03-13T20:42:45.140Z"
   },
   {
    "duration": 27,
    "start_time": "2024-03-13T20:42:45.184Z"
   },
   {
    "duration": 38,
    "start_time": "2024-03-13T20:42:45.212Z"
   },
   {
    "duration": 244,
    "start_time": "2024-03-13T20:42:45.254Z"
   },
   {
    "duration": 264,
    "start_time": "2024-03-13T20:42:45.499Z"
   },
   {
    "duration": 36,
    "start_time": "2024-03-13T20:42:45.765Z"
   },
   {
    "duration": 11,
    "start_time": "2024-03-13T20:42:45.803Z"
   },
   {
    "duration": 11,
    "start_time": "2024-03-13T20:42:45.816Z"
   },
   {
    "duration": 52,
    "start_time": "2024-03-13T20:42:45.828Z"
   },
   {
    "duration": 8,
    "start_time": "2024-03-13T20:42:45.882Z"
   },
   {
    "duration": 6,
    "start_time": "2024-03-13T20:42:45.892Z"
   },
   {
    "duration": 9,
    "start_time": "2024-03-13T20:42:45.900Z"
   },
   {
    "duration": 278,
    "start_time": "2024-03-13T20:42:45.911Z"
   },
   {
    "duration": 4,
    "start_time": "2024-03-13T20:42:46.190Z"
   },
   {
    "duration": 229,
    "start_time": "2024-03-13T20:42:46.196Z"
   },
   {
    "duration": 5,
    "start_time": "2024-03-13T20:42:46.427Z"
   },
   {
    "duration": 1145,
    "start_time": "2024-03-13T21:03:22.665Z"
   },
   {
    "duration": 205,
    "start_time": "2024-03-13T21:03:23.812Z"
   },
   {
    "duration": 11,
    "start_time": "2024-03-13T21:03:24.019Z"
   },
   {
    "duration": 28,
    "start_time": "2024-03-13T21:03:24.031Z"
   },
   {
    "duration": 10,
    "start_time": "2024-03-13T21:03:24.061Z"
   },
   {
    "duration": 18,
    "start_time": "2024-03-13T21:03:24.072Z"
   },
   {
    "duration": 6,
    "start_time": "2024-03-13T21:03:24.091Z"
   },
   {
    "duration": 9,
    "start_time": "2024-03-13T21:03:24.098Z"
   },
   {
    "duration": 7,
    "start_time": "2024-03-13T21:03:24.108Z"
   },
   {
    "duration": 9,
    "start_time": "2024-03-13T21:03:24.116Z"
   },
   {
    "duration": 19,
    "start_time": "2024-03-13T21:03:24.127Z"
   },
   {
    "duration": 5,
    "start_time": "2024-03-13T21:03:24.147Z"
   },
   {
    "duration": 4,
    "start_time": "2024-03-13T21:03:24.154Z"
   },
   {
    "duration": 13,
    "start_time": "2024-03-13T21:03:24.161Z"
   },
   {
    "duration": 7,
    "start_time": "2024-03-13T21:03:24.175Z"
   },
   {
    "duration": 12,
    "start_time": "2024-03-13T21:03:24.184Z"
   },
   {
    "duration": 168,
    "start_time": "2024-03-13T21:03:24.197Z"
   },
   {
    "duration": 14,
    "start_time": "2024-03-13T21:03:24.366Z"
   },
   {
    "duration": 130,
    "start_time": "2024-03-13T21:03:24.381Z"
   },
   {
    "duration": 12,
    "start_time": "2024-03-13T21:03:24.512Z"
   },
   {
    "duration": 234,
    "start_time": "2024-03-13T21:03:24.525Z"
   },
   {
    "duration": 133,
    "start_time": "2024-03-13T21:03:24.760Z"
   },
   {
    "duration": 117,
    "start_time": "2024-03-13T21:03:24.894Z"
   },
   {
    "duration": 17,
    "start_time": "2024-03-13T21:03:25.012Z"
   },
   {
    "duration": 27,
    "start_time": "2024-03-13T21:03:25.030Z"
   },
   {
    "duration": 15,
    "start_time": "2024-03-13T21:03:25.059Z"
   },
   {
    "duration": 12,
    "start_time": "2024-03-13T21:03:25.075Z"
   },
   {
    "duration": 199,
    "start_time": "2024-03-13T21:03:25.088Z"
   },
   {
    "duration": 181,
    "start_time": "2024-03-13T21:03:25.288Z"
   },
   {
    "duration": 27,
    "start_time": "2024-03-13T21:03:25.471Z"
   },
   {
    "duration": 9,
    "start_time": "2024-03-13T21:03:25.499Z"
   },
   {
    "duration": 18,
    "start_time": "2024-03-13T21:03:25.510Z"
   },
   {
    "duration": 27,
    "start_time": "2024-03-13T21:03:25.530Z"
   },
   {
    "duration": 6,
    "start_time": "2024-03-13T21:03:25.558Z"
   },
   {
    "duration": 6,
    "start_time": "2024-03-13T21:03:25.566Z"
   },
   {
    "duration": 7,
    "start_time": "2024-03-13T21:03:25.573Z"
   },
   {
    "duration": 239,
    "start_time": "2024-03-13T21:03:25.582Z"
   },
   {
    "duration": 4,
    "start_time": "2024-03-13T21:03:25.822Z"
   },
   {
    "duration": 188,
    "start_time": "2024-03-13T21:03:25.827Z"
   },
   {
    "duration": 4,
    "start_time": "2024-03-13T21:03:26.016Z"
   },
   {
    "duration": 6,
    "start_time": "2024-03-13T21:17:07.428Z"
   },
   {
    "duration": 6,
    "start_time": "2024-03-13T21:17:13.831Z"
   },
   {
    "duration": 5,
    "start_time": "2024-03-13T21:18:09.813Z"
   },
   {
    "duration": 4,
    "start_time": "2024-03-13T21:18:19.151Z"
   },
   {
    "duration": 16,
    "start_time": "2024-03-13T21:18:36.676Z"
   },
   {
    "duration": 11,
    "start_time": "2024-03-13T21:18:48.858Z"
   },
   {
    "duration": 4,
    "start_time": "2024-03-13T21:19:30.154Z"
   },
   {
    "duration": 5,
    "start_time": "2024-03-13T21:24:38.392Z"
   },
   {
    "duration": 106,
    "start_time": "2024-03-13T21:25:38.239Z"
   },
   {
    "duration": 1350,
    "start_time": "2024-03-13T21:26:15.207Z"
   },
   {
    "duration": 1436,
    "start_time": "2024-03-13T21:26:27.096Z"
   },
   {
    "duration": 204,
    "start_time": "2024-03-13T21:27:14.632Z"
   },
   {
    "duration": 126,
    "start_time": "2024-03-13T21:33:24.385Z"
   },
   {
    "duration": 52,
    "start_time": "2024-03-14T08:10:39.891Z"
   },
   {
    "duration": 1276,
    "start_time": "2024-03-14T08:10:46.603Z"
   },
   {
    "duration": 253,
    "start_time": "2024-03-14T08:10:47.881Z"
   },
   {
    "duration": 13,
    "start_time": "2024-03-14T08:10:48.136Z"
   },
   {
    "duration": 25,
    "start_time": "2024-03-14T08:10:48.151Z"
   },
   {
    "duration": 12,
    "start_time": "2024-03-14T08:10:48.177Z"
   },
   {
    "duration": 12,
    "start_time": "2024-03-14T08:10:48.191Z"
   },
   {
    "duration": 8,
    "start_time": "2024-03-14T08:10:48.205Z"
   },
   {
    "duration": 15,
    "start_time": "2024-03-14T08:10:48.214Z"
   },
   {
    "duration": 8,
    "start_time": "2024-03-14T08:10:48.231Z"
   },
   {
    "duration": 12,
    "start_time": "2024-03-14T08:10:48.242Z"
   },
   {
    "duration": 6,
    "start_time": "2024-03-14T08:10:48.255Z"
   },
   {
    "duration": 8,
    "start_time": "2024-03-14T08:10:48.263Z"
   },
   {
    "duration": 6,
    "start_time": "2024-03-14T08:10:48.272Z"
   },
   {
    "duration": 48,
    "start_time": "2024-03-14T08:10:48.279Z"
   },
   {
    "duration": 8,
    "start_time": "2024-03-14T08:10:48.329Z"
   },
   {
    "duration": 32,
    "start_time": "2024-03-14T08:10:48.338Z"
   },
   {
    "duration": 189,
    "start_time": "2024-03-14T08:10:48.372Z"
   },
   {
    "duration": 16,
    "start_time": "2024-03-14T08:10:48.563Z"
   },
   {
    "duration": 158,
    "start_time": "2024-03-14T08:10:48.580Z"
   },
   {
    "duration": 15,
    "start_time": "2024-03-14T08:10:48.740Z"
   },
   {
    "duration": 280,
    "start_time": "2024-03-14T08:10:48.757Z"
   },
   {
    "duration": 147,
    "start_time": "2024-03-14T08:10:49.039Z"
   },
   {
    "duration": 144,
    "start_time": "2024-03-14T08:10:49.187Z"
   },
   {
    "duration": 23,
    "start_time": "2024-03-14T08:10:49.332Z"
   },
   {
    "duration": 19,
    "start_time": "2024-03-14T08:10:49.357Z"
   },
   {
    "duration": 46,
    "start_time": "2024-03-14T08:10:49.378Z"
   },
   {
    "duration": 16,
    "start_time": "2024-03-14T08:10:49.426Z"
   },
   {
    "duration": 227,
    "start_time": "2024-03-14T08:10:49.446Z"
   },
   {
    "duration": 215,
    "start_time": "2024-03-14T08:10:49.675Z"
   },
   {
    "duration": 36,
    "start_time": "2024-03-14T08:10:49.892Z"
   },
   {
    "duration": 9,
    "start_time": "2024-03-14T08:10:49.930Z"
   },
   {
    "duration": 11,
    "start_time": "2024-03-14T08:10:49.941Z"
   },
   {
    "duration": 17,
    "start_time": "2024-03-14T08:10:49.954Z"
   },
   {
    "duration": 6,
    "start_time": "2024-03-14T08:10:49.972Z"
   },
   {
    "duration": 8,
    "start_time": "2024-03-14T08:10:49.980Z"
   },
   {
    "duration": 36,
    "start_time": "2024-03-14T08:10:49.990Z"
   },
   {
    "duration": 13,
    "start_time": "2024-03-14T08:10:50.028Z"
   },
   {
    "duration": 266,
    "start_time": "2024-03-14T08:10:50.043Z"
   },
   {
    "duration": 364,
    "start_time": "2024-03-14T08:10:50.311Z"
   },
   {
    "duration": 5,
    "start_time": "2024-03-14T08:10:50.677Z"
   },
   {
    "duration": 172,
    "start_time": "2024-03-14T08:10:50.684Z"
   },
   {
    "duration": 5,
    "start_time": "2024-03-14T08:10:50.857Z"
   },
   {
    "duration": 222,
    "start_time": "2024-03-14T08:13:25.568Z"
   },
   {
    "duration": 154,
    "start_time": "2024-03-14T08:13:37.811Z"
   },
   {
    "duration": 132,
    "start_time": "2024-03-14T08:14:13.806Z"
   },
   {
    "duration": 131,
    "start_time": "2024-03-14T08:16:34.003Z"
   },
   {
    "duration": 1245,
    "start_time": "2024-03-14T08:20:50.662Z"
   },
   {
    "duration": 1225,
    "start_time": "2024-03-14T08:21:14.288Z"
   },
   {
    "duration": 319,
    "start_time": "2024-03-14T08:22:01.614Z"
   },
   {
    "duration": 1169,
    "start_time": "2024-03-14T08:23:58.849Z"
   },
   {
    "duration": 1120,
    "start_time": "2024-03-14T08:24:26.062Z"
   },
   {
    "duration": 4,
    "start_time": "2024-03-14T08:25:09.174Z"
   },
   {
    "duration": 78,
    "start_time": "2024-03-14T08:25:31.088Z"
   },
   {
    "duration": 142,
    "start_time": "2024-03-14T08:28:20.535Z"
   },
   {
    "duration": 167,
    "start_time": "2024-03-14T08:28:40.821Z"
   },
   {
    "duration": 84,
    "start_time": "2024-03-14T08:30:14.662Z"
   },
   {
    "duration": 142,
    "start_time": "2024-03-14T08:30:23.713Z"
   },
   {
    "duration": 99,
    "start_time": "2024-03-14T08:30:38.257Z"
   },
   {
    "duration": 81,
    "start_time": "2024-03-14T08:31:06.046Z"
   },
   {
    "duration": 130,
    "start_time": "2024-03-14T08:31:12.078Z"
   },
   {
    "duration": 259,
    "start_time": "2024-03-14T08:31:24.878Z"
   },
   {
    "duration": 92,
    "start_time": "2024-03-14T08:32:21.261Z"
   },
   {
    "duration": 100,
    "start_time": "2024-03-14T08:33:26.444Z"
   },
   {
    "duration": 107,
    "start_time": "2024-03-14T08:34:22.139Z"
   },
   {
    "duration": 105,
    "start_time": "2024-03-14T08:35:05.802Z"
   },
   {
    "duration": 113,
    "start_time": "2024-03-14T08:35:41.256Z"
   },
   {
    "duration": 119,
    "start_time": "2024-03-14T08:35:51.128Z"
   },
   {
    "duration": 336,
    "start_time": "2024-03-14T08:40:12.252Z"
   },
   {
    "duration": 306,
    "start_time": "2024-03-14T08:40:54.130Z"
   },
   {
    "duration": 197,
    "start_time": "2024-03-14T08:47:56.983Z"
   },
   {
    "duration": 202,
    "start_time": "2024-03-14T08:48:07.517Z"
   },
   {
    "duration": 149,
    "start_time": "2024-03-14T08:48:32.437Z"
   },
   {
    "duration": 33,
    "start_time": "2024-03-14T08:51:42.628Z"
   },
   {
    "duration": 21,
    "start_time": "2024-03-14T08:52:00.991Z"
   },
   {
    "duration": 29,
    "start_time": "2024-03-14T08:52:18.439Z"
   },
   {
    "duration": 26,
    "start_time": "2024-03-14T08:52:29.824Z"
   },
   {
    "duration": 156,
    "start_time": "2024-03-14T09:03:16.387Z"
   },
   {
    "duration": 155,
    "start_time": "2024-03-14T09:04:07.931Z"
   },
   {
    "duration": 152,
    "start_time": "2024-03-14T09:04:49.347Z"
   },
   {
    "duration": 268,
    "start_time": "2024-03-14T09:05:33.877Z"
   },
   {
    "duration": 159,
    "start_time": "2024-03-14T09:05:39.596Z"
   },
   {
    "duration": 171,
    "start_time": "2024-03-14T09:08:01.539Z"
   },
   {
    "duration": 24,
    "start_time": "2024-03-14T09:12:09.823Z"
   },
   {
    "duration": 36,
    "start_time": "2024-03-14T09:12:18.710Z"
   },
   {
    "duration": 1196,
    "start_time": "2024-03-14T09:12:30.186Z"
   },
   {
    "duration": 133,
    "start_time": "2024-03-14T09:12:31.384Z"
   },
   {
    "duration": 32,
    "start_time": "2024-03-14T09:12:31.519Z"
   },
   {
    "duration": 46,
    "start_time": "2024-03-14T09:12:31.553Z"
   },
   {
    "duration": 58,
    "start_time": "2024-03-14T09:12:31.601Z"
   },
   {
    "duration": 52,
    "start_time": "2024-03-14T09:12:31.661Z"
   },
   {
    "duration": 78,
    "start_time": "2024-03-14T09:12:31.715Z"
   },
   {
    "duration": 47,
    "start_time": "2024-03-14T09:12:31.795Z"
   },
   {
    "duration": 269,
    "start_time": "2024-03-14T09:12:31.844Z"
   },
   {
    "duration": 735,
    "start_time": "2024-03-14T09:12:32.115Z"
   },
   {
    "duration": 92,
    "start_time": "2024-03-14T09:12:32.853Z"
   },
   {
    "duration": 40,
    "start_time": "2024-03-14T09:12:32.947Z"
   },
   {
    "duration": 24,
    "start_time": "2024-03-14T09:12:32.989Z"
   },
   {
    "duration": 60,
    "start_time": "2024-03-14T09:12:33.017Z"
   },
   {
    "duration": 127,
    "start_time": "2024-03-14T09:12:33.080Z"
   },
   {
    "duration": 110,
    "start_time": "2024-03-14T09:12:33.209Z"
   },
   {
    "duration": 315,
    "start_time": "2024-03-14T09:12:33.321Z"
   },
   {
    "duration": 17,
    "start_time": "2024-03-14T09:12:33.638Z"
   },
   {
    "duration": 186,
    "start_time": "2024-03-14T09:12:33.657Z"
   },
   {
    "duration": 26,
    "start_time": "2024-03-14T09:12:33.846Z"
   },
   {
    "duration": 342,
    "start_time": "2024-03-14T09:12:33.873Z"
   },
   {
    "duration": 276,
    "start_time": "2024-03-14T09:12:34.217Z"
   },
   {
    "duration": 0,
    "start_time": "2024-03-14T09:12:34.495Z"
   },
   {
    "duration": 0,
    "start_time": "2024-03-14T09:12:34.496Z"
   },
   {
    "duration": 0,
    "start_time": "2024-03-14T09:12:34.497Z"
   },
   {
    "duration": 0,
    "start_time": "2024-03-14T09:12:34.498Z"
   },
   {
    "duration": 0,
    "start_time": "2024-03-14T09:12:34.499Z"
   },
   {
    "duration": 0,
    "start_time": "2024-03-14T09:12:34.501Z"
   },
   {
    "duration": 0,
    "start_time": "2024-03-14T09:12:34.502Z"
   },
   {
    "duration": 0,
    "start_time": "2024-03-14T09:12:34.503Z"
   },
   {
    "duration": 0,
    "start_time": "2024-03-14T09:12:34.504Z"
   },
   {
    "duration": 0,
    "start_time": "2024-03-14T09:12:34.525Z"
   },
   {
    "duration": 0,
    "start_time": "2024-03-14T09:12:34.526Z"
   },
   {
    "duration": 0,
    "start_time": "2024-03-14T09:12:34.526Z"
   },
   {
    "duration": 0,
    "start_time": "2024-03-14T09:12:34.527Z"
   },
   {
    "duration": 0,
    "start_time": "2024-03-14T09:12:34.528Z"
   },
   {
    "duration": 0,
    "start_time": "2024-03-14T09:12:34.532Z"
   },
   {
    "duration": 0,
    "start_time": "2024-03-14T09:12:34.533Z"
   },
   {
    "duration": 0,
    "start_time": "2024-03-14T09:12:34.544Z"
   },
   {
    "duration": 0,
    "start_time": "2024-03-14T09:12:34.545Z"
   },
   {
    "duration": 0,
    "start_time": "2024-03-14T09:12:34.546Z"
   },
   {
    "duration": 0,
    "start_time": "2024-03-14T09:12:34.548Z"
   },
   {
    "duration": 184,
    "start_time": "2024-03-14T09:13:40.959Z"
   },
   {
    "duration": 179,
    "start_time": "2024-03-14T09:14:56.591Z"
   },
   {
    "duration": 1150,
    "start_time": "2024-03-14T09:15:19.568Z"
   },
   {
    "duration": 119,
    "start_time": "2024-03-14T09:15:20.721Z"
   },
   {
    "duration": 14,
    "start_time": "2024-03-14T09:15:20.842Z"
   },
   {
    "duration": 12,
    "start_time": "2024-03-14T09:15:20.857Z"
   },
   {
    "duration": 18,
    "start_time": "2024-03-14T09:15:20.871Z"
   },
   {
    "duration": 23,
    "start_time": "2024-03-14T09:15:20.891Z"
   },
   {
    "duration": 24,
    "start_time": "2024-03-14T09:15:20.916Z"
   },
   {
    "duration": 31,
    "start_time": "2024-03-14T09:15:20.942Z"
   },
   {
    "duration": 13,
    "start_time": "2024-03-14T09:15:20.975Z"
   },
   {
    "duration": 24,
    "start_time": "2024-03-14T09:15:20.989Z"
   },
   {
    "duration": 19,
    "start_time": "2024-03-14T09:15:21.015Z"
   },
   {
    "duration": 16,
    "start_time": "2024-03-14T09:15:21.040Z"
   },
   {
    "duration": 16,
    "start_time": "2024-03-14T09:15:21.058Z"
   },
   {
    "duration": 13,
    "start_time": "2024-03-14T09:15:21.077Z"
   },
   {
    "duration": 58,
    "start_time": "2024-03-14T09:15:21.091Z"
   },
   {
    "duration": 87,
    "start_time": "2024-03-14T09:15:21.151Z"
   },
   {
    "duration": 228,
    "start_time": "2024-03-14T09:15:21.242Z"
   },
   {
    "duration": 23,
    "start_time": "2024-03-14T09:15:21.471Z"
   },
   {
    "duration": 135,
    "start_time": "2024-03-14T09:15:21.498Z"
   },
   {
    "duration": 16,
    "start_time": "2024-03-14T09:15:21.637Z"
   },
   {
    "duration": 327,
    "start_time": "2024-03-14T09:15:21.655Z"
   },
   {
    "duration": 177,
    "start_time": "2024-03-14T09:15:21.985Z"
   },
   {
    "duration": 176,
    "start_time": "2024-03-14T09:15:22.164Z"
   },
   {
    "duration": 22,
    "start_time": "2024-03-14T09:15:22.342Z"
   },
   {
    "duration": 21,
    "start_time": "2024-03-14T09:15:22.366Z"
   },
   {
    "duration": 59,
    "start_time": "2024-03-14T09:15:22.389Z"
   },
   {
    "duration": 20,
    "start_time": "2024-03-14T09:15:22.450Z"
   },
   {
    "duration": 259,
    "start_time": "2024-03-14T09:15:22.472Z"
   },
   {
    "duration": 251,
    "start_time": "2024-03-14T09:15:22.735Z"
   },
   {
    "duration": 112,
    "start_time": "2024-03-14T09:15:22.988Z"
   },
   {
    "duration": 0,
    "start_time": "2024-03-14T09:15:23.102Z"
   },
   {
    "duration": 0,
    "start_time": "2024-03-14T09:15:23.103Z"
   },
   {
    "duration": 0,
    "start_time": "2024-03-14T09:15:23.105Z"
   },
   {
    "duration": 0,
    "start_time": "2024-03-14T09:15:23.107Z"
   },
   {
    "duration": 0,
    "start_time": "2024-03-14T09:15:23.123Z"
   },
   {
    "duration": 0,
    "start_time": "2024-03-14T09:15:23.124Z"
   },
   {
    "duration": 0,
    "start_time": "2024-03-14T09:15:23.125Z"
   },
   {
    "duration": 0,
    "start_time": "2024-03-14T09:15:23.125Z"
   },
   {
    "duration": 0,
    "start_time": "2024-03-14T09:15:23.126Z"
   },
   {
    "duration": 0,
    "start_time": "2024-03-14T09:15:23.132Z"
   },
   {
    "duration": 0,
    "start_time": "2024-03-14T09:15:23.133Z"
   },
   {
    "duration": 0,
    "start_time": "2024-03-14T09:15:23.134Z"
   },
   {
    "duration": 1159,
    "start_time": "2024-03-14T09:16:00.377Z"
   },
   {
    "duration": 22,
    "start_time": "2024-03-14T09:16:15.633Z"
   },
   {
    "duration": 11,
    "start_time": "2024-03-14T09:16:24.310Z"
   },
   {
    "duration": 33,
    "start_time": "2024-03-14T09:16:29.453Z"
   },
   {
    "duration": 45,
    "start_time": "2024-03-14T09:17:41.896Z"
   },
   {
    "duration": 12,
    "start_time": "2024-03-14T09:19:22.092Z"
   },
   {
    "duration": 28,
    "start_time": "2024-03-14T09:19:27.113Z"
   },
   {
    "duration": 20,
    "start_time": "2024-03-14T09:20:29.949Z"
   },
   {
    "duration": 5,
    "start_time": "2024-03-14T09:26:34.466Z"
   },
   {
    "duration": 19,
    "start_time": "2024-03-14T09:26:42.536Z"
   },
   {
    "duration": 7,
    "start_time": "2024-03-14T09:31:06.606Z"
   },
   {
    "duration": 5,
    "start_time": "2024-03-14T09:32:03.588Z"
   },
   {
    "duration": 5,
    "start_time": "2024-03-14T09:36:57.495Z"
   },
   {
    "duration": 253,
    "start_time": "2024-03-14T09:41:34.910Z"
   },
   {
    "duration": 231,
    "start_time": "2024-03-14T09:41:48.701Z"
   },
   {
    "duration": 30,
    "start_time": "2024-03-14T09:43:04.256Z"
   },
   {
    "duration": 11,
    "start_time": "2024-03-14T09:43:12.145Z"
   },
   {
    "duration": 33,
    "start_time": "2024-03-14T09:43:32.572Z"
   },
   {
    "duration": 274,
    "start_time": "2024-03-14T09:47:45.645Z"
   },
   {
    "duration": 222,
    "start_time": "2024-03-14T09:47:57.138Z"
   },
   {
    "duration": 220,
    "start_time": "2024-03-14T09:48:51.884Z"
   },
   {
    "duration": 218,
    "start_time": "2024-03-14T09:50:02.618Z"
   },
   {
    "duration": 1169,
    "start_time": "2024-03-14T09:50:21.228Z"
   },
   {
    "duration": 130,
    "start_time": "2024-03-14T09:50:22.399Z"
   },
   {
    "duration": 15,
    "start_time": "2024-03-14T09:50:22.532Z"
   },
   {
    "duration": 39,
    "start_time": "2024-03-14T09:50:22.549Z"
   },
   {
    "duration": 27,
    "start_time": "2024-03-14T09:50:22.590Z"
   },
   {
    "duration": 25,
    "start_time": "2024-03-14T09:50:22.618Z"
   },
   {
    "duration": 7,
    "start_time": "2024-03-14T09:50:22.645Z"
   },
   {
    "duration": 18,
    "start_time": "2024-03-14T09:50:22.653Z"
   },
   {
    "duration": 19,
    "start_time": "2024-03-14T09:50:22.673Z"
   },
   {
    "duration": 18,
    "start_time": "2024-03-14T09:50:22.695Z"
   },
   {
    "duration": 18,
    "start_time": "2024-03-14T09:50:22.715Z"
   },
   {
    "duration": 13,
    "start_time": "2024-03-14T09:50:22.735Z"
   },
   {
    "duration": 6,
    "start_time": "2024-03-14T09:50:22.749Z"
   },
   {
    "duration": 12,
    "start_time": "2024-03-14T09:50:22.757Z"
   },
   {
    "duration": 9,
    "start_time": "2024-03-14T09:50:22.770Z"
   },
   {
    "duration": 29,
    "start_time": "2024-03-14T09:50:22.780Z"
   },
   {
    "duration": 208,
    "start_time": "2024-03-14T09:50:22.810Z"
   },
   {
    "duration": 21,
    "start_time": "2024-03-14T09:50:23.023Z"
   },
   {
    "duration": 140,
    "start_time": "2024-03-14T09:50:23.047Z"
   },
   {
    "duration": 15,
    "start_time": "2024-03-14T09:50:23.189Z"
   },
   {
    "duration": 323,
    "start_time": "2024-03-14T09:50:23.205Z"
   },
   {
    "duration": 167,
    "start_time": "2024-03-14T09:50:23.530Z"
   },
   {
    "duration": 180,
    "start_time": "2024-03-14T09:50:23.698Z"
   },
   {
    "duration": 22,
    "start_time": "2024-03-14T09:50:23.879Z"
   },
   {
    "duration": 42,
    "start_time": "2024-03-14T09:50:23.904Z"
   },
   {
    "duration": 21,
    "start_time": "2024-03-14T09:50:23.948Z"
   },
   {
    "duration": 35,
    "start_time": "2024-03-14T09:50:23.971Z"
   },
   {
    "duration": 234,
    "start_time": "2024-03-14T09:50:24.010Z"
   },
   {
    "duration": 218,
    "start_time": "2024-03-14T09:50:24.246Z"
   },
   {
    "duration": 10,
    "start_time": "2024-03-14T09:50:24.466Z"
   },
   {
    "duration": 48,
    "start_time": "2024-03-14T09:50:24.478Z"
   },
   {
    "duration": 14,
    "start_time": "2024-03-14T09:50:24.531Z"
   },
   {
    "duration": 55,
    "start_time": "2024-03-14T09:50:24.546Z"
   },
   {
    "duration": 8,
    "start_time": "2024-03-14T09:50:24.602Z"
   },
   {
    "duration": 23,
    "start_time": "2024-03-14T09:50:24.612Z"
   },
   {
    "duration": 38,
    "start_time": "2024-03-14T09:50:24.638Z"
   },
   {
    "duration": 296,
    "start_time": "2024-03-14T09:50:24.678Z"
   },
   {
    "duration": 360,
    "start_time": "2024-03-14T09:50:24.976Z"
   },
   {
    "duration": 4,
    "start_time": "2024-03-14T09:50:25.338Z"
   },
   {
    "duration": 172,
    "start_time": "2024-03-14T09:50:25.344Z"
   },
   {
    "duration": 8,
    "start_time": "2024-03-14T09:50:25.518Z"
   },
   {
    "duration": 87,
    "start_time": "2024-03-14T15:09:51.680Z"
   },
   {
    "duration": 46,
    "start_time": "2024-03-14T15:12:15.199Z"
   },
   {
    "duration": 1250,
    "start_time": "2024-03-14T15:12:33.856Z"
   },
   {
    "duration": 257,
    "start_time": "2024-03-14T15:12:35.109Z"
   },
   {
    "duration": 14,
    "start_time": "2024-03-14T15:12:35.368Z"
   },
   {
    "duration": 14,
    "start_time": "2024-03-14T15:12:35.385Z"
   },
   {
    "duration": 39,
    "start_time": "2024-03-14T15:12:35.402Z"
   },
   {
    "duration": 25,
    "start_time": "2024-03-14T15:12:35.443Z"
   },
   {
    "duration": 13,
    "start_time": "2024-03-14T15:12:35.470Z"
   },
   {
    "duration": 31,
    "start_time": "2024-03-14T15:12:35.485Z"
   },
   {
    "duration": 34,
    "start_time": "2024-03-14T15:12:35.518Z"
   },
   {
    "duration": 22,
    "start_time": "2024-03-14T15:12:35.555Z"
   },
   {
    "duration": 6,
    "start_time": "2024-03-14T15:12:35.580Z"
   },
   {
    "duration": 17,
    "start_time": "2024-03-14T15:12:35.587Z"
   },
   {
    "duration": 18,
    "start_time": "2024-03-14T15:12:35.605Z"
   },
   {
    "duration": 33,
    "start_time": "2024-03-14T15:12:35.624Z"
   },
   {
    "duration": 11,
    "start_time": "2024-03-14T15:12:35.658Z"
   },
   {
    "duration": 25,
    "start_time": "2024-03-14T15:12:35.671Z"
   },
   {
    "duration": 220,
    "start_time": "2024-03-14T15:12:35.698Z"
   },
   {
    "duration": 15,
    "start_time": "2024-03-14T15:12:35.920Z"
   },
   {
    "duration": 142,
    "start_time": "2024-03-14T15:12:35.937Z"
   },
   {
    "duration": 19,
    "start_time": "2024-03-14T15:12:36.081Z"
   },
   {
    "duration": 321,
    "start_time": "2024-03-14T15:12:36.102Z"
   },
   {
    "duration": 172,
    "start_time": "2024-03-14T15:12:36.425Z"
   },
   {
    "duration": 159,
    "start_time": "2024-03-14T15:12:36.599Z"
   },
   {
    "duration": 23,
    "start_time": "2024-03-14T15:12:36.760Z"
   },
   {
    "duration": 24,
    "start_time": "2024-03-14T15:12:36.785Z"
   },
   {
    "duration": 52,
    "start_time": "2024-03-14T15:12:36.811Z"
   },
   {
    "duration": 20,
    "start_time": "2024-03-14T15:12:36.865Z"
   },
   {
    "duration": 238,
    "start_time": "2024-03-14T15:12:36.888Z"
   },
   {
    "duration": 261,
    "start_time": "2024-03-14T15:12:37.128Z"
   },
   {
    "duration": 12,
    "start_time": "2024-03-14T15:12:37.391Z"
   },
   {
    "duration": 69,
    "start_time": "2024-03-14T15:12:37.405Z"
   },
   {
    "duration": 16,
    "start_time": "2024-03-14T15:12:37.476Z"
   },
   {
    "duration": 20,
    "start_time": "2024-03-14T15:12:37.493Z"
   },
   {
    "duration": 30,
    "start_time": "2024-03-14T15:12:37.515Z"
   },
   {
    "duration": 18,
    "start_time": "2024-03-14T15:12:37.546Z"
   },
   {
    "duration": 1316,
    "start_time": "2024-03-14T15:12:37.566Z"
   },
   {
    "duration": 0,
    "start_time": "2024-03-14T15:12:38.884Z"
   },
   {
    "duration": 0,
    "start_time": "2024-03-14T15:12:38.885Z"
   },
   {
    "duration": 0,
    "start_time": "2024-03-14T15:12:38.888Z"
   },
   {
    "duration": 0,
    "start_time": "2024-03-14T15:12:38.889Z"
   },
   {
    "duration": 0,
    "start_time": "2024-03-14T15:12:38.890Z"
   },
   {
    "duration": 13,
    "start_time": "2024-03-14T15:13:19.298Z"
   },
   {
    "duration": 19,
    "start_time": "2024-03-14T15:14:35.452Z"
   },
   {
    "duration": 17,
    "start_time": "2024-03-14T15:15:24.398Z"
   },
   {
    "duration": 17,
    "start_time": "2024-03-14T15:15:51.298Z"
   },
   {
    "duration": 15,
    "start_time": "2024-03-14T15:23:50.404Z"
   },
   {
    "duration": 15,
    "start_time": "2024-03-14T15:24:03.013Z"
   },
   {
    "duration": 382,
    "start_time": "2024-03-14T15:25:00.294Z"
   },
   {
    "duration": 56,
    "start_time": "2024-03-14T15:25:22.647Z"
   },
   {
    "duration": 37,
    "start_time": "2024-03-14T15:25:55.140Z"
   },
   {
    "duration": 1076,
    "start_time": "2024-03-14T15:26:27.129Z"
   },
   {
    "duration": 113,
    "start_time": "2024-03-14T15:26:28.206Z"
   },
   {
    "duration": 11,
    "start_time": "2024-03-14T15:26:28.321Z"
   },
   {
    "duration": 10,
    "start_time": "2024-03-14T15:26:28.334Z"
   },
   {
    "duration": 24,
    "start_time": "2024-03-14T15:26:28.346Z"
   },
   {
    "duration": 20,
    "start_time": "2024-03-14T15:26:28.371Z"
   },
   {
    "duration": 6,
    "start_time": "2024-03-14T15:26:28.393Z"
   },
   {
    "duration": 10,
    "start_time": "2024-03-14T15:26:28.401Z"
   },
   {
    "duration": 10,
    "start_time": "2024-03-14T15:26:28.413Z"
   },
   {
    "duration": 11,
    "start_time": "2024-03-14T15:26:28.426Z"
   },
   {
    "duration": 24,
    "start_time": "2024-03-14T15:26:28.438Z"
   },
   {
    "duration": 19,
    "start_time": "2024-03-14T15:26:28.464Z"
   },
   {
    "duration": 6,
    "start_time": "2024-03-14T15:26:28.485Z"
   },
   {
    "duration": 14,
    "start_time": "2024-03-14T15:26:28.493Z"
   },
   {
    "duration": 8,
    "start_time": "2024-03-14T15:26:28.508Z"
   },
   {
    "duration": 17,
    "start_time": "2024-03-14T15:26:28.518Z"
   },
   {
    "duration": 188,
    "start_time": "2024-03-14T15:26:28.537Z"
   },
   {
    "duration": 15,
    "start_time": "2024-03-14T15:26:28.727Z"
   },
   {
    "duration": 107,
    "start_time": "2024-03-14T15:26:28.758Z"
   },
   {
    "duration": 14,
    "start_time": "2024-03-14T15:26:28.867Z"
   },
   {
    "duration": 287,
    "start_time": "2024-03-14T15:26:28.883Z"
   },
   {
    "duration": 162,
    "start_time": "2024-03-14T15:26:29.172Z"
   },
   {
    "duration": 156,
    "start_time": "2024-03-14T15:26:29.336Z"
   },
   {
    "duration": 21,
    "start_time": "2024-03-14T15:26:29.493Z"
   },
   {
    "duration": 20,
    "start_time": "2024-03-14T15:26:29.515Z"
   },
   {
    "duration": 36,
    "start_time": "2024-03-14T15:26:29.536Z"
   },
   {
    "duration": 52,
    "start_time": "2024-03-14T15:26:29.574Z"
   },
   {
    "duration": 182,
    "start_time": "2024-03-14T15:26:29.629Z"
   },
   {
    "duration": 186,
    "start_time": "2024-03-14T15:26:29.813Z"
   },
   {
    "duration": 10,
    "start_time": "2024-03-14T15:26:30.000Z"
   },
   {
    "duration": 77,
    "start_time": "2024-03-14T15:26:30.012Z"
   },
   {
    "duration": 53,
    "start_time": "2024-03-14T15:26:30.090Z"
   },
   {
    "duration": 1391,
    "start_time": "2024-03-14T15:26:30.145Z"
   },
   {
    "duration": 0,
    "start_time": "2024-03-14T15:26:31.538Z"
   },
   {
    "duration": 0,
    "start_time": "2024-03-14T15:26:31.539Z"
   },
   {
    "duration": 0,
    "start_time": "2024-03-14T15:26:31.540Z"
   },
   {
    "duration": 0,
    "start_time": "2024-03-14T15:26:31.541Z"
   },
   {
    "duration": 0,
    "start_time": "2024-03-14T15:26:31.543Z"
   },
   {
    "duration": 0,
    "start_time": "2024-03-14T15:26:31.544Z"
   },
   {
    "duration": 1,
    "start_time": "2024-03-14T15:26:31.545Z"
   },
   {
    "duration": 0,
    "start_time": "2024-03-14T15:26:31.547Z"
   },
   {
    "duration": 55,
    "start_time": "2024-03-14T15:27:36.966Z"
   },
   {
    "duration": 39,
    "start_time": "2024-03-14T15:27:57.935Z"
   },
   {
    "duration": 39,
    "start_time": "2024-03-14T15:28:02.596Z"
   },
   {
    "duration": 39,
    "start_time": "2024-03-14T15:28:11.923Z"
   },
   {
    "duration": 1092,
    "start_time": "2024-03-14T15:28:42.348Z"
   },
   {
    "duration": 115,
    "start_time": "2024-03-14T15:28:43.442Z"
   },
   {
    "duration": 12,
    "start_time": "2024-03-14T15:28:43.558Z"
   },
   {
    "duration": 11,
    "start_time": "2024-03-14T15:28:43.572Z"
   },
   {
    "duration": 9,
    "start_time": "2024-03-14T15:28:43.584Z"
   },
   {
    "duration": 11,
    "start_time": "2024-03-14T15:28:43.595Z"
   },
   {
    "duration": 9,
    "start_time": "2024-03-14T15:28:43.607Z"
   },
   {
    "duration": 17,
    "start_time": "2024-03-14T15:28:43.618Z"
   },
   {
    "duration": 9,
    "start_time": "2024-03-14T15:28:43.658Z"
   },
   {
    "duration": 29,
    "start_time": "2024-03-14T15:28:43.669Z"
   },
   {
    "duration": 16,
    "start_time": "2024-03-14T15:28:43.699Z"
   },
   {
    "duration": 11,
    "start_time": "2024-03-14T15:28:43.717Z"
   },
   {
    "duration": 5,
    "start_time": "2024-03-14T15:28:43.730Z"
   },
   {
    "duration": 10,
    "start_time": "2024-03-14T15:28:43.736Z"
   },
   {
    "duration": 11,
    "start_time": "2024-03-14T15:28:43.748Z"
   },
   {
    "duration": 13,
    "start_time": "2024-03-14T15:28:43.761Z"
   },
   {
    "duration": 191,
    "start_time": "2024-03-14T15:28:43.776Z"
   },
   {
    "duration": 16,
    "start_time": "2024-03-14T15:28:43.968Z"
   },
   {
    "duration": 116,
    "start_time": "2024-03-14T15:28:43.985Z"
   },
   {
    "duration": 16,
    "start_time": "2024-03-14T15:28:44.103Z"
   },
   {
    "duration": 327,
    "start_time": "2024-03-14T15:28:44.121Z"
   },
   {
    "duration": 164,
    "start_time": "2024-03-14T15:28:44.450Z"
   },
   {
    "duration": 171,
    "start_time": "2024-03-14T15:28:44.616Z"
   },
   {
    "duration": 22,
    "start_time": "2024-03-14T15:28:44.788Z"
   },
   {
    "duration": 22,
    "start_time": "2024-03-14T15:28:44.812Z"
   },
   {
    "duration": 41,
    "start_time": "2024-03-14T15:28:44.836Z"
   },
   {
    "duration": 19,
    "start_time": "2024-03-14T15:28:44.879Z"
   },
   {
    "duration": 223,
    "start_time": "2024-03-14T15:28:44.902Z"
   },
   {
    "duration": 208,
    "start_time": "2024-03-14T15:28:45.128Z"
   },
   {
    "duration": 22,
    "start_time": "2024-03-14T15:28:45.338Z"
   },
   {
    "duration": 50,
    "start_time": "2024-03-14T15:28:45.361Z"
   },
   {
    "duration": 21,
    "start_time": "2024-03-14T15:28:45.412Z"
   },
   {
    "duration": 13,
    "start_time": "2024-03-14T15:28:45.434Z"
   },
   {
    "duration": 29,
    "start_time": "2024-03-14T15:28:45.449Z"
   },
   {
    "duration": 30,
    "start_time": "2024-03-14T15:28:45.479Z"
   },
   {
    "duration": 288,
    "start_time": "2024-03-14T15:28:45.511Z"
   },
   {
    "duration": 435,
    "start_time": "2024-03-14T15:28:45.801Z"
   },
   {
    "duration": 4,
    "start_time": "2024-03-14T15:28:46.237Z"
   },
   {
    "duration": 155,
    "start_time": "2024-03-14T15:28:46.242Z"
   },
   {
    "duration": 5,
    "start_time": "2024-03-14T15:28:46.398Z"
   },
   {
    "duration": 20,
    "start_time": "2024-03-14T15:31:00.854Z"
   },
   {
    "duration": 1062,
    "start_time": "2024-03-14T15:32:14.348Z"
   },
   {
    "duration": 124,
    "start_time": "2024-03-14T15:32:15.412Z"
   },
   {
    "duration": 12,
    "start_time": "2024-03-14T15:32:15.538Z"
   },
   {
    "duration": 58,
    "start_time": "2024-03-14T15:32:15.552Z"
   },
   {
    "duration": 46,
    "start_time": "2024-03-14T15:32:15.611Z"
   },
   {
    "duration": 30,
    "start_time": "2024-03-14T15:32:15.658Z"
   },
   {
    "duration": 15,
    "start_time": "2024-03-14T15:32:15.690Z"
   },
   {
    "duration": 21,
    "start_time": "2024-03-14T15:32:15.707Z"
   },
   {
    "duration": 31,
    "start_time": "2024-03-14T15:32:15.730Z"
   },
   {
    "duration": 52,
    "start_time": "2024-03-14T15:32:15.763Z"
   },
   {
    "duration": 34,
    "start_time": "2024-03-14T15:32:15.816Z"
   },
   {
    "duration": 8,
    "start_time": "2024-03-14T15:32:15.852Z"
   },
   {
    "duration": 8,
    "start_time": "2024-03-14T15:32:15.862Z"
   },
   {
    "duration": 9,
    "start_time": "2024-03-14T15:32:15.872Z"
   },
   {
    "duration": 7,
    "start_time": "2024-03-14T15:32:15.883Z"
   },
   {
    "duration": 29,
    "start_time": "2024-03-14T15:32:15.891Z"
   },
   {
    "duration": 196,
    "start_time": "2024-03-14T15:32:15.922Z"
   },
   {
    "duration": 16,
    "start_time": "2024-03-14T15:32:16.120Z"
   },
   {
    "duration": 113,
    "start_time": "2024-03-14T15:32:16.137Z"
   },
   {
    "duration": 18,
    "start_time": "2024-03-14T15:32:16.252Z"
   },
   {
    "duration": 275,
    "start_time": "2024-03-14T15:32:16.271Z"
   },
   {
    "duration": 160,
    "start_time": "2024-03-14T15:32:16.548Z"
   },
   {
    "duration": 154,
    "start_time": "2024-03-14T15:32:16.709Z"
   },
   {
    "duration": 21,
    "start_time": "2024-03-14T15:32:16.865Z"
   },
   {
    "duration": 22,
    "start_time": "2024-03-14T15:32:16.888Z"
   },
   {
    "duration": 73,
    "start_time": "2024-03-14T15:32:16.911Z"
   },
   {
    "duration": 30,
    "start_time": "2024-03-14T15:32:16.986Z"
   },
   {
    "duration": 202,
    "start_time": "2024-03-14T15:32:17.019Z"
   },
   {
    "duration": 212,
    "start_time": "2024-03-14T15:32:17.223Z"
   },
   {
    "duration": 10,
    "start_time": "2024-03-14T15:32:17.437Z"
   },
   {
    "duration": 50,
    "start_time": "2024-03-14T15:32:17.449Z"
   },
   {
    "duration": 20,
    "start_time": "2024-03-14T15:32:17.501Z"
   },
   {
    "duration": 13,
    "start_time": "2024-03-14T15:32:17.523Z"
   },
   {
    "duration": 24,
    "start_time": "2024-03-14T15:32:17.538Z"
   },
   {
    "duration": 37,
    "start_time": "2024-03-14T15:32:17.564Z"
   },
   {
    "duration": 266,
    "start_time": "2024-03-14T15:32:17.603Z"
   },
   {
    "duration": 335,
    "start_time": "2024-03-14T15:32:17.871Z"
   },
   {
    "duration": 4,
    "start_time": "2024-03-14T15:32:18.207Z"
   },
   {
    "duration": 148,
    "start_time": "2024-03-14T15:32:18.213Z"
   },
   {
    "duration": 5,
    "start_time": "2024-03-14T15:32:18.362Z"
   },
   {
    "duration": 157,
    "start_time": "2024-03-14T15:33:50.125Z"
   },
   {
    "duration": 19,
    "start_time": "2024-03-14T15:39:21.493Z"
   },
   {
    "duration": 1115,
    "start_time": "2024-03-14T17:08:23.787Z"
   },
   {
    "duration": 210,
    "start_time": "2024-03-14T17:08:24.904Z"
   },
   {
    "duration": 13,
    "start_time": "2024-03-14T17:08:25.116Z"
   },
   {
    "duration": 15,
    "start_time": "2024-03-14T17:08:25.131Z"
   },
   {
    "duration": 39,
    "start_time": "2024-03-14T17:08:25.147Z"
   },
   {
    "duration": 13,
    "start_time": "2024-03-14T17:08:25.187Z"
   },
   {
    "duration": 6,
    "start_time": "2024-03-14T17:08:25.202Z"
   },
   {
    "duration": 15,
    "start_time": "2024-03-14T17:08:25.210Z"
   },
   {
    "duration": 9,
    "start_time": "2024-03-14T17:08:25.227Z"
   },
   {
    "duration": 11,
    "start_time": "2024-03-14T17:08:25.238Z"
   },
   {
    "duration": 5,
    "start_time": "2024-03-14T17:08:25.250Z"
   },
   {
    "duration": 6,
    "start_time": "2024-03-14T17:08:25.257Z"
   },
   {
    "duration": 8,
    "start_time": "2024-03-14T17:08:25.265Z"
   },
   {
    "duration": 16,
    "start_time": "2024-03-14T17:08:25.275Z"
   },
   {
    "duration": 28,
    "start_time": "2024-03-14T17:08:25.293Z"
   },
   {
    "duration": 14,
    "start_time": "2024-03-14T17:08:25.322Z"
   },
   {
    "duration": 194,
    "start_time": "2024-03-14T17:08:25.338Z"
   },
   {
    "duration": 14,
    "start_time": "2024-03-14T17:08:25.534Z"
   },
   {
    "duration": 115,
    "start_time": "2024-03-14T17:08:25.549Z"
   },
   {
    "duration": 17,
    "start_time": "2024-03-14T17:08:25.666Z"
   },
   {
    "duration": 329,
    "start_time": "2024-03-14T17:08:25.685Z"
   },
   {
    "duration": 159,
    "start_time": "2024-03-14T17:08:26.016Z"
   },
   {
    "duration": 168,
    "start_time": "2024-03-14T17:08:26.176Z"
   },
   {
    "duration": 22,
    "start_time": "2024-03-14T17:08:26.346Z"
   },
   {
    "duration": 21,
    "start_time": "2024-03-14T17:08:26.370Z"
   },
   {
    "duration": 41,
    "start_time": "2024-03-14T17:08:26.393Z"
   },
   {
    "duration": 17,
    "start_time": "2024-03-14T17:08:26.437Z"
   },
   {
    "duration": 217,
    "start_time": "2024-03-14T17:08:26.458Z"
   },
   {
    "duration": 222,
    "start_time": "2024-03-14T17:08:26.677Z"
   },
   {
    "duration": 21,
    "start_time": "2024-03-14T17:08:26.901Z"
   },
   {
    "duration": 47,
    "start_time": "2024-03-14T17:08:26.924Z"
   },
   {
    "duration": 22,
    "start_time": "2024-03-14T17:08:26.973Z"
   },
   {
    "duration": 23,
    "start_time": "2024-03-14T17:08:26.997Z"
   },
   {
    "duration": 5,
    "start_time": "2024-03-14T17:08:27.022Z"
   },
   {
    "duration": 12,
    "start_time": "2024-03-14T17:08:27.029Z"
   },
   {
    "duration": 293,
    "start_time": "2024-03-14T17:08:27.043Z"
   },
   {
    "duration": 320,
    "start_time": "2024-03-14T17:08:27.337Z"
   },
   {
    "duration": 3,
    "start_time": "2024-03-14T17:08:27.659Z"
   },
   {
    "duration": 152,
    "start_time": "2024-03-14T17:08:27.664Z"
   },
   {
    "duration": 4,
    "start_time": "2024-03-14T17:08:27.818Z"
   },
   {
    "duration": 73,
    "start_time": "2024-03-14T17:11:54.683Z"
   },
   {
    "duration": 9,
    "start_time": "2024-03-14T17:11:58.656Z"
   },
   {
    "duration": 104,
    "start_time": "2024-03-14T17:17:09.776Z"
   },
   {
    "duration": 107,
    "start_time": "2024-03-14T17:17:20.953Z"
   },
   {
    "duration": 211,
    "start_time": "2024-03-14T17:17:31.398Z"
   },
   {
    "duration": 90,
    "start_time": "2024-03-14T17:18:31.976Z"
   },
   {
    "duration": 1084,
    "start_time": "2024-03-14T17:20:10.482Z"
   },
   {
    "duration": 116,
    "start_time": "2024-03-14T17:20:11.568Z"
   },
   {
    "duration": 12,
    "start_time": "2024-03-14T17:20:11.686Z"
   },
   {
    "duration": 10,
    "start_time": "2024-03-14T17:20:11.700Z"
   },
   {
    "duration": 9,
    "start_time": "2024-03-14T17:20:11.712Z"
   },
   {
    "duration": 11,
    "start_time": "2024-03-14T17:20:11.722Z"
   },
   {
    "duration": 6,
    "start_time": "2024-03-14T17:20:11.734Z"
   },
   {
    "duration": 15,
    "start_time": "2024-03-14T17:20:11.742Z"
   },
   {
    "duration": 9,
    "start_time": "2024-03-14T17:20:11.758Z"
   },
   {
    "duration": 13,
    "start_time": "2024-03-14T17:20:11.768Z"
   },
   {
    "duration": 15,
    "start_time": "2024-03-14T17:20:11.782Z"
   },
   {
    "duration": 20,
    "start_time": "2024-03-14T17:20:11.799Z"
   },
   {
    "duration": 6,
    "start_time": "2024-03-14T17:20:11.820Z"
   },
   {
    "duration": 21,
    "start_time": "2024-03-14T17:20:11.828Z"
   },
   {
    "duration": 25,
    "start_time": "2024-03-14T17:20:11.851Z"
   },
   {
    "duration": 15,
    "start_time": "2024-03-14T17:20:11.878Z"
   },
   {
    "duration": 187,
    "start_time": "2024-03-14T17:20:11.894Z"
   },
   {
    "duration": 15,
    "start_time": "2024-03-14T17:20:12.083Z"
   },
   {
    "duration": 120,
    "start_time": "2024-03-14T17:20:12.099Z"
   },
   {
    "duration": 98,
    "start_time": "2024-03-14T17:20:12.220Z"
   },
   {
    "duration": 14,
    "start_time": "2024-03-14T17:20:12.320Z"
   },
   {
    "duration": 301,
    "start_time": "2024-03-14T17:20:12.336Z"
   },
   {
    "duration": 184,
    "start_time": "2024-03-14T17:20:12.639Z"
   },
   {
    "duration": 170,
    "start_time": "2024-03-14T17:20:12.825Z"
   },
   {
    "duration": 26,
    "start_time": "2024-03-14T17:20:12.997Z"
   },
   {
    "duration": 19,
    "start_time": "2024-03-14T17:20:13.025Z"
   },
   {
    "duration": 19,
    "start_time": "2024-03-14T17:20:13.045Z"
   },
   {
    "duration": 16,
    "start_time": "2024-03-14T17:20:13.066Z"
   },
   {
    "duration": 191,
    "start_time": "2024-03-14T17:20:13.115Z"
   },
   {
    "duration": 203,
    "start_time": "2024-03-14T17:20:13.309Z"
   },
   {
    "duration": 11,
    "start_time": "2024-03-14T17:20:13.513Z"
   },
   {
    "duration": 5,
    "start_time": "2024-03-14T17:20:13.525Z"
   },
   {
    "duration": 41,
    "start_time": "2024-03-14T17:20:13.532Z"
   },
   {
    "duration": 42,
    "start_time": "2024-03-14T17:20:13.574Z"
   },
   {
    "duration": 7,
    "start_time": "2024-03-14T17:20:13.617Z"
   },
   {
    "duration": 5,
    "start_time": "2024-03-14T17:20:13.626Z"
   },
   {
    "duration": 27,
    "start_time": "2024-03-14T17:20:13.633Z"
   },
   {
    "duration": 338,
    "start_time": "2024-03-14T17:20:13.662Z"
   },
   {
    "duration": 277,
    "start_time": "2024-03-14T17:20:14.002Z"
   },
   {
    "duration": 4,
    "start_time": "2024-03-14T17:20:14.280Z"
   },
   {
    "duration": 155,
    "start_time": "2024-03-14T17:20:14.288Z"
   },
   {
    "duration": 5,
    "start_time": "2024-03-14T17:20:14.445Z"
   },
   {
    "duration": 7,
    "start_time": "2024-03-14T17:20:47.959Z"
   }
  ],
  "kernelspec": {
   "display_name": "Python 3 (ipykernel)",
   "language": "python",
   "name": "python3"
  },
  "language_info": {
   "codemirror_mode": {
    "name": "ipython",
    "version": 3
   },
   "file_extension": ".py",
   "mimetype": "text/x-python",
   "name": "python",
   "nbconvert_exporter": "python",
   "pygments_lexer": "ipython3",
   "version": "3.11.5"
  },
  "toc": {
   "base_numbering": 1,
   "nav_menu": {},
   "number_sections": true,
   "sideBar": true,
   "skip_h1_title": true,
   "title_cell": "Table of Contents",
   "title_sidebar": "Contents",
   "toc_cell": false,
   "toc_position": {},
   "toc_section_display": true,
   "toc_window_display": false
  }
 },
 "nbformat": 4,
 "nbformat_minor": 5
}
