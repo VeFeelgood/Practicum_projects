{
 "cells": [
  {
   "cell_type": "markdown",
   "metadata": {},
   "source": [
    "#### Сборный проект. Первичный анализ данных.\n",
    "В качестве сотрудника интернет-магазина мне необходимо проанализировать исторические данные о продажах игр. В доступе имеется следующая информация об играх: жанр, платформа и год выпуска, оценки пользователей, критиков и рейтинг, а также сведения о продажах на разных рынках: Северная Америка, Европа, Япония и другие страны. На основе имеющихся данных с целью построения рекламной стратегии компании нужно проанализоровать и выявить закономерности, определяющие успешность игры.\n",
    "В процессе исследования я планирую осуществить следующие шаги:\n",
    "\n",
    "1. Открыть файл с данными, изучить информацию о них.\n",
    "2. Выявить пропуски и при возможности обработать их, объяснить возможные причины возникновения.\n",
    "3. При необходимости изменить тип данных в столбцах.\n",
    "4. Посчитать общие продажи по всем регионам.\n",
    "5. На этапе исследовательского анализа данных изучить имеющуюся информацию по годам для выявления актуального периода, на основе которого будет возможным сделать прогнозы на 2017 год.\n",
    "6. Проанализировать самые популярные платформы, а также выявить потенциально прибыльные платформы на основе их роста в актуальный период.\n",
    "7. Определить возможные зависимости продаж игр от оценок пользователей и критиков.\n",
    "8. Проанализировать жанровое распределение для выявления наиболее и наименее прибыльных.\n",
    "9. Построить необходимые графики и диаграммы для визуализации сделанных выводов.\n",
    "10. Составить портреты пользователей трех регионов для определения общих и отличительных особенностей в популярности платформ, жанров и влиянии рейтинга на продажи.\n",
    "11. На последнем этапе исследования проверить гипотезы:\n",
    "    - о равенстве пользователских рейтингов платформ XBox и PC;\n",
    "    - об отличии пользователских рейтингов игр в жанрах экшен и спорт."
   ]
  },
  {
   "cell_type": "code",
   "execution_count": 1,
   "metadata": {},
   "outputs": [],
   "source": [
    "import pandas as pd\n",
    "import numpy as np\n",
    "import matplotlib.pyplot as plt\n",
    "import seaborn as sns\n",
    "from scipy import stats as st"
   ]
  },
  {
   "cell_type": "code",
   "execution_count": 2,
   "metadata": {},
   "outputs": [],
   "source": [
    "game_data = pd.read_csv('/datasets/games.csv')"
   ]
  },
  {
   "cell_type": "code",
   "execution_count": 3,
   "metadata": {},
   "outputs": [
    {
     "data": {
      "text/html": [
       "<div>\n",
       "<style scoped>\n",
       "    .dataframe tbody tr th:only-of-type {\n",
       "        vertical-align: middle;\n",
       "    }\n",
       "\n",
       "    .dataframe tbody tr th {\n",
       "        vertical-align: top;\n",
       "    }\n",
       "\n",
       "    .dataframe thead th {\n",
       "        text-align: right;\n",
       "    }\n",
       "</style>\n",
       "<table border=\"1\" class=\"dataframe\">\n",
       "  <thead>\n",
       "    <tr style=\"text-align: right;\">\n",
       "      <th></th>\n",
       "      <th>Name</th>\n",
       "      <th>Platform</th>\n",
       "      <th>Year_of_Release</th>\n",
       "      <th>Genre</th>\n",
       "      <th>NA_sales</th>\n",
       "      <th>EU_sales</th>\n",
       "      <th>JP_sales</th>\n",
       "      <th>Other_sales</th>\n",
       "      <th>Critic_Score</th>\n",
       "      <th>User_Score</th>\n",
       "      <th>Rating</th>\n",
       "    </tr>\n",
       "  </thead>\n",
       "  <tbody>\n",
       "    <tr>\n",
       "      <th>0</th>\n",
       "      <td>Wii Sports</td>\n",
       "      <td>Wii</td>\n",
       "      <td>2006.0</td>\n",
       "      <td>Sports</td>\n",
       "      <td>41.36</td>\n",
       "      <td>28.96</td>\n",
       "      <td>3.77</td>\n",
       "      <td>8.45</td>\n",
       "      <td>76.0</td>\n",
       "      <td>8</td>\n",
       "      <td>E</td>\n",
       "    </tr>\n",
       "    <tr>\n",
       "      <th>1</th>\n",
       "      <td>Super Mario Bros.</td>\n",
       "      <td>NES</td>\n",
       "      <td>1985.0</td>\n",
       "      <td>Platform</td>\n",
       "      <td>29.08</td>\n",
       "      <td>3.58</td>\n",
       "      <td>6.81</td>\n",
       "      <td>0.77</td>\n",
       "      <td>NaN</td>\n",
       "      <td>NaN</td>\n",
       "      <td>NaN</td>\n",
       "    </tr>\n",
       "    <tr>\n",
       "      <th>2</th>\n",
       "      <td>Mario Kart Wii</td>\n",
       "      <td>Wii</td>\n",
       "      <td>2008.0</td>\n",
       "      <td>Racing</td>\n",
       "      <td>15.68</td>\n",
       "      <td>12.76</td>\n",
       "      <td>3.79</td>\n",
       "      <td>3.29</td>\n",
       "      <td>82.0</td>\n",
       "      <td>8.3</td>\n",
       "      <td>E</td>\n",
       "    </tr>\n",
       "    <tr>\n",
       "      <th>3</th>\n",
       "      <td>Wii Sports Resort</td>\n",
       "      <td>Wii</td>\n",
       "      <td>2009.0</td>\n",
       "      <td>Sports</td>\n",
       "      <td>15.61</td>\n",
       "      <td>10.93</td>\n",
       "      <td>3.28</td>\n",
       "      <td>2.95</td>\n",
       "      <td>80.0</td>\n",
       "      <td>8</td>\n",
       "      <td>E</td>\n",
       "    </tr>\n",
       "    <tr>\n",
       "      <th>4</th>\n",
       "      <td>Pokemon Red/Pokemon Blue</td>\n",
       "      <td>GB</td>\n",
       "      <td>1996.0</td>\n",
       "      <td>Role-Playing</td>\n",
       "      <td>11.27</td>\n",
       "      <td>8.89</td>\n",
       "      <td>10.22</td>\n",
       "      <td>1.00</td>\n",
       "      <td>NaN</td>\n",
       "      <td>NaN</td>\n",
       "      <td>NaN</td>\n",
       "    </tr>\n",
       "    <tr>\n",
       "      <th>5</th>\n",
       "      <td>Tetris</td>\n",
       "      <td>GB</td>\n",
       "      <td>1989.0</td>\n",
       "      <td>Puzzle</td>\n",
       "      <td>23.20</td>\n",
       "      <td>2.26</td>\n",
       "      <td>4.22</td>\n",
       "      <td>0.58</td>\n",
       "      <td>NaN</td>\n",
       "      <td>NaN</td>\n",
       "      <td>NaN</td>\n",
       "    </tr>\n",
       "    <tr>\n",
       "      <th>6</th>\n",
       "      <td>New Super Mario Bros.</td>\n",
       "      <td>DS</td>\n",
       "      <td>2006.0</td>\n",
       "      <td>Platform</td>\n",
       "      <td>11.28</td>\n",
       "      <td>9.14</td>\n",
       "      <td>6.50</td>\n",
       "      <td>2.88</td>\n",
       "      <td>89.0</td>\n",
       "      <td>8.5</td>\n",
       "      <td>E</td>\n",
       "    </tr>\n",
       "    <tr>\n",
       "      <th>7</th>\n",
       "      <td>Wii Play</td>\n",
       "      <td>Wii</td>\n",
       "      <td>2006.0</td>\n",
       "      <td>Misc</td>\n",
       "      <td>13.96</td>\n",
       "      <td>9.18</td>\n",
       "      <td>2.93</td>\n",
       "      <td>2.84</td>\n",
       "      <td>58.0</td>\n",
       "      <td>6.6</td>\n",
       "      <td>E</td>\n",
       "    </tr>\n",
       "    <tr>\n",
       "      <th>8</th>\n",
       "      <td>New Super Mario Bros. Wii</td>\n",
       "      <td>Wii</td>\n",
       "      <td>2009.0</td>\n",
       "      <td>Platform</td>\n",
       "      <td>14.44</td>\n",
       "      <td>6.94</td>\n",
       "      <td>4.70</td>\n",
       "      <td>2.24</td>\n",
       "      <td>87.0</td>\n",
       "      <td>8.4</td>\n",
       "      <td>E</td>\n",
       "    </tr>\n",
       "    <tr>\n",
       "      <th>9</th>\n",
       "      <td>Duck Hunt</td>\n",
       "      <td>NES</td>\n",
       "      <td>1984.0</td>\n",
       "      <td>Shooter</td>\n",
       "      <td>26.93</td>\n",
       "      <td>0.63</td>\n",
       "      <td>0.28</td>\n",
       "      <td>0.47</td>\n",
       "      <td>NaN</td>\n",
       "      <td>NaN</td>\n",
       "      <td>NaN</td>\n",
       "    </tr>\n",
       "    <tr>\n",
       "      <th>10</th>\n",
       "      <td>Nintendogs</td>\n",
       "      <td>DS</td>\n",
       "      <td>2005.0</td>\n",
       "      <td>Simulation</td>\n",
       "      <td>9.05</td>\n",
       "      <td>10.95</td>\n",
       "      <td>1.93</td>\n",
       "      <td>2.74</td>\n",
       "      <td>NaN</td>\n",
       "      <td>NaN</td>\n",
       "      <td>NaN</td>\n",
       "    </tr>\n",
       "    <tr>\n",
       "      <th>11</th>\n",
       "      <td>Mario Kart DS</td>\n",
       "      <td>DS</td>\n",
       "      <td>2005.0</td>\n",
       "      <td>Racing</td>\n",
       "      <td>9.71</td>\n",
       "      <td>7.47</td>\n",
       "      <td>4.13</td>\n",
       "      <td>1.90</td>\n",
       "      <td>91.0</td>\n",
       "      <td>8.6</td>\n",
       "      <td>E</td>\n",
       "    </tr>\n",
       "    <tr>\n",
       "      <th>12</th>\n",
       "      <td>Pokemon Gold/Pokemon Silver</td>\n",
       "      <td>GB</td>\n",
       "      <td>1999.0</td>\n",
       "      <td>Role-Playing</td>\n",
       "      <td>9.00</td>\n",
       "      <td>6.18</td>\n",
       "      <td>7.20</td>\n",
       "      <td>0.71</td>\n",
       "      <td>NaN</td>\n",
       "      <td>NaN</td>\n",
       "      <td>NaN</td>\n",
       "    </tr>\n",
       "    <tr>\n",
       "      <th>13</th>\n",
       "      <td>Wii Fit</td>\n",
       "      <td>Wii</td>\n",
       "      <td>2007.0</td>\n",
       "      <td>Sports</td>\n",
       "      <td>8.92</td>\n",
       "      <td>8.03</td>\n",
       "      <td>3.60</td>\n",
       "      <td>2.15</td>\n",
       "      <td>80.0</td>\n",
       "      <td>7.7</td>\n",
       "      <td>E</td>\n",
       "    </tr>\n",
       "    <tr>\n",
       "      <th>14</th>\n",
       "      <td>Kinect Adventures!</td>\n",
       "      <td>X360</td>\n",
       "      <td>2010.0</td>\n",
       "      <td>Misc</td>\n",
       "      <td>15.00</td>\n",
       "      <td>4.89</td>\n",
       "      <td>0.24</td>\n",
       "      <td>1.69</td>\n",
       "      <td>61.0</td>\n",
       "      <td>6.3</td>\n",
       "      <td>E</td>\n",
       "    </tr>\n",
       "    <tr>\n",
       "      <th>15</th>\n",
       "      <td>Wii Fit Plus</td>\n",
       "      <td>Wii</td>\n",
       "      <td>2009.0</td>\n",
       "      <td>Sports</td>\n",
       "      <td>9.01</td>\n",
       "      <td>8.49</td>\n",
       "      <td>2.53</td>\n",
       "      <td>1.77</td>\n",
       "      <td>80.0</td>\n",
       "      <td>7.4</td>\n",
       "      <td>E</td>\n",
       "    </tr>\n",
       "    <tr>\n",
       "      <th>16</th>\n",
       "      <td>Grand Theft Auto V</td>\n",
       "      <td>PS3</td>\n",
       "      <td>2013.0</td>\n",
       "      <td>Action</td>\n",
       "      <td>7.02</td>\n",
       "      <td>9.09</td>\n",
       "      <td>0.98</td>\n",
       "      <td>3.96</td>\n",
       "      <td>97.0</td>\n",
       "      <td>8.2</td>\n",
       "      <td>M</td>\n",
       "    </tr>\n",
       "    <tr>\n",
       "      <th>17</th>\n",
       "      <td>Grand Theft Auto: San Andreas</td>\n",
       "      <td>PS2</td>\n",
       "      <td>2004.0</td>\n",
       "      <td>Action</td>\n",
       "      <td>9.43</td>\n",
       "      <td>0.40</td>\n",
       "      <td>0.41</td>\n",
       "      <td>10.57</td>\n",
       "      <td>95.0</td>\n",
       "      <td>9</td>\n",
       "      <td>M</td>\n",
       "    </tr>\n",
       "    <tr>\n",
       "      <th>18</th>\n",
       "      <td>Super Mario World</td>\n",
       "      <td>SNES</td>\n",
       "      <td>1990.0</td>\n",
       "      <td>Platform</td>\n",
       "      <td>12.78</td>\n",
       "      <td>3.75</td>\n",
       "      <td>3.54</td>\n",
       "      <td>0.55</td>\n",
       "      <td>NaN</td>\n",
       "      <td>NaN</td>\n",
       "      <td>NaN</td>\n",
       "    </tr>\n",
       "    <tr>\n",
       "      <th>19</th>\n",
       "      <td>Brain Age: Train Your Brain in Minutes a Day</td>\n",
       "      <td>DS</td>\n",
       "      <td>2005.0</td>\n",
       "      <td>Misc</td>\n",
       "      <td>4.74</td>\n",
       "      <td>9.20</td>\n",
       "      <td>4.16</td>\n",
       "      <td>2.04</td>\n",
       "      <td>77.0</td>\n",
       "      <td>7.9</td>\n",
       "      <td>E</td>\n",
       "    </tr>\n",
       "  </tbody>\n",
       "</table>\n",
       "</div>"
      ],
      "text/plain": [
       "                                            Name Platform  Year_of_Release  \\\n",
       "0                                     Wii Sports      Wii           2006.0   \n",
       "1                              Super Mario Bros.      NES           1985.0   \n",
       "2                                 Mario Kart Wii      Wii           2008.0   \n",
       "3                              Wii Sports Resort      Wii           2009.0   \n",
       "4                       Pokemon Red/Pokemon Blue       GB           1996.0   \n",
       "5                                         Tetris       GB           1989.0   \n",
       "6                          New Super Mario Bros.       DS           2006.0   \n",
       "7                                       Wii Play      Wii           2006.0   \n",
       "8                      New Super Mario Bros. Wii      Wii           2009.0   \n",
       "9                                      Duck Hunt      NES           1984.0   \n",
       "10                                    Nintendogs       DS           2005.0   \n",
       "11                                 Mario Kart DS       DS           2005.0   \n",
       "12                   Pokemon Gold/Pokemon Silver       GB           1999.0   \n",
       "13                                       Wii Fit      Wii           2007.0   \n",
       "14                            Kinect Adventures!     X360           2010.0   \n",
       "15                                  Wii Fit Plus      Wii           2009.0   \n",
       "16                            Grand Theft Auto V      PS3           2013.0   \n",
       "17                 Grand Theft Auto: San Andreas      PS2           2004.0   \n",
       "18                             Super Mario World     SNES           1990.0   \n",
       "19  Brain Age: Train Your Brain in Minutes a Day       DS           2005.0   \n",
       "\n",
       "           Genre  NA_sales  EU_sales  JP_sales  Other_sales  Critic_Score  \\\n",
       "0         Sports     41.36     28.96      3.77         8.45          76.0   \n",
       "1       Platform     29.08      3.58      6.81         0.77           NaN   \n",
       "2         Racing     15.68     12.76      3.79         3.29          82.0   \n",
       "3         Sports     15.61     10.93      3.28         2.95          80.0   \n",
       "4   Role-Playing     11.27      8.89     10.22         1.00           NaN   \n",
       "5         Puzzle     23.20      2.26      4.22         0.58           NaN   \n",
       "6       Platform     11.28      9.14      6.50         2.88          89.0   \n",
       "7           Misc     13.96      9.18      2.93         2.84          58.0   \n",
       "8       Platform     14.44      6.94      4.70         2.24          87.0   \n",
       "9        Shooter     26.93      0.63      0.28         0.47           NaN   \n",
       "10    Simulation      9.05     10.95      1.93         2.74           NaN   \n",
       "11        Racing      9.71      7.47      4.13         1.90          91.0   \n",
       "12  Role-Playing      9.00      6.18      7.20         0.71           NaN   \n",
       "13        Sports      8.92      8.03      3.60         2.15          80.0   \n",
       "14          Misc     15.00      4.89      0.24         1.69          61.0   \n",
       "15        Sports      9.01      8.49      2.53         1.77          80.0   \n",
       "16        Action      7.02      9.09      0.98         3.96          97.0   \n",
       "17        Action      9.43      0.40      0.41        10.57          95.0   \n",
       "18      Platform     12.78      3.75      3.54         0.55           NaN   \n",
       "19          Misc      4.74      9.20      4.16         2.04          77.0   \n",
       "\n",
       "   User_Score Rating  \n",
       "0           8      E  \n",
       "1         NaN    NaN  \n",
       "2         8.3      E  \n",
       "3           8      E  \n",
       "4         NaN    NaN  \n",
       "5         NaN    NaN  \n",
       "6         8.5      E  \n",
       "7         6.6      E  \n",
       "8         8.4      E  \n",
       "9         NaN    NaN  \n",
       "10        NaN    NaN  \n",
       "11        8.6      E  \n",
       "12        NaN    NaN  \n",
       "13        7.7      E  \n",
       "14        6.3      E  \n",
       "15        7.4      E  \n",
       "16        8.2      M  \n",
       "17          9      M  \n",
       "18        NaN    NaN  \n",
       "19        7.9      E  "
      ]
     },
     "metadata": {},
     "output_type": "display_data"
    },
    {
     "name": "stdout",
     "output_type": "stream",
     "text": [
      "<class 'pandas.core.frame.DataFrame'>\n",
      "RangeIndex: 16715 entries, 0 to 16714\n",
      "Data columns (total 11 columns):\n",
      " #   Column           Non-Null Count  Dtype  \n",
      "---  ------           --------------  -----  \n",
      " 0   Name             16713 non-null  object \n",
      " 1   Platform         16715 non-null  object \n",
      " 2   Year_of_Release  16446 non-null  float64\n",
      " 3   Genre            16713 non-null  object \n",
      " 4   NA_sales         16715 non-null  float64\n",
      " 5   EU_sales         16715 non-null  float64\n",
      " 6   JP_sales         16715 non-null  float64\n",
      " 7   Other_sales      16715 non-null  float64\n",
      " 8   Critic_Score     8137 non-null   float64\n",
      " 9   User_Score       10014 non-null  object \n",
      " 10  Rating           9949 non-null   object \n",
      "dtypes: float64(6), object(5)\n",
      "memory usage: 1.4+ MB\n"
     ]
    },
    {
     "data": {
      "text/plain": [
       "None"
      ]
     },
     "metadata": {},
     "output_type": "display_data"
    }
   ],
   "source": [
    "display(game_data.head(20))\n",
    "display(game_data.info())"
   ]
  },
  {
   "cell_type": "markdown",
   "metadata": {},
   "source": [
    "После первичного анализа данных можно оценить объем и содержание имеющейся информации. В работе таблица с 16714 строками и 11 столбцами данных смешанного и числового типа. На этапе предобработки необходимо произвести выявление и обработку пропусков, а также приведение типа данных к другому формату по необходимости."
   ]
  },
  {
   "cell_type": "markdown",
   "metadata": {},
   "source": [
    "#### Предобработка данных"
   ]
  },
  {
   "cell_type": "code",
   "execution_count": 4,
   "metadata": {},
   "outputs": [
    {
     "data": {
      "text/plain": [
       "Index(['name', 'platform', 'year_of_release', 'genre', 'na_sales', 'eu_sales',\n",
       "       'jp_sales', 'other_sales', 'critic_score', 'user_score', 'rating'],\n",
       "      dtype='object')"
      ]
     },
     "metadata": {},
     "output_type": "display_data"
    }
   ],
   "source": [
    "#приведение названий столбцов к нижнему регистру\n",
    "game_data.columns = game_data.columns.str.lower()\n",
    "display(game_data.columns)"
   ]
  },
  {
   "cell_type": "code",
   "execution_count": 5,
   "metadata": {},
   "outputs": [
    {
     "data": {
      "text/plain": [
       "269"
      ]
     },
     "metadata": {},
     "output_type": "display_data"
    }
   ],
   "source": [
    "#удаление строк с пропусками в столбце с годом выпуска\n",
    "display(game_data['year_of_release'].isna().sum())\n",
    "game_data = game_data.dropna(subset = ['year_of_release'])"
   ]
  },
  {
   "cell_type": "code",
   "execution_count": 6,
   "metadata": {},
   "outputs": [
    {
     "data": {
      "text/plain": [
       "dtype('int64')"
      ]
     },
     "metadata": {},
     "output_type": "display_data"
    }
   ],
   "source": [
    "#замена типа данных на целочисленный\n",
    "game_data['year_of_release'] = game_data['year_of_release'].astype(int)\n",
    "display(game_data.year_of_release.dtype)"
   ]
  },
  {
   "cell_type": "markdown",
   "metadata": {},
   "source": [
    "В столбце с годом выпуска пропусков оказалось немного, поэтому было решено их удалить и после этого привести к целочисленному типу для упрощения обработки."
   ]
  },
  {
   "cell_type": "code",
   "execution_count": 7,
   "metadata": {},
   "outputs": [
    {
     "data": {
      "text/plain": [
       "name                  2\n",
       "platform              0\n",
       "year_of_release       0\n",
       "genre                 2\n",
       "na_sales              0\n",
       "eu_sales              0\n",
       "jp_sales              0\n",
       "other_sales           0\n",
       "critic_score       8463\n",
       "user_score         6607\n",
       "rating             6678\n",
       "dtype: int64"
      ]
     },
     "metadata": {},
     "output_type": "display_data"
    }
   ],
   "source": [
    "display(game_data.isna().sum())"
   ]
  },
  {
   "cell_type": "code",
   "execution_count": 8,
   "metadata": {},
   "outputs": [
    {
     "data": {
      "text/html": [
       "<div>\n",
       "<style scoped>\n",
       "    .dataframe tbody tr th:only-of-type {\n",
       "        vertical-align: middle;\n",
       "    }\n",
       "\n",
       "    .dataframe tbody tr th {\n",
       "        vertical-align: top;\n",
       "    }\n",
       "\n",
       "    .dataframe thead th {\n",
       "        text-align: right;\n",
       "    }\n",
       "</style>\n",
       "<table border=\"1\" class=\"dataframe\">\n",
       "  <thead>\n",
       "    <tr style=\"text-align: right;\">\n",
       "      <th></th>\n",
       "      <th>name</th>\n",
       "      <th>platform</th>\n",
       "      <th>year_of_release</th>\n",
       "      <th>genre</th>\n",
       "      <th>na_sales</th>\n",
       "      <th>eu_sales</th>\n",
       "      <th>jp_sales</th>\n",
       "      <th>other_sales</th>\n",
       "      <th>critic_score</th>\n",
       "      <th>user_score</th>\n",
       "      <th>rating</th>\n",
       "    </tr>\n",
       "  </thead>\n",
       "  <tbody>\n",
       "    <tr>\n",
       "      <th>1</th>\n",
       "      <td>Super Mario Bros.</td>\n",
       "      <td>NES</td>\n",
       "      <td>1985</td>\n",
       "      <td>Platform</td>\n",
       "      <td>29.08</td>\n",
       "      <td>3.58</td>\n",
       "      <td>6.81</td>\n",
       "      <td>0.77</td>\n",
       "      <td>NaN</td>\n",
       "      <td>NaN</td>\n",
       "      <td>NaN</td>\n",
       "    </tr>\n",
       "    <tr>\n",
       "      <th>4</th>\n",
       "      <td>Pokemon Red/Pokemon Blue</td>\n",
       "      <td>GB</td>\n",
       "      <td>1996</td>\n",
       "      <td>Role-Playing</td>\n",
       "      <td>11.27</td>\n",
       "      <td>8.89</td>\n",
       "      <td>10.22</td>\n",
       "      <td>1.00</td>\n",
       "      <td>NaN</td>\n",
       "      <td>NaN</td>\n",
       "      <td>NaN</td>\n",
       "    </tr>\n",
       "    <tr>\n",
       "      <th>5</th>\n",
       "      <td>Tetris</td>\n",
       "      <td>GB</td>\n",
       "      <td>1989</td>\n",
       "      <td>Puzzle</td>\n",
       "      <td>23.20</td>\n",
       "      <td>2.26</td>\n",
       "      <td>4.22</td>\n",
       "      <td>0.58</td>\n",
       "      <td>NaN</td>\n",
       "      <td>NaN</td>\n",
       "      <td>NaN</td>\n",
       "    </tr>\n",
       "    <tr>\n",
       "      <th>9</th>\n",
       "      <td>Duck Hunt</td>\n",
       "      <td>NES</td>\n",
       "      <td>1984</td>\n",
       "      <td>Shooter</td>\n",
       "      <td>26.93</td>\n",
       "      <td>0.63</td>\n",
       "      <td>0.28</td>\n",
       "      <td>0.47</td>\n",
       "      <td>NaN</td>\n",
       "      <td>NaN</td>\n",
       "      <td>NaN</td>\n",
       "    </tr>\n",
       "    <tr>\n",
       "      <th>18</th>\n",
       "      <td>Super Mario World</td>\n",
       "      <td>SNES</td>\n",
       "      <td>1990</td>\n",
       "      <td>Platform</td>\n",
       "      <td>12.78</td>\n",
       "      <td>3.75</td>\n",
       "      <td>3.54</td>\n",
       "      <td>0.55</td>\n",
       "      <td>NaN</td>\n",
       "      <td>NaN</td>\n",
       "      <td>NaN</td>\n",
       "    </tr>\n",
       "    <tr>\n",
       "      <th>...</th>\n",
       "      <td>...</td>\n",
       "      <td>...</td>\n",
       "      <td>...</td>\n",
       "      <td>...</td>\n",
       "      <td>...</td>\n",
       "      <td>...</td>\n",
       "      <td>...</td>\n",
       "      <td>...</td>\n",
       "      <td>...</td>\n",
       "      <td>...</td>\n",
       "      <td>...</td>\n",
       "    </tr>\n",
       "    <tr>\n",
       "      <th>15957</th>\n",
       "      <td>Strongest Tokyo University Shogi DS</td>\n",
       "      <td>DS</td>\n",
       "      <td>1985</td>\n",
       "      <td>Action</td>\n",
       "      <td>0.00</td>\n",
       "      <td>0.00</td>\n",
       "      <td>0.02</td>\n",
       "      <td>0.00</td>\n",
       "      <td>NaN</td>\n",
       "      <td>NaN</td>\n",
       "      <td>NaN</td>\n",
       "    </tr>\n",
       "    <tr>\n",
       "      <th>16207</th>\n",
       "      <td>Rock N' Roll Racing</td>\n",
       "      <td>SNES</td>\n",
       "      <td>1993</td>\n",
       "      <td>Racing</td>\n",
       "      <td>0.00</td>\n",
       "      <td>0.00</td>\n",
       "      <td>0.01</td>\n",
       "      <td>0.00</td>\n",
       "      <td>NaN</td>\n",
       "      <td>NaN</td>\n",
       "      <td>NaN</td>\n",
       "    </tr>\n",
       "    <tr>\n",
       "      <th>16326</th>\n",
       "      <td>Victory Spike</td>\n",
       "      <td>PS</td>\n",
       "      <td>1996</td>\n",
       "      <td>Sports</td>\n",
       "      <td>0.00</td>\n",
       "      <td>0.00</td>\n",
       "      <td>0.01</td>\n",
       "      <td>0.00</td>\n",
       "      <td>NaN</td>\n",
       "      <td>NaN</td>\n",
       "      <td>NaN</td>\n",
       "    </tr>\n",
       "    <tr>\n",
       "      <th>16468</th>\n",
       "      <td>Meru Purana</td>\n",
       "      <td>PS</td>\n",
       "      <td>1996</td>\n",
       "      <td>Strategy</td>\n",
       "      <td>0.00</td>\n",
       "      <td>0.00</td>\n",
       "      <td>0.01</td>\n",
       "      <td>0.00</td>\n",
       "      <td>NaN</td>\n",
       "      <td>NaN</td>\n",
       "      <td>NaN</td>\n",
       "    </tr>\n",
       "    <tr>\n",
       "      <th>16666</th>\n",
       "      <td>Psychic Detective</td>\n",
       "      <td>PS</td>\n",
       "      <td>1995</td>\n",
       "      <td>Adventure</td>\n",
       "      <td>0.01</td>\n",
       "      <td>0.00</td>\n",
       "      <td>0.00</td>\n",
       "      <td>0.00</td>\n",
       "      <td>NaN</td>\n",
       "      <td>NaN</td>\n",
       "      <td>NaN</td>\n",
       "    </tr>\n",
       "  </tbody>\n",
       "</table>\n",
       "<p>1571 rows × 11 columns</p>\n",
       "</div>"
      ],
      "text/plain": [
       "                                      name platform  year_of_release  \\\n",
       "1                        Super Mario Bros.      NES             1985   \n",
       "4                 Pokemon Red/Pokemon Blue       GB             1996   \n",
       "5                                   Tetris       GB             1989   \n",
       "9                                Duck Hunt      NES             1984   \n",
       "18                       Super Mario World     SNES             1990   \n",
       "...                                    ...      ...              ...   \n",
       "15957  Strongest Tokyo University Shogi DS       DS             1985   \n",
       "16207                  Rock N' Roll Racing     SNES             1993   \n",
       "16326                        Victory Spike       PS             1996   \n",
       "16468                          Meru Purana       PS             1996   \n",
       "16666                    Psychic Detective       PS             1995   \n",
       "\n",
       "              genre  na_sales  eu_sales  jp_sales  other_sales  critic_score  \\\n",
       "1          Platform     29.08      3.58      6.81         0.77           NaN   \n",
       "4      Role-Playing     11.27      8.89     10.22         1.00           NaN   \n",
       "5            Puzzle     23.20      2.26      4.22         0.58           NaN   \n",
       "9           Shooter     26.93      0.63      0.28         0.47           NaN   \n",
       "18         Platform     12.78      3.75      3.54         0.55           NaN   \n",
       "...             ...       ...       ...       ...          ...           ...   \n",
       "15957        Action      0.00      0.00      0.02         0.00           NaN   \n",
       "16207        Racing      0.00      0.00      0.01         0.00           NaN   \n",
       "16326        Sports      0.00      0.00      0.01         0.00           NaN   \n",
       "16468      Strategy      0.00      0.00      0.01         0.00           NaN   \n",
       "16666     Adventure      0.01      0.00      0.00         0.00           NaN   \n",
       "\n",
       "      user_score rating  \n",
       "1            NaN    NaN  \n",
       "4            NaN    NaN  \n",
       "5            NaN    NaN  \n",
       "9            NaN    NaN  \n",
       "18           NaN    NaN  \n",
       "...          ...    ...  \n",
       "15957        NaN    NaN  \n",
       "16207        NaN    NaN  \n",
       "16326        NaN    NaN  \n",
       "16468        NaN    NaN  \n",
       "16666        NaN    NaN  \n",
       "\n",
       "[1571 rows x 11 columns]"
      ]
     },
     "metadata": {},
     "output_type": "display_data"
    }
   ],
   "source": [
    "display(game_data[(game_data['critic_score'].isna()) & (game_data['user_score'].isna()) & (game_data['rating'].isna()) & (game_data['year_of_release'] < 1999)])"
   ]
  },
  {
   "cell_type": "code",
   "execution_count": 9,
   "metadata": {},
   "outputs": [
    {
     "data": {
      "text/plain": [
       "14875"
      ]
     },
     "metadata": {},
     "output_type": "display_data"
    },
    {
     "data": {
      "text/plain": [
       "0.9044752523409948"
      ]
     },
     "metadata": {},
     "output_type": "display_data"
    }
   ],
   "source": [
    "game_data_late = game_data[~((game_data['critic_score'].isna()) & (game_data['user_score'].isna()) & (game_data['rating'].isna()) & (game_data['year_of_release'] < 1999))]\n",
    "display(game_data_late.shape[0])\n",
    "display(game_data_late.shape[0] / game_data.shape[0])"
   ]
  },
  {
   "cell_type": "markdown",
   "metadata": {},
   "source": [
    "Причиной пропусков в столбцах с информацией об оценках и рейтинге игр может быть отсутствие этих данных на момент их выгрузки для изучения. \n",
    "1. Для игр, вышедших в 80-90-е годы, такая информация может отсутствовать по причине их устаревшести и потери интереса к ним, а в столбце рейтинг по причине того, что в те годы рейтинг для игр не было принято определять. Таких строк меньше 10% от всего датафрейма, их было принято удалить.\n",
    "\n",
    "2. Более поздних игр с пропусками в вышеперечисленных столбцах (оценка критиков, пользователей и рейтинг игры) слишком много, чтобы их удалить. Заменить на ноль также не кажется хорошей идеей, так как это может исказить данные. Заполнить на основе категорий игр: недостаточно информации для категоризации. Кроме способа с подтягиванием этих данных со сторонних проверенных ресурсов с актуальными данными об играх, другие идеи в голову не приходят. Решено оставить пропуски без изменений на данный момент."
   ]
  },
  {
   "cell_type": "code",
   "execution_count": 10,
   "metadata": {
    "scrolled": true
   },
   "outputs": [
    {
     "data": {
      "text/html": [
       "<div>\n",
       "<style scoped>\n",
       "    .dataframe tbody tr th:only-of-type {\n",
       "        vertical-align: middle;\n",
       "    }\n",
       "\n",
       "    .dataframe tbody tr th {\n",
       "        vertical-align: top;\n",
       "    }\n",
       "\n",
       "    .dataframe thead th {\n",
       "        text-align: right;\n",
       "    }\n",
       "</style>\n",
       "<table border=\"1\" class=\"dataframe\">\n",
       "  <thead>\n",
       "    <tr style=\"text-align: right;\">\n",
       "      <th></th>\n",
       "      <th>name</th>\n",
       "      <th>platform</th>\n",
       "      <th>year_of_release</th>\n",
       "      <th>genre</th>\n",
       "      <th>na_sales</th>\n",
       "      <th>eu_sales</th>\n",
       "      <th>jp_sales</th>\n",
       "      <th>other_sales</th>\n",
       "      <th>critic_score</th>\n",
       "      <th>user_score</th>\n",
       "      <th>rating</th>\n",
       "    </tr>\n",
       "  </thead>\n",
       "  <tbody>\n",
       "    <tr>\n",
       "      <th>119</th>\n",
       "      <td>Zumba Fitness</td>\n",
       "      <td>Wii</td>\n",
       "      <td>2010</td>\n",
       "      <td>Sports</td>\n",
       "      <td>3.45</td>\n",
       "      <td>2.59</td>\n",
       "      <td>0.0</td>\n",
       "      <td>0.66</td>\n",
       "      <td>NaN</td>\n",
       "      <td>tbd</td>\n",
       "      <td>E</td>\n",
       "    </tr>\n",
       "    <tr>\n",
       "      <th>301</th>\n",
       "      <td>Namco Museum: 50th Anniversary</td>\n",
       "      <td>PS2</td>\n",
       "      <td>2005</td>\n",
       "      <td>Misc</td>\n",
       "      <td>2.08</td>\n",
       "      <td>1.35</td>\n",
       "      <td>0.0</td>\n",
       "      <td>0.54</td>\n",
       "      <td>61.0</td>\n",
       "      <td>tbd</td>\n",
       "      <td>E10+</td>\n",
       "    </tr>\n",
       "    <tr>\n",
       "      <th>520</th>\n",
       "      <td>Zumba Fitness 2</td>\n",
       "      <td>Wii</td>\n",
       "      <td>2011</td>\n",
       "      <td>Sports</td>\n",
       "      <td>1.51</td>\n",
       "      <td>1.03</td>\n",
       "      <td>0.0</td>\n",
       "      <td>0.27</td>\n",
       "      <td>NaN</td>\n",
       "      <td>tbd</td>\n",
       "      <td>T</td>\n",
       "    </tr>\n",
       "    <tr>\n",
       "      <th>645</th>\n",
       "      <td>uDraw Studio</td>\n",
       "      <td>Wii</td>\n",
       "      <td>2010</td>\n",
       "      <td>Misc</td>\n",
       "      <td>1.65</td>\n",
       "      <td>0.57</td>\n",
       "      <td>0.0</td>\n",
       "      <td>0.20</td>\n",
       "      <td>71.0</td>\n",
       "      <td>tbd</td>\n",
       "      <td>E</td>\n",
       "    </tr>\n",
       "    <tr>\n",
       "      <th>718</th>\n",
       "      <td>Just Dance Kids</td>\n",
       "      <td>Wii</td>\n",
       "      <td>2010</td>\n",
       "      <td>Misc</td>\n",
       "      <td>1.52</td>\n",
       "      <td>0.54</td>\n",
       "      <td>0.0</td>\n",
       "      <td>0.18</td>\n",
       "      <td>NaN</td>\n",
       "      <td>tbd</td>\n",
       "      <td>E</td>\n",
       "    </tr>\n",
       "    <tr>\n",
       "      <th>...</th>\n",
       "      <td>...</td>\n",
       "      <td>...</td>\n",
       "      <td>...</td>\n",
       "      <td>...</td>\n",
       "      <td>...</td>\n",
       "      <td>...</td>\n",
       "      <td>...</td>\n",
       "      <td>...</td>\n",
       "      <td>...</td>\n",
       "      <td>...</td>\n",
       "      <td>...</td>\n",
       "    </tr>\n",
       "    <tr>\n",
       "      <th>16695</th>\n",
       "      <td>Planet Monsters</td>\n",
       "      <td>GBA</td>\n",
       "      <td>2001</td>\n",
       "      <td>Action</td>\n",
       "      <td>0.01</td>\n",
       "      <td>0.00</td>\n",
       "      <td>0.0</td>\n",
       "      <td>0.00</td>\n",
       "      <td>67.0</td>\n",
       "      <td>tbd</td>\n",
       "      <td>E</td>\n",
       "    </tr>\n",
       "    <tr>\n",
       "      <th>16697</th>\n",
       "      <td>Bust-A-Move 3000</td>\n",
       "      <td>GC</td>\n",
       "      <td>2003</td>\n",
       "      <td>Puzzle</td>\n",
       "      <td>0.01</td>\n",
       "      <td>0.00</td>\n",
       "      <td>0.0</td>\n",
       "      <td>0.00</td>\n",
       "      <td>53.0</td>\n",
       "      <td>tbd</td>\n",
       "      <td>E</td>\n",
       "    </tr>\n",
       "    <tr>\n",
       "      <th>16698</th>\n",
       "      <td>Mega Brain Boost</td>\n",
       "      <td>DS</td>\n",
       "      <td>2008</td>\n",
       "      <td>Puzzle</td>\n",
       "      <td>0.01</td>\n",
       "      <td>0.00</td>\n",
       "      <td>0.0</td>\n",
       "      <td>0.00</td>\n",
       "      <td>48.0</td>\n",
       "      <td>tbd</td>\n",
       "      <td>E</td>\n",
       "    </tr>\n",
       "    <tr>\n",
       "      <th>16704</th>\n",
       "      <td>Plushees</td>\n",
       "      <td>DS</td>\n",
       "      <td>2008</td>\n",
       "      <td>Simulation</td>\n",
       "      <td>0.01</td>\n",
       "      <td>0.00</td>\n",
       "      <td>0.0</td>\n",
       "      <td>0.00</td>\n",
       "      <td>NaN</td>\n",
       "      <td>tbd</td>\n",
       "      <td>E</td>\n",
       "    </tr>\n",
       "    <tr>\n",
       "      <th>16706</th>\n",
       "      <td>Men in Black II: Alien Escape</td>\n",
       "      <td>GC</td>\n",
       "      <td>2003</td>\n",
       "      <td>Shooter</td>\n",
       "      <td>0.01</td>\n",
       "      <td>0.00</td>\n",
       "      <td>0.0</td>\n",
       "      <td>0.00</td>\n",
       "      <td>NaN</td>\n",
       "      <td>tbd</td>\n",
       "      <td>T</td>\n",
       "    </tr>\n",
       "  </tbody>\n",
       "</table>\n",
       "<p>2376 rows × 11 columns</p>\n",
       "</div>"
      ],
      "text/plain": [
       "                                 name platform  year_of_release       genre  \\\n",
       "119                     Zumba Fitness      Wii             2010      Sports   \n",
       "301    Namco Museum: 50th Anniversary      PS2             2005        Misc   \n",
       "520                   Zumba Fitness 2      Wii             2011      Sports   \n",
       "645                      uDraw Studio      Wii             2010        Misc   \n",
       "718                   Just Dance Kids      Wii             2010        Misc   \n",
       "...                               ...      ...              ...         ...   \n",
       "16695                 Planet Monsters      GBA             2001      Action   \n",
       "16697                Bust-A-Move 3000       GC             2003      Puzzle   \n",
       "16698                Mega Brain Boost       DS             2008      Puzzle   \n",
       "16704                        Plushees       DS             2008  Simulation   \n",
       "16706   Men in Black II: Alien Escape       GC             2003     Shooter   \n",
       "\n",
       "       na_sales  eu_sales  jp_sales  other_sales  critic_score user_score  \\\n",
       "119        3.45      2.59       0.0         0.66           NaN        tbd   \n",
       "301        2.08      1.35       0.0         0.54          61.0        tbd   \n",
       "520        1.51      1.03       0.0         0.27           NaN        tbd   \n",
       "645        1.65      0.57       0.0         0.20          71.0        tbd   \n",
       "718        1.52      0.54       0.0         0.18           NaN        tbd   \n",
       "...         ...       ...       ...          ...           ...        ...   \n",
       "16695      0.01      0.00       0.0         0.00          67.0        tbd   \n",
       "16697      0.01      0.00       0.0         0.00          53.0        tbd   \n",
       "16698      0.01      0.00       0.0         0.00          48.0        tbd   \n",
       "16704      0.01      0.00       0.0         0.00           NaN        tbd   \n",
       "16706      0.01      0.00       0.0         0.00           NaN        tbd   \n",
       "\n",
       "      rating  \n",
       "119        E  \n",
       "301     E10+  \n",
       "520        T  \n",
       "645        E  \n",
       "718        E  \n",
       "...      ...  \n",
       "16695      E  \n",
       "16697      E  \n",
       "16698      E  \n",
       "16704      E  \n",
       "16706      T  \n",
       "\n",
       "[2376 rows x 11 columns]"
      ]
     },
     "metadata": {},
     "output_type": "display_data"
    }
   ],
   "source": [
    "#проверка значения tbd в столбце с оценкой пользователей\n",
    "display(game_data_late[game_data_late['user_score'] == 'tbd'])"
   ]
  },
  {
   "cell_type": "markdown",
   "metadata": {},
   "source": [
    "Аббревиатура tbd ('to be determined') обозначает отсутствие пользовательского рейтинга у данной игры, часто по причине недостаточного количества отзывов пользователей для его определения. Для начала заменим его на пропуски, тогда будет возможно обрабатывать данные в столбце как числовые."
   ]
  },
  {
   "cell_type": "code",
   "execution_count": 11,
   "metadata": {},
   "outputs": [
    {
     "name": "stderr",
     "output_type": "stream",
     "text": [
      "/opt/conda/lib/python3.9/site-packages/pandas/core/indexing.py:1720: SettingWithCopyWarning: \n",
      "A value is trying to be set on a copy of a slice from a DataFrame.\n",
      "Try using .loc[row_indexer,col_indexer] = value instead\n",
      "\n",
      "See the caveats in the documentation: https://pandas.pydata.org/pandas-docs/stable/user_guide/indexing.html#returning-a-view-versus-a-copy\n",
      "  self._setitem_single_column(loc, value, pi)\n"
     ]
    },
    {
     "data": {
      "text/html": [
       "<div>\n",
       "<style scoped>\n",
       "    .dataframe tbody tr th:only-of-type {\n",
       "        vertical-align: middle;\n",
       "    }\n",
       "\n",
       "    .dataframe tbody tr th {\n",
       "        vertical-align: top;\n",
       "    }\n",
       "\n",
       "    .dataframe thead th {\n",
       "        text-align: right;\n",
       "    }\n",
       "</style>\n",
       "<table border=\"1\" class=\"dataframe\">\n",
       "  <thead>\n",
       "    <tr style=\"text-align: right;\">\n",
       "      <th></th>\n",
       "      <th>name</th>\n",
       "      <th>platform</th>\n",
       "      <th>year_of_release</th>\n",
       "      <th>genre</th>\n",
       "      <th>na_sales</th>\n",
       "      <th>eu_sales</th>\n",
       "      <th>jp_sales</th>\n",
       "      <th>other_sales</th>\n",
       "      <th>critic_score</th>\n",
       "      <th>user_score</th>\n",
       "      <th>rating</th>\n",
       "    </tr>\n",
       "  </thead>\n",
       "  <tbody>\n",
       "  </tbody>\n",
       "</table>\n",
       "</div>"
      ],
      "text/plain": [
       "Empty DataFrame\n",
       "Columns: [name, platform, year_of_release, genre, na_sales, eu_sales, jp_sales, other_sales, critic_score, user_score, rating]\n",
       "Index: []"
      ]
     },
     "metadata": {},
     "output_type": "display_data"
    }
   ],
   "source": [
    "#game_data_late[game_data_late['user_score'] == 'tbd', 'user_score'] = 0\n",
    "#game_data_late['user_score'] = np.where(game_data_late['user_score'] == 'tbd', None, game_data_late['user_score'])\n",
    "#display(game_data_late[game_data_late['user_score'] == 'tbd'])\n",
    "game_data_late.loc[game_data_late['user_score'] == 'tbd', 'user_score'] = np.nan\n",
    "display(game_data_late[game_data_late['user_score'] == 'tbd'])"
   ]
  },
  {
   "cell_type": "code",
   "execution_count": 12,
   "metadata": {},
   "outputs": [
    {
     "name": "stderr",
     "output_type": "stream",
     "text": [
      "/tmp/ipykernel_31/2397980450.py:1: SettingWithCopyWarning: \n",
      "A value is trying to be set on a copy of a slice from a DataFrame.\n",
      "Try using .loc[row_indexer,col_indexer] = value instead\n",
      "\n",
      "See the caveats in the documentation: https://pandas.pydata.org/pandas-docs/stable/user_guide/indexing.html#returning-a-view-versus-a-copy\n",
      "  game_data_late['user_score'] = game_data_late['user_score'].astype(float)\n"
     ]
    },
    {
     "data": {
      "text/plain": [
       "dtype('float64')"
      ]
     },
     "metadata": {},
     "output_type": "display_data"
    }
   ],
   "source": [
    "game_data_late['user_score'] = game_data_late['user_score'].astype(float)\n",
    "display(game_data_late.user_score.dtype)"
   ]
  },
  {
   "cell_type": "markdown",
   "metadata": {},
   "source": [
    "Тип данных в столбце с оценками пользователей был изменен на числовой с целью необходимости произведения дальнейших расчетов."
   ]
  },
  {
   "cell_type": "code",
   "execution_count": 17,
   "metadata": {},
   "outputs": [
    {
     "name": "stderr",
     "output_type": "stream",
     "text": [
      "/tmp/ipykernel_31/3722607664.py:3: SettingWithCopyWarning: \n",
      "A value is trying to be set on a copy of a slice from a DataFrame.\n",
      "Try using .loc[row_indexer,col_indexer] = value instead\n",
      "\n",
      "See the caveats in the documentation: https://pandas.pydata.org/pandas-docs/stable/user_guide/indexing.html#returning-a-view-versus-a-copy\n",
      "  game_data_late['total_sales'] = game_data_late[['na_sales', 'eu_sales', 'jp_sales', 'other_sales']].sum(axis=1)\n"
     ]
    },
    {
     "data": {
      "text/html": [
       "<div>\n",
       "<style scoped>\n",
       "    .dataframe tbody tr th:only-of-type {\n",
       "        vertical-align: middle;\n",
       "    }\n",
       "\n",
       "    .dataframe tbody tr th {\n",
       "        vertical-align: top;\n",
       "    }\n",
       "\n",
       "    .dataframe thead th {\n",
       "        text-align: right;\n",
       "    }\n",
       "</style>\n",
       "<table border=\"1\" class=\"dataframe\">\n",
       "  <thead>\n",
       "    <tr style=\"text-align: right;\">\n",
       "      <th></th>\n",
       "      <th>name</th>\n",
       "      <th>platform</th>\n",
       "      <th>year_of_release</th>\n",
       "      <th>genre</th>\n",
       "      <th>na_sales</th>\n",
       "      <th>eu_sales</th>\n",
       "      <th>jp_sales</th>\n",
       "      <th>other_sales</th>\n",
       "      <th>critic_score</th>\n",
       "      <th>user_score</th>\n",
       "      <th>rating</th>\n",
       "      <th>total_sales</th>\n",
       "    </tr>\n",
       "  </thead>\n",
       "  <tbody>\n",
       "    <tr>\n",
       "      <th>0</th>\n",
       "      <td>Wii Sports</td>\n",
       "      <td>Wii</td>\n",
       "      <td>2006</td>\n",
       "      <td>Sports</td>\n",
       "      <td>41.36</td>\n",
       "      <td>28.96</td>\n",
       "      <td>3.77</td>\n",
       "      <td>8.45</td>\n",
       "      <td>76.0</td>\n",
       "      <td>8.0</td>\n",
       "      <td>E</td>\n",
       "      <td>82.54</td>\n",
       "    </tr>\n",
       "    <tr>\n",
       "      <th>2</th>\n",
       "      <td>Mario Kart Wii</td>\n",
       "      <td>Wii</td>\n",
       "      <td>2008</td>\n",
       "      <td>Racing</td>\n",
       "      <td>15.68</td>\n",
       "      <td>12.76</td>\n",
       "      <td>3.79</td>\n",
       "      <td>3.29</td>\n",
       "      <td>82.0</td>\n",
       "      <td>8.3</td>\n",
       "      <td>E</td>\n",
       "      <td>35.52</td>\n",
       "    </tr>\n",
       "    <tr>\n",
       "      <th>3</th>\n",
       "      <td>Wii Sports Resort</td>\n",
       "      <td>Wii</td>\n",
       "      <td>2009</td>\n",
       "      <td>Sports</td>\n",
       "      <td>15.61</td>\n",
       "      <td>10.93</td>\n",
       "      <td>3.28</td>\n",
       "      <td>2.95</td>\n",
       "      <td>80.0</td>\n",
       "      <td>8.0</td>\n",
       "      <td>E</td>\n",
       "      <td>32.77</td>\n",
       "    </tr>\n",
       "    <tr>\n",
       "      <th>6</th>\n",
       "      <td>New Super Mario Bros.</td>\n",
       "      <td>DS</td>\n",
       "      <td>2006</td>\n",
       "      <td>Platform</td>\n",
       "      <td>11.28</td>\n",
       "      <td>9.14</td>\n",
       "      <td>6.50</td>\n",
       "      <td>2.88</td>\n",
       "      <td>89.0</td>\n",
       "      <td>8.5</td>\n",
       "      <td>E</td>\n",
       "      <td>29.80</td>\n",
       "    </tr>\n",
       "    <tr>\n",
       "      <th>7</th>\n",
       "      <td>Wii Play</td>\n",
       "      <td>Wii</td>\n",
       "      <td>2006</td>\n",
       "      <td>Misc</td>\n",
       "      <td>13.96</td>\n",
       "      <td>9.18</td>\n",
       "      <td>2.93</td>\n",
       "      <td>2.84</td>\n",
       "      <td>58.0</td>\n",
       "      <td>6.6</td>\n",
       "      <td>E</td>\n",
       "      <td>28.91</td>\n",
       "    </tr>\n",
       "    <tr>\n",
       "      <th>8</th>\n",
       "      <td>New Super Mario Bros. Wii</td>\n",
       "      <td>Wii</td>\n",
       "      <td>2009</td>\n",
       "      <td>Platform</td>\n",
       "      <td>14.44</td>\n",
       "      <td>6.94</td>\n",
       "      <td>4.70</td>\n",
       "      <td>2.24</td>\n",
       "      <td>87.0</td>\n",
       "      <td>8.4</td>\n",
       "      <td>E</td>\n",
       "      <td>28.32</td>\n",
       "    </tr>\n",
       "    <tr>\n",
       "      <th>10</th>\n",
       "      <td>Nintendogs</td>\n",
       "      <td>DS</td>\n",
       "      <td>2005</td>\n",
       "      <td>Simulation</td>\n",
       "      <td>9.05</td>\n",
       "      <td>10.95</td>\n",
       "      <td>1.93</td>\n",
       "      <td>2.74</td>\n",
       "      <td>NaN</td>\n",
       "      <td>NaN</td>\n",
       "      <td>NaN</td>\n",
       "      <td>24.67</td>\n",
       "    </tr>\n",
       "    <tr>\n",
       "      <th>11</th>\n",
       "      <td>Mario Kart DS</td>\n",
       "      <td>DS</td>\n",
       "      <td>2005</td>\n",
       "      <td>Racing</td>\n",
       "      <td>9.71</td>\n",
       "      <td>7.47</td>\n",
       "      <td>4.13</td>\n",
       "      <td>1.90</td>\n",
       "      <td>91.0</td>\n",
       "      <td>8.6</td>\n",
       "      <td>E</td>\n",
       "      <td>23.21</td>\n",
       "    </tr>\n",
       "    <tr>\n",
       "      <th>12</th>\n",
       "      <td>Pokemon Gold/Pokemon Silver</td>\n",
       "      <td>GB</td>\n",
       "      <td>1999</td>\n",
       "      <td>Role-Playing</td>\n",
       "      <td>9.00</td>\n",
       "      <td>6.18</td>\n",
       "      <td>7.20</td>\n",
       "      <td>0.71</td>\n",
       "      <td>NaN</td>\n",
       "      <td>NaN</td>\n",
       "      <td>NaN</td>\n",
       "      <td>23.09</td>\n",
       "    </tr>\n",
       "    <tr>\n",
       "      <th>13</th>\n",
       "      <td>Wii Fit</td>\n",
       "      <td>Wii</td>\n",
       "      <td>2007</td>\n",
       "      <td>Sports</td>\n",
       "      <td>8.92</td>\n",
       "      <td>8.03</td>\n",
       "      <td>3.60</td>\n",
       "      <td>2.15</td>\n",
       "      <td>80.0</td>\n",
       "      <td>7.7</td>\n",
       "      <td>E</td>\n",
       "      <td>22.70</td>\n",
       "    </tr>\n",
       "  </tbody>\n",
       "</table>\n",
       "</div>"
      ],
      "text/plain": [
       "                           name platform  year_of_release         genre  \\\n",
       "0                    Wii Sports      Wii             2006        Sports   \n",
       "2                Mario Kart Wii      Wii             2008        Racing   \n",
       "3             Wii Sports Resort      Wii             2009        Sports   \n",
       "6         New Super Mario Bros.       DS             2006      Platform   \n",
       "7                      Wii Play      Wii             2006          Misc   \n",
       "8     New Super Mario Bros. Wii      Wii             2009      Platform   \n",
       "10                   Nintendogs       DS             2005    Simulation   \n",
       "11                Mario Kart DS       DS             2005        Racing   \n",
       "12  Pokemon Gold/Pokemon Silver       GB             1999  Role-Playing   \n",
       "13                      Wii Fit      Wii             2007        Sports   \n",
       "\n",
       "    na_sales  eu_sales  jp_sales  other_sales  critic_score  user_score  \\\n",
       "0      41.36     28.96      3.77         8.45          76.0         8.0   \n",
       "2      15.68     12.76      3.79         3.29          82.0         8.3   \n",
       "3      15.61     10.93      3.28         2.95          80.0         8.0   \n",
       "6      11.28      9.14      6.50         2.88          89.0         8.5   \n",
       "7      13.96      9.18      2.93         2.84          58.0         6.6   \n",
       "8      14.44      6.94      4.70         2.24          87.0         8.4   \n",
       "10      9.05     10.95      1.93         2.74           NaN         NaN   \n",
       "11      9.71      7.47      4.13         1.90          91.0         8.6   \n",
       "12      9.00      6.18      7.20         0.71           NaN         NaN   \n",
       "13      8.92      8.03      3.60         2.15          80.0         7.7   \n",
       "\n",
       "   rating  total_sales  \n",
       "0       E        82.54  \n",
       "2       E        35.52  \n",
       "3       E        32.77  \n",
       "6       E        29.80  \n",
       "7       E        28.91  \n",
       "8       E        28.32  \n",
       "10    NaN        24.67  \n",
       "11      E        23.21  \n",
       "12    NaN        23.09  \n",
       "13      E        22.70  "
      ]
     },
     "metadata": {},
     "output_type": "display_data"
    }
   ],
   "source": [
    "#считаем суммарные продажи во всех регионах\n",
    "#game_data_late['total_sales'] = game_data_late['na_sales'] + game_data_late['eu_sales'] + game_data_late['jp_sales'] + game_data_late['other_sales']\n",
    "game_data_late['total_sales'] = game_data_late[['na_sales', 'eu_sales', 'jp_sales', 'other_sales']].sum(axis=1)\n",
    "display(game_data_late.head(10))"
   ]
  },
  {
   "cell_type": "markdown",
   "metadata": {},
   "source": [
    "Таким образом, на этапе предобработки данных были сделаны следующие шаги:\n",
    "1. Удалены пропуски в столбце с годом выпуска игры, тип данных изменен на целочисленный.\n",
    "2. Удалены данные с пропусками сразу в трех столбцах (оценки пользователей, критиков и рейтинг), если год выпуска был раньше 1999 года. После удаления осталось 90% данных.\n",
    "3. Значение tbd в столбце с пользовательским рейтингом заменено на Nan, тип данных изменен на числовой.\n",
    "4. Добавлен столбец с суммарными данными по продажам во всех регионах."
   ]
  },
  {
   "cell_type": "markdown",
   "metadata": {},
   "source": [
    "#### Исследовательский анализ данных"
   ]
  },
  {
   "cell_type": "code",
   "execution_count": 21,
   "metadata": {},
   "outputs": [
    {
     "data": {
      "text/plain": [
       "year_of_release\n",
       "1985       1\n",
       "1988       1\n",
       "1992       2\n",
       "1994       1\n",
       "1996       8\n",
       "1997      21\n",
       "1998      33\n",
       "1999     338\n",
       "2000     350\n",
       "2001     482\n",
       "2002     829\n",
       "2003     775\n",
       "2004     762\n",
       "2005     939\n",
       "2006    1006\n",
       "2007    1197\n",
       "2008    1427\n",
       "2009    1426\n",
       "2010    1255\n",
       "2011    1136\n",
       "2012     653\n",
       "2013     544\n",
       "2014     581\n",
       "2015     606\n",
       "2016     502\n",
       "Name: name, dtype: int64"
      ]
     },
     "metadata": {},
     "output_type": "display_data"
    }
   ],
   "source": [
    "#сколько игр выпускалось в разные годы\n",
    "yearly_game_data = game_data_late.groupby('year_of_release')['name'].count()\n",
    "display(yearly_game_data)"
   ]
  },
  {
   "cell_type": "markdown",
   "metadata": {},
   "source": [
    "Количество выпущенных игр до 1999 года слишком мало по сравнению с более поздним периодом, поэтому данные о них представляются незначительными для общего анализа."
   ]
  },
  {
   "cell_type": "code",
   "execution_count": 23,
   "metadata": {},
   "outputs": [
    {
     "data": {
      "image/png": "[encoded data removed]",
      "text/plain": [
       "<Figure size 432x288 with 1 Axes>"
      ]
     },
     "metadata": {
      "needs_background": "light"
     },
     "output_type": "display_data"
    }
   ],
   "source": [
    "yearly_game_data.plot(kind = 'bar', title = 'Количество выпущенных игр по годам с 1985 по 2016', color = 'g')\n",
    "plt.show()"
   ]
  },
  {
   "cell_type": "code",
   "execution_count": 24,
   "metadata": {},
   "outputs": [
    {
     "data": {
      "text/plain": [
       "platform\n",
       "PS2     1233.56\n",
       "X360     961.24\n",
       "PS3      931.34\n",
       "Wii      891.18\n",
       "DS       802.76\n",
       "PS       390.79\n",
       "PS4      314.14\n",
       "GBA      312.88\n",
       "PSP      289.53\n",
       "3DS      257.81\n",
       "XB       251.57\n",
       "PC       228.49\n",
       "GC       196.73\n",
       "XOne     159.32\n",
       "N64       95.17\n",
       "WiiU      82.19\n",
       "GB        67.00\n",
       "PSV       53.81\n",
       "DC        12.57\n",
       "WS         1.42\n",
       "SNES       0.26\n",
       "SAT        0.09\n",
       "Name: total_sales, dtype: float64"
      ]
     },
     "metadata": {},
     "output_type": "display_data"
    }
   ],
   "source": [
    "#выявление платформ с наибольшими продажами по всем регионам\n",
    "display(game_data_late.groupby('platform')['total_sales'].sum().sort_values(ascending = False))"
   ]
  },
  {
   "cell_type": "code",
   "execution_count": 25,
   "metadata": {},
   "outputs": [
    {
     "data": {
      "image/png": "[encoded data removed]",
      "text/plain": [
       "<Figure size 1440x432 with 1 Axes>"
      ]
     },
     "metadata": {
      "needs_background": "light"
     },
     "output_type": "display_data"
    }
   ],
   "source": [
    "#построения графика распределения по годам\n",
    "plt.subplots(figsize=(20, 6))\n",
    "ax = game_data_late[game_data_late['platform'] == 'PS2'][['year_of_release', 'total_sales']].groupby('year_of_release')['total_sales'].sum().plot(x = 'year_of_release', y = 'total_sales')\n",
    "ax = game_data_late[game_data_late['platform'] == 'X360'][['year_of_release', 'total_sales']].groupby('year_of_release')['total_sales'].sum().plot(x = 'year_of_release', y = 'total_sales')\n",
    "ax = game_data_late[game_data_late['platform'] == 'PS3'][['year_of_release', 'total_sales']].groupby('year_of_release')['total_sales'].sum().plot(x = 'year_of_release', y = 'total_sales')\n",
    "ax = game_data_late[game_data_late['platform'] == 'Wii'][['year_of_release', 'total_sales']].groupby('year_of_release')['total_sales'].sum().plot(x = 'year_of_release', y = 'total_sales')\n",
    "ax = game_data_late[game_data_late['platform'] == 'DS'][['year_of_release', 'total_sales']].groupby('year_of_release')['total_sales'].sum().plot(x = 'year_of_release', y = 'total_sales')\n",
    "ax = game_data_late[game_data_late['platform'] == 'PS'][['year_of_release', 'total_sales']].groupby('year_of_release')['total_sales'].sum().plot(x = 'year_of_release', y = 'total_sales')\n",
    "ax = game_data_late[game_data_late['platform'] == 'PS4'][['year_of_release', 'total_sales']].groupby('year_of_release')['total_sales'].sum().plot(x = 'year_of_release', y = 'total_sales')\n",
    "plt.title('Суммарные продажи по годам наиболее прибыльных платформ')\n",
    "labels1 = [r'PS2', r'X360', r'PS3', r'Wii', r'DS', r'PS', r'PS4']\n",
    "plt.legend(labels1, loc='upper right')\n",
    "plt.xticks(np.arange(1995, 2017, step=1))\n",
    "plt.show()"
   ]
  },
  {
   "cell_type": "markdown",
   "metadata": {},
   "source": [
    "Было выбрано семь платформ с наибольшей суммой продаж по всем регионам. Распределение по годам можно увидеть на графике сверху.\n",
    "Можно сделать вывод о том, что платформы появляются и сменяют друг друга за примерный период в 10 лет. В последнее десятилетие до 2016 года упорно конкурировали X360 и PS3, а самой последней на рынок вышла PS4."
   ]
  },
  {
   "cell_type": "code",
   "execution_count": 26,
   "metadata": {},
   "outputs": [
    {
     "data": {
      "text/html": [
       "<div>\n",
       "<style scoped>\n",
       "    .dataframe tbody tr th:only-of-type {\n",
       "        vertical-align: middle;\n",
       "    }\n",
       "\n",
       "    .dataframe tbody tr th {\n",
       "        vertical-align: top;\n",
       "    }\n",
       "\n",
       "    .dataframe thead tr th {\n",
       "        text-align: left;\n",
       "    }\n",
       "\n",
       "    .dataframe thead tr:last-of-type th {\n",
       "        text-align: right;\n",
       "    }\n",
       "</style>\n",
       "<table border=\"1\" class=\"dataframe\">\n",
       "  <thead>\n",
       "    <tr>\n",
       "      <th></th>\n",
       "      <th></th>\n",
       "      <th>sum</th>\n",
       "      <th>mean</th>\n",
       "    </tr>\n",
       "    <tr>\n",
       "      <th></th>\n",
       "      <th></th>\n",
       "      <th>total_sales</th>\n",
       "      <th>total_sales</th>\n",
       "    </tr>\n",
       "    <tr>\n",
       "      <th>platform</th>\n",
       "      <th>year_of_release</th>\n",
       "      <th></th>\n",
       "      <th></th>\n",
       "    </tr>\n",
       "  </thead>\n",
       "  <tbody>\n",
       "    <tr>\n",
       "      <th rowspan=\"4\" valign=\"top\">3DS</th>\n",
       "      <th>2013</th>\n",
       "      <td>56.57</td>\n",
       "      <td>0.621648</td>\n",
       "    </tr>\n",
       "    <tr>\n",
       "      <th>2014</th>\n",
       "      <td>43.76</td>\n",
       "      <td>0.547000</td>\n",
       "    </tr>\n",
       "    <tr>\n",
       "      <th>2015</th>\n",
       "      <td>27.78</td>\n",
       "      <td>0.323023</td>\n",
       "    </tr>\n",
       "    <tr>\n",
       "      <th>2016</th>\n",
       "      <td>15.14</td>\n",
       "      <td>0.329130</td>\n",
       "    </tr>\n",
       "    <tr>\n",
       "      <th>DS</th>\n",
       "      <th>2013</th>\n",
       "      <td>1.54</td>\n",
       "      <td>0.192500</td>\n",
       "    </tr>\n",
       "    <tr>\n",
       "      <th rowspan=\"4\" valign=\"top\">PC</th>\n",
       "      <th>2013</th>\n",
       "      <td>12.38</td>\n",
       "      <td>0.325789</td>\n",
       "    </tr>\n",
       "    <tr>\n",
       "      <th>2014</th>\n",
       "      <td>13.28</td>\n",
       "      <td>0.282553</td>\n",
       "    </tr>\n",
       "    <tr>\n",
       "      <th>2015</th>\n",
       "      <td>8.52</td>\n",
       "      <td>0.170400</td>\n",
       "    </tr>\n",
       "    <tr>\n",
       "      <th>2016</th>\n",
       "      <td>5.25</td>\n",
       "      <td>0.097222</td>\n",
       "    </tr>\n",
       "    <tr>\n",
       "      <th rowspan=\"4\" valign=\"top\">PS3</th>\n",
       "      <th>2013</th>\n",
       "      <td>113.25</td>\n",
       "      <td>0.898810</td>\n",
       "    </tr>\n",
       "    <tr>\n",
       "      <th>2014</th>\n",
       "      <td>47.76</td>\n",
       "      <td>0.442222</td>\n",
       "    </tr>\n",
       "    <tr>\n",
       "      <th>2015</th>\n",
       "      <td>16.82</td>\n",
       "      <td>0.230411</td>\n",
       "    </tr>\n",
       "    <tr>\n",
       "      <th>2016</th>\n",
       "      <td>3.60</td>\n",
       "      <td>0.094737</td>\n",
       "    </tr>\n",
       "    <tr>\n",
       "      <th rowspan=\"4\" valign=\"top\">PS4</th>\n",
       "      <th>2013</th>\n",
       "      <td>25.99</td>\n",
       "      <td>1.624375</td>\n",
       "    </tr>\n",
       "    <tr>\n",
       "      <th>2014</th>\n",
       "      <td>100.00</td>\n",
       "      <td>1.333333</td>\n",
       "    </tr>\n",
       "    <tr>\n",
       "      <th>2015</th>\n",
       "      <td>118.90</td>\n",
       "      <td>0.867883</td>\n",
       "    </tr>\n",
       "    <tr>\n",
       "      <th>2016</th>\n",
       "      <td>69.25</td>\n",
       "      <td>0.422256</td>\n",
       "    </tr>\n",
       "    <tr>\n",
       "      <th rowspan=\"3\" valign=\"top\">PSP</th>\n",
       "      <th>2013</th>\n",
       "      <td>3.14</td>\n",
       "      <td>0.058148</td>\n",
       "    </tr>\n",
       "    <tr>\n",
       "      <th>2014</th>\n",
       "      <td>0.24</td>\n",
       "      <td>0.024000</td>\n",
       "    </tr>\n",
       "    <tr>\n",
       "      <th>2015</th>\n",
       "      <td>0.12</td>\n",
       "      <td>0.040000</td>\n",
       "    </tr>\n",
       "    <tr>\n",
       "      <th rowspan=\"4\" valign=\"top\">PSV</th>\n",
       "      <th>2013</th>\n",
       "      <td>10.59</td>\n",
       "      <td>0.168095</td>\n",
       "    </tr>\n",
       "    <tr>\n",
       "      <th>2014</th>\n",
       "      <td>11.90</td>\n",
       "      <td>0.119000</td>\n",
       "    </tr>\n",
       "    <tr>\n",
       "      <th>2015</th>\n",
       "      <td>6.25</td>\n",
       "      <td>0.056818</td>\n",
       "    </tr>\n",
       "    <tr>\n",
       "      <th>2016</th>\n",
       "      <td>4.25</td>\n",
       "      <td>0.050000</td>\n",
       "    </tr>\n",
       "    <tr>\n",
       "      <th rowspan=\"4\" valign=\"top\">Wii</th>\n",
       "      <th>2013</th>\n",
       "      <td>8.59</td>\n",
       "      <td>0.715833</td>\n",
       "    </tr>\n",
       "    <tr>\n",
       "      <th>2014</th>\n",
       "      <td>3.75</td>\n",
       "      <td>0.625000</td>\n",
       "    </tr>\n",
       "    <tr>\n",
       "      <th>2015</th>\n",
       "      <td>1.14</td>\n",
       "      <td>0.285000</td>\n",
       "    </tr>\n",
       "    <tr>\n",
       "      <th>2016</th>\n",
       "      <td>0.18</td>\n",
       "      <td>0.180000</td>\n",
       "    </tr>\n",
       "    <tr>\n",
       "      <th rowspan=\"4\" valign=\"top\">WiiU</th>\n",
       "      <th>2013</th>\n",
       "      <td>21.65</td>\n",
       "      <td>0.515476</td>\n",
       "    </tr>\n",
       "    <tr>\n",
       "      <th>2014</th>\n",
       "      <td>22.03</td>\n",
       "      <td>0.710645</td>\n",
       "    </tr>\n",
       "    <tr>\n",
       "      <th>2015</th>\n",
       "      <td>16.35</td>\n",
       "      <td>0.583929</td>\n",
       "    </tr>\n",
       "    <tr>\n",
       "      <th>2016</th>\n",
       "      <td>4.60</td>\n",
       "      <td>0.328571</td>\n",
       "    </tr>\n",
       "    <tr>\n",
       "      <th rowspan=\"4\" valign=\"top\">X360</th>\n",
       "      <th>2013</th>\n",
       "      <td>88.58</td>\n",
       "      <td>1.181067</td>\n",
       "    </tr>\n",
       "    <tr>\n",
       "      <th>2014</th>\n",
       "      <td>34.74</td>\n",
       "      <td>0.551429</td>\n",
       "    </tr>\n",
       "    <tr>\n",
       "      <th>2015</th>\n",
       "      <td>11.96</td>\n",
       "      <td>0.341714</td>\n",
       "    </tr>\n",
       "    <tr>\n",
       "      <th>2016</th>\n",
       "      <td>1.52</td>\n",
       "      <td>0.116923</td>\n",
       "    </tr>\n",
       "    <tr>\n",
       "      <th rowspan=\"4\" valign=\"top\">XOne</th>\n",
       "      <th>2013</th>\n",
       "      <td>18.96</td>\n",
       "      <td>0.997895</td>\n",
       "    </tr>\n",
       "    <tr>\n",
       "      <th>2014</th>\n",
       "      <td>54.07</td>\n",
       "      <td>0.886393</td>\n",
       "    </tr>\n",
       "    <tr>\n",
       "      <th>2015</th>\n",
       "      <td>60.14</td>\n",
       "      <td>0.751750</td>\n",
       "    </tr>\n",
       "    <tr>\n",
       "      <th>2016</th>\n",
       "      <td>26.15</td>\n",
       "      <td>0.300575</td>\n",
       "    </tr>\n",
       "  </tbody>\n",
       "</table>\n",
       "</div>"
      ],
      "text/plain": [
       "                                 sum        mean\n",
       "                         total_sales total_sales\n",
       "platform year_of_release                        \n",
       "3DS      2013                  56.57    0.621648\n",
       "         2014                  43.76    0.547000\n",
       "         2015                  27.78    0.323023\n",
       "         2016                  15.14    0.329130\n",
       "DS       2013                   1.54    0.192500\n",
       "PC       2013                  12.38    0.325789\n",
       "         2014                  13.28    0.282553\n",
       "         2015                   8.52    0.170400\n",
       "         2016                   5.25    0.097222\n",
       "PS3      2013                 113.25    0.898810\n",
       "         2014                  47.76    0.442222\n",
       "         2015                  16.82    0.230411\n",
       "         2016                   3.60    0.094737\n",
       "PS4      2013                  25.99    1.624375\n",
       "         2014                 100.00    1.333333\n",
       "         2015                 118.90    0.867883\n",
       "         2016                  69.25    0.422256\n",
       "PSP      2013                   3.14    0.058148\n",
       "         2014                   0.24    0.024000\n",
       "         2015                   0.12    0.040000\n",
       "PSV      2013                  10.59    0.168095\n",
       "         2014                  11.90    0.119000\n",
       "         2015                   6.25    0.056818\n",
       "         2016                   4.25    0.050000\n",
       "Wii      2013                   8.59    0.715833\n",
       "         2014                   3.75    0.625000\n",
       "         2015                   1.14    0.285000\n",
       "         2016                   0.18    0.180000\n",
       "WiiU     2013                  21.65    0.515476\n",
       "         2014                  22.03    0.710645\n",
       "         2015                  16.35    0.583929\n",
       "         2016                   4.60    0.328571\n",
       "X360     2013                  88.58    1.181067\n",
       "         2014                  34.74    0.551429\n",
       "         2015                  11.96    0.341714\n",
       "         2016                   1.52    0.116923\n",
       "XOne     2013                  18.96    0.997895\n",
       "         2014                  54.07    0.886393\n",
       "         2015                  60.14    0.751750\n",
       "         2016                  26.15    0.300575"
      ]
     },
     "metadata": {},
     "output_type": "display_data"
    }
   ],
   "source": [
    "#платформы за актуальный период\n",
    "new_game_data = game_data_late[game_data_late['year_of_release'] >= 2013]\n",
    "display(new_game_data.pivot_table(index = ['platform', 'year_of_release'], values = 'total_sales', aggfunc = ['sum', 'mean']))"
   ]
  },
  {
   "cell_type": "markdown",
   "metadata": {},
   "source": [
    "Для прогнозирования продаж на 2017 год выбраны суммы продаж игр по платформам, вышедших после 2013 года. Как видно из сводной таблицы, общие продажи всех платформ, кроме PS4 и XOne падали до 2016 года (данные за него неполные, поэтому могут учитываться в меньшей степени). Также можно обратить внимание на платформу WiiU, так как падение было незначительным, а средняя сумма продаж за 2015 год превышает эту же сумму за 2013 год."
   ]
  },
  {
   "cell_type": "code",
   "execution_count": 27,
   "metadata": {},
   "outputs": [
    {
     "data": {
      "image/png": "[encoded data removed]",
      "text/plain": [
       "<Figure size 720x1440 with 1 Axes>"
      ]
     },
     "metadata": {
      "needs_background": "light"
     },
     "output_type": "display_data"
    }
   ],
   "source": [
    "#график «ящик с усами»\n",
    "plt.subplots(figsize=(10, 20))\n",
    "ax = sns.boxplot(x = new_game_data['platform'], y = new_game_data['total_sales'])\n",
    "ax.set(ylim = (0, 5))\n",
    "ax.set_yticks(np.arange(0, 5, step = 0.1))\n",
    "ax.set_title('Распределение количества проданных игр по платформам после 2013 года')\n",
    "ax.set_xlabel('Платформы')\n",
    "ax.set_ylabel('Количество проданных копий')\n",
    "plt.show()"
   ]
  },
  {
   "cell_type": "markdown",
   "metadata": {},
   "source": [
    "На графике выше можно увидеть распределение глобальных продаж в разбивке по платформам начиная с 2013 года. Для наглядности был взят диапазон до 5 млн, так как большинство значений находятся именно в нем. Самые высокие медианные значения находятся в диапазоне около 0.2 млн для тех же трех платформ, выделенных выше (PS4, XOne, WiiU), а также для платформы X360 с наибольшим медианным значением суммарных продаж игр за последние годы. Наиболее низкие медианные суммы продаж начиная с 2013 года у платформ PSP, PSV."
   ]
  },
  {
   "cell_type": "code",
   "execution_count": 28,
   "metadata": {},
   "outputs": [
    {
     "data": {
      "text/plain": [
       "-0.031957110204556376"
      ]
     },
     "metadata": {},
     "output_type": "display_data"
    },
    {
     "data": {
      "text/plain": [
       "0.406567902061781"
      ]
     },
     "metadata": {},
     "output_type": "display_data"
    }
   ],
   "source": [
    "#влияние на продажи отзывов пользователей и критиков для PS4\n",
    "PS4_game_data = new_game_data[new_game_data['platform'] == 'PS4']\n",
    "display(PS4_game_data['total_sales'].corr(PS4_game_data['user_score']))\n",
    "display(PS4_game_data['total_sales'].corr(PS4_game_data['critic_score']))"
   ]
  },
  {
   "cell_type": "code",
   "execution_count": 30,
   "metadata": {},
   "outputs": [
    {
     "data": {
      "image/png": "[encoded data removed]",
      "text/plain": [
       "<Figure size 432x288 with 1 Axes>"
      ]
     },
     "metadata": {
      "needs_background": "light"
     },
     "output_type": "display_data"
    },
    {
     "data": {
      "image/png": "[encoded data removed]",
      "text/plain": [
       "<Figure size 432x288 with 1 Axes>"
      ]
     },
     "metadata": {
      "needs_background": "light"
     },
     "output_type": "display_data"
    }
   ],
   "source": [
    "ax = plt.scatter(PS4_game_data['user_score'], PS4_game_data['total_sales'], alpha=0.5)\n",
    "plt.ylim(0, 1)\n",
    "plt.show()\n",
    "ax1 = plt.scatter(PS4_game_data['critic_score'], PS4_game_data['total_sales'], color = 'y', alpha=0.5)\n",
    "plt.ylim(0, 1)\n",
    "plt.show()"
   ]
  },
  {
   "cell_type": "markdown",
   "metadata": {},
   "source": [
    "Как видно на графиках рассеяния, зависимость глобальных продаж платформы PS4 от оценок пользователей и критиков различается (для наглядности взят диапазон до 1 млн проданных копий), так как большинство значений находится именно там. Исходя из рассчитанного коэффициента корреляции, существует некая слабая зависимость между оценкой критиков и количеством проданных копий в мире (коэффициент 0.4). Она все-таки значительно превышает это же значение коэффициента зависимости продаж от оценки пользователей (-0.03), отрицательным значением которого можно пренебречь."
   ]
  },
  {
   "cell_type": "code",
   "execution_count": 31,
   "metadata": {},
   "outputs": [
    {
     "name": "stdout",
     "output_type": "stream",
     "text": [
      "Зависимость продаж для платформы XOne: от оценок пользователей: -0.06892505328279412\n",
      "от оценок критиков: 0.41699832800840175\n",
      "Зависимость продаж для платформы WiiU: от оценок пользователей: 0.4193304819266187\n",
      "от оценок критиков: 0.3764149065423912\n",
      "Зависимость продаж для платформы X360: от оценок пользователей: -0.011742185147181342\n",
      "от оценок критиков: 0.3503445460228664\n"
     ]
    }
   ],
   "source": [
    "#сравним с данными по другим платформам XOne, WiiU, X360\n",
    "XOne_game_data = new_game_data[new_game_data['platform'] == 'XOne']\n",
    "print('Зависимость продаж для платформы XOne: от оценок пользователей:', XOne_game_data['total_sales'].corr(XOne_game_data['user_score']))\n",
    "print('от оценок критиков:', XOne_game_data['total_sales'].corr(XOne_game_data['critic_score']))\n",
    "WiiU_game_data = new_game_data[new_game_data['platform'] == 'WiiU']\n",
    "print('Зависимость продаж для платформы WiiU: от оценок пользователей:', WiiU_game_data['total_sales'].corr(WiiU_game_data['user_score']))\n",
    "print('от оценок критиков:', WiiU_game_data['total_sales'].corr(WiiU_game_data['critic_score']))\n",
    "X360_game_data = new_game_data[new_game_data['platform'] == 'X360']\n",
    "print('Зависимость продаж для платформы X360: от оценок пользователей:', X360_game_data['total_sales'].corr(X360_game_data['user_score']))\n",
    "print('от оценок критиков:', X360_game_data['total_sales'].corr(X360_game_data['critic_score']))"
   ]
  },
  {
   "cell_type": "markdown",
   "metadata": {},
   "source": [
    "Показатели для других платформ, выделенных как наиболее популярные с 2013 года, немного отличаются, но в двух из трех можно проследить ту же тенденцию. Для XOne и X360 это очень слабая отрицательная зависимость количества проданных копий от оценок пользователей (которой представляется логичным пренебречь) и прямая зависимость средней силы (0.41 и 0.35 коэффициенты корреляции соответственно) от оценок критиков. Для платформы WiiU показатель зависимости от оценок критиков очень близок к остальным (0.37), однако тут прослеживается и положительная зависимость средней силы от оценок пользователей (0.41). Данная гипотеза требует дальнейшей проверки."
   ]
  },
  {
   "cell_type": "code",
   "execution_count": 32,
   "metadata": {},
   "outputs": [
    {
     "data": {
      "text/html": [
       "<div>\n",
       "<style scoped>\n",
       "    .dataframe tbody tr th:only-of-type {\n",
       "        vertical-align: middle;\n",
       "    }\n",
       "\n",
       "    .dataframe tbody tr th {\n",
       "        vertical-align: top;\n",
       "    }\n",
       "\n",
       "    .dataframe thead th {\n",
       "        text-align: right;\n",
       "    }\n",
       "</style>\n",
       "<table border=\"1\" class=\"dataframe\">\n",
       "  <thead>\n",
       "    <tr style=\"text-align: right;\">\n",
       "      <th></th>\n",
       "      <th>Жанр</th>\n",
       "      <th>Количество проданных копий</th>\n",
       "    </tr>\n",
       "  </thead>\n",
       "  <tbody>\n",
       "    <tr>\n",
       "      <th>8</th>\n",
       "      <td>Shooter</td>\n",
       "      <td>0.450</td>\n",
       "    </tr>\n",
       "    <tr>\n",
       "      <th>10</th>\n",
       "      <td>Sports</td>\n",
       "      <td>0.240</td>\n",
       "    </tr>\n",
       "    <tr>\n",
       "      <th>4</th>\n",
       "      <td>Platform</td>\n",
       "      <td>0.225</td>\n",
       "    </tr>\n",
       "    <tr>\n",
       "      <th>7</th>\n",
       "      <td>Role-Playing</td>\n",
       "      <td>0.125</td>\n",
       "    </tr>\n",
       "    <tr>\n",
       "      <th>2</th>\n",
       "      <td>Fighting</td>\n",
       "      <td>0.125</td>\n",
       "    </tr>\n",
       "    <tr>\n",
       "      <th>6</th>\n",
       "      <td>Racing</td>\n",
       "      <td>0.120</td>\n",
       "    </tr>\n",
       "    <tr>\n",
       "      <th>0</th>\n",
       "      <td>Action</td>\n",
       "      <td>0.110</td>\n",
       "    </tr>\n",
       "    <tr>\n",
       "      <th>9</th>\n",
       "      <td>Simulation</td>\n",
       "      <td>0.100</td>\n",
       "    </tr>\n",
       "    <tr>\n",
       "      <th>3</th>\n",
       "      <td>Misc</td>\n",
       "      <td>0.100</td>\n",
       "    </tr>\n",
       "    <tr>\n",
       "      <th>11</th>\n",
       "      <td>Strategy</td>\n",
       "      <td>0.080</td>\n",
       "    </tr>\n",
       "    <tr>\n",
       "      <th>5</th>\n",
       "      <td>Puzzle</td>\n",
       "      <td>0.060</td>\n",
       "    </tr>\n",
       "    <tr>\n",
       "      <th>1</th>\n",
       "      <td>Adventure</td>\n",
       "      <td>0.030</td>\n",
       "    </tr>\n",
       "  </tbody>\n",
       "</table>\n",
       "</div>"
      ],
      "text/plain": [
       "            Жанр  Количество проданных копий\n",
       "8        Shooter                       0.450\n",
       "10        Sports                       0.240\n",
       "4       Platform                       0.225\n",
       "7   Role-Playing                       0.125\n",
       "2       Fighting                       0.125\n",
       "6         Racing                       0.120\n",
       "0         Action                       0.110\n",
       "9     Simulation                       0.100\n",
       "3           Misc                       0.100\n",
       "11      Strategy                       0.080\n",
       "5         Puzzle                       0.060\n",
       "1      Adventure                       0.030"
      ]
     },
     "metadata": {},
     "output_type": "display_data"
    }
   ],
   "source": [
    "#общее распределение игр по жанрам\n",
    "genre_data = new_game_data.pivot_table(index = 'genre', values = 'total_sales', aggfunc = 'median').reset_index()\n",
    "genre_data.columns = ['Жанр', 'Количество проданных копий']\n",
    "display(genre_data.sort_values(by = ['Количество проданных копий'], ascending = False))"
   ]
  },
  {
   "cell_type": "markdown",
   "metadata": {},
   "source": [
    "В приведенной выше таблице взята выборка жанров игр и медианное количество проданных копий во всех регионах. Абсолютное лидерство с 2013 года принадлежит играм в жанре Shooter, на втором месте спортивные игры (Sports), ну и последние в тройке лидеров - Платформеры (жанр Platform).\n",
    "Три последних места по медианному количеству проданных глобально копий занимают стратегии, головоломки и приключения (Strategy, Puzzle, Adventure) соответственно."
   ]
  },
  {
   "cell_type": "markdown",
   "metadata": {},
   "source": [
    "На этапе исследовательского анализа данных после изучения информации по годам, а также выявления наиболее популярных с 2000 года платформ, был определен актуальный период для построения дальнейших прогнозов (начиная с 2013 года). Именно на основе этих данных было выделено несколько потенциально прибыльных платформ, продажи которых отличал рост или незначительные колебания в актуальный период, а также платформа с наиболее высокими медианными продажами (PS4, XOne, WiiU и X360). Также на основе данных за актуальный период были выявлены следующие закономерности:\n",
    "1. Зависимость продаж от оценок пользователей фактически отсутствует (за исключением платформы WiiU), зависимость же от оценок критиков прослеживается на среднем уровне (коэффициент 35-40%).\n",
    "2. Жанры с наибольшим количеством продаж по всем регионам: шутеры, спортивные игры и платформеры; с наименьшим: стратегии, головоломки, приключения."
   ]
  },
  {
   "cell_type": "markdown",
   "metadata": {},
   "source": [
    "#### Портреты пользователей каждого региона"
   ]
  },
  {
   "cell_type": "code",
   "execution_count": 33,
   "metadata": {},
   "outputs": [
    {
     "data": {
      "image/png": "[encoded data removed]",
      "text/plain": [
       "<Figure size 432x288 with 1 Axes>"
      ]
     },
     "metadata": {},
     "output_type": "display_data"
    },
    {
     "data": {
      "image/png": "[encoded data removed]",
      "text/plain": [
       "<Figure size 432x288 with 1 Axes>"
      ]
     },
     "metadata": {},
     "output_type": "display_data"
    },
    {
     "data": {
      "image/png": "[encoded data removed]",
      "text/plain": [
       "<Figure size 432x288 with 1 Axes>"
      ]
     },
     "metadata": {},
     "output_type": "display_data"
    }
   ],
   "source": [
    "na_platform_data = new_game_data.groupby('platform')['na_sales'].sum().sort_values(ascending = False)\n",
    "na_platform_data2 = na_platform_data[:5].copy()\n",
    "i = [na_platform_data[5:].sum()]\n",
    "new_row = pd.Series(i, index = ['others'])\n",
    "na_platform_data2 = na_platform_data2.append(new_row)\n",
    "na_platform_data2.plot(kind = 'pie', autopct='%1.2f%%')\n",
    "plt.title('Платформы среди пользователей из Северной Америки')\n",
    "plt.show()\n",
    "\n",
    "eu_platform_data = new_game_data.groupby('platform')['eu_sales'].sum().sort_values(ascending = False)\n",
    "eu_platform_data2 = eu_platform_data[:5].copy()\n",
    "j = [eu_platform_data[5:].sum()]\n",
    "new_row1 = pd.Series(j, index = ['others'])\n",
    "eu_platform_data2 = eu_platform_data2.append(new_row1)\n",
    "eu_platform_data2.plot(kind = 'pie', autopct='%1.2f%%')\n",
    "plt.title('Платформы среди пользователей из Европы')\n",
    "plt.show()\n",
    "\n",
    "jp_platform_data = new_game_data.groupby('platform')['jp_sales'].sum().sort_values(ascending = False)\n",
    "jp_platform_data2 = jp_platform_data[:5].copy()\n",
    "k = [jp_platform_data[5:].sum()]\n",
    "new_row2 = pd.Series(k, index = ['others'])\n",
    "jp_platform_data2 = jp_platform_data2.append(new_row2)\n",
    "jp_platform_data2.plot(kind = 'pie', autopct='%1.2f%%')\n",
    "plt.title('Платформы среди пользователей из Японии')\n",
    "plt.show()"
   ]
  },
  {
   "cell_type": "markdown",
   "metadata": {},
   "source": [
    "На приведенных выше графиках можно выявить следующие отличительные особенности регионов:\n",
    "1. В Северной Америке в период 2013 - 2016 годов первенство делят платформы XOne и PS4, обладая практически равными долями популярности среди пользователей. Следующими идут XBox360 и PS3, значительную суммарную долю также занимают остальные платформы, то есть разнообразие достаточно широкое. Более высокая популярность именно XBox на североамериканском рынке по сравнению с другими регионами может быть объяснена тем, что страной разработки этой платформы является именно США. Эта представляет простор для дальнейших исследований.\n",
    "2. Пользователи из Европы отдают явное предпочтение платформе PS4, за ней следуют PS3, другие и XBox One соответственно. Лидирующая четверка остается такой же, как в Северной Америке, отличаются доли рынка, определяя явное первенство одной платформы.\n",
    "3. Совершенно другую картину мы наблюдаем на рынке Японии: там бесспорное лидерство у платформы 3DS (Nintendo). Это японская разработка, которая и заняла большую часть локального рынка, при этом среди пользователей Европы и Северной Америки она занимает только пятое место с 2013 по 2016 год. PS3 и PS4 также находятся среди лидеров этих лет, при этом XBox One и XBox 360 не входят в их число, занимая вместе с другими всего 2.98% рынка. В рядах лидирующих по продажам платформ в этом регионе также выделяются WiiU (также разработка Nintendo) и PSV (PlayStation Vita), портативная версия PlayStation, которые отсутствовали среди западных лидеров."
   ]
  },
  {
   "cell_type": "code",
   "execution_count": 34,
   "metadata": {},
   "outputs": [
    {
     "data": {
      "image/png": "[encoded data removed]",
      "text/plain": [
       "<Figure size 432x288 with 1 Axes>"
      ]
     },
     "metadata": {},
     "output_type": "display_data"
    },
    {
     "data": {
      "image/png": "[encoded data removed]",
      "text/plain": [
       "<Figure size 432x288 with 1 Axes>"
      ]
     },
     "metadata": {},
     "output_type": "display_data"
    },
    {
     "data": {
      "image/png": "[encoded data removed]",
      "text/plain": [
       "<Figure size 432x288 with 1 Axes>"
      ]
     },
     "metadata": {},
     "output_type": "display_data"
    }
   ],
   "source": [
    "#топ-5 популярных жанров по регионам\n",
    "\n",
    "na_genre_data = new_game_data.groupby('genre')['na_sales'].sum().sort_values(ascending = False)\n",
    "na_genre_data2 = na_genre_data[:5].copy()\n",
    "l = [na_genre_data[5:].sum()]\n",
    "new_row2 = pd.Series(l, index = ['others'])\n",
    "na_genre_data2 = na_genre_data2.append(new_row2)\n",
    "na_genre_data2.plot(kind = 'pie', autopct='%1.2f%%')\n",
    "plt.title('Популярность жанров игр среди пользователей из Северной Америки')\n",
    "plt.show()\n",
    "\n",
    "eu_genre_data = new_game_data.groupby('genre')['eu_sales'].sum().sort_values(ascending = False)\n",
    "eu_genre_data2 = eu_genre_data[:5].copy()\n",
    "m = [eu_genre_data[5:].sum()]\n",
    "new_row3 = pd.Series(m, index = ['others'])\n",
    "eu_genre_data2 = eu_genre_data2.append(new_row3)\n",
    "eu_genre_data2.plot(kind = 'pie', autopct='%1.2f%%')\n",
    "plt.title('Популярность жанров игр среди пользователей из Европы')\n",
    "plt.show()\n",
    "\n",
    "jp_genre_data = new_game_data.groupby('genre')['jp_sales'].sum().sort_values(ascending = False)\n",
    "jp_genre_data2 = jp_genre_data[:5].copy()\n",
    "n = [jp_genre_data[5:].sum()]\n",
    "new_row4 = pd.Series(n, index = ['others'])\n",
    "jp_genre_data2 = jp_genre_data2.append(new_row4)\n",
    "jp_genre_data2.plot(kind = 'pie', autopct='%1.2f%%')\n",
    "plt.title('Популярность жанров игр среди пользователей из Японии')\n",
    "plt.show()"
   ]
  },
  {
   "cell_type": "markdown",
   "metadata": {},
   "source": [
    "Диаграммы популярности жанров среди пользователей из Северной Америки и Европы практически идентичны с небольшой разницей в процентах. Первое и второе места занимают соответственно экшены и шутеры, далее идут спортивные игры, игры прочих жанров и ролевые игры (RPG). Отличаются последние из пятерки лидеров: в Северной Америке это разнородные жанры (miscellaneous), в Европе это гоночные игры (racing games).\n",
    "Другую картину мы наблюдаем на японском рынке: здесь лидируют RPG-игры, на втором месте находятся экшены с большой долей продаж как и в двух других регионах (28.76%). Пятерку лидеров замыкают файтинги, шутеры и разнородные жанры. Большая доля рынка также приходится на суммарное количество продаж игр других жанров, собственно, как и в других регионах, то есть разнообразие интересов пользователей достаточно широкое."
   ]
  },
  {
   "cell_type": "code",
   "execution_count": 35,
   "metadata": {},
   "outputs": [
    {
     "data": {
      "image/png": "[encoded data removed]",
      "text/plain": [
       "<Figure size 432x288 with 1 Axes>"
      ]
     },
     "metadata": {},
     "output_type": "display_data"
    },
    {
     "data": {
      "image/png": "[encoded data removed]",
      "text/plain": [
       "<Figure size 432x288 with 1 Axes>"
      ]
     },
     "metadata": {},
     "output_type": "display_data"
    },
    {
     "data": {
      "image/png": "[encoded data removed]",
      "text/plain": [
       "<Figure size 432x288 with 1 Axes>"
      ]
     },
     "metadata": {},
     "output_type": "display_data"
    }
   ],
   "source": [
    "new_game_data.groupby('rating')['na_sales'].sum().sort_values(ascending = False).plot(kind = 'pie', autopct='%1.2f%%')\n",
    "plt.title('Количество проданных игр в Северной Америке в соответствии с рейтингом ESRB')\n",
    "plt.show()\n",
    "\n",
    "new_game_data.groupby('rating')['eu_sales'].sum().sort_values(ascending = False).plot(kind = 'pie', autopct='%1.2f%%')\n",
    "plt.title('Количество проданных игр в Европе в соответствии с рейтингом ESRB')\n",
    "plt.show()\n",
    "\n",
    "new_game_data.groupby('rating')['jp_sales'].sum().sort_values(ascending = False).plot(kind = 'pie', autopct='%1.2f%%')\n",
    "plt.title('Количество проданных игр в Японии в соответствии с рейтингом ESRB')\n",
    "plt.show()"
   ]
  },
  {
   "cell_type": "markdown",
   "metadata": {},
   "source": [
    "Диаграммы продаж игр по регионам в зависимости от рейтинга ESRB снова выявляют отличие западных и восточного рынка. В Европе и Северной Америке наибольшее количество продаж у игр с рейтингом М (то есть для взрослых, старше 17 лет). В Японии самая популярная категория Т (подросткам), количество продаж игр для взрослых М на втором месте. Большую долю рынка во всех трех регионах занимают также игры категории Е (для всех) и Е10+ (для всех начиная с 10 лет)."
   ]
  },
  {
   "cell_type": "markdown",
   "metadata": {},
   "source": [
    "На данном этапе были выполнены шаги по выявлению сходств и отличительных особенностей пользователей трех регионов в популярности платформ и жанров, а также зависимости продаж игр от их рейтинга. Подробные выводы сделаны после каждого этапа визуализации данных, в заключение кажется важным снова подчеркнуть следующие закономерности:\n",
    "    \n",
    "    1. Рынки Европы и Северной Америки характеризует больше общего между собой, рыной Японии ожидаемо стоит особняком с некоторым набором отличительных черт.\n",
    "    2. В североамериканском регионе лидирующей платформой (наряду с PS, которая популярна везде) является XBox как продукт разработки США, в Японии бесспорное лидерство также у местных платформ на базе Nintendo. В Европе это, по большей части, PS4 и PS3, которые в сумме занимают половину рынка в актуальный период.\n",
    "    3. Картина наиболее популярных жанров также очень схожа для регионов Европы и Северной Америки, в Японии на первом месте игры другого жанра. То же можно сказать и о рейтингах, в Японии наиболее популярная категория игр не та же, что в Европе и Америке."
   ]
  },
  {
   "cell_type": "markdown",
   "metadata": {},
   "source": [
    "#### Проверка гипотез"
   ]
  },
  {
   "cell_type": "markdown",
   "metadata": {},
   "source": [
    "1. Нулевая гипотеза: Средние пользовательские рейтинги платформ Xbox One и PC одинаковые. \n",
    "\n",
    "Альтернативная гипотеза: Средние пользовательские рейтинги платформы PC выше, чем у XBox One.\n",
    "\n",
    "H0: µ1 = µ2 H1: µ1 != µ2"
   ]
  },
  {
   "cell_type": "code",
   "execution_count": 36,
   "metadata": {},
   "outputs": [
    {
     "name": "stdout",
     "output_type": "stream",
     "text": [
      "6.521428571428572\n",
      "7.065960264900661\n"
     ]
    }
   ],
   "source": [
    "print(np.mean(game_data_late[game_data_late['platform'] == 'XOne']['user_score']))\n",
    "print(np.mean(game_data_late[game_data_late['platform'] == 'PC']['user_score']))"
   ]
  },
  {
   "cell_type": "code",
   "execution_count": 37,
   "metadata": {},
   "outputs": [
    {
     "name": "stdout",
     "output_type": "stream",
     "text": [
      "p-value: 1.3037979620149106e-05\n",
      "Отвергаем нулевую гипотезу\n"
     ]
    }
   ],
   "source": [
    "XOne_score_data = game_data_late[(game_data_late['platform'] == 'XOne') & ~(game_data_late['user_score'].isna())]\n",
    "\n",
    "PC_score_data = game_data_late[(game_data_late['platform'] == 'PC') & ~(game_data_late['user_score'].isna())]\n",
    "\n",
    "alpha = 0.1\n",
    "results = st.ttest_ind(XOne_score_data['user_score'], PC_score_data['user_score'], alternative = 'two-sided')\n",
    "print('p-value:', results.pvalue)\n",
    "if results.pvalue < alpha:\n",
    "    print('Отвергаем нулевую гипотезу')\n",
    "else:\n",
    "    print('Не получилось отвергнуть нулевую гипотезу')"
   ]
  },
  {
   "cell_type": "markdown",
   "metadata": {},
   "source": [
    "Выше необходимо было проверить гипотезу о том, что рейтинги двух платформ XBox One и PC одинаковые. В качестве альтернативной была выбрана двусторонняя гипотеза о том, что рейтинги все же отличаются.\n",
    "На первом шаге были сделаны выборки по платформам и отсечены пропуски в данных о пользовательских оценках, так как они препятствовали проведению расчетов для проверки.\n",
    "В качестве уровня статистической значимости alpha было выбрано значение 0.1, исходя из небольшого размера выборок.\n",
    "\n",
    "В результате проверки мы отвергли нулевую гипотезу в пользу альтернативной, что пользовательские рейтинги двух платформ отличаются."
   ]
  },
  {
   "cell_type": "markdown",
   "metadata": {},
   "source": [
    "2. \n",
    "Нулевая гипотеза: Средние пользовательские рейтинги жанров Action и Sports равны. \n",
    "Альтернативная гипотеза: Средние пользовательские рейтинги жанров Action и Sports разные.\n",
    "\n",
    "H0: µ1 = µ2 H1: µ1 != µ2"
   ]
  },
  {
   "cell_type": "code",
   "execution_count": 38,
   "metadata": {},
   "outputs": [
    {
     "name": "stdout",
     "output_type": "stream",
     "text": [
      "7.058129175946549\n",
      "6.951433857539316\n"
     ]
    }
   ],
   "source": [
    "print(np.mean(game_data_late[game_data_late['genre'] == 'Action']['user_score']))\n",
    "print(np.mean(game_data_late[game_data_late['genre'] == 'Sports']['user_score']))"
   ]
  },
  {
   "cell_type": "code",
   "execution_count": 40,
   "metadata": {},
   "outputs": [
    {
     "name": "stdout",
     "output_type": "stream",
     "text": [
      "p-value: 0.06480928064420527\n",
      "Не получилось отвергнуть нулевую гипотезу\n"
     ]
    }
   ],
   "source": [
    "Action_score_data = game_data_late[(game_data_late['genre'] == 'Action') & ~(game_data_late['user_score'].isna())]\n",
    "\n",
    "Sports_score_data = game_data_late[(game_data_late['genre'] == 'Sports') & ~(game_data_late['user_score'].isna())]\n",
    "\n",
    "alpha = 0.05\n",
    "results = st.ttest_ind(Action_score_data['user_score'], Sports_score_data['user_score'], alternative = 'two-sided')\n",
    "print('p-value:', results.pvalue)\n",
    "if results.pvalue < alpha:\n",
    "    print('Отвергаем нулевую гипотезу')\n",
    "else:\n",
    "    print('Не получилось отвергнуть нулевую гипотезу')"
   ]
  },
  {
   "cell_type": "markdown",
   "metadata": {},
   "source": [
    "В качестве альтернативной снова была выбрана двусторонняя гипотеза о том, что рейтинги жанров экшен и спорт отличаются (ее и необходимо было проверить). После выборок по жанрам без пропусков была произведена проверка. В качестве уровня статистической значимости alpha снова было выбрано значение 0.1, исходя из небольшого размера выборок.\n",
    "\n",
    "В результате проверки мы не смогли отвергнуть нулевую гипотезу в пользу альтернативной."
   ]
  },
  {
   "cell_type": "markdown",
   "metadata": {},
   "source": [
    "#### Общий вывод"
   ]
  },
  {
   "cell_type": "markdown",
   "metadata": {},
   "source": [
    "Было проведено исследование исторических данных об играх с целью выявления закономерностей и построения прогнозов на будущее.\n",
    "\n",
    "После первичного изучения и предобработки данных, которая включала в себя обработку пропусков и внесение необходимых изменений в типы данных, был проведен исследовательский анализ. На этом этапе был определен актуальный период, наиболее подходящий для построения прогнозов, то есть для достижения главной цели проекта. Актуальным определен период с 2013 года, именно на его основе выделены три платформы, которые отличал рост или незначительные колебания (PS4, XOne, WiiU), а также платформа с наибольшими медианными продажами во всех регионах (X360). Для этих четырех платформ были проведены дальнейшие расчеты для выявления закономерностей:\n",
    "\n",
    "    1. Фактическое отсутствие зависимости количества продаж от оценок пользователей (кроме платформы WiiU), наличие зависимости средней силы от оценок критиков.\n",
    "    2. Наиболее популярные жанры среди пользователей всех регионов: шутеры, спортивные игры и платформеры.\n",
    "    \n",
    "На следующем этапе были визуализированы портреты пользователей разных регионов и сделаны соответствующие выводы об их сходствах и отличиях:\n",
    "\n",
    "    1. Много общего в портретах пользователей из Европы и Северной Америки, больше отличий с японским регионом.\n",
    "    2. Различия в лидирующих по популярности платформах, которые могут быть объяснены регионом разработки платформы: XBox для североамериканского рынка, Nintendo для Японии. PS4 и PS3 находятся среди лидеров во всех регионах.\n",
    "    3. Схожие распределения популярности игр по жанрам и категориям рейтинга для Европы и Северной Америки, отличия для японского рынка: наиболее популярным жанром в этом регионе являются игры RPG, категория - Т (то есть для подростков). Для западных рынков лидеры по жанрам - игры экшены и шутеры, по рейтингу - категория М для взрослых.\n",
    "    \n",
    "На этапе проверки гипотез были сделаны следующие выводы:\n",
    "\n",
    "    1. Гипотеза о равности пользовательских рейтингов платформ Xbox One и PC не подтвердилась. \n",
    "    2. Гипотеза о равности пользовательских рейтингов игр жанров Action и Sports подтвердилась, то есть мы отвергаем альтернативную.\n",
    "    \n",
    "    \n",
    "На основе проведенного анализа и сделанных выводов бизнес может принять необходимые решения для построения прогнозов и рекламной стратегии на 2017 год. В этом ему помогут данные о потенциально прибыльных платформах и жанрах, а также понимание региональных отличий для возможной регионализации стратегий. Можно рекомендовать рекламным кампаниям в 2017 году делать ставку на PS4 и XBox для западных рынков, в Японии же не забывать о лидирующем положении платформы на базе Nintendo. Исходя из данных о наиболее популярных жанрах и возрастных категориях пользователей, можно выстраивать рекламные компании с ориентированностью именно на эти целевые аудитории, не забывая привлекать другие. Также нельзя забывать о влиянии оценок критиков на продажи, этот факт тоже можно использовать в выстраивании стратегии. Не менее важно дополнять данные о продажах и проводить дальнейшие исследования для корректировки результатов."
   ]
  }
 ],
 "metadata": {
  "ExecuteTimeLog": [
   {
    "duration": 454,
    "start_time": "2024-03-25T16:17:18.260Z"
   },
   {
    "duration": 108,
    "start_time": "2024-03-25T16:17:50.276Z"
   },
   {
    "duration": 37,
    "start_time": "2024-03-25T16:19:28.981Z"
   },
   {
    "duration": 38,
    "start_time": "2024-03-25T16:20:06.902Z"
   },
   {
    "duration": 3,
    "start_time": "2024-03-25T16:23:11.431Z"
   },
   {
    "duration": 5,
    "start_time": "2024-03-25T16:23:32.825Z"
   },
   {
    "duration": 74,
    "start_time": "2024-03-25T16:28:15.855Z"
   },
   {
    "duration": 49,
    "start_time": "2024-03-26T20:10:33.189Z"
   },
   {
    "duration": 433,
    "start_time": "2024-03-26T20:10:42.464Z"
   },
   {
    "duration": 200,
    "start_time": "2024-03-26T20:10:44.078Z"
   },
   {
    "duration": 40,
    "start_time": "2024-03-26T20:10:45.793Z"
   },
   {
    "duration": 4,
    "start_time": "2024-03-26T20:10:50.476Z"
   },
   {
    "duration": 36,
    "start_time": "2024-03-26T20:10:52.491Z"
   },
   {
    "duration": 6,
    "start_time": "2024-03-26T20:12:33.681Z"
   },
   {
    "duration": 5,
    "start_time": "2024-03-26T20:12:52.271Z"
   },
   {
    "duration": 7,
    "start_time": "2024-03-26T20:17:37.716Z"
   },
   {
    "duration": 13,
    "start_time": "2024-03-26T20:17:39.807Z"
   },
   {
    "duration": 12,
    "start_time": "2024-03-26T20:17:57.292Z"
   },
   {
    "duration": 13,
    "start_time": "2024-03-26T20:18:21.308Z"
   },
   {
    "duration": 12,
    "start_time": "2024-03-26T20:18:27.374Z"
   },
   {
    "duration": 33,
    "start_time": "2024-03-26T20:20:42.539Z"
   },
   {
    "duration": 4,
    "start_time": "2024-03-26T20:20:45.597Z"
   },
   {
    "duration": 989,
    "start_time": "2024-03-26T20:21:05.497Z"
   },
   {
    "duration": 402,
    "start_time": "2024-03-26T20:21:29.487Z"
   },
   {
    "duration": 56,
    "start_time": "2024-03-26T20:21:29.892Z"
   },
   {
    "duration": 40,
    "start_time": "2024-03-26T20:21:29.950Z"
   },
   {
    "duration": 4,
    "start_time": "2024-03-26T20:21:29.992Z"
   },
   {
    "duration": 13,
    "start_time": "2024-03-26T20:21:29.998Z"
   },
   {
    "duration": 72,
    "start_time": "2024-03-26T20:21:30.013Z"
   },
   {
    "duration": 437,
    "start_time": "2024-03-26T20:23:34.457Z"
   },
   {
    "duration": 57,
    "start_time": "2024-03-26T20:23:34.896Z"
   },
   {
    "duration": 40,
    "start_time": "2024-03-26T20:23:34.955Z"
   },
   {
    "duration": 4,
    "start_time": "2024-03-26T20:23:34.997Z"
   },
   {
    "duration": 18,
    "start_time": "2024-03-26T20:23:35.003Z"
   },
   {
    "duration": 23,
    "start_time": "2024-03-26T20:23:35.022Z"
   },
   {
    "duration": 1353,
    "start_time": "2024-03-26T20:31:21.921Z"
   },
   {
    "duration": 6,
    "start_time": "2024-03-26T20:31:33.650Z"
   },
   {
    "duration": 10,
    "start_time": "2024-03-26T20:32:00.610Z"
   },
   {
    "duration": 7,
    "start_time": "2024-03-26T20:37:00.214Z"
   },
   {
    "duration": 7,
    "start_time": "2024-03-26T20:37:25.578Z"
   },
   {
    "duration": 372,
    "start_time": "2024-03-26T20:37:43.130Z"
   },
   {
    "duration": 59,
    "start_time": "2024-03-26T20:37:43.504Z"
   },
   {
    "duration": 42,
    "start_time": "2024-03-26T20:37:43.565Z"
   },
   {
    "duration": 4,
    "start_time": "2024-03-26T20:37:43.609Z"
   },
   {
    "duration": 34,
    "start_time": "2024-03-26T20:37:43.615Z"
   },
   {
    "duration": 47,
    "start_time": "2024-03-26T20:37:43.650Z"
   },
   {
    "duration": 15,
    "start_time": "2024-03-26T20:37:43.698Z"
   },
   {
    "duration": 73,
    "start_time": "2024-03-26T20:37:43.715Z"
   },
   {
    "duration": 6,
    "start_time": "2024-03-26T20:38:13.964Z"
   },
   {
    "duration": 10,
    "start_time": "2024-03-26T20:39:22.433Z"
   },
   {
    "duration": 10,
    "start_time": "2024-03-26T20:39:50.939Z"
   },
   {
    "duration": 16,
    "start_time": "2024-03-26T20:40:43.913Z"
   },
   {
    "duration": 21,
    "start_time": "2024-03-26T20:41:12.675Z"
   },
   {
    "duration": 22,
    "start_time": "2024-03-26T20:50:38.780Z"
   },
   {
    "duration": 30,
    "start_time": "2024-03-26T20:51:32.864Z"
   },
   {
    "duration": 24,
    "start_time": "2024-03-26T20:51:47.821Z"
   },
   {
    "duration": 21,
    "start_time": "2024-03-26T20:52:30.895Z"
   },
   {
    "duration": 21,
    "start_time": "2024-03-26T20:52:46.881Z"
   },
   {
    "duration": 22,
    "start_time": "2024-03-26T20:53:04.323Z"
   },
   {
    "duration": 23,
    "start_time": "2024-03-26T20:59:20.924Z"
   },
   {
    "duration": 3,
    "start_time": "2024-03-26T21:01:23.828Z"
   },
   {
    "duration": 9,
    "start_time": "2024-03-26T21:02:16.971Z"
   },
   {
    "duration": 9,
    "start_time": "2024-03-26T21:02:48.430Z"
   },
   {
    "duration": 8,
    "start_time": "2024-03-26T21:03:04.718Z"
   },
   {
    "duration": 379,
    "start_time": "2024-03-26T21:06:04.914Z"
   },
   {
    "duration": 59,
    "start_time": "2024-03-26T21:06:06.931Z"
   },
   {
    "duration": 40,
    "start_time": "2024-03-26T21:06:08.126Z"
   },
   {
    "duration": 4,
    "start_time": "2024-03-26T21:06:13.051Z"
   },
   {
    "duration": 9,
    "start_time": "2024-03-26T21:06:14.650Z"
   },
   {
    "duration": 17,
    "start_time": "2024-03-26T21:06:17.654Z"
   },
   {
    "duration": 9,
    "start_time": "2024-03-26T21:06:22.665Z"
   },
   {
    "duration": 22,
    "start_time": "2024-03-26T21:06:25.686Z"
   },
   {
    "duration": 4,
    "start_time": "2024-03-26T21:06:31.069Z"
   },
   {
    "duration": 4,
    "start_time": "2024-03-26T21:06:31.242Z"
   },
   {
    "duration": 4,
    "start_time": "2024-03-26T21:06:31.456Z"
   },
   {
    "duration": 4,
    "start_time": "2024-03-26T21:06:31.783Z"
   },
   {
    "duration": 4,
    "start_time": "2024-03-26T21:09:11.062Z"
   },
   {
    "duration": 8,
    "start_time": "2024-03-26T21:09:25.926Z"
   },
   {
    "duration": 9,
    "start_time": "2024-03-26T21:09:36.566Z"
   },
   {
    "duration": 9,
    "start_time": "2024-03-26T21:09:59.846Z"
   },
   {
    "duration": 11,
    "start_time": "2024-03-26T21:11:36.074Z"
   },
   {
    "duration": 9,
    "start_time": "2024-03-26T21:11:52.212Z"
   },
   {
    "duration": 12,
    "start_time": "2024-03-26T21:13:17.928Z"
   },
   {
    "duration": 77,
    "start_time": "2024-03-26T21:16:22.295Z"
   },
   {
    "duration": 116,
    "start_time": "2024-03-26T21:17:07.168Z"
   },
   {
    "duration": 8,
    "start_time": "2024-03-26T21:17:18.871Z"
   },
   {
    "duration": 271,
    "start_time": "2024-03-26T21:17:28.820Z"
   },
   {
    "duration": 22,
    "start_time": "2024-03-26T21:18:03.535Z"
   },
   {
    "duration": 13,
    "start_time": "2024-03-26T21:20:17.521Z"
   },
   {
    "duration": 705,
    "start_time": "2024-03-26T21:23:24.919Z"
   },
   {
    "duration": 6,
    "start_time": "2024-03-26T21:23:41.199Z"
   },
   {
    "duration": 6,
    "start_time": "2024-03-26T21:25:59.083Z"
   },
   {
    "duration": 4,
    "start_time": "2024-03-26T21:26:28.624Z"
   },
   {
    "duration": 9,
    "start_time": "2024-03-26T21:26:54.427Z"
   },
   {
    "duration": 18,
    "start_time": "2024-03-26T21:27:11.324Z"
   },
   {
    "duration": 686,
    "start_time": "2024-03-26T21:28:03.584Z"
   },
   {
    "duration": 2,
    "start_time": "2024-03-26T21:28:42.748Z"
   },
   {
    "duration": 663,
    "start_time": "2024-03-26T21:30:54.734Z"
   },
   {
    "duration": 2,
    "start_time": "2024-03-26T21:33:17.649Z"
   },
   {
    "duration": 418,
    "start_time": "2024-03-26T21:33:29.883Z"
   },
   {
    "duration": 58,
    "start_time": "2024-03-26T21:33:31.888Z"
   },
   {
    "duration": 41,
    "start_time": "2024-03-26T21:33:33.828Z"
   },
   {
    "duration": 4,
    "start_time": "2024-03-26T21:33:39.569Z"
   },
   {
    "duration": 9,
    "start_time": "2024-03-26T21:33:42.566Z"
   },
   {
    "duration": 17,
    "start_time": "2024-03-26T21:33:45.518Z"
   },
   {
    "duration": 2,
    "start_time": "2024-03-26T21:33:55.124Z"
   },
   {
    "duration": 9,
    "start_time": "2024-03-26T21:33:56.638Z"
   },
   {
    "duration": 21,
    "start_time": "2024-03-26T21:33:59.937Z"
   },
   {
    "duration": 10,
    "start_time": "2024-03-26T21:34:03.688Z"
   },
   {
    "duration": 21,
    "start_time": "2024-03-26T21:34:10.229Z"
   },
   {
    "duration": 7,
    "start_time": "2024-03-26T21:34:15.637Z"
   },
   {
    "duration": 130,
    "start_time": "2024-03-26T21:38:42.624Z"
   },
   {
    "duration": 93,
    "start_time": "2024-03-26T21:39:00.397Z"
   },
   {
    "duration": 391,
    "start_time": "2024-03-26T21:39:19.508Z"
   },
   {
    "duration": 57,
    "start_time": "2024-03-26T21:39:19.901Z"
   },
   {
    "duration": 40,
    "start_time": "2024-03-26T21:39:19.960Z"
   },
   {
    "duration": 5,
    "start_time": "2024-03-26T21:39:20.002Z"
   },
   {
    "duration": 24,
    "start_time": "2024-03-26T21:39:20.008Z"
   },
   {
    "duration": 36,
    "start_time": "2024-03-26T21:39:20.034Z"
   },
   {
    "duration": 27,
    "start_time": "2024-03-26T21:39:20.072Z"
   },
   {
    "duration": 19,
    "start_time": "2024-03-26T21:39:20.101Z"
   },
   {
    "duration": 28,
    "start_time": "2024-03-26T21:39:20.121Z"
   },
   {
    "duration": 11,
    "start_time": "2024-03-26T21:39:20.152Z"
   },
   {
    "duration": 7,
    "start_time": "2024-03-26T21:39:20.164Z"
   },
   {
    "duration": 33,
    "start_time": "2024-03-26T21:39:20.172Z"
   },
   {
    "duration": 97,
    "start_time": "2024-03-26T21:39:20.207Z"
   },
   {
    "duration": 0,
    "start_time": "2024-03-26T21:39:20.305Z"
   },
   {
    "duration": 89,
    "start_time": "2024-03-26T21:40:46.823Z"
   },
   {
    "duration": 12,
    "start_time": "2024-03-26T21:41:02.736Z"
   },
   {
    "duration": 12,
    "start_time": "2024-03-26T21:41:29.013Z"
   },
   {
    "duration": 12,
    "start_time": "2024-03-26T21:42:40.116Z"
   },
   {
    "duration": 4,
    "start_time": "2024-03-26T21:42:44.067Z"
   },
   {
    "duration": 10,
    "start_time": "2024-03-26T21:43:09.939Z"
   },
   {
    "duration": 363,
    "start_time": "2024-03-26T21:43:57.435Z"
   },
   {
    "duration": 57,
    "start_time": "2024-03-26T21:43:57.800Z"
   },
   {
    "duration": 39,
    "start_time": "2024-03-26T21:43:57.858Z"
   },
   {
    "duration": 4,
    "start_time": "2024-03-26T21:43:57.899Z"
   },
   {
    "duration": 13,
    "start_time": "2024-03-26T21:43:57.905Z"
   },
   {
    "duration": 41,
    "start_time": "2024-03-26T21:43:57.919Z"
   },
   {
    "duration": 5,
    "start_time": "2024-03-26T21:43:57.962Z"
   },
   {
    "duration": 12,
    "start_time": "2024-03-26T21:43:57.968Z"
   },
   {
    "duration": 25,
    "start_time": "2024-03-26T21:43:57.981Z"
   },
   {
    "duration": 10,
    "start_time": "2024-03-26T21:43:58.007Z"
   },
   {
    "duration": 14,
    "start_time": "2024-03-26T21:43:58.019Z"
   },
   {
    "duration": 41,
    "start_time": "2024-03-26T21:43:58.034Z"
   },
   {
    "duration": 13,
    "start_time": "2024-03-26T21:43:58.077Z"
   },
   {
    "duration": 2,
    "start_time": "2024-03-26T21:43:58.092Z"
   },
   {
    "duration": 73,
    "start_time": "2024-03-26T21:44:28.203Z"
   },
   {
    "duration": 11,
    "start_time": "2024-03-26T21:44:43.963Z"
   },
   {
    "duration": 12,
    "start_time": "2024-03-26T21:45:06.962Z"
   },
   {
    "duration": 412,
    "start_time": "2024-03-26T21:45:15.783Z"
   },
   {
    "duration": 55,
    "start_time": "2024-03-26T21:45:16.197Z"
   },
   {
    "duration": 42,
    "start_time": "2024-03-26T21:45:16.254Z"
   },
   {
    "duration": 4,
    "start_time": "2024-03-26T21:45:16.298Z"
   },
   {
    "duration": 10,
    "start_time": "2024-03-26T21:45:16.304Z"
   },
   {
    "duration": 27,
    "start_time": "2024-03-26T21:45:16.316Z"
   },
   {
    "duration": 15,
    "start_time": "2024-03-26T21:45:16.345Z"
   },
   {
    "duration": 15,
    "start_time": "2024-03-26T21:45:16.361Z"
   },
   {
    "duration": 42,
    "start_time": "2024-03-26T21:45:16.378Z"
   },
   {
    "duration": 42,
    "start_time": "2024-03-26T21:45:16.422Z"
   },
   {
    "duration": 3,
    "start_time": "2024-03-26T21:45:16.466Z"
   },
   {
    "duration": 38,
    "start_time": "2024-03-26T21:45:16.471Z"
   },
   {
    "duration": 11,
    "start_time": "2024-03-26T21:45:16.510Z"
   },
   {
    "duration": 15,
    "start_time": "2024-03-26T21:45:16.523Z"
   },
   {
    "duration": 6,
    "start_time": "2024-03-26T21:46:23.281Z"
   },
   {
    "duration": 66,
    "start_time": "2024-03-26T21:47:05.789Z"
   },
   {
    "duration": 13,
    "start_time": "2024-03-26T21:47:16.889Z"
   },
   {
    "duration": 2,
    "start_time": "2024-03-26T21:47:31.515Z"
   },
   {
    "duration": 233,
    "start_time": "2024-03-26T21:47:47.343Z"
   },
   {
    "duration": 436,
    "start_time": "2024-03-26T21:48:32.362Z"
   },
   {
    "duration": 58,
    "start_time": "2024-03-26T21:48:32.801Z"
   },
   {
    "duration": 44,
    "start_time": "2024-03-26T21:48:32.860Z"
   },
   {
    "duration": 5,
    "start_time": "2024-03-26T21:48:32.906Z"
   },
   {
    "duration": 13,
    "start_time": "2024-03-26T21:48:32.914Z"
   },
   {
    "duration": 18,
    "start_time": "2024-03-26T21:48:32.928Z"
   },
   {
    "duration": 3,
    "start_time": "2024-03-26T21:48:32.972Z"
   },
   {
    "duration": 20,
    "start_time": "2024-03-26T21:48:32.976Z"
   },
   {
    "duration": 23,
    "start_time": "2024-03-26T21:48:32.998Z"
   },
   {
    "duration": 9,
    "start_time": "2024-03-26T21:48:33.023Z"
   },
   {
    "duration": 40,
    "start_time": "2024-03-26T21:48:33.034Z"
   },
   {
    "duration": 2,
    "start_time": "2024-03-26T21:48:33.076Z"
   },
   {
    "duration": 4,
    "start_time": "2024-03-26T21:48:33.080Z"
   },
   {
    "duration": 322,
    "start_time": "2024-03-26T21:48:33.087Z"
   },
   {
    "duration": 0,
    "start_time": "2024-03-26T21:48:33.412Z"
   },
   {
    "duration": 5,
    "start_time": "2024-03-26T21:49:56.673Z"
   },
   {
    "duration": 3,
    "start_time": "2024-03-26T21:52:32.553Z"
   },
   {
    "duration": 6,
    "start_time": "2024-03-26T21:53:33.560Z"
   },
   {
    "duration": 454,
    "start_time": "2024-03-26T21:54:03.044Z"
   },
   {
    "duration": 59,
    "start_time": "2024-03-26T21:54:03.500Z"
   },
   {
    "duration": 39,
    "start_time": "2024-03-26T21:54:03.560Z"
   },
   {
    "duration": 4,
    "start_time": "2024-03-26T21:54:03.601Z"
   },
   {
    "duration": 13,
    "start_time": "2024-03-26T21:54:03.607Z"
   },
   {
    "duration": 16,
    "start_time": "2024-03-26T21:54:03.622Z"
   },
   {
    "duration": 3,
    "start_time": "2024-03-26T21:54:03.640Z"
   },
   {
    "duration": 36,
    "start_time": "2024-03-26T21:54:03.644Z"
   },
   {
    "duration": 22,
    "start_time": "2024-03-26T21:54:03.682Z"
   },
   {
    "duration": 10,
    "start_time": "2024-03-26T21:54:03.705Z"
   },
   {
    "duration": 20,
    "start_time": "2024-03-26T21:54:03.716Z"
   },
   {
    "duration": 35,
    "start_time": "2024-03-26T21:54:03.738Z"
   },
   {
    "duration": 3,
    "start_time": "2024-03-26T21:54:03.774Z"
   },
   {
    "duration": 10,
    "start_time": "2024-03-26T21:54:03.779Z"
   },
   {
    "duration": 19,
    "start_time": "2024-03-26T21:54:03.791Z"
   },
   {
    "duration": 96,
    "start_time": "2024-03-26T21:55:52.736Z"
   },
   {
    "duration": 5,
    "start_time": "2024-03-26T21:56:24.836Z"
   },
   {
    "duration": 1036,
    "start_time": "2024-03-26T21:57:28.057Z"
   },
   {
    "duration": 9,
    "start_time": "2024-03-26T21:57:53.991Z"
   },
   {
    "duration": 6,
    "start_time": "2024-03-26T22:00:12.875Z"
   },
   {
    "duration": 5,
    "start_time": "2024-03-26T22:01:27.620Z"
   },
   {
    "duration": 4,
    "start_time": "2024-03-26T22:01:43.949Z"
   },
   {
    "duration": 3,
    "start_time": "2024-03-26T22:02:20.400Z"
   },
   {
    "duration": 10,
    "start_time": "2024-03-26T22:02:42.957Z"
   },
   {
    "duration": 414,
    "start_time": "2024-03-26T22:03:05.599Z"
   },
   {
    "duration": 58,
    "start_time": "2024-03-26T22:03:06.014Z"
   },
   {
    "duration": 56,
    "start_time": "2024-03-26T22:03:06.073Z"
   },
   {
    "duration": 5,
    "start_time": "2024-03-26T22:03:06.132Z"
   },
   {
    "duration": 40,
    "start_time": "2024-03-26T22:03:06.138Z"
   },
   {
    "duration": 17,
    "start_time": "2024-03-26T22:03:06.180Z"
   },
   {
    "duration": 2,
    "start_time": "2024-03-26T22:03:06.199Z"
   },
   {
    "duration": 21,
    "start_time": "2024-03-26T22:03:06.202Z"
   },
   {
    "duration": 25,
    "start_time": "2024-03-26T22:03:06.224Z"
   },
   {
    "duration": 28,
    "start_time": "2024-03-26T22:03:06.252Z"
   },
   {
    "duration": 21,
    "start_time": "2024-03-26T22:03:06.282Z"
   },
   {
    "duration": 13,
    "start_time": "2024-03-26T22:03:06.304Z"
   },
   {
    "duration": 3,
    "start_time": "2024-03-26T22:03:06.318Z"
   },
   {
    "duration": 4,
    "start_time": "2024-03-26T22:03:06.323Z"
   },
   {
    "duration": 6,
    "start_time": "2024-03-26T22:03:06.328Z"
   },
   {
    "duration": 12,
    "start_time": "2024-03-26T22:03:30.886Z"
   },
   {
    "duration": 430,
    "start_time": "2024-03-26T22:04:09.553Z"
   },
   {
    "duration": 57,
    "start_time": "2024-03-26T22:04:09.985Z"
   },
   {
    "duration": 41,
    "start_time": "2024-03-26T22:04:10.043Z"
   },
   {
    "duration": 5,
    "start_time": "2024-03-26T22:04:10.085Z"
   },
   {
    "duration": 12,
    "start_time": "2024-03-26T22:04:10.092Z"
   },
   {
    "duration": 20,
    "start_time": "2024-03-26T22:04:10.106Z"
   },
   {
    "duration": 2,
    "start_time": "2024-03-26T22:04:10.128Z"
   },
   {
    "duration": 22,
    "start_time": "2024-03-26T22:04:10.132Z"
   },
   {
    "duration": 36,
    "start_time": "2024-03-26T22:04:10.173Z"
   },
   {
    "duration": 10,
    "start_time": "2024-03-26T22:04:10.211Z"
   },
   {
    "duration": 25,
    "start_time": "2024-03-26T22:04:10.223Z"
   },
   {
    "duration": 32,
    "start_time": "2024-03-26T22:04:10.250Z"
   },
   {
    "duration": 2,
    "start_time": "2024-03-26T22:04:10.284Z"
   },
   {
    "duration": 7,
    "start_time": "2024-03-26T22:04:10.288Z"
   },
   {
    "duration": 18,
    "start_time": "2024-03-26T22:04:10.297Z"
   },
   {
    "duration": 370,
    "start_time": "2024-03-26T22:04:30.623Z"
   },
   {
    "duration": 57,
    "start_time": "2024-03-26T22:04:30.995Z"
   },
   {
    "duration": 41,
    "start_time": "2024-03-26T22:04:31.054Z"
   },
   {
    "duration": 35,
    "start_time": "2024-03-26T22:04:31.096Z"
   },
   {
    "duration": 11,
    "start_time": "2024-03-26T22:04:31.253Z"
   },
   {
    "duration": 90,
    "start_time": "2024-03-26T22:04:31.266Z"
   },
   {
    "duration": 33,
    "start_time": "2024-03-26T22:04:31.358Z"
   },
   {
    "duration": 108,
    "start_time": "2024-03-26T22:04:31.393Z"
   },
   {
    "duration": 120,
    "start_time": "2024-03-26T22:04:31.503Z"
   },
   {
    "duration": 37,
    "start_time": "2024-03-26T22:04:31.625Z"
   },
   {
    "duration": 47,
    "start_time": "2024-03-26T22:04:31.664Z"
   },
   {
    "duration": 47,
    "start_time": "2024-03-26T22:04:31.713Z"
   },
   {
    "duration": 55,
    "start_time": "2024-03-26T22:04:31.761Z"
   },
   {
    "duration": 22,
    "start_time": "2024-03-26T22:04:31.818Z"
   },
   {
    "duration": 31,
    "start_time": "2024-03-26T22:04:31.842Z"
   },
   {
    "duration": 418,
    "start_time": "2024-03-26T22:04:49.774Z"
   },
   {
    "duration": 57,
    "start_time": "2024-03-26T22:04:51.569Z"
   },
   {
    "duration": 42,
    "start_time": "2024-03-26T22:04:53.003Z"
   },
   {
    "duration": 5,
    "start_time": "2024-03-26T22:04:57.909Z"
   },
   {
    "duration": 9,
    "start_time": "2024-03-26T22:04:59.437Z"
   },
   {
    "duration": 16,
    "start_time": "2024-03-26T22:05:02.415Z"
   },
   {
    "duration": 9,
    "start_time": "2024-03-26T22:05:10.308Z"
   },
   {
    "duration": 22,
    "start_time": "2024-03-26T22:05:13.904Z"
   },
   {
    "duration": 10,
    "start_time": "2024-03-26T22:05:18.183Z"
   },
   {
    "duration": 22,
    "start_time": "2024-03-26T22:05:21.796Z"
   },
   {
    "duration": 5,
    "start_time": "2024-03-26T22:05:25.612Z"
   },
   {
    "duration": 82,
    "start_time": "2024-03-26T22:06:04.064Z"
   },
   {
    "duration": 7,
    "start_time": "2024-03-26T22:06:16.780Z"
   },
   {
    "duration": 7,
    "start_time": "2024-03-26T22:06:34.260Z"
   },
   {
    "duration": 7,
    "start_time": "2024-03-26T22:06:41.660Z"
   },
   {
    "duration": 418,
    "start_time": "2024-03-26T22:07:03.340Z"
   },
   {
    "duration": 59,
    "start_time": "2024-03-26T22:07:03.759Z"
   },
   {
    "duration": 40,
    "start_time": "2024-03-26T22:07:03.820Z"
   },
   {
    "duration": 5,
    "start_time": "2024-03-26T22:07:03.862Z"
   },
   {
    "duration": 17,
    "start_time": "2024-03-26T22:07:03.868Z"
   },
   {
    "duration": 22,
    "start_time": "2024-03-26T22:07:03.886Z"
   },
   {
    "duration": 2,
    "start_time": "2024-03-26T22:07:03.910Z"
   },
   {
    "duration": 10,
    "start_time": "2024-03-26T22:07:03.914Z"
   },
   {
    "duration": 23,
    "start_time": "2024-03-26T22:07:03.925Z"
   },
   {
    "duration": 10,
    "start_time": "2024-03-26T22:07:03.974Z"
   },
   {
    "duration": 21,
    "start_time": "2024-03-26T22:07:03.986Z"
   },
   {
    "duration": 6,
    "start_time": "2024-03-26T22:07:04.009Z"
   },
   {
    "duration": 4,
    "start_time": "2024-03-26T22:07:04.016Z"
   },
   {
    "duration": 6,
    "start_time": "2024-03-26T22:07:04.021Z"
   },
   {
    "duration": 18,
    "start_time": "2024-03-26T22:07:04.028Z"
   },
   {
    "duration": 9,
    "start_time": "2024-03-26T22:08:23.742Z"
   },
   {
    "duration": 12,
    "start_time": "2024-03-26T22:08:33.561Z"
   },
   {
    "duration": 12,
    "start_time": "2024-03-26T22:09:29.872Z"
   },
   {
    "duration": 424,
    "start_time": "2024-03-26T22:09:34.159Z"
   },
   {
    "duration": 56,
    "start_time": "2024-03-26T22:09:34.586Z"
   },
   {
    "duration": 39,
    "start_time": "2024-03-26T22:09:34.644Z"
   },
   {
    "duration": 4,
    "start_time": "2024-03-26T22:09:34.685Z"
   },
   {
    "duration": 13,
    "start_time": "2024-03-26T22:09:34.691Z"
   },
   {
    "duration": 17,
    "start_time": "2024-03-26T22:09:34.705Z"
   },
   {
    "duration": 2,
    "start_time": "2024-03-26T22:09:34.723Z"
   },
   {
    "duration": 17,
    "start_time": "2024-03-26T22:09:34.727Z"
   },
   {
    "duration": 44,
    "start_time": "2024-03-26T22:09:34.745Z"
   },
   {
    "duration": 11,
    "start_time": "2024-03-26T22:09:34.790Z"
   },
   {
    "duration": 28,
    "start_time": "2024-03-26T22:09:34.803Z"
   },
   {
    "duration": 21,
    "start_time": "2024-03-26T22:09:34.833Z"
   },
   {
    "duration": 18,
    "start_time": "2024-03-26T22:09:34.856Z"
   },
   {
    "duration": 7,
    "start_time": "2024-03-26T22:09:34.876Z"
   },
   {
    "duration": 18,
    "start_time": "2024-03-26T22:09:34.884Z"
   },
   {
    "duration": 6,
    "start_time": "2024-03-26T22:09:46.611Z"
   },
   {
    "duration": 15,
    "start_time": "2024-03-26T22:10:24.167Z"
   },
   {
    "duration": 5,
    "start_time": "2024-03-26T22:10:34.801Z"
   },
   {
    "duration": 78,
    "start_time": "2024-03-26T22:12:34.484Z"
   },
   {
    "duration": 15,
    "start_time": "2024-03-26T22:12:59.668Z"
   },
   {
    "duration": 19,
    "start_time": "2024-03-26T22:15:24.562Z"
   },
   {
    "duration": 407,
    "start_time": "2024-03-26T22:15:52.686Z"
   },
   {
    "duration": 56,
    "start_time": "2024-03-26T22:15:53.095Z"
   },
   {
    "duration": 40,
    "start_time": "2024-03-26T22:15:53.152Z"
   },
   {
    "duration": 4,
    "start_time": "2024-03-26T22:15:53.194Z"
   },
   {
    "duration": 18,
    "start_time": "2024-03-26T22:15:53.200Z"
   },
   {
    "duration": 28,
    "start_time": "2024-03-26T22:15:53.220Z"
   },
   {
    "duration": 16,
    "start_time": "2024-03-26T22:15:53.250Z"
   },
   {
    "duration": 41,
    "start_time": "2024-03-26T22:15:53.268Z"
   },
   {
    "duration": 29,
    "start_time": "2024-03-26T22:15:53.310Z"
   },
   {
    "duration": 9,
    "start_time": "2024-03-26T22:15:53.341Z"
   },
   {
    "duration": 27,
    "start_time": "2024-03-26T22:15:53.351Z"
   },
   {
    "duration": 26,
    "start_time": "2024-03-26T22:15:53.380Z"
   },
   {
    "duration": 18,
    "start_time": "2024-03-26T22:15:53.407Z"
   },
   {
    "duration": 18,
    "start_time": "2024-03-26T22:15:53.427Z"
   },
   {
    "duration": 5,
    "start_time": "2024-03-26T22:19:12.620Z"
   },
   {
    "duration": 7,
    "start_time": "2024-03-26T22:19:28.248Z"
   },
   {
    "duration": 7,
    "start_time": "2024-03-26T22:24:25.444Z"
   },
   {
    "duration": 7,
    "start_time": "2024-03-26T22:24:53.021Z"
   },
   {
    "duration": 437,
    "start_time": "2024-03-26T22:28:32.832Z"
   },
   {
    "duration": 98,
    "start_time": "2024-03-26T22:31:19.300Z"
   },
   {
    "duration": 74,
    "start_time": "2024-03-26T22:31:37.085Z"
   },
   {
    "duration": 13,
    "start_time": "2024-03-26T22:31:44.582Z"
   },
   {
    "duration": 21,
    "start_time": "2024-03-26T22:31:58.095Z"
   },
   {
    "duration": 817,
    "start_time": "2024-03-27T07:28:24.670Z"
   },
   {
    "duration": 110,
    "start_time": "2024-03-27T07:28:27.022Z"
   },
   {
    "duration": 45,
    "start_time": "2024-03-27T07:28:28.440Z"
   },
   {
    "duration": 4,
    "start_time": "2024-03-27T07:28:33.226Z"
   },
   {
    "duration": 9,
    "start_time": "2024-03-27T07:28:36.850Z"
   },
   {
    "duration": 15,
    "start_time": "2024-03-27T07:28:38.866Z"
   },
   {
    "duration": 8,
    "start_time": "2024-03-27T07:28:47.155Z"
   },
   {
    "duration": 10,
    "start_time": "2024-03-27T07:28:59.745Z"
   },
   {
    "duration": 20,
    "start_time": "2024-03-27T07:29:07.675Z"
   },
   {
    "duration": 10,
    "start_time": "2024-03-27T07:29:11.735Z"
   },
   {
    "duration": 28,
    "start_time": "2024-03-27T07:29:15.862Z"
   },
   {
    "duration": 12,
    "start_time": "2024-03-27T07:29:21.179Z"
   },
   {
    "duration": 23,
    "start_time": "2024-03-27T07:29:49.038Z"
   },
   {
    "duration": 18,
    "start_time": "2024-03-27T07:29:55.407Z"
   },
   {
    "duration": 7,
    "start_time": "2024-03-27T07:30:00.669Z"
   },
   {
    "duration": 7,
    "start_time": "2024-03-27T07:30:40.716Z"
   },
   {
    "duration": 20,
    "start_time": "2024-03-27T07:30:47.087Z"
   },
   {
    "duration": 3,
    "start_time": "2024-03-27T07:31:37.045Z"
   },
   {
    "duration": 151,
    "start_time": "2024-03-27T07:33:55.051Z"
   },
   {
    "duration": 71,
    "start_time": "2024-03-27T07:36:25.366Z"
   },
   {
    "duration": 9,
    "start_time": "2024-03-27T07:36:45.671Z"
   },
   {
    "duration": 456,
    "start_time": "2024-03-27T07:37:02.300Z"
   },
   {
    "duration": 59,
    "start_time": "2024-03-27T07:38:28.860Z"
   },
   {
    "duration": 460,
    "start_time": "2024-03-27T07:38:44.378Z"
   },
   {
    "duration": 446,
    "start_time": "2024-03-27T07:39:16.431Z"
   },
   {
    "duration": 6,
    "start_time": "2024-03-27T07:39:50.843Z"
   },
   {
    "duration": 24,
    "start_time": "2024-03-27T07:40:23.116Z"
   },
   {
    "duration": 633,
    "start_time": "2024-03-27T07:41:06.368Z"
   },
   {
    "duration": 948,
    "start_time": "2024-03-27T07:41:30.098Z"
   },
   {
    "duration": 13,
    "start_time": "2024-03-27T07:42:32.502Z"
   },
   {
    "duration": 12,
    "start_time": "2024-03-27T07:42:55.676Z"
   },
   {
    "duration": 192,
    "start_time": "2024-03-27T07:43:34.658Z"
   },
   {
    "duration": 160,
    "start_time": "2024-03-27T07:46:33.799Z"
   },
   {
    "duration": 132,
    "start_time": "2024-03-27T07:47:02.530Z"
   },
   {
    "duration": 213,
    "start_time": "2024-03-27T07:47:38.638Z"
   },
   {
    "duration": 6140,
    "start_time": "2024-03-27T07:47:51.468Z"
   },
   {
    "duration": 115,
    "start_time": "2024-03-27T07:55:18.673Z"
   },
   {
    "duration": 130,
    "start_time": "2024-03-27T07:57:14.448Z"
   },
   {
    "duration": 127,
    "start_time": "2024-03-27T07:58:41.610Z"
   },
   {
    "duration": 142,
    "start_time": "2024-03-27T08:00:33.401Z"
   },
   {
    "duration": 157,
    "start_time": "2024-03-27T08:00:58.542Z"
   },
   {
    "duration": 161,
    "start_time": "2024-03-27T08:01:42.607Z"
   },
   {
    "duration": 301,
    "start_time": "2024-03-27T08:02:38.844Z"
   },
   {
    "duration": 181,
    "start_time": "2024-03-27T08:03:16.073Z"
   },
   {
    "duration": 192,
    "start_time": "2024-03-27T08:03:44.533Z"
   },
   {
    "duration": 196,
    "start_time": "2024-03-27T08:04:25.148Z"
   },
   {
    "duration": 266,
    "start_time": "2024-03-27T08:05:18.643Z"
   },
   {
    "duration": 195,
    "start_time": "2024-03-27T08:05:53.607Z"
   },
   {
    "duration": 235,
    "start_time": "2024-03-27T08:07:38.014Z"
   },
   {
    "duration": 297,
    "start_time": "2024-03-27T08:09:09.721Z"
   },
   {
    "duration": 228,
    "start_time": "2024-03-27T08:09:21.719Z"
   },
   {
    "duration": 226,
    "start_time": "2024-03-27T08:10:11.307Z"
   },
   {
    "duration": 223,
    "start_time": "2024-03-27T08:10:23.488Z"
   },
   {
    "duration": 301,
    "start_time": "2024-03-27T08:10:35.176Z"
   },
   {
    "duration": 226,
    "start_time": "2024-03-27T08:11:19.186Z"
   },
   {
    "duration": 231,
    "start_time": "2024-03-27T08:11:36.579Z"
   },
   {
    "duration": 236,
    "start_time": "2024-03-27T08:11:47.842Z"
   },
   {
    "duration": 353,
    "start_time": "2024-03-27T08:13:26.067Z"
   },
   {
    "duration": 275,
    "start_time": "2024-03-27T08:13:57.388Z"
   },
   {
    "duration": 274,
    "start_time": "2024-03-27T08:14:10.087Z"
   },
   {
    "duration": 161,
    "start_time": "2024-03-27T08:16:25.128Z"
   },
   {
    "duration": 275,
    "start_time": "2024-03-27T08:16:44.005Z"
   },
   {
    "duration": 328,
    "start_time": "2024-03-27T08:22:49.258Z"
   },
   {
    "duration": 466,
    "start_time": "2024-03-27T08:23:03.429Z"
   },
   {
    "duration": 364,
    "start_time": "2024-03-27T08:23:18.040Z"
   },
   {
    "duration": 333,
    "start_time": "2024-03-27T08:23:31.019Z"
   },
   {
    "duration": 5,
    "start_time": "2024-03-27T08:29:17.162Z"
   },
   {
    "duration": 66,
    "start_time": "2024-03-27T08:29:44.290Z"
   },
   {
    "duration": 8,
    "start_time": "2024-03-27T08:29:49.759Z"
   },
   {
    "duration": 77,
    "start_time": "2024-03-27T08:31:42.652Z"
   },
   {
    "duration": 5,
    "start_time": "2024-03-27T08:31:53.504Z"
   },
   {
    "duration": 22,
    "start_time": "2024-03-27T08:32:13.115Z"
   },
   {
    "duration": 8,
    "start_time": "2024-03-27T08:33:01.436Z"
   },
   {
    "duration": 13,
    "start_time": "2024-03-27T08:34:05.008Z"
   },
   {
    "duration": 10,
    "start_time": "2024-03-27T08:35:33.466Z"
   },
   {
    "duration": 17,
    "start_time": "2024-03-27T08:35:45.254Z"
   },
   {
    "duration": 26,
    "start_time": "2024-03-27T08:36:10.506Z"
   },
   {
    "duration": 28,
    "start_time": "2024-03-27T08:46:17.474Z"
   },
   {
    "duration": 27,
    "start_time": "2024-03-27T08:55:03.147Z"
   },
   {
    "duration": 181,
    "start_time": "2024-03-27T08:56:59.059Z"
   },
   {
    "duration": 11,
    "start_time": "2024-03-27T08:57:56.868Z"
   },
   {
    "duration": 156,
    "start_time": "2024-03-27T09:02:40.774Z"
   },
   {
    "duration": 847,
    "start_time": "2024-03-27T09:02:57.424Z"
   },
   {
    "duration": 86,
    "start_time": "2024-03-27T09:03:14.479Z"
   },
   {
    "duration": 7,
    "start_time": "2024-03-27T09:05:31.596Z"
   },
   {
    "duration": 531,
    "start_time": "2024-03-27T09:07:23.594Z"
   },
   {
    "duration": 37,
    "start_time": "2024-03-27T09:08:26.934Z"
   },
   {
    "duration": 266,
    "start_time": "2024-03-27T09:08:43.759Z"
   },
   {
    "duration": 213,
    "start_time": "2024-03-27T09:09:33.422Z"
   },
   {
    "duration": 270,
    "start_time": "2024-03-27T09:10:23.746Z"
   },
   {
    "duration": 287,
    "start_time": "2024-03-27T09:12:28.970Z"
   },
   {
    "duration": 1898,
    "start_time": "2024-03-27T09:19:56.280Z"
   },
   {
    "duration": 600,
    "start_time": "2024-03-27T09:20:15.379Z"
   },
   {
    "duration": 290,
    "start_time": "2024-03-27T09:32:23.729Z"
   },
   {
    "duration": 542,
    "start_time": "2024-03-27T09:33:09.681Z"
   },
   {
    "duration": 572,
    "start_time": "2024-03-27T09:33:23.909Z"
   },
   {
    "duration": 726,
    "start_time": "2024-03-27T09:34:29.025Z"
   },
   {
    "duration": 621,
    "start_time": "2024-03-27T09:34:55.660Z"
   },
   {
    "duration": 13,
    "start_time": "2024-03-27T09:38:56.291Z"
   },
   {
    "duration": 5,
    "start_time": "2024-03-27T09:39:22.694Z"
   },
   {
    "duration": 7,
    "start_time": "2024-03-27T09:39:43.657Z"
   },
   {
    "duration": 98,
    "start_time": "2024-03-27T09:41:49.307Z"
   },
   {
    "duration": 117,
    "start_time": "2024-03-27T09:42:16.643Z"
   },
   {
    "duration": 124,
    "start_time": "2024-03-27T09:42:55.443Z"
   },
   {
    "duration": 193,
    "start_time": "2024-03-27T09:43:12.199Z"
   },
   {
    "duration": 113,
    "start_time": "2024-03-27T09:45:28.770Z"
   },
   {
    "duration": 319,
    "start_time": "2024-03-27T09:46:38.399Z"
   },
   {
    "duration": 198,
    "start_time": "2024-03-27T09:46:49.324Z"
   },
   {
    "duration": 231,
    "start_time": "2024-03-27T09:48:27.786Z"
   },
   {
    "duration": 226,
    "start_time": "2024-03-27T09:48:49.267Z"
   },
   {
    "duration": 217,
    "start_time": "2024-03-27T09:48:59.095Z"
   },
   {
    "duration": 205,
    "start_time": "2024-03-27T09:49:06.904Z"
   },
   {
    "duration": 216,
    "start_time": "2024-03-27T09:49:20.045Z"
   },
   {
    "duration": 319,
    "start_time": "2024-03-27T09:49:36.052Z"
   },
   {
    "duration": 7,
    "start_time": "2024-03-27T09:52:20.029Z"
   },
   {
    "duration": 11,
    "start_time": "2024-03-27T09:55:18.010Z"
   },
   {
    "duration": 12,
    "start_time": "2024-03-27T09:55:40.058Z"
   },
   {
    "duration": 6,
    "start_time": "2024-03-27T09:56:07.114Z"
   },
   {
    "duration": 426,
    "start_time": "2024-03-27T09:59:03.329Z"
   },
   {
    "duration": 9,
    "start_time": "2024-03-27T09:59:38.280Z"
   },
   {
    "duration": 13,
    "start_time": "2024-03-27T09:59:50.779Z"
   },
   {
    "duration": 443,
    "start_time": "2024-03-27T10:00:06.901Z"
   },
   {
    "duration": 69,
    "start_time": "2024-03-27T10:01:58.342Z"
   },
   {
    "duration": 6,
    "start_time": "2024-03-27T10:02:08.501Z"
   },
   {
    "duration": 8,
    "start_time": "2024-03-27T10:02:38.187Z"
   },
   {
    "duration": 266,
    "start_time": "2024-03-27T10:03:10.163Z"
   },
   {
    "duration": 236,
    "start_time": "2024-03-27T10:05:22.327Z"
   },
   {
    "duration": 235,
    "start_time": "2024-03-27T10:05:54.280Z"
   },
   {
    "duration": 9,
    "start_time": "2024-03-27T10:10:09.641Z"
   },
   {
    "duration": 9,
    "start_time": "2024-03-27T10:10:18.261Z"
   },
   {
    "duration": 6,
    "start_time": "2024-03-27T10:11:12.166Z"
   },
   {
    "duration": 7,
    "start_time": "2024-03-27T10:11:36.088Z"
   },
   {
    "duration": 9,
    "start_time": "2024-03-27T10:12:59.797Z"
   },
   {
    "duration": 13,
    "start_time": "2024-03-27T10:14:05.132Z"
   },
   {
    "duration": 10,
    "start_time": "2024-03-27T10:21:56.575Z"
   },
   {
    "duration": 13,
    "start_time": "2024-03-27T10:22:23.346Z"
   },
   {
    "duration": 13,
    "start_time": "2024-03-27T10:22:59.603Z"
   },
   {
    "duration": 11,
    "start_time": "2024-03-27T10:23:16.414Z"
   },
   {
    "duration": 14,
    "start_time": "2024-03-27T10:23:50.221Z"
   },
   {
    "duration": 232,
    "start_time": "2024-03-27T10:24:49.997Z"
   },
   {
    "duration": 13,
    "start_time": "2024-03-27T10:25:00.991Z"
   },
   {
    "duration": 249,
    "start_time": "2024-03-27T10:25:23.458Z"
   },
   {
    "duration": 19,
    "start_time": "2024-03-27T10:25:56.741Z"
   },
   {
    "duration": 214,
    "start_time": "2024-03-27T10:26:20.262Z"
   },
   {
    "duration": 15,
    "start_time": "2024-03-27T10:26:30.315Z"
   },
   {
    "duration": 15,
    "start_time": "2024-03-27T10:27:16.169Z"
   },
   {
    "duration": 13399,
    "start_time": "2024-03-27T11:13:09.493Z"
   },
   {
    "duration": 102,
    "start_time": "2024-03-27T11:13:32.786Z"
   },
   {
    "duration": 106,
    "start_time": "2024-03-27T11:14:39.475Z"
   },
   {
    "duration": 144,
    "start_time": "2024-03-27T11:15:04.744Z"
   },
   {
    "duration": 142,
    "start_time": "2024-03-27T11:16:16.770Z"
   },
   {
    "duration": 400,
    "start_time": "2024-03-27T11:17:11.295Z"
   },
   {
    "duration": 399,
    "start_time": "2024-03-27T11:17:35.294Z"
   },
   {
    "duration": 306,
    "start_time": "2024-03-27T11:22:08.564Z"
   },
   {
    "duration": 268,
    "start_time": "2024-03-27T11:23:22.613Z"
   },
   {
    "duration": 60,
    "start_time": "2024-03-27T11:24:33.943Z"
   },
   {
    "duration": 603,
    "start_time": "2024-03-27T11:24:58.406Z"
   },
   {
    "duration": 287,
    "start_time": "2024-03-27T11:25:41.440Z"
   },
   {
    "duration": 852,
    "start_time": "2024-03-27T11:26:44.060Z"
   },
   {
    "duration": 78,
    "start_time": "2024-03-27T11:27:07.658Z"
   },
   {
    "duration": 280,
    "start_time": "2024-03-27T11:27:15.060Z"
   },
   {
    "duration": 18,
    "start_time": "2024-03-27T11:28:02.875Z"
   },
   {
    "duration": 14,
    "start_time": "2024-03-27T11:28:11.030Z"
   },
   {
    "duration": 942,
    "start_time": "2024-03-27T11:28:41.531Z"
   },
   {
    "duration": 1249,
    "start_time": "2024-03-27T11:29:25.535Z"
   },
   {
    "duration": 56,
    "start_time": "2024-03-27T11:29:26.787Z"
   },
   {
    "duration": 51,
    "start_time": "2024-03-27T11:29:26.845Z"
   },
   {
    "duration": 10,
    "start_time": "2024-03-27T11:29:26.898Z"
   },
   {
    "duration": 26,
    "start_time": "2024-03-27T11:29:26.910Z"
   },
   {
    "duration": 40,
    "start_time": "2024-03-27T11:29:26.938Z"
   },
   {
    "duration": 11,
    "start_time": "2024-03-27T11:29:26.980Z"
   },
   {
    "duration": 43,
    "start_time": "2024-03-27T11:29:26.993Z"
   },
   {
    "duration": 10,
    "start_time": "2024-03-27T11:29:27.038Z"
   },
   {
    "duration": 25,
    "start_time": "2024-03-27T11:29:27.050Z"
   },
   {
    "duration": 23,
    "start_time": "2024-03-27T11:29:27.077Z"
   },
   {
    "duration": 27,
    "start_time": "2024-03-27T11:29:27.102Z"
   },
   {
    "duration": 26,
    "start_time": "2024-03-27T11:29:27.131Z"
   },
   {
    "duration": 21,
    "start_time": "2024-03-27T11:29:27.161Z"
   },
   {
    "duration": 15,
    "start_time": "2024-03-27T11:29:27.184Z"
   },
   {
    "duration": 430,
    "start_time": "2024-03-27T11:29:27.201Z"
   },
   {
    "duration": 26,
    "start_time": "2024-03-27T11:29:27.633Z"
   },
   {
    "duration": 618,
    "start_time": "2024-03-27T11:29:27.661Z"
   },
   {
    "duration": 9,
    "start_time": "2024-03-27T11:29:28.281Z"
   },
   {
    "duration": 286,
    "start_time": "2024-03-27T11:29:28.292Z"
   },
   {
    "duration": 16,
    "start_time": "2024-03-27T11:29:28.580Z"
   },
   {
    "duration": 44,
    "start_time": "2024-03-27T11:29:28.598Z"
   },
   {
    "duration": 1084,
    "start_time": "2024-03-27T11:29:28.645Z"
   },
   {
    "duration": 856,
    "start_time": "2024-03-27T11:30:10.073Z"
   },
   {
    "duration": 16,
    "start_time": "2024-03-27T11:30:47.770Z"
   },
   {
    "duration": 278,
    "start_time": "2024-03-27T11:31:01.651Z"
   },
   {
    "duration": 357,
    "start_time": "2024-03-27T11:31:44.420Z"
   },
   {
    "duration": 288,
    "start_time": "2024-03-27T11:32:23.269Z"
   },
   {
    "duration": 311,
    "start_time": "2024-03-27T11:32:39.091Z"
   },
   {
    "duration": 1189,
    "start_time": "2024-03-27T11:33:23.810Z"
   },
   {
    "duration": 67,
    "start_time": "2024-03-27T11:33:25.001Z"
   },
   {
    "duration": 38,
    "start_time": "2024-03-27T11:33:25.070Z"
   },
   {
    "duration": 6,
    "start_time": "2024-03-27T11:33:25.111Z"
   },
   {
    "duration": 21,
    "start_time": "2024-03-27T11:33:25.119Z"
   },
   {
    "duration": 40,
    "start_time": "2024-03-27T11:33:25.142Z"
   },
   {
    "duration": 14,
    "start_time": "2024-03-27T11:33:25.184Z"
   },
   {
    "duration": 22,
    "start_time": "2024-03-27T11:33:25.200Z"
   },
   {
    "duration": 9,
    "start_time": "2024-03-27T11:33:25.224Z"
   },
   {
    "duration": 31,
    "start_time": "2024-03-27T11:33:25.265Z"
   },
   {
    "duration": 56,
    "start_time": "2024-03-27T11:33:25.299Z"
   },
   {
    "duration": 35,
    "start_time": "2024-03-27T11:33:25.357Z"
   },
   {
    "duration": 24,
    "start_time": "2024-03-27T11:33:25.393Z"
   },
   {
    "duration": 6,
    "start_time": "2024-03-27T11:33:25.419Z"
   },
   {
    "duration": 20,
    "start_time": "2024-03-27T11:33:25.426Z"
   },
   {
    "duration": 435,
    "start_time": "2024-03-27T11:33:25.448Z"
   },
   {
    "duration": 32,
    "start_time": "2024-03-27T11:33:25.886Z"
   },
   {
    "duration": 595,
    "start_time": "2024-03-27T11:33:25.922Z"
   },
   {
    "duration": 8,
    "start_time": "2024-03-27T11:33:26.519Z"
   },
   {
    "duration": 282,
    "start_time": "2024-03-27T11:33:26.528Z"
   },
   {
    "duration": 12,
    "start_time": "2024-03-27T11:33:26.812Z"
   },
   {
    "duration": 47,
    "start_time": "2024-03-27T11:33:26.826Z"
   },
   {
    "duration": 323,
    "start_time": "2024-03-27T11:33:26.875Z"
   },
   {
    "duration": 118,
    "start_time": "2024-03-27T11:36:41.468Z"
   },
   {
    "duration": 393,
    "start_time": "2024-03-27T11:37:05.431Z"
   },
   {
    "duration": 298,
    "start_time": "2024-03-27T11:37:24.682Z"
   },
   {
    "duration": 295,
    "start_time": "2024-03-27T11:38:05.733Z"
   },
   {
    "duration": 326,
    "start_time": "2024-03-27T11:38:50.358Z"
   },
   {
    "duration": 296,
    "start_time": "2024-03-27T11:39:10.764Z"
   },
   {
    "duration": 14,
    "start_time": "2024-03-27T11:40:53.616Z"
   },
   {
    "duration": 348,
    "start_time": "2024-03-27T11:41:22.036Z"
   },
   {
    "duration": 282,
    "start_time": "2024-03-27T11:41:46.774Z"
   },
   {
    "duration": 276,
    "start_time": "2024-03-27T11:45:36.812Z"
   },
   {
    "duration": 280,
    "start_time": "2024-03-27T11:45:50.994Z"
   },
   {
    "duration": 13,
    "start_time": "2024-03-27T11:49:48.278Z"
   },
   {
    "duration": 287,
    "start_time": "2024-03-27T11:50:30.192Z"
   },
   {
    "duration": 13,
    "start_time": "2024-03-27T11:50:50.454Z"
   },
   {
    "duration": 291,
    "start_time": "2024-03-27T11:51:36.076Z"
   },
   {
    "duration": 13,
    "start_time": "2024-03-27T11:52:32.120Z"
   },
   {
    "duration": 383,
    "start_time": "2024-03-27T11:54:48.808Z"
   },
   {
    "duration": 3284,
    "start_time": "2024-03-27T11:55:05.544Z"
   },
   {
    "duration": 22,
    "start_time": "2024-03-27T11:55:54.962Z"
   },
   {
    "duration": 295,
    "start_time": "2024-03-27T11:56:12.890Z"
   },
   {
    "duration": 279,
    "start_time": "2024-03-27T11:56:33.874Z"
   },
   {
    "duration": 287,
    "start_time": "2024-03-27T11:57:03.951Z"
   },
   {
    "duration": 23,
    "start_time": "2024-03-27T11:57:27.870Z"
   },
   {
    "duration": 295,
    "start_time": "2024-03-27T11:57:45.812Z"
   },
   {
    "duration": 379,
    "start_time": "2024-03-27T11:58:14.923Z"
   },
   {
    "duration": 411,
    "start_time": "2024-03-27T11:58:46.029Z"
   },
   {
    "duration": 389,
    "start_time": "2024-03-27T12:00:51.646Z"
   },
   {
    "duration": 401,
    "start_time": "2024-03-27T12:01:13.146Z"
   },
   {
    "duration": 465,
    "start_time": "2024-03-27T12:01:33.483Z"
   },
   {
    "duration": 387,
    "start_time": "2024-03-27T12:02:04.518Z"
   },
   {
    "duration": 338,
    "start_time": "2024-03-27T12:03:48.763Z"
   },
   {
    "duration": 50,
    "start_time": "2024-03-27T19:31:24.837Z"
   },
   {
    "duration": 1315,
    "start_time": "2024-03-27T19:31:31.341Z"
   },
   {
    "duration": 188,
    "start_time": "2024-03-27T19:31:32.658Z"
   },
   {
    "duration": 35,
    "start_time": "2024-03-27T19:31:32.848Z"
   },
   {
    "duration": 59,
    "start_time": "2024-03-27T19:31:32.885Z"
   },
   {
    "duration": 21,
    "start_time": "2024-03-27T19:31:32.947Z"
   },
   {
    "duration": 24,
    "start_time": "2024-03-27T19:31:32.970Z"
   },
   {
    "duration": 38,
    "start_time": "2024-03-27T19:31:32.995Z"
   },
   {
    "duration": 54,
    "start_time": "2024-03-27T19:31:33.035Z"
   },
   {
    "duration": 10,
    "start_time": "2024-03-27T19:31:33.090Z"
   },
   {
    "duration": 35,
    "start_time": "2024-03-27T19:31:33.102Z"
   },
   {
    "duration": 11,
    "start_time": "2024-03-27T19:31:33.139Z"
   },
   {
    "duration": 37,
    "start_time": "2024-03-27T19:31:33.152Z"
   },
   {
    "duration": 35,
    "start_time": "2024-03-27T19:31:33.190Z"
   },
   {
    "duration": 6,
    "start_time": "2024-03-27T19:31:33.227Z"
   },
   {
    "duration": 37,
    "start_time": "2024-03-27T19:31:33.234Z"
   },
   {
    "duration": 429,
    "start_time": "2024-03-27T19:31:33.273Z"
   },
   {
    "duration": 26,
    "start_time": "2024-03-27T19:31:33.704Z"
   },
   {
    "duration": 609,
    "start_time": "2024-03-27T19:31:33.731Z"
   },
   {
    "duration": 7,
    "start_time": "2024-03-27T19:31:34.342Z"
   },
   {
    "duration": 234,
    "start_time": "2024-03-27T19:31:34.350Z"
   },
   {
    "duration": 15,
    "start_time": "2024-03-27T19:31:34.586Z"
   },
   {
    "duration": 59,
    "start_time": "2024-03-27T19:31:34.603Z"
   },
   {
    "duration": 423,
    "start_time": "2024-03-27T19:31:34.664Z"
   },
   {
    "duration": 137,
    "start_time": "2024-03-27T19:52:59.374Z"
   },
   {
    "duration": 220,
    "start_time": "2024-03-27T19:57:35.017Z"
   },
   {
    "duration": 327,
    "start_time": "2024-03-27T19:59:32.237Z"
   },
   {
    "duration": 5,
    "start_time": "2024-03-27T20:15:34.114Z"
   },
   {
    "duration": 8,
    "start_time": "2024-03-27T20:15:51.897Z"
   },
   {
    "duration": 83,
    "start_time": "2024-03-27T20:16:59.206Z"
   },
   {
    "duration": 96,
    "start_time": "2024-03-27T20:17:56.480Z"
   },
   {
    "duration": 195,
    "start_time": "2024-03-27T20:18:24.818Z"
   },
   {
    "duration": 384,
    "start_time": "2024-03-27T20:18:54.439Z"
   },
   {
    "duration": 3,
    "start_time": "2024-03-27T20:21:10.170Z"
   },
   {
    "duration": 2,
    "start_time": "2024-03-27T20:21:37.029Z"
   },
   {
    "duration": 89,
    "start_time": "2024-03-27T20:31:55.818Z"
   },
   {
    "duration": 6,
    "start_time": "2024-03-27T20:34:57.954Z"
   },
   {
    "duration": 9,
    "start_time": "2024-03-27T20:35:31.133Z"
   },
   {
    "duration": 2,
    "start_time": "2024-03-27T20:38:14.856Z"
   },
   {
    "duration": 8,
    "start_time": "2024-03-27T20:38:33.080Z"
   },
   {
    "duration": 10,
    "start_time": "2024-03-27T20:41:38.028Z"
   },
   {
    "duration": 93,
    "start_time": "2024-03-27T20:44:07.172Z"
   },
   {
    "duration": 21,
    "start_time": "2024-03-27T20:44:14.618Z"
   },
   {
    "duration": 23,
    "start_time": "2024-03-27T20:45:15.754Z"
   },
   {
    "duration": 43,
    "start_time": "2024-03-27T20:46:30.552Z"
   },
   {
    "duration": 20,
    "start_time": "2024-03-27T20:47:03.595Z"
   },
   {
    "duration": 1082,
    "start_time": "2024-03-27T20:47:12.821Z"
   },
   {
    "duration": 53,
    "start_time": "2024-03-27T20:47:13.904Z"
   },
   {
    "duration": 32,
    "start_time": "2024-03-27T20:47:13.959Z"
   },
   {
    "duration": 8,
    "start_time": "2024-03-27T20:47:13.992Z"
   },
   {
    "duration": 14,
    "start_time": "2024-03-27T20:47:14.003Z"
   },
   {
    "duration": 21,
    "start_time": "2024-03-27T20:47:14.019Z"
   },
   {
    "duration": 9,
    "start_time": "2024-03-27T20:47:14.041Z"
   },
   {
    "duration": 44,
    "start_time": "2024-03-27T20:47:14.051Z"
   },
   {
    "duration": 9,
    "start_time": "2024-03-27T20:47:14.096Z"
   },
   {
    "duration": 31,
    "start_time": "2024-03-27T20:47:14.107Z"
   },
   {
    "duration": 16,
    "start_time": "2024-03-27T20:47:14.140Z"
   },
   {
    "duration": 39,
    "start_time": "2024-03-27T20:47:14.159Z"
   },
   {
    "duration": 17,
    "start_time": "2024-03-27T20:47:14.200Z"
   },
   {
    "duration": 6,
    "start_time": "2024-03-27T20:47:14.220Z"
   },
   {
    "duration": 7,
    "start_time": "2024-03-27T20:47:14.228Z"
   },
   {
    "duration": 395,
    "start_time": "2024-03-27T20:47:14.236Z"
   },
   {
    "duration": 25,
    "start_time": "2024-03-27T20:47:14.632Z"
   },
   {
    "duration": 573,
    "start_time": "2024-03-27T20:47:14.658Z"
   },
   {
    "duration": 8,
    "start_time": "2024-03-27T20:47:15.232Z"
   },
   {
    "duration": 292,
    "start_time": "2024-03-27T20:47:15.241Z"
   },
   {
    "duration": 12,
    "start_time": "2024-03-27T20:47:15.534Z"
   },
   {
    "duration": 52,
    "start_time": "2024-03-27T20:47:15.547Z"
   },
   {
    "duration": 395,
    "start_time": "2024-03-27T20:47:15.600Z"
   },
   {
    "duration": 337,
    "start_time": "2024-03-27T20:47:15.997Z"
   },
   {
    "duration": 293,
    "start_time": "2024-03-27T20:47:16.335Z"
   },
   {
    "duration": 9,
    "start_time": "2024-03-27T20:47:16.629Z"
   },
   {
    "duration": 76,
    "start_time": "2024-03-27T20:47:16.639Z"
   },
   {
    "duration": 13,
    "start_time": "2024-03-27T20:47:16.717Z"
   },
   {
    "duration": 8,
    "start_time": "2024-03-27T20:47:34.361Z"
   },
   {
    "duration": 22,
    "start_time": "2024-03-27T20:47:48.017Z"
   },
   {
    "duration": 22,
    "start_time": "2024-03-27T20:48:50.919Z"
   },
   {
    "duration": 39,
    "start_time": "2024-03-27T20:49:06.133Z"
   },
   {
    "duration": 11,
    "start_time": "2024-03-27T20:50:48.992Z"
   },
   {
    "duration": 10,
    "start_time": "2024-03-27T20:51:00.375Z"
   },
   {
    "duration": 10,
    "start_time": "2024-03-27T20:51:08.490Z"
   },
   {
    "duration": 10,
    "start_time": "2024-03-27T20:51:19.716Z"
   },
   {
    "duration": 9,
    "start_time": "2024-03-27T20:58:28.312Z"
   },
   {
    "duration": 9,
    "start_time": "2024-03-27T20:58:36.794Z"
   },
   {
    "duration": 14,
    "start_time": "2024-03-27T20:59:51.963Z"
   },
   {
    "duration": 10,
    "start_time": "2024-03-27T21:01:51.812Z"
   },
   {
    "duration": 11,
    "start_time": "2024-03-27T21:01:58.491Z"
   },
   {
    "duration": 10,
    "start_time": "2024-03-27T21:03:31.540Z"
   },
   {
    "duration": 41,
    "start_time": "2024-03-27T21:08:33.171Z"
   },
   {
    "duration": 10,
    "start_time": "2024-03-27T21:10:00.076Z"
   },
   {
    "duration": 103,
    "start_time": "2024-03-27T21:10:09.168Z"
   },
   {
    "duration": 9,
    "start_time": "2024-03-27T21:10:18.252Z"
   },
   {
    "duration": 10,
    "start_time": "2024-03-27T21:10:59.232Z"
   },
   {
    "duration": 1140,
    "start_time": "2024-03-28T14:31:58.200Z"
   },
   {
    "duration": 105,
    "start_time": "2024-03-28T14:32:00.825Z"
   },
   {
    "duration": 33,
    "start_time": "2024-03-28T14:32:02.662Z"
   },
   {
    "duration": 5,
    "start_time": "2024-03-28T14:32:08.236Z"
   },
   {
    "duration": 9,
    "start_time": "2024-03-28T14:32:12.375Z"
   },
   {
    "duration": 19,
    "start_time": "2024-03-28T14:32:14.060Z"
   },
   {
    "duration": 3,
    "start_time": "2024-03-28T14:34:04.863Z"
   },
   {
    "duration": 4,
    "start_time": "2024-03-28T14:34:25.434Z"
   },
   {
    "duration": 4,
    "start_time": "2024-03-28T14:36:53.213Z"
   },
   {
    "duration": 7,
    "start_time": "2024-03-28T14:36:54.468Z"
   },
   {
    "duration": 5,
    "start_time": "2024-03-28T14:36:56.201Z"
   },
   {
    "duration": 9,
    "start_time": "2024-03-28T14:36:59.851Z"
   },
   {
    "duration": 20,
    "start_time": "2024-03-28T14:37:03.034Z"
   },
   {
    "duration": 11,
    "start_time": "2024-03-28T14:37:10.723Z"
   },
   {
    "duration": 19,
    "start_time": "2024-03-28T14:37:22.018Z"
   },
   {
    "duration": 12,
    "start_time": "2024-03-28T14:37:25.709Z"
   },
   {
    "duration": 16,
    "start_time": "2024-03-28T14:37:29.024Z"
   },
   {
    "duration": 5,
    "start_time": "2024-03-28T14:39:03.016Z"
   },
   {
    "duration": 88,
    "start_time": "2024-03-28T14:48:16.643Z"
   },
   {
    "duration": 5,
    "start_time": "2024-03-28T14:49:16.821Z"
   },
   {
    "duration": 8,
    "start_time": "2024-03-28T14:49:20.830Z"
   },
   {
    "duration": 5,
    "start_time": "2024-03-28T14:49:22.247Z"
   },
   {
    "duration": 10,
    "start_time": "2024-03-28T14:49:25.517Z"
   },
   {
    "duration": 20,
    "start_time": "2024-03-28T14:49:28.969Z"
   },
   {
    "duration": 10,
    "start_time": "2024-03-28T14:49:33.796Z"
   },
   {
    "duration": 18,
    "start_time": "2024-03-28T14:49:39.316Z"
   },
   {
    "duration": 11,
    "start_time": "2024-03-28T14:49:42.688Z"
   },
   {
    "duration": 6,
    "start_time": "2024-03-28T14:49:45.676Z"
   },
   {
    "duration": 17,
    "start_time": "2024-03-28T14:49:51.961Z"
   },
   {
    "duration": 6,
    "start_time": "2024-03-28T14:49:57.012Z"
   },
   {
    "duration": 7,
    "start_time": "2024-03-28T14:50:09.843Z"
   },
   {
    "duration": 339,
    "start_time": "2024-03-28T14:50:38.391Z"
   },
   {
    "duration": 24,
    "start_time": "2024-03-28T14:50:55.372Z"
   },
   {
    "duration": 532,
    "start_time": "2024-03-28T14:51:46.126Z"
   },
   {
    "duration": 7,
    "start_time": "2024-03-28T14:52:20.475Z"
   },
   {
    "duration": 204,
    "start_time": "2024-03-28T14:52:24.017Z"
   },
   {
    "duration": 8,
    "start_time": "2024-03-28T14:53:14.354Z"
   },
   {
    "duration": 211,
    "start_time": "2024-03-28T14:53:16.295Z"
   },
   {
    "duration": 11,
    "start_time": "2024-03-28T14:53:21.114Z"
   },
   {
    "duration": 15,
    "start_time": "2024-03-28T14:53:48.098Z"
   },
   {
    "duration": 377,
    "start_time": "2024-03-28T15:07:21.568Z"
   },
   {
    "duration": 305,
    "start_time": "2024-03-28T15:12:00.828Z"
   },
   {
    "duration": 271,
    "start_time": "2024-03-28T15:12:31.749Z"
   },
   {
    "duration": 1072,
    "start_time": "2024-03-28T16:00:24.575Z"
   },
   {
    "duration": 53,
    "start_time": "2024-03-28T16:00:25.649Z"
   },
   {
    "duration": 33,
    "start_time": "2024-03-28T16:00:25.703Z"
   },
   {
    "duration": 4,
    "start_time": "2024-03-28T16:00:25.737Z"
   },
   {
    "duration": 8,
    "start_time": "2024-03-28T16:00:25.743Z"
   },
   {
    "duration": 5,
    "start_time": "2024-03-28T16:00:25.752Z"
   },
   {
    "duration": 28,
    "start_time": "2024-03-28T16:00:25.758Z"
   },
   {
    "duration": 19,
    "start_time": "2024-03-28T16:00:25.788Z"
   },
   {
    "duration": 9,
    "start_time": "2024-03-28T16:00:25.809Z"
   },
   {
    "duration": 29,
    "start_time": "2024-03-28T16:00:25.819Z"
   },
   {
    "duration": 11,
    "start_time": "2024-03-28T16:00:25.850Z"
   },
   {
    "duration": 5,
    "start_time": "2024-03-28T16:00:25.863Z"
   },
   {
    "duration": 19,
    "start_time": "2024-03-28T16:00:25.870Z"
   },
   {
    "duration": 6,
    "start_time": "2024-03-28T16:00:25.891Z"
   },
   {
    "duration": 7,
    "start_time": "2024-03-28T16:00:25.898Z"
   },
   {
    "duration": 376,
    "start_time": "2024-03-28T16:00:25.906Z"
   },
   {
    "duration": 24,
    "start_time": "2024-03-28T16:00:26.284Z"
   },
   {
    "duration": 563,
    "start_time": "2024-03-28T16:00:26.310Z"
   },
   {
    "duration": 7,
    "start_time": "2024-03-28T16:00:26.875Z"
   },
   {
    "duration": 232,
    "start_time": "2024-03-28T16:00:26.883Z"
   },
   {
    "duration": 12,
    "start_time": "2024-03-28T16:00:27.116Z"
   },
   {
    "duration": 42,
    "start_time": "2024-03-28T16:00:27.129Z"
   },
   {
    "duration": 399,
    "start_time": "2024-03-28T16:00:27.172Z"
   },
   {
    "duration": 338,
    "start_time": "2024-03-28T16:00:27.573Z"
   },
   {
    "duration": 287,
    "start_time": "2024-03-28T16:00:27.912Z"
   },
   {
    "duration": 8,
    "start_time": "2024-03-28T16:00:28.200Z"
   },
   {
    "duration": 35,
    "start_time": "2024-03-28T16:00:28.210Z"
   },
   {
    "duration": 29,
    "start_time": "2024-03-28T16:00:28.247Z"
   },
   {
    "duration": 42,
    "start_time": "2024-03-28T16:00:28.278Z"
   },
   {
    "duration": 93,
    "start_time": "2024-03-29T11:07:52.563Z"
   },
   {
    "duration": 97,
    "start_time": "2024-03-29T11:09:20.980Z"
   },
   {
    "duration": 1200,
    "start_time": "2024-03-31T08:23:59.262Z"
   },
   {
    "duration": 102,
    "start_time": "2024-03-31T08:24:00.463Z"
   },
   {
    "duration": 31,
    "start_time": "2024-03-31T08:24:00.567Z"
   },
   {
    "duration": 105,
    "start_time": "2024-03-31T08:24:00.599Z"
   },
   {
    "duration": 82,
    "start_time": "2024-03-31T08:24:00.707Z"
   },
   {
    "duration": 75,
    "start_time": "2024-03-31T08:24:00.790Z"
   },
   {
    "duration": 91,
    "start_time": "2024-03-31T08:24:00.866Z"
   },
   {
    "duration": 56,
    "start_time": "2024-03-31T08:24:00.959Z"
   },
   {
    "duration": 44,
    "start_time": "2024-03-31T08:24:01.016Z"
   },
   {
    "duration": 40,
    "start_time": "2024-03-31T08:24:01.062Z"
   },
   {
    "duration": 45,
    "start_time": "2024-03-31T08:24:01.103Z"
   },
   {
    "duration": 41,
    "start_time": "2024-03-31T08:24:01.149Z"
   },
   {
    "duration": 546,
    "start_time": "2024-03-31T08:24:01.191Z"
   },
   {
    "duration": 0,
    "start_time": "2024-03-31T08:24:01.739Z"
   },
   {
    "duration": 0,
    "start_time": "2024-03-31T08:24:01.740Z"
   },
   {
    "duration": 0,
    "start_time": "2024-03-31T08:24:01.741Z"
   },
   {
    "duration": 0,
    "start_time": "2024-03-31T08:24:01.742Z"
   },
   {
    "duration": 0,
    "start_time": "2024-03-31T08:24:01.743Z"
   },
   {
    "duration": 0,
    "start_time": "2024-03-31T08:24:01.744Z"
   },
   {
    "duration": 0,
    "start_time": "2024-03-31T08:24:01.745Z"
   },
   {
    "duration": 0,
    "start_time": "2024-03-31T08:24:01.746Z"
   },
   {
    "duration": 0,
    "start_time": "2024-03-31T08:24:01.746Z"
   },
   {
    "duration": 0,
    "start_time": "2024-03-31T08:24:01.747Z"
   },
   {
    "duration": 0,
    "start_time": "2024-03-31T08:24:01.748Z"
   },
   {
    "duration": 0,
    "start_time": "2024-03-31T08:24:01.749Z"
   },
   {
    "duration": 0,
    "start_time": "2024-03-31T08:24:01.749Z"
   },
   {
    "duration": 0,
    "start_time": "2024-03-31T08:24:01.750Z"
   },
   {
    "duration": 0,
    "start_time": "2024-03-31T08:24:01.751Z"
   },
   {
    "duration": 0,
    "start_time": "2024-03-31T08:24:01.752Z"
   },
   {
    "duration": 451,
    "start_time": "2024-03-31T08:27:17.396Z"
   },
   {
    "duration": 15,
    "start_time": "2024-03-31T08:29:43.774Z"
   },
   {
    "duration": 16,
    "start_time": "2024-03-31T08:30:02.954Z"
   },
   {
    "duration": 5,
    "start_time": "2024-03-31T08:35:12.325Z"
   },
   {
    "duration": 116,
    "start_time": "2024-03-31T08:36:51.441Z"
   },
   {
    "duration": 167,
    "start_time": "2024-03-31T08:37:17.323Z"
   },
   {
    "duration": 177,
    "start_time": "2024-03-31T08:38:04.501Z"
   },
   {
    "duration": 7,
    "start_time": "2024-03-31T08:38:21.400Z"
   },
   {
    "duration": 170,
    "start_time": "2024-03-31T08:38:57.732Z"
   },
   {
    "duration": 176,
    "start_time": "2024-03-31T08:40:26.806Z"
   },
   {
    "duration": 6,
    "start_time": "2024-03-31T08:40:32.406Z"
   },
   {
    "duration": 296,
    "start_time": "2024-03-31T08:40:36.520Z"
   },
   {
    "duration": 24,
    "start_time": "2024-03-31T08:40:42.388Z"
   },
   {
    "duration": 475,
    "start_time": "2024-03-31T08:40:53.505Z"
   },
   {
    "duration": 7,
    "start_time": "2024-03-31T08:41:09.415Z"
   },
   {
    "duration": 248,
    "start_time": "2024-03-31T08:41:11.695Z"
   },
   {
    "duration": 181,
    "start_time": "2024-03-31T08:41:26.404Z"
   },
   {
    "duration": 10,
    "start_time": "2024-03-31T08:41:38.734Z"
   },
   {
    "duration": 11,
    "start_time": "2024-03-31T08:41:58.333Z"
   },
   {
    "duration": 263,
    "start_time": "2024-03-31T08:42:20.770Z"
   },
   {
    "duration": 276,
    "start_time": "2024-03-31T08:42:27.387Z"
   },
   {
    "duration": 239,
    "start_time": "2024-03-31T08:42:35.222Z"
   },
   {
    "duration": 7,
    "start_time": "2024-03-31T08:42:48.749Z"
   },
   {
    "duration": 8,
    "start_time": "2024-03-31T08:42:51.834Z"
   },
   {
    "duration": 7,
    "start_time": "2024-03-31T08:42:57.421Z"
   },
   {
    "duration": 9,
    "start_time": "2024-03-31T08:43:00.789Z"
   },
   {
    "duration": 9,
    "start_time": "2024-03-31T08:56:49.398Z"
   },
   {
    "duration": 1459,
    "start_time": "2024-04-01T05:05:17.787Z"
   },
   {
    "duration": 114,
    "start_time": "2024-04-01T05:05:19.249Z"
   },
   {
    "duration": 40,
    "start_time": "2024-04-01T05:05:19.365Z"
   },
   {
    "duration": 6,
    "start_time": "2024-04-01T05:05:19.407Z"
   },
   {
    "duration": 10,
    "start_time": "2024-04-01T05:05:19.414Z"
   },
   {
    "duration": 6,
    "start_time": "2024-04-01T05:05:19.426Z"
   },
   {
    "duration": 17,
    "start_time": "2024-04-01T05:05:19.434Z"
   },
   {
    "duration": 26,
    "start_time": "2024-04-01T05:05:19.483Z"
   },
   {
    "duration": 10,
    "start_time": "2024-04-01T05:05:19.511Z"
   },
   {
    "duration": 22,
    "start_time": "2024-04-01T05:05:19.523Z"
   },
   {
    "duration": 47,
    "start_time": "2024-04-01T05:05:19.546Z"
   },
   {
    "duration": 9,
    "start_time": "2024-04-01T05:05:19.594Z"
   },
   {
    "duration": 25,
    "start_time": "2024-04-01T05:05:55.484Z"
   },
   {
    "duration": 1116,
    "start_time": "2024-04-01T05:06:01.332Z"
   },
   {
    "duration": 980,
    "start_time": "2024-04-01T05:06:19.917Z"
   },
   {
    "duration": 61,
    "start_time": "2024-04-01T05:06:29.780Z"
   },
   {
    "duration": 22,
    "start_time": "2024-04-01T05:06:33.372Z"
   }
  ],
  "kernelspec": {
   "display_name": "Python 3 (ipykernel)",
   "language": "python",
   "name": "python3"
  },
  "language_info": {
   "codemirror_mode": {
    "name": "ipython",
    "version": 3
   },
   "file_extension": ".py",
   "mimetype": "text/x-python",
   "name": "python",
   "nbconvert_exporter": "python",
   "pygments_lexer": "ipython3",
   "version": "3.11.5"
  },
  "toc": {
   "base_numbering": 1,
   "nav_menu": {},
   "number_sections": true,
   "sideBar": true,
   "skip_h1_title": true,
   "title_cell": "Table of Contents",
   "title_sidebar": "Contents",
   "toc_cell": false,
   "toc_position": {},
   "toc_section_display": true,
   "toc_window_display": false
  }
 },
 "nbformat": 4,
 "nbformat_minor": 2
}
