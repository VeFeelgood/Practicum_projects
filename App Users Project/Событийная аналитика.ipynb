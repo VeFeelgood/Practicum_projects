{
 "cells": [
  {
   "cell_type": "markdown",
   "metadata": {},
   "source": [
    "# Сборный проект 2 Событийная аналитика"
   ]
  },
  {
   "cell_type": "markdown",
   "metadata": {},
   "source": [
    "Для стартапа, продающего продукты питания, мне в качестве аналитика предстоит провести анализ событий, входящих в воронку продаж, для определения конверсии пользователей в последующие шаги и установления событий с наибольшим оттоком пользователей. Второй большой частью проекта будет проведение А/А/В тестирования между двумя контрольными и одной тестовой группой и оценка его результатов для проверки гипотезы эффективности внесения изменений в шрифт.\n",
    "При выполнении проекта я планирую произвести следующие шаги:\n",
    "\n",
    "    1. Ознакомиться с данными, их объемом и форматом.\n",
    "    2. Провести предобработку данных, проверив их на пропуски и соответствие необходимым для анализа типам. При наличии обработать пропуски и привести данные к нужному формату, а также переименовать столбцы.\n",
    "    3. На этапе исследовательского анализа данных выполнить следующие действия:\n",
    "        - изучить имеющиеся в данных события, посчитать среднее количество событий на пользователя;\n",
    "        - проанализировать временные рамки имеющихся данных, с помощью графика визуализации определить их полноту и по необходимости убрать неполные, определив истинный период проведения теста;\n",
    "        - в случае удаления неполных данных оценить их долю в общем массиве для исключения значительного влияния на результаты тестирования.\n",
    "    4. Изучить событийную воронку: определить последовательность событий воронки продаж, по необходимости убрав из анализа опциональные события, посчитать долю пользователей на каждом из шагов, а также выявить потери.\n",
    "    5. Провести А/А/В тестирование, для начала оценив репрезентативность выборок на основе сравнения двух контрольных групп для выявления статистической значимости различий. Сравнить результаты тестовой группы с контрольными, при необходимости скорректировав уровень статистической значимости для проведения множественного анализа во избежание некорректного отвержения нулевой гипотезы, сделать необходимые выводы о возможной эффективности внесенных изменений."
   ]
  },
  {
   "cell_type": "markdown",
   "metadata": {},
   "source": [
    "## Первое знакомство с данными"
   ]
  },
  {
   "cell_type": "code",
   "execution_count": 1,
   "metadata": {},
   "outputs": [],
   "source": [
    "import pandas as pd\n",
    "import matplotlib.pyplot as plt\n",
    "import numpy as np\n",
    "import scipy.stats as st\n",
    "import datetime as dt\n",
    "import math as mth"
   ]
  },
  {
   "cell_type": "code",
   "execution_count": 2,
   "metadata": {
    "scrolled": false
   },
   "outputs": [
    {
     "data": {
      "text/html": [
       "<div>\n",
       "<style scoped>\n",
       "    .dataframe tbody tr th:only-of-type {\n",
       "        vertical-align: middle;\n",
       "    }\n",
       "\n",
       "    .dataframe tbody tr th {\n",
       "        vertical-align: top;\n",
       "    }\n",
       "\n",
       "    .dataframe thead th {\n",
       "        text-align: right;\n",
       "    }\n",
       "</style>\n",
       "<table border=\"1\" class=\"dataframe\">\n",
       "  <thead>\n",
       "    <tr style=\"text-align: right;\">\n",
       "      <th></th>\n",
       "      <th>EventName</th>\n",
       "      <th>DeviceIDHash</th>\n",
       "      <th>EventTimestamp</th>\n",
       "      <th>ExpId</th>\n",
       "    </tr>\n",
       "  </thead>\n",
       "  <tbody>\n",
       "    <tr>\n",
       "      <th>0</th>\n",
       "      <td>MainScreenAppear</td>\n",
       "      <td>4575588528974610257</td>\n",
       "      <td>1564029816</td>\n",
       "      <td>246</td>\n",
       "    </tr>\n",
       "    <tr>\n",
       "      <th>1</th>\n",
       "      <td>MainScreenAppear</td>\n",
       "      <td>7416695313311560658</td>\n",
       "      <td>1564053102</td>\n",
       "      <td>246</td>\n",
       "    </tr>\n",
       "    <tr>\n",
       "      <th>2</th>\n",
       "      <td>PaymentScreenSuccessful</td>\n",
       "      <td>3518123091307005509</td>\n",
       "      <td>1564054127</td>\n",
       "      <td>248</td>\n",
       "    </tr>\n",
       "    <tr>\n",
       "      <th>3</th>\n",
       "      <td>CartScreenAppear</td>\n",
       "      <td>3518123091307005509</td>\n",
       "      <td>1564054127</td>\n",
       "      <td>248</td>\n",
       "    </tr>\n",
       "    <tr>\n",
       "      <th>4</th>\n",
       "      <td>PaymentScreenSuccessful</td>\n",
       "      <td>6217807653094995999</td>\n",
       "      <td>1564055322</td>\n",
       "      <td>248</td>\n",
       "    </tr>\n",
       "  </tbody>\n",
       "</table>\n",
       "</div>"
      ],
      "text/plain": [
       "                 EventName         DeviceIDHash  EventTimestamp  ExpId\n",
       "0         MainScreenAppear  4575588528974610257      1564029816    246\n",
       "1         MainScreenAppear  7416695313311560658      1564053102    246\n",
       "2  PaymentScreenSuccessful  3518123091307005509      1564054127    248\n",
       "3         CartScreenAppear  3518123091307005509      1564054127    248\n",
       "4  PaymentScreenSuccessful  6217807653094995999      1564055322    248"
      ]
     },
     "metadata": {},
     "output_type": "display_data"
    },
    {
     "name": "stdout",
     "output_type": "stream",
     "text": [
      "<class 'pandas.core.frame.DataFrame'>\n",
      "RangeIndex: 244126 entries, 0 to 244125\n",
      "Data columns (total 4 columns):\n",
      " #   Column          Non-Null Count   Dtype \n",
      "---  ------          --------------   ----- \n",
      " 0   EventName       244126 non-null  object\n",
      " 1   DeviceIDHash    244126 non-null  int64 \n",
      " 2   EventTimestamp  244126 non-null  int64 \n",
      " 3   ExpId           244126 non-null  int64 \n",
      "dtypes: int64(3), object(1)\n",
      "memory usage: 7.5+ MB\n"
     ]
    },
    {
     "data": {
      "text/plain": [
       "None"
      ]
     },
     "metadata": {},
     "output_type": "display_data"
    }
   ],
   "source": [
    "sessions = pd.read_csv('/datasets/logs_exp.csv', sep = '\\t')\n",
    "display(sessions.head(5))\n",
    "display(sessions.info())\n",
    "sessions_shape = sessions.shape[0]"
   ]
  },
  {
   "cell_type": "markdown",
   "metadata": {},
   "source": [
    "Исходя из информации о датасете, в нашем распоряжении информация о более 240 тысячах событий, совершенных пользователями интернет-магазина. Для каждого события, кроме его названия, есть данные об идентификаторе пользователя, идентификаторе группы эксперимента, в которую попал пользователь, а также время совершения данного события.\n",
    "Обращают на себя внимание не очень понятные названия столбцов, которые не отражают содержащиеся в них данные, а также тип данных в столбце с датой - целочисленный, то есть даты выражены целыми числами, не читабельны, их необходимо преобразовать в пригодный для анализа формат. В отдельную переменную сохранила первоначальное количество строк в датасете для расчета в дальнейшем доли оставшихся после отбрасывания ненужных данных."
   ]
  },
  {
   "cell_type": "markdown",
   "metadata": {},
   "source": [
    "## Предобработка данных"
   ]
  },
  {
   "cell_type": "code",
   "execution_count": 3,
   "metadata": {
    "scrolled": true
   },
   "outputs": [
    {
     "data": {
      "text/plain": [
       "Index(['event_name', 'user_id', 'event_dt', 'group_id'], dtype='object')"
      ]
     },
     "metadata": {},
     "output_type": "display_data"
    }
   ],
   "source": [
    "#переименование столбцов\n",
    "sessions.rename(columns={'EventName' : 'event_name', 'DeviceIDHash' : 'user_id', 'EventTimestamp' : 'event_dt', 'ExpId' : 'group_id'}, inplace = True)\n",
    "display(sessions.columns)"
   ]
  },
  {
   "cell_type": "code",
   "execution_count": 4,
   "metadata": {
    "scrolled": true
   },
   "outputs": [
    {
     "data": {
      "text/plain": [
       "event_name    0\n",
       "user_id       0\n",
       "event_dt      0\n",
       "group_id      0\n",
       "dtype: int64"
      ]
     },
     "metadata": {},
     "output_type": "display_data"
    }
   ],
   "source": [
    "#проверка пропусков и типов данных\n",
    "display(sessions.isna().sum())"
   ]
  },
  {
   "cell_type": "code",
   "execution_count": 5,
   "metadata": {},
   "outputs": [
    {
     "data": {
      "text/plain": [
       "event_name    object\n",
       "user_id        int64\n",
       "event_dt       int64\n",
       "group_id       int64\n",
       "dtype: object"
      ]
     },
     "metadata": {},
     "output_type": "display_data"
    }
   ],
   "source": [
    "display(sessions.dtypes)"
   ]
  },
  {
   "cell_type": "code",
   "execution_count": 6,
   "metadata": {},
   "outputs": [
    {
     "data": {
      "text/plain": [
       "dtype('<M8[ns]')"
      ]
     },
     "metadata": {},
     "output_type": "display_data"
    }
   ],
   "source": [
    "#изменение типа данных в столбце с датой\n",
    "sessions['event_dt'] = pd.to_datetime(sessions['event_dt'], unit=\"s\")\n",
    "display(sessions['event_dt'].dtypes)"
   ]
  },
  {
   "cell_type": "code",
   "execution_count": 7,
   "metadata": {},
   "outputs": [
    {
     "data": {
      "text/html": [
       "<div>\n",
       "<style scoped>\n",
       "    .dataframe tbody tr th:only-of-type {\n",
       "        vertical-align: middle;\n",
       "    }\n",
       "\n",
       "    .dataframe tbody tr th {\n",
       "        vertical-align: top;\n",
       "    }\n",
       "\n",
       "    .dataframe thead th {\n",
       "        text-align: right;\n",
       "    }\n",
       "</style>\n",
       "<table border=\"1\" class=\"dataframe\">\n",
       "  <thead>\n",
       "    <tr style=\"text-align: right;\">\n",
       "      <th></th>\n",
       "      <th>event_name</th>\n",
       "      <th>user_id</th>\n",
       "      <th>event_dt</th>\n",
       "      <th>group_id</th>\n",
       "      <th>event_date</th>\n",
       "    </tr>\n",
       "  </thead>\n",
       "  <tbody>\n",
       "    <tr>\n",
       "      <th>0</th>\n",
       "      <td>MainScreenAppear</td>\n",
       "      <td>4575588528974610257</td>\n",
       "      <td>2019-07-25 04:43:36</td>\n",
       "      <td>246</td>\n",
       "      <td>2019-07-25</td>\n",
       "    </tr>\n",
       "    <tr>\n",
       "      <th>1</th>\n",
       "      <td>MainScreenAppear</td>\n",
       "      <td>7416695313311560658</td>\n",
       "      <td>2019-07-25 11:11:42</td>\n",
       "      <td>246</td>\n",
       "      <td>2019-07-25</td>\n",
       "    </tr>\n",
       "    <tr>\n",
       "      <th>2</th>\n",
       "      <td>PaymentScreenSuccessful</td>\n",
       "      <td>3518123091307005509</td>\n",
       "      <td>2019-07-25 11:28:47</td>\n",
       "      <td>248</td>\n",
       "      <td>2019-07-25</td>\n",
       "    </tr>\n",
       "    <tr>\n",
       "      <th>3</th>\n",
       "      <td>CartScreenAppear</td>\n",
       "      <td>3518123091307005509</td>\n",
       "      <td>2019-07-25 11:28:47</td>\n",
       "      <td>248</td>\n",
       "      <td>2019-07-25</td>\n",
       "    </tr>\n",
       "    <tr>\n",
       "      <th>4</th>\n",
       "      <td>PaymentScreenSuccessful</td>\n",
       "      <td>6217807653094995999</td>\n",
       "      <td>2019-07-25 11:48:42</td>\n",
       "      <td>248</td>\n",
       "      <td>2019-07-25</td>\n",
       "    </tr>\n",
       "  </tbody>\n",
       "</table>\n",
       "</div>"
      ],
      "text/plain": [
       "                event_name              user_id            event_dt  group_id  \\\n",
       "0         MainScreenAppear  4575588528974610257 2019-07-25 04:43:36       246   \n",
       "1         MainScreenAppear  7416695313311560658 2019-07-25 11:11:42       246   \n",
       "2  PaymentScreenSuccessful  3518123091307005509 2019-07-25 11:28:47       248   \n",
       "3         CartScreenAppear  3518123091307005509 2019-07-25 11:28:47       248   \n",
       "4  PaymentScreenSuccessful  6217807653094995999 2019-07-25 11:48:42       248   \n",
       "\n",
       "   event_date  \n",
       "0  2019-07-25  \n",
       "1  2019-07-25  \n",
       "2  2019-07-25  \n",
       "3  2019-07-25  \n",
       "4  2019-07-25  "
      ]
     },
     "metadata": {},
     "output_type": "display_data"
    }
   ],
   "source": [
    "#добавление столбца с датой\n",
    "sessions['event_date'] = sessions['event_dt'].dt.date\n",
    "display(sessions.head(5))"
   ]
  },
  {
   "cell_type": "code",
   "execution_count": 8,
   "metadata": {
    "scrolled": true
   },
   "outputs": [
    {
     "data": {
      "text/html": [
       "<div>\n",
       "<style scoped>\n",
       "    .dataframe tbody tr th:only-of-type {\n",
       "        vertical-align: middle;\n",
       "    }\n",
       "\n",
       "    .dataframe tbody tr th {\n",
       "        vertical-align: top;\n",
       "    }\n",
       "\n",
       "    .dataframe thead th {\n",
       "        text-align: right;\n",
       "    }\n",
       "</style>\n",
       "<table border=\"1\" class=\"dataframe\">\n",
       "  <thead>\n",
       "    <tr style=\"text-align: right;\">\n",
       "      <th></th>\n",
       "      <th>event_name</th>\n",
       "      <th>user_id</th>\n",
       "      <th>event_dt</th>\n",
       "      <th>group_id</th>\n",
       "      <th>event_date</th>\n",
       "    </tr>\n",
       "  </thead>\n",
       "  <tbody>\n",
       "    <tr>\n",
       "      <th>453</th>\n",
       "      <td>MainScreenAppear</td>\n",
       "      <td>5613408041324010552</td>\n",
       "      <td>2019-07-30 08:19:44</td>\n",
       "      <td>248</td>\n",
       "      <td>2019-07-30</td>\n",
       "    </tr>\n",
       "    <tr>\n",
       "      <th>2350</th>\n",
       "      <td>CartScreenAppear</td>\n",
       "      <td>1694940645335807244</td>\n",
       "      <td>2019-07-31 21:51:39</td>\n",
       "      <td>248</td>\n",
       "      <td>2019-07-31</td>\n",
       "    </tr>\n",
       "    <tr>\n",
       "      <th>3573</th>\n",
       "      <td>MainScreenAppear</td>\n",
       "      <td>434103746454591587</td>\n",
       "      <td>2019-08-01 02:59:37</td>\n",
       "      <td>248</td>\n",
       "      <td>2019-08-01</td>\n",
       "    </tr>\n",
       "    <tr>\n",
       "      <th>4076</th>\n",
       "      <td>MainScreenAppear</td>\n",
       "      <td>3761373764179762633</td>\n",
       "      <td>2019-08-01 03:47:46</td>\n",
       "      <td>247</td>\n",
       "      <td>2019-08-01</td>\n",
       "    </tr>\n",
       "    <tr>\n",
       "      <th>4803</th>\n",
       "      <td>MainScreenAppear</td>\n",
       "      <td>2835328739789306622</td>\n",
       "      <td>2019-08-01 04:44:01</td>\n",
       "      <td>248</td>\n",
       "      <td>2019-08-01</td>\n",
       "    </tr>\n",
       "    <tr>\n",
       "      <th>...</th>\n",
       "      <td>...</td>\n",
       "      <td>...</td>\n",
       "      <td>...</td>\n",
       "      <td>...</td>\n",
       "      <td>...</td>\n",
       "    </tr>\n",
       "    <tr>\n",
       "      <th>242329</th>\n",
       "      <td>MainScreenAppear</td>\n",
       "      <td>8870358373313968633</td>\n",
       "      <td>2019-08-07 19:26:44</td>\n",
       "      <td>247</td>\n",
       "      <td>2019-08-07</td>\n",
       "    </tr>\n",
       "    <tr>\n",
       "      <th>242332</th>\n",
       "      <td>PaymentScreenSuccessful</td>\n",
       "      <td>4718002964983105693</td>\n",
       "      <td>2019-08-07 19:26:45</td>\n",
       "      <td>247</td>\n",
       "      <td>2019-08-07</td>\n",
       "    </tr>\n",
       "    <tr>\n",
       "      <th>242360</th>\n",
       "      <td>PaymentScreenSuccessful</td>\n",
       "      <td>2382591782303281935</td>\n",
       "      <td>2019-08-07 19:27:29</td>\n",
       "      <td>246</td>\n",
       "      <td>2019-08-07</td>\n",
       "    </tr>\n",
       "    <tr>\n",
       "      <th>242362</th>\n",
       "      <td>CartScreenAppear</td>\n",
       "      <td>2382591782303281935</td>\n",
       "      <td>2019-08-07 19:27:29</td>\n",
       "      <td>246</td>\n",
       "      <td>2019-08-07</td>\n",
       "    </tr>\n",
       "    <tr>\n",
       "      <th>242635</th>\n",
       "      <td>MainScreenAppear</td>\n",
       "      <td>4097782667445790512</td>\n",
       "      <td>2019-08-07 19:36:58</td>\n",
       "      <td>246</td>\n",
       "      <td>2019-08-07</td>\n",
       "    </tr>\n",
       "  </tbody>\n",
       "</table>\n",
       "<p>413 rows × 5 columns</p>\n",
       "</div>"
      ],
      "text/plain": [
       "                     event_name              user_id            event_dt  \\\n",
       "453            MainScreenAppear  5613408041324010552 2019-07-30 08:19:44   \n",
       "2350           CartScreenAppear  1694940645335807244 2019-07-31 21:51:39   \n",
       "3573           MainScreenAppear   434103746454591587 2019-08-01 02:59:37   \n",
       "4076           MainScreenAppear  3761373764179762633 2019-08-01 03:47:46   \n",
       "4803           MainScreenAppear  2835328739789306622 2019-08-01 04:44:01   \n",
       "...                         ...                  ...                 ...   \n",
       "242329         MainScreenAppear  8870358373313968633 2019-08-07 19:26:44   \n",
       "242332  PaymentScreenSuccessful  4718002964983105693 2019-08-07 19:26:45   \n",
       "242360  PaymentScreenSuccessful  2382591782303281935 2019-08-07 19:27:29   \n",
       "242362         CartScreenAppear  2382591782303281935 2019-08-07 19:27:29   \n",
       "242635         MainScreenAppear  4097782667445790512 2019-08-07 19:36:58   \n",
       "\n",
       "        group_id  event_date  \n",
       "453          248  2019-07-30  \n",
       "2350         248  2019-07-31  \n",
       "3573         248  2019-08-01  \n",
       "4076         247  2019-08-01  \n",
       "4803         248  2019-08-01  \n",
       "...          ...         ...  \n",
       "242329       247  2019-08-07  \n",
       "242332       247  2019-08-07  \n",
       "242360       246  2019-08-07  \n",
       "242362       246  2019-08-07  \n",
       "242635       246  2019-08-07  \n",
       "\n",
       "[413 rows x 5 columns]"
      ]
     },
     "metadata": {},
     "output_type": "display_data"
    }
   ],
   "source": [
    "display(sessions[sessions.duplicated()])"
   ]
  },
  {
   "cell_type": "code",
   "execution_count": 9,
   "metadata": {},
   "outputs": [
    {
     "data": {
      "text/plain": [
       "0"
      ]
     },
     "metadata": {},
     "output_type": "display_data"
    }
   ],
   "source": [
    "sessions = sessions.drop_duplicates()\n",
    "display(sessions.duplicated().sum())"
   ]
  },
  {
   "cell_type": "code",
   "execution_count": 10,
   "metadata": {},
   "outputs": [
    {
     "data": {
      "text/plain": [
       "99.83082506574475"
      ]
     },
     "execution_count": 10,
     "metadata": {},
     "output_type": "execute_result"
    }
   ],
   "source": [
    "updated_data_share = sessions.shape[0] / sessions_shape * 100\n",
    "updated_data_share"
   ]
  },
  {
   "cell_type": "markdown",
   "metadata": {},
   "source": [
    "В датасете 413 строк, являющихся полными дубликатами. Приняла решение их удалить как лишние для анализа, так как после их удаления остается больше 99% данных."
   ]
  },
  {
   "cell_type": "markdown",
   "metadata": {},
   "source": [
    "## Исследовательский анализ данных"
   ]
  },
  {
   "cell_type": "code",
   "execution_count": 11,
   "metadata": {},
   "outputs": [
    {
     "data": {
      "text/plain": [
       "243713"
      ]
     },
     "metadata": {},
     "output_type": "display_data"
    },
    {
     "data": {
      "text/plain": [
       "5"
      ]
     },
     "metadata": {},
     "output_type": "display_data"
    }
   ],
   "source": [
    "display(sessions.shape[0])\n",
    "display(sessions['event_name'].nunique())"
   ]
  },
  {
   "cell_type": "markdown",
   "metadata": {},
   "source": [
    "Нам доступны данные о пяти уникальных событиях, суммарно совершенных 243713 раза разными пользователями."
   ]
  },
  {
   "cell_type": "code",
   "execution_count": 12,
   "metadata": {},
   "outputs": [
    {
     "data": {
      "text/plain": [
       "7551"
      ]
     },
     "metadata": {},
     "output_type": "display_data"
    }
   ],
   "source": [
    "display(sessions['user_id'].nunique())"
   ]
  },
  {
   "cell_type": "markdown",
   "metadata": {},
   "source": [
    "В таблице данные о 7551 пользователей."
   ]
  },
  {
   "cell_type": "code",
   "execution_count": 13,
   "metadata": {
    "scrolled": true
   },
   "outputs": [
    {
     "data": {
      "text/plain": [
       "32.27559263673685"
      ]
     },
     "metadata": {},
     "output_type": "display_data"
    }
   ],
   "source": [
    "user_events = sessions.groupby('user_id').agg({'event_date' : 'count'}).reset_index().rename(columns={'user_id' : 'user_id', 'event_date' : 'events_number'})\n",
    "\n",
    "display(user_events['events_number'].mean())"
   ]
  },
  {
   "cell_type": "markdown",
   "metadata": {},
   "source": [
    "В среднем на пользователя приходится чуть больше 32 событий."
   ]
  },
  {
   "cell_type": "code",
   "execution_count": 14,
   "metadata": {},
   "outputs": [
    {
     "data": {
      "text/plain": [
       "Timestamp('2019-07-25 04:43:36')"
      ]
     },
     "metadata": {},
     "output_type": "display_data"
    },
    {
     "data": {
      "text/plain": [
       "Timestamp('2019-08-07 21:15:17')"
      ]
     },
     "metadata": {},
     "output_type": "display_data"
    }
   ],
   "source": [
    "display(sessions['event_dt'].min(), sessions['event_dt'].max())"
   ]
  },
  {
   "cell_type": "code",
   "execution_count": 15,
   "metadata": {},
   "outputs": [
    {
     "data": {
      "text/html": [
       "<div>\n",
       "<style scoped>\n",
       "    .dataframe tbody tr th:only-of-type {\n",
       "        vertical-align: middle;\n",
       "    }\n",
       "\n",
       "    .dataframe tbody tr th {\n",
       "        vertical-align: top;\n",
       "    }\n",
       "\n",
       "    .dataframe thead th {\n",
       "        text-align: right;\n",
       "    }\n",
       "</style>\n",
       "<table border=\"1\" class=\"dataframe\">\n",
       "  <thead>\n",
       "    <tr style=\"text-align: right;\">\n",
       "      <th>group_id</th>\n",
       "      <th>event_date</th>\n",
       "      <th>246</th>\n",
       "      <th>247</th>\n",
       "      <th>248</th>\n",
       "    </tr>\n",
       "  </thead>\n",
       "  <tbody>\n",
       "    <tr>\n",
       "      <th>0</th>\n",
       "      <td>2019-07-25</td>\n",
       "      <td>4</td>\n",
       "      <td>1</td>\n",
       "      <td>4</td>\n",
       "    </tr>\n",
       "    <tr>\n",
       "      <th>1</th>\n",
       "      <td>2019-07-26</td>\n",
       "      <td>14</td>\n",
       "      <td>8</td>\n",
       "      <td>9</td>\n",
       "    </tr>\n",
       "    <tr>\n",
       "      <th>2</th>\n",
       "      <td>2019-07-27</td>\n",
       "      <td>24</td>\n",
       "      <td>23</td>\n",
       "      <td>8</td>\n",
       "    </tr>\n",
       "    <tr>\n",
       "      <th>3</th>\n",
       "      <td>2019-07-28</td>\n",
       "      <td>33</td>\n",
       "      <td>36</td>\n",
       "      <td>36</td>\n",
       "    </tr>\n",
       "    <tr>\n",
       "      <th>4</th>\n",
       "      <td>2019-07-29</td>\n",
       "      <td>55</td>\n",
       "      <td>58</td>\n",
       "      <td>71</td>\n",
       "    </tr>\n",
       "    <tr>\n",
       "      <th>5</th>\n",
       "      <td>2019-07-30</td>\n",
       "      <td>129</td>\n",
       "      <td>138</td>\n",
       "      <td>145</td>\n",
       "    </tr>\n",
       "    <tr>\n",
       "      <th>6</th>\n",
       "      <td>2019-07-31</td>\n",
       "      <td>620</td>\n",
       "      <td>664</td>\n",
       "      <td>746</td>\n",
       "    </tr>\n",
       "    <tr>\n",
       "      <th>7</th>\n",
       "      <td>2019-08-01</td>\n",
       "      <td>11561</td>\n",
       "      <td>12306</td>\n",
       "      <td>12274</td>\n",
       "    </tr>\n",
       "    <tr>\n",
       "      <th>8</th>\n",
       "      <td>2019-08-02</td>\n",
       "      <td>10946</td>\n",
       "      <td>10990</td>\n",
       "      <td>13618</td>\n",
       "    </tr>\n",
       "    <tr>\n",
       "      <th>9</th>\n",
       "      <td>2019-08-03</td>\n",
       "      <td>10575</td>\n",
       "      <td>11024</td>\n",
       "      <td>11683</td>\n",
       "    </tr>\n",
       "    <tr>\n",
       "      <th>10</th>\n",
       "      <td>2019-08-04</td>\n",
       "      <td>11514</td>\n",
       "      <td>9942</td>\n",
       "      <td>11512</td>\n",
       "    </tr>\n",
       "    <tr>\n",
       "      <th>11</th>\n",
       "      <td>2019-08-05</td>\n",
       "      <td>12368</td>\n",
       "      <td>10949</td>\n",
       "      <td>12741</td>\n",
       "    </tr>\n",
       "    <tr>\n",
       "      <th>12</th>\n",
       "      <td>2019-08-06</td>\n",
       "      <td>11726</td>\n",
       "      <td>11720</td>\n",
       "      <td>12342</td>\n",
       "    </tr>\n",
       "    <tr>\n",
       "      <th>13</th>\n",
       "      <td>2019-08-07</td>\n",
       "      <td>10612</td>\n",
       "      <td>10091</td>\n",
       "      <td>10393</td>\n",
       "    </tr>\n",
       "  </tbody>\n",
       "</table>\n",
       "</div>"
      ],
      "text/plain": [
       "group_id  event_date    246    247    248\n",
       "0         2019-07-25      4      1      4\n",
       "1         2019-07-26     14      8      9\n",
       "2         2019-07-27     24     23      8\n",
       "3         2019-07-28     33     36     36\n",
       "4         2019-07-29     55     58     71\n",
       "5         2019-07-30    129    138    145\n",
       "6         2019-07-31    620    664    746\n",
       "7         2019-08-01  11561  12306  12274\n",
       "8         2019-08-02  10946  10990  13618\n",
       "9         2019-08-03  10575  11024  11683\n",
       "10        2019-08-04  11514   9942  11512\n",
       "11        2019-08-05  12368  10949  12741\n",
       "12        2019-08-06  11726  11720  12342\n",
       "13        2019-08-07  10612  10091  10393"
      ]
     },
     "metadata": {},
     "output_type": "display_data"
    },
    {
     "data": {
      "image/png": "[encoded data removed]",
      "text/plain": [
       "<Figure size 1332x756 with 1 Axes>"
      ]
     },
     "metadata": {
      "needs_background": "light"
     },
     "output_type": "display_data"
    }
   ],
   "source": [
    "#столбчатая диаграмма количества событий в зависимости от времени в разрезе групп\n",
    "grouped_data = sessions.pivot_table(index = 'event_date', columns = 'group_id', values = 'event_dt', aggfunc = 'count').reset_index()\n",
    "display(grouped_data)\n",
    "fig, ax = plt.subplots()\n",
    "fig.set_size_inches(18.5, 10.5)\n",
    "ax.set_title('Количество событий в разрезе групп')\n",
    "labels = grouped_data['event_date']\n",
    "x = np.arange(len(grouped_data['event_date']))\n",
    "y = grouped_data[246]\n",
    "y1 = grouped_data[247]\n",
    "y2 = grouped_data[248]\n",
    "width = 0.2\n",
    "plt.bar(x, y, width, label = '246')\n",
    "plt.bar(x - width/2, y1, width, label = '247', align='center', alpha = 0.5)\n",
    "plt.bar(x + width/2, y2, width, label = '248', align='edge', alpha = 0.5)\n",
    "plt.xticks(np.arange(len(grouped_data['event_date'])))\n",
    "ax.set_xticklabels(labels)\n",
    "fig.tight_layout()\n",
    "plt.legend()\n",
    "plt.show()\n"
   ]
  },
  {
   "cell_type": "markdown",
   "metadata": {},
   "source": [
    "На графике выше можно увидеть, что данные до 2019-07-30 представлены в единичных экземплярах, их очень мало. Можно предположить, что как раз эти данные для некоторых пользователей были \"подтянуты\" из прошлого, что создает некий перекос. Для дальнейшего анализа представляется логичным убрать эти события, предварительно оценив их долю в общем массиве."
   ]
  },
  {
   "cell_type": "code",
   "execution_count": 16,
   "metadata": {},
   "outputs": [
    {
     "data": {
      "text/plain": [
       "1.159560630741897"
      ]
     },
     "metadata": {},
     "output_type": "display_data"
    }
   ],
   "source": [
    "incomplete_data = sessions.query(\"event_dt < '2019-08-01'\")\n",
    "display(incomplete_data.shape[0] / sessions.shape[0] * 100)"
   ]
  },
  {
   "cell_type": "markdown",
   "metadata": {},
   "source": [
    "Доля данных о сессиях до 01 августа 2019 года составляет чуть больше 1% от общего массива, что позволяет изъять их из анализа.\n",
    "Таким образом мы возьмем только полные данные за период с 2019-08-01 по 2019-08-07, то есть за неделю."
   ]
  },
  {
   "cell_type": "code",
   "execution_count": 17,
   "metadata": {},
   "outputs": [
    {
     "data": {
      "text/plain": [
       "17"
      ]
     },
     "metadata": {},
     "output_type": "display_data"
    },
    {
     "data": {
      "text/plain": [
       "99.77486425638989"
      ]
     },
     "metadata": {},
     "output_type": "display_data"
    }
   ],
   "source": [
    "sessions_new = sessions.query(\"event_dt > '2019-08-01'\")\n",
    "\n",
    "display(sessions['user_id'].nunique() - sessions_new['user_id'].nunique(), sessions_new['user_id'].nunique() / sessions['user_id'].nunique() * 100)"
   ]
  },
  {
   "cell_type": "markdown",
   "metadata": {},
   "source": [
    "В новом сете данных мы потеряли информацию о 17 пользователях, что также приемлемо, так как доля потерянных пользователей составляет менее 1% от общего количества.\n",
    "\n",
    "Теперь необходимо проверить, присутствуют ли данные обо всех трех экспериментальных группах в обновленном датасете."
   ]
  },
  {
   "cell_type": "code",
   "execution_count": 18,
   "metadata": {},
   "outputs": [
    {
     "data": {
      "text/html": [
       "<div>\n",
       "<style scoped>\n",
       "    .dataframe tbody tr th:only-of-type {\n",
       "        vertical-align: middle;\n",
       "    }\n",
       "\n",
       "    .dataframe tbody tr th {\n",
       "        vertical-align: top;\n",
       "    }\n",
       "\n",
       "    .dataframe thead th {\n",
       "        text-align: right;\n",
       "    }\n",
       "</style>\n",
       "<table border=\"1\" class=\"dataframe\">\n",
       "  <thead>\n",
       "    <tr style=\"text-align: right;\">\n",
       "      <th></th>\n",
       "      <th>group_id</th>\n",
       "      <th>event_date</th>\n",
       "    </tr>\n",
       "  </thead>\n",
       "  <tbody>\n",
       "    <tr>\n",
       "      <th>0</th>\n",
       "      <td>246</td>\n",
       "      <td>79302</td>\n",
       "    </tr>\n",
       "    <tr>\n",
       "      <th>1</th>\n",
       "      <td>247</td>\n",
       "      <td>77022</td>\n",
       "    </tr>\n",
       "    <tr>\n",
       "      <th>2</th>\n",
       "      <td>248</td>\n",
       "      <td>84563</td>\n",
       "    </tr>\n",
       "  </tbody>\n",
       "</table>\n",
       "</div>"
      ],
      "text/plain": [
       "   group_id  event_date\n",
       "0       246       79302\n",
       "1       247       77022\n",
       "2       248       84563"
      ]
     },
     "metadata": {},
     "output_type": "display_data"
    }
   ],
   "source": [
    "display(sessions_new.groupby('group_id').agg({'event_date' : 'count'}).reset_index())"
   ]
  },
  {
   "cell_type": "markdown",
   "metadata": {},
   "source": [
    "В сгрупированной по трем группам таблице видно, что присутствуют записи о сессиях в каждой из них в сравнимом и применимом для дальнейшего анализа количестве."
   ]
  },
  {
   "cell_type": "markdown",
   "metadata": {},
   "source": [
    "## Изучаем воронку событий"
   ]
  },
  {
   "cell_type": "code",
   "execution_count": 19,
   "metadata": {
    "scrolled": true
   },
   "outputs": [
    {
     "data": {
      "text/html": [
       "<div>\n",
       "<style scoped>\n",
       "    .dataframe tbody tr th:only-of-type {\n",
       "        vertical-align: middle;\n",
       "    }\n",
       "\n",
       "    .dataframe tbody tr th {\n",
       "        vertical-align: top;\n",
       "    }\n",
       "\n",
       "    .dataframe thead th {\n",
       "        text-align: right;\n",
       "    }\n",
       "</style>\n",
       "<table border=\"1\" class=\"dataframe\">\n",
       "  <thead>\n",
       "    <tr style=\"text-align: right;\">\n",
       "      <th></th>\n",
       "      <th>event_name</th>\n",
       "      <th>events_number</th>\n",
       "    </tr>\n",
       "  </thead>\n",
       "  <tbody>\n",
       "    <tr>\n",
       "      <th>1</th>\n",
       "      <td>MainScreenAppear</td>\n",
       "      <td>117328</td>\n",
       "    </tr>\n",
       "    <tr>\n",
       "      <th>2</th>\n",
       "      <td>OffersScreenAppear</td>\n",
       "      <td>46333</td>\n",
       "    </tr>\n",
       "    <tr>\n",
       "      <th>0</th>\n",
       "      <td>CartScreenAppear</td>\n",
       "      <td>42303</td>\n",
       "    </tr>\n",
       "    <tr>\n",
       "      <th>3</th>\n",
       "      <td>PaymentScreenSuccessful</td>\n",
       "      <td>33918</td>\n",
       "    </tr>\n",
       "    <tr>\n",
       "      <th>4</th>\n",
       "      <td>Tutorial</td>\n",
       "      <td>1005</td>\n",
       "    </tr>\n",
       "  </tbody>\n",
       "</table>\n",
       "</div>"
      ],
      "text/plain": [
       "                event_name  events_number\n",
       "1         MainScreenAppear         117328\n",
       "2       OffersScreenAppear          46333\n",
       "0         CartScreenAppear          42303\n",
       "3  PaymentScreenSuccessful          33918\n",
       "4                 Tutorial           1005"
      ]
     },
     "metadata": {},
     "output_type": "display_data"
    }
   ],
   "source": [
    "#сортировка событий по частоте\n",
    "display(sessions_new.groupby('event_name').agg({'event_date' : 'count'}).reset_index().rename(columns={'event_date' : 'events_number'}).sort_values(by = 'events_number', ascending = False))"
   ]
  },
  {
   "cell_type": "markdown",
   "metadata": {},
   "source": [
    "Как видно в таблице выше, в таблице находятся данные о пяти различных событиях: MainScreenAppear - \"Появление главного экрана\", OffersScreenAppear - \"Появление экрана с предложениями\", CartScreenAppear - \"Появление страницы корзины\", PaymentScreenSuccessful - \"Страница успешной оплаты\", Tutorial - \"Инструкция\". Они отсортированы в порядке частоты встречаемости в данных. "
   ]
  },
  {
   "cell_type": "code",
   "execution_count": 20,
   "metadata": {},
   "outputs": [
    {
     "data": {
      "text/html": [
       "<div>\n",
       "<style scoped>\n",
       "    .dataframe tbody tr th:only-of-type {\n",
       "        vertical-align: middle;\n",
       "    }\n",
       "\n",
       "    .dataframe tbody tr th {\n",
       "        vertical-align: top;\n",
       "    }\n",
       "\n",
       "    .dataframe thead th {\n",
       "        text-align: right;\n",
       "    }\n",
       "</style>\n",
       "<table border=\"1\" class=\"dataframe\">\n",
       "  <thead>\n",
       "    <tr style=\"text-align: right;\">\n",
       "      <th></th>\n",
       "      <th>event_name</th>\n",
       "      <th>users_quantity</th>\n",
       "      <th>users_share</th>\n",
       "    </tr>\n",
       "  </thead>\n",
       "  <tbody>\n",
       "    <tr>\n",
       "      <th>1</th>\n",
       "      <td>MainScreenAppear</td>\n",
       "      <td>7419</td>\n",
       "      <td>98.47</td>\n",
       "    </tr>\n",
       "    <tr>\n",
       "      <th>2</th>\n",
       "      <td>OffersScreenAppear</td>\n",
       "      <td>4593</td>\n",
       "      <td>60.96</td>\n",
       "    </tr>\n",
       "    <tr>\n",
       "      <th>0</th>\n",
       "      <td>CartScreenAppear</td>\n",
       "      <td>3734</td>\n",
       "      <td>49.56</td>\n",
       "    </tr>\n",
       "    <tr>\n",
       "      <th>3</th>\n",
       "      <td>PaymentScreenSuccessful</td>\n",
       "      <td>3539</td>\n",
       "      <td>46.97</td>\n",
       "    </tr>\n",
       "    <tr>\n",
       "      <th>4</th>\n",
       "      <td>Tutorial</td>\n",
       "      <td>840</td>\n",
       "      <td>11.15</td>\n",
       "    </tr>\n",
       "  </tbody>\n",
       "</table>\n",
       "</div>"
      ],
      "text/plain": [
       "                event_name  users_quantity  users_share\n",
       "1         MainScreenAppear            7419        98.47\n",
       "2       OffersScreenAppear            4593        60.96\n",
       "0         CartScreenAppear            3734        49.56\n",
       "3  PaymentScreenSuccessful            3539        46.97\n",
       "4                 Tutorial             840        11.15"
      ]
     },
     "metadata": {},
     "output_type": "display_data"
    }
   ],
   "source": [
    "users_by_events = sessions_new.groupby('event_name').agg({'user_id' : 'nunique'}).reset_index().rename(columns={'user_id' : 'users_quantity'}).sort_values(by = 'users_quantity', ascending = False)\n",
    "users_by_events['users_share'] = round(users_by_events['users_quantity'] / sessions_new['user_id'].nunique() * 100, 2)\n",
    "display(users_by_events)"
   ]
  },
  {
   "cell_type": "markdown",
   "metadata": {},
   "source": [
    "В таблице выше мы видим количество пользователей, которые совершали каждое из пяти событий, а также долю в процентах от общего количества пользователей в обновленных данных."
   ]
  },
  {
   "cell_type": "markdown",
   "metadata": {},
   "source": [
    "Порядок и цепочка событий.\n",
    "События предположительно выполняются в следующем порядке: сначало пользователь видит главный экран сайта - потом некоторые переходят на страницу с инструкцией/обучением (это событие может выполняться и на другом шаге) - далее пользователи открывают страницу с предложениями (где можно добавить товары в корзину) - потом переходят на страницу корзины, где можно оплатить заказ - последним событием пользователь видит страницу успешной оплаты. Просмотр инструкции - действие опциональное, как можно видеть из расчета количества пользователей, совершающих его, а также с неопределенным порядком в цепочке событий, поэтому его можно убрать из расчета воронки."
   ]
  },
  {
   "cell_type": "code",
   "execution_count": 21,
   "metadata": {},
   "outputs": [
    {
     "data": {
      "text/html": [
       "<div>\n",
       "<style scoped>\n",
       "    .dataframe tbody tr th:only-of-type {\n",
       "        vertical-align: middle;\n",
       "    }\n",
       "\n",
       "    .dataframe tbody tr th {\n",
       "        vertical-align: top;\n",
       "    }\n",
       "\n",
       "    .dataframe thead th {\n",
       "        text-align: right;\n",
       "    }\n",
       "</style>\n",
       "<table border=\"1\" class=\"dataframe\">\n",
       "  <thead>\n",
       "    <tr style=\"text-align: right;\">\n",
       "      <th></th>\n",
       "      <th>event_name</th>\n",
       "      <th>users_quantity</th>\n",
       "      <th>users_share</th>\n",
       "      <th>next_step_quantity</th>\n",
       "      <th>next_step_share</th>\n",
       "    </tr>\n",
       "  </thead>\n",
       "  <tbody>\n",
       "    <tr>\n",
       "      <th>1</th>\n",
       "      <td>MainScreenAppear</td>\n",
       "      <td>7419</td>\n",
       "      <td>98.47</td>\n",
       "      <td>NaN</td>\n",
       "      <td>NaN</td>\n",
       "    </tr>\n",
       "    <tr>\n",
       "      <th>2</th>\n",
       "      <td>OffersScreenAppear</td>\n",
       "      <td>4593</td>\n",
       "      <td>60.96</td>\n",
       "      <td>7419.0</td>\n",
       "      <td>61.91</td>\n",
       "    </tr>\n",
       "    <tr>\n",
       "      <th>0</th>\n",
       "      <td>CartScreenAppear</td>\n",
       "      <td>3734</td>\n",
       "      <td>49.56</td>\n",
       "      <td>4593.0</td>\n",
       "      <td>81.30</td>\n",
       "    </tr>\n",
       "    <tr>\n",
       "      <th>3</th>\n",
       "      <td>PaymentScreenSuccessful</td>\n",
       "      <td>3539</td>\n",
       "      <td>46.97</td>\n",
       "      <td>3734.0</td>\n",
       "      <td>94.78</td>\n",
       "    </tr>\n",
       "  </tbody>\n",
       "</table>\n",
       "</div>"
      ],
      "text/plain": [
       "                event_name  users_quantity  users_share  next_step_quantity  \\\n",
       "1         MainScreenAppear            7419        98.47                 NaN   \n",
       "2       OffersScreenAppear            4593        60.96              7419.0   \n",
       "0         CartScreenAppear            3734        49.56              4593.0   \n",
       "3  PaymentScreenSuccessful            3539        46.97              3734.0   \n",
       "\n",
       "   next_step_share  \n",
       "1              NaN  \n",
       "2            61.91  \n",
       "0            81.30  \n",
       "3            94.78  "
      ]
     },
     "metadata": {},
     "output_type": "display_data"
    }
   ],
   "source": [
    "#расчет доли пользователей, которые переходят на следующий шаг\n",
    "users_by_events = users_by_events.drop(4)\n",
    "users_by_events['next_step_quantity'] = users_by_events['users_quantity'].shift()\n",
    "users_by_events['next_step_share'] = round(users_by_events['users_quantity'] / users_by_events['next_step_quantity'] * 100, 2)\n",
    "display(users_by_events)"
   ]
  },
  {
   "cell_type": "markdown",
   "metadata": {},
   "source": [
    "Из приведенной выше таблицы с расчетами доли пользователей, которые переходят на следующий шаг, можно сделать вывод о том, что больше всего пользователей терятся на первом шаге, то есть при переходе с главной страницы сайта на страницу с предложениями. Данное наблюдение требует дальнейшего исследования для нахождения возможных причин."
   ]
  },
  {
   "cell_type": "code",
   "execution_count": 22,
   "metadata": {},
   "outputs": [
    {
     "data": {
      "text/plain": [
       "47.70184661005526"
      ]
     },
     "metadata": {},
     "output_type": "display_data"
    }
   ],
   "source": [
    "buyers_share = users_by_events.loc[3, 'users_quantity'] / users_by_events.loc[1, 'users_quantity'] * 100\n",
    "display(buyers_share)"
   ]
  },
  {
   "cell_type": "markdown",
   "metadata": {},
   "source": [
    "Расчеты выше помогают нам понять, что чуть менее половины пользователей (47.7%), пришедших на сайт, становятся покупателями и совершают оплату."
   ]
  },
  {
   "cell_type": "markdown",
   "metadata": {},
   "source": [
    "## Проведение и анализ результатов A/A/B теста"
   ]
  },
  {
   "cell_type": "markdown",
   "metadata": {},
   "source": [
    "### A/A тестирование для сравнения двух контрольных групп"
   ]
  },
  {
   "cell_type": "markdown",
   "metadata": {},
   "source": [
    "**Нулевая гипотеза H0:** - нет разницы между долями разных групп пользователей\n",
    "\n",
    "**Альтернативная гипотеза H1:** - разница между группами пользователей обладает статистической значимостью\n",
    "\n",
    "**Суммарный уровень статистической значимости α** = 0.05\n",
    "\n",
    "Проводим **z-тестирование** для сравнения пропорций пользователей в группах, выполнивших каждое последовательное событие воронки продаж, к общему количеству пользователей в группе."
   ]
  },
  {
   "cell_type": "code",
   "execution_count": 23,
   "metadata": {},
   "outputs": [
    {
     "data": {
      "text/html": [
       "<div>\n",
       "<style scoped>\n",
       "    .dataframe tbody tr th:only-of-type {\n",
       "        vertical-align: middle;\n",
       "    }\n",
       "\n",
       "    .dataframe tbody tr th {\n",
       "        vertical-align: top;\n",
       "    }\n",
       "\n",
       "    .dataframe thead th {\n",
       "        text-align: right;\n",
       "    }\n",
       "</style>\n",
       "<table border=\"1\" class=\"dataframe\">\n",
       "  <thead>\n",
       "    <tr style=\"text-align: right;\">\n",
       "      <th></th>\n",
       "      <th>group_id</th>\n",
       "      <th>user_id</th>\n",
       "    </tr>\n",
       "  </thead>\n",
       "  <tbody>\n",
       "    <tr>\n",
       "      <th>0</th>\n",
       "      <td>246</td>\n",
       "      <td>2484</td>\n",
       "    </tr>\n",
       "    <tr>\n",
       "      <th>1</th>\n",
       "      <td>247</td>\n",
       "      <td>2513</td>\n",
       "    </tr>\n",
       "    <tr>\n",
       "      <th>2</th>\n",
       "      <td>248</td>\n",
       "      <td>2537</td>\n",
       "    </tr>\n",
       "  </tbody>\n",
       "</table>\n",
       "</div>"
      ],
      "text/plain": [
       "   group_id  user_id\n",
       "0       246     2484\n",
       "1       247     2513\n",
       "2       248     2537"
      ]
     },
     "metadata": {},
     "output_type": "display_data"
    }
   ],
   "source": [
    "display(sessions_new.groupby('group_id').agg({'user_id' : 'nunique'}).reset_index())"
   ]
  },
  {
   "cell_type": "markdown",
   "metadata": {},
   "source": [
    "Таблица выше отображает количество уникальных пользователей в каждой экспериментальной группе (около 2500 в каждой группе). Теперь необходимо проверить, не попали ли события, совершенные одним и тем же пользователем, в разные группы."
   ]
  },
  {
   "cell_type": "code",
   "execution_count": 24,
   "metadata": {},
   "outputs": [
    {
     "data": {
      "text/html": [
       "<div>\n",
       "<style scoped>\n",
       "    .dataframe tbody tr th:only-of-type {\n",
       "        vertical-align: middle;\n",
       "    }\n",
       "\n",
       "    .dataframe tbody tr th {\n",
       "        vertical-align: top;\n",
       "    }\n",
       "\n",
       "    .dataframe thead th {\n",
       "        text-align: right;\n",
       "    }\n",
       "</style>\n",
       "<table border=\"1\" class=\"dataframe\">\n",
       "  <thead>\n",
       "    <tr style=\"text-align: right;\">\n",
       "      <th></th>\n",
       "      <th>group_id</th>\n",
       "    </tr>\n",
       "    <tr>\n",
       "      <th>user_id</th>\n",
       "      <th></th>\n",
       "    </tr>\n",
       "  </thead>\n",
       "  <tbody>\n",
       "    <tr>\n",
       "      <th>6888746892508752</th>\n",
       "      <td>1</td>\n",
       "    </tr>\n",
       "    <tr>\n",
       "      <th>6204944347213293942</th>\n",
       "      <td>1</td>\n",
       "    </tr>\n",
       "    <tr>\n",
       "      <th>6215559225876063378</th>\n",
       "      <td>1</td>\n",
       "    </tr>\n",
       "    <tr>\n",
       "      <th>6215162890135937308</th>\n",
       "      <td>1</td>\n",
       "    </tr>\n",
       "    <tr>\n",
       "      <th>6213626876710715478</th>\n",
       "      <td>1</td>\n",
       "    </tr>\n",
       "    <tr>\n",
       "      <th>...</th>\n",
       "      <td>...</td>\n",
       "    </tr>\n",
       "    <tr>\n",
       "      <th>3171454373076660766</th>\n",
       "      <td>1</td>\n",
       "    </tr>\n",
       "    <tr>\n",
       "      <th>3170212200647575044</th>\n",
       "      <td>1</td>\n",
       "    </tr>\n",
       "    <tr>\n",
       "      <th>3167974726645136146</th>\n",
       "      <td>1</td>\n",
       "    </tr>\n",
       "    <tr>\n",
       "      <th>3167390091686880227</th>\n",
       "      <td>1</td>\n",
       "    </tr>\n",
       "    <tr>\n",
       "      <th>9222603179720523844</th>\n",
       "      <td>1</td>\n",
       "    </tr>\n",
       "  </tbody>\n",
       "</table>\n",
       "<p>7534 rows × 1 columns</p>\n",
       "</div>"
      ],
      "text/plain": [
       "                     group_id\n",
       "user_id                      \n",
       "6888746892508752            1\n",
       "6204944347213293942         1\n",
       "6215559225876063378         1\n",
       "6215162890135937308         1\n",
       "6213626876710715478         1\n",
       "...                       ...\n",
       "3171454373076660766         1\n",
       "3170212200647575044         1\n",
       "3167974726645136146         1\n",
       "3167390091686880227         1\n",
       "9222603179720523844         1\n",
       "\n",
       "[7534 rows x 1 columns]"
      ]
     },
     "metadata": {},
     "output_type": "display_data"
    }
   ],
   "source": [
    "display(sessions_new.pivot_table(index='user_id', values='group_id', aggfunc='nunique').sort_values(by = 'group_id', ascending = False))"
   ]
  },
  {
   "cell_type": "markdown",
   "metadata": {},
   "source": [
    "Посчитав количество уникальных идентификаторов групп у каждого пользователя и расположив их в порядке убывания, мы можем увидеть, что максимальное количество групп каждого пользователя равно единице, как это и должно быть при корректном тестировании и делении пользователей на группы."
   ]
  },
  {
   "cell_type": "code",
   "execution_count": 25,
   "metadata": {},
   "outputs": [
    {
     "data": {
      "text/html": [
       "<div>\n",
       "<style scoped>\n",
       "    .dataframe tbody tr th:only-of-type {\n",
       "        vertical-align: middle;\n",
       "    }\n",
       "\n",
       "    .dataframe tbody tr th {\n",
       "        vertical-align: top;\n",
       "    }\n",
       "\n",
       "    .dataframe thead th {\n",
       "        text-align: right;\n",
       "    }\n",
       "</style>\n",
       "<table border=\"1\" class=\"dataframe\">\n",
       "  <thead>\n",
       "    <tr style=\"text-align: right;\">\n",
       "      <th></th>\n",
       "      <th>users_quantity</th>\n",
       "      <th>total_users</th>\n",
       "    </tr>\n",
       "    <tr>\n",
       "      <th>event_name</th>\n",
       "      <th></th>\n",
       "      <th></th>\n",
       "    </tr>\n",
       "  </thead>\n",
       "  <tbody>\n",
       "    <tr>\n",
       "      <th>MainScreenAppear</th>\n",
       "      <td>2450</td>\n",
       "      <td>2484</td>\n",
       "    </tr>\n",
       "    <tr>\n",
       "      <th>OffersScreenAppear</th>\n",
       "      <td>1542</td>\n",
       "      <td>2484</td>\n",
       "    </tr>\n",
       "    <tr>\n",
       "      <th>CartScreenAppear</th>\n",
       "      <td>1266</td>\n",
       "      <td>2484</td>\n",
       "    </tr>\n",
       "    <tr>\n",
       "      <th>PaymentScreenSuccessful</th>\n",
       "      <td>1200</td>\n",
       "      <td>2484</td>\n",
       "    </tr>\n",
       "  </tbody>\n",
       "</table>\n",
       "</div>"
      ],
      "text/plain": [
       "                         users_quantity  total_users\n",
       "event_name                                          \n",
       "MainScreenAppear                   2450         2484\n",
       "OffersScreenAppear                 1542         2484\n",
       "CartScreenAppear                   1266         2484\n",
       "PaymentScreenSuccessful            1200         2484"
      ]
     },
     "metadata": {},
     "output_type": "display_data"
    }
   ],
   "source": [
    "users246_by_events = sessions_new[sessions_new['group_id'] == 246].groupby('event_name').agg({'user_id' : 'nunique'}).reset_index().rename(columns={'user_id' : 'users_quantity'}).sort_values(by = 'users_quantity', ascending = False)\n",
    "users246_by_events['total_users'] = sessions_new[sessions_new['group_id'] == 246]['user_id'].nunique()\n",
    "users246_by_events = users246_by_events.set_index('event_name').drop('Tutorial')\n",
    "display(users246_by_events)"
   ]
  },
  {
   "cell_type": "code",
   "execution_count": 26,
   "metadata": {},
   "outputs": [
    {
     "data": {
      "text/html": [
       "<div>\n",
       "<style scoped>\n",
       "    .dataframe tbody tr th:only-of-type {\n",
       "        vertical-align: middle;\n",
       "    }\n",
       "\n",
       "    .dataframe tbody tr th {\n",
       "        vertical-align: top;\n",
       "    }\n",
       "\n",
       "    .dataframe thead th {\n",
       "        text-align: right;\n",
       "    }\n",
       "</style>\n",
       "<table border=\"1\" class=\"dataframe\">\n",
       "  <thead>\n",
       "    <tr style=\"text-align: right;\">\n",
       "      <th></th>\n",
       "      <th>users_quantity</th>\n",
       "      <th>total_users</th>\n",
       "    </tr>\n",
       "    <tr>\n",
       "      <th>event_name</th>\n",
       "      <th></th>\n",
       "      <th></th>\n",
       "    </tr>\n",
       "  </thead>\n",
       "  <tbody>\n",
       "    <tr>\n",
       "      <th>MainScreenAppear</th>\n",
       "      <td>2476</td>\n",
       "      <td>2513</td>\n",
       "    </tr>\n",
       "    <tr>\n",
       "      <th>OffersScreenAppear</th>\n",
       "      <td>1520</td>\n",
       "      <td>2513</td>\n",
       "    </tr>\n",
       "    <tr>\n",
       "      <th>CartScreenAppear</th>\n",
       "      <td>1238</td>\n",
       "      <td>2513</td>\n",
       "    </tr>\n",
       "    <tr>\n",
       "      <th>PaymentScreenSuccessful</th>\n",
       "      <td>1158</td>\n",
       "      <td>2513</td>\n",
       "    </tr>\n",
       "  </tbody>\n",
       "</table>\n",
       "</div>"
      ],
      "text/plain": [
       "                         users_quantity  total_users\n",
       "event_name                                          \n",
       "MainScreenAppear                   2476         2513\n",
       "OffersScreenAppear                 1520         2513\n",
       "CartScreenAppear                   1238         2513\n",
       "PaymentScreenSuccessful            1158         2513"
      ]
     },
     "metadata": {},
     "output_type": "display_data"
    }
   ],
   "source": [
    "users247_by_events = sessions_new[sessions_new['group_id'] == 247].groupby('event_name').agg({'user_id' : 'nunique'}).reset_index().rename(columns={'user_id' : 'users_quantity'}).sort_values(by = 'users_quantity', ascending = False)\n",
    "users247_by_events['total_users'] = sessions_new[sessions_new['group_id'] == 247]['user_id'].nunique()\n",
    "users247_by_events = users247_by_events.set_index('event_name').drop('Tutorial')\n",
    "display(users247_by_events)"
   ]
  },
  {
   "cell_type": "code",
   "execution_count": 27,
   "metadata": {},
   "outputs": [],
   "source": [
    "def get_z_results(df1, df2, event_name1):\n",
    "    alpha = 0.05  # критический уровень статистической значимости\n",
    "    next_step = np.array([df1.loc[event_name1, 'users_quantity'], df2.loc[event_name1, 'users_quantity']])\n",
    "    total_users = np.array([df1.loc[event_name1, 'total_users'], df2.loc[event_name1, 'total_users']])\n",
    "\n",
    "# ваш код\n",
    "\n",
    "# пропорция успехов в первой группе:\n",
    "    p1 = next_step[0]/total_users[0]\n",
    "\n",
    "# пропорция успехов во второй группе:\n",
    "    p2 = next_step[1]/total_users[1]\n",
    "    \n",
    "# пропорция успехов в комбинированном датасете:\n",
    "    p_combined = (next_step[0] + next_step[1]) / (total_users[0] + total_users[1])\n",
    "\n",
    "# разница пропорций в датасетах\n",
    "    difference = p1 - p2 \n",
    "\n",
    "    z_value = difference / mth.sqrt(p_combined * (1 - p_combined) * (1/total_users[0] + 1/total_users[1]))\n",
    "\n",
    "# ваш код\n",
    "# задаем стандартное нормальное распределение (среднее 0, ст.отклонение 1)\n",
    "    distr = st.norm(0, 1)  \n",
    "\n",
    "    p_value = (1 - distr.cdf(abs(z_value))) * 2 # ваш код\n",
    "\n",
    "    print('p-значение: ', p_value)\n",
    "\n",
    "    if p_value < alpha: # ваш код\n",
    "        print('Отвергаем нулевую гипотезу: между долями есть значимая разница')\n",
    "    else:\n",
    "        print(\n",
    "        'Не получилось отвергнуть нулевую гипотезу, нет оснований считать доли разными'\n",
    "    )"
   ]
  },
  {
   "cell_type": "code",
   "execution_count": 28,
   "metadata": {},
   "outputs": [
    {
     "name": "stdout",
     "output_type": "stream",
     "text": [
      "p-значение:  0.7570597232046099\n",
      "Не получилось отвергнуть нулевую гипотезу, нет оснований считать доли разными\n"
     ]
    }
   ],
   "source": [
    "get_z_results(users246_by_events, users247_by_events, event_name1 = 'MainScreenAppear')"
   ]
  },
  {
   "cell_type": "code",
   "execution_count": 29,
   "metadata": {},
   "outputs": [
    {
     "name": "stdout",
     "output_type": "stream",
     "text": [
      "p-значение:  0.2480954578522181\n",
      "Не получилось отвергнуть нулевую гипотезу, нет оснований считать доли разными\n"
     ]
    }
   ],
   "source": [
    "get_z_results(users246_by_events, users247_by_events, event_name1 = 'OffersScreenAppear')"
   ]
  },
  {
   "cell_type": "code",
   "execution_count": 30,
   "metadata": {
    "scrolled": true
   },
   "outputs": [
    {
     "name": "stdout",
     "output_type": "stream",
     "text": [
      "p-значение:  0.22883372237997213\n",
      "Не получилось отвергнуть нулевую гипотезу, нет оснований считать доли разными\n"
     ]
    }
   ],
   "source": [
    "get_z_results(users246_by_events, users247_by_events, event_name1 = 'CartScreenAppear')"
   ]
  },
  {
   "cell_type": "code",
   "execution_count": 31,
   "metadata": {},
   "outputs": [
    {
     "name": "stdout",
     "output_type": "stream",
     "text": [
      "p-значение:  0.11456679313141849\n",
      "Не получилось отвергнуть нулевую гипотезу, нет оснований считать доли разными\n"
     ]
    }
   ],
   "source": [
    "get_z_results(users246_by_events, users247_by_events, event_name1 = 'PaymentScreenSuccessful')"
   ]
  },
  {
   "cell_type": "code",
   "execution_count": 32,
   "metadata": {
    "scrolled": true
   },
   "outputs": [
    {
     "data": {
      "text/html": [
       "<div>\n",
       "<style scoped>\n",
       "    .dataframe tbody tr th:only-of-type {\n",
       "        vertical-align: middle;\n",
       "    }\n",
       "\n",
       "    .dataframe tbody tr th {\n",
       "        vertical-align: top;\n",
       "    }\n",
       "\n",
       "    .dataframe thead th {\n",
       "        text-align: right;\n",
       "    }\n",
       "</style>\n",
       "<table border=\"1\" class=\"dataframe\">\n",
       "  <thead>\n",
       "    <tr style=\"text-align: right;\">\n",
       "      <th></th>\n",
       "      <th>users_quantity</th>\n",
       "      <th>total_users</th>\n",
       "      <th>users_share</th>\n",
       "    </tr>\n",
       "    <tr>\n",
       "      <th>event_name</th>\n",
       "      <th></th>\n",
       "      <th></th>\n",
       "      <th></th>\n",
       "    </tr>\n",
       "  </thead>\n",
       "  <tbody>\n",
       "    <tr>\n",
       "      <th>MainScreenAppear</th>\n",
       "      <td>2450</td>\n",
       "      <td>2484</td>\n",
       "      <td>98.631240</td>\n",
       "    </tr>\n",
       "    <tr>\n",
       "      <th>OffersScreenAppear</th>\n",
       "      <td>1542</td>\n",
       "      <td>2484</td>\n",
       "      <td>62.077295</td>\n",
       "    </tr>\n",
       "    <tr>\n",
       "      <th>CartScreenAppear</th>\n",
       "      <td>1266</td>\n",
       "      <td>2484</td>\n",
       "      <td>50.966184</td>\n",
       "    </tr>\n",
       "    <tr>\n",
       "      <th>PaymentScreenSuccessful</th>\n",
       "      <td>1200</td>\n",
       "      <td>2484</td>\n",
       "      <td>48.309179</td>\n",
       "    </tr>\n",
       "  </tbody>\n",
       "</table>\n",
       "</div>"
      ],
      "text/plain": [
       "                         users_quantity  total_users  users_share\n",
       "event_name                                                       \n",
       "MainScreenAppear                   2450         2484    98.631240\n",
       "OffersScreenAppear                 1542         2484    62.077295\n",
       "CartScreenAppear                   1266         2484    50.966184\n",
       "PaymentScreenSuccessful            1200         2484    48.309179"
      ]
     },
     "metadata": {},
     "output_type": "display_data"
    },
    {
     "data": {
      "text/html": [
       "<div>\n",
       "<style scoped>\n",
       "    .dataframe tbody tr th:only-of-type {\n",
       "        vertical-align: middle;\n",
       "    }\n",
       "\n",
       "    .dataframe tbody tr th {\n",
       "        vertical-align: top;\n",
       "    }\n",
       "\n",
       "    .dataframe thead th {\n",
       "        text-align: right;\n",
       "    }\n",
       "</style>\n",
       "<table border=\"1\" class=\"dataframe\">\n",
       "  <thead>\n",
       "    <tr style=\"text-align: right;\">\n",
       "      <th></th>\n",
       "      <th>users_quantity</th>\n",
       "      <th>total_users</th>\n",
       "      <th>users_share</th>\n",
       "    </tr>\n",
       "    <tr>\n",
       "      <th>event_name</th>\n",
       "      <th></th>\n",
       "      <th></th>\n",
       "      <th></th>\n",
       "    </tr>\n",
       "  </thead>\n",
       "  <tbody>\n",
       "    <tr>\n",
       "      <th>MainScreenAppear</th>\n",
       "      <td>2476</td>\n",
       "      <td>2513</td>\n",
       "      <td>98.527656</td>\n",
       "    </tr>\n",
       "    <tr>\n",
       "      <th>OffersScreenAppear</th>\n",
       "      <td>1520</td>\n",
       "      <td>2513</td>\n",
       "      <td>60.485476</td>\n",
       "    </tr>\n",
       "    <tr>\n",
       "      <th>CartScreenAppear</th>\n",
       "      <td>1238</td>\n",
       "      <td>2513</td>\n",
       "      <td>49.263828</td>\n",
       "    </tr>\n",
       "    <tr>\n",
       "      <th>PaymentScreenSuccessful</th>\n",
       "      <td>1158</td>\n",
       "      <td>2513</td>\n",
       "      <td>46.080382</td>\n",
       "    </tr>\n",
       "  </tbody>\n",
       "</table>\n",
       "</div>"
      ],
      "text/plain": [
       "                         users_quantity  total_users  users_share\n",
       "event_name                                                       \n",
       "MainScreenAppear                   2476         2513    98.527656\n",
       "OffersScreenAppear                 1520         2513    60.485476\n",
       "CartScreenAppear                   1238         2513    49.263828\n",
       "PaymentScreenSuccessful            1158         2513    46.080382"
      ]
     },
     "metadata": {},
     "output_type": "display_data"
    }
   ],
   "source": [
    "#число и доля пользователей, совершивших событие в каждой из контрольных групп\n",
    "users246_by_events['users_share'] = users246_by_events['users_quantity'] / users246_by_events['total_users'] * 100\n",
    "users247_by_events['users_share'] = users247_by_events['users_quantity'] / users247_by_events['total_users'] * 100\n",
    "display(users246_by_events, users247_by_events)"
   ]
  },
  {
   "cell_type": "markdown",
   "metadata": {},
   "source": [
    "Произведенные выше расчеты значений p-value и сделанные выводы позволяют нам считать две контрольные группы близкими по показателям, а значит, выборка сделана корректно."
   ]
  },
  {
   "cell_type": "markdown",
   "metadata": {},
   "source": [
    "### А/В тестирование для сравнения с тестовой группой"
   ]
  },
  {
   "cell_type": "markdown",
   "metadata": {},
   "source": [
    "**Нулевая гипотеза H0:** - нет разницы между долями разных групп пользователей\n",
    "\n",
    "**Альтернативная гипотеза H1:** - разница между группами пользователей обладает статистической значимостью\n",
    "\n",
    "**Суммарный уровень статистической значимости α** = 0.05\n",
    "**Уровень статистической значимости α после применения поправки Шидака** = 0.004\n",
    "\n",
    "Проводим **z-тестирование** для сравнения пропорций пользователей в группах, выполнивших каждое последовательное событие воронки продаж, к общему количеству пользователей в группе."
   ]
  },
  {
   "cell_type": "code",
   "execution_count": 33,
   "metadata": {},
   "outputs": [
    {
     "data": {
      "text/html": [
       "<div>\n",
       "<style scoped>\n",
       "    .dataframe tbody tr th:only-of-type {\n",
       "        vertical-align: middle;\n",
       "    }\n",
       "\n",
       "    .dataframe tbody tr th {\n",
       "        vertical-align: top;\n",
       "    }\n",
       "\n",
       "    .dataframe thead th {\n",
       "        text-align: right;\n",
       "    }\n",
       "</style>\n",
       "<table border=\"1\" class=\"dataframe\">\n",
       "  <thead>\n",
       "    <tr style=\"text-align: right;\">\n",
       "      <th></th>\n",
       "      <th>users_quantity</th>\n",
       "      <th>total_users</th>\n",
       "      <th>users_share</th>\n",
       "    </tr>\n",
       "    <tr>\n",
       "      <th>event_name</th>\n",
       "      <th></th>\n",
       "      <th></th>\n",
       "      <th></th>\n",
       "    </tr>\n",
       "  </thead>\n",
       "  <tbody>\n",
       "    <tr>\n",
       "      <th>MainScreenAppear</th>\n",
       "      <td>2493</td>\n",
       "      <td>2537</td>\n",
       "      <td>98.265668</td>\n",
       "    </tr>\n",
       "    <tr>\n",
       "      <th>OffersScreenAppear</th>\n",
       "      <td>1531</td>\n",
       "      <td>2537</td>\n",
       "      <td>60.346866</td>\n",
       "    </tr>\n",
       "    <tr>\n",
       "      <th>CartScreenAppear</th>\n",
       "      <td>1230</td>\n",
       "      <td>2537</td>\n",
       "      <td>48.482460</td>\n",
       "    </tr>\n",
       "    <tr>\n",
       "      <th>PaymentScreenSuccessful</th>\n",
       "      <td>1181</td>\n",
       "      <td>2537</td>\n",
       "      <td>46.551045</td>\n",
       "    </tr>\n",
       "  </tbody>\n",
       "</table>\n",
       "</div>"
      ],
      "text/plain": [
       "                         users_quantity  total_users  users_share\n",
       "event_name                                                       \n",
       "MainScreenAppear                   2493         2537    98.265668\n",
       "OffersScreenAppear                 1531         2537    60.346866\n",
       "CartScreenAppear                   1230         2537    48.482460\n",
       "PaymentScreenSuccessful            1181         2537    46.551045"
      ]
     },
     "metadata": {},
     "output_type": "display_data"
    }
   ],
   "source": [
    "#сравнение с тестовой группой\n",
    "users248_by_events = sessions_new[sessions_new['group_id'] == 248].groupby('event_name').agg({'user_id' : 'nunique'}).reset_index().rename(columns={'user_id' : 'users_quantity'}).sort_values(by = 'users_quantity', ascending = False)\n",
    "users248_by_events['total_users'] = sessions_new[sessions_new['group_id'] == 248]['user_id'].nunique()\n",
    "users248_by_events = users248_by_events.set_index('event_name').drop('Tutorial')\n",
    "users248_by_events['users_share'] = users248_by_events['users_quantity'] / users248_by_events['total_users'] * 100\n",
    "display(users248_by_events)"
   ]
  },
  {
   "cell_type": "code",
   "execution_count": 34,
   "metadata": {
    "scrolled": true
   },
   "outputs": [
    {
     "data": {
      "text/html": [
       "<div>\n",
       "<style scoped>\n",
       "    .dataframe tbody tr th:only-of-type {\n",
       "        vertical-align: middle;\n",
       "    }\n",
       "\n",
       "    .dataframe tbody tr th {\n",
       "        vertical-align: top;\n",
       "    }\n",
       "\n",
       "    .dataframe thead th {\n",
       "        text-align: right;\n",
       "    }\n",
       "</style>\n",
       "<table border=\"1\" class=\"dataframe\">\n",
       "  <thead>\n",
       "    <tr style=\"text-align: right;\">\n",
       "      <th></th>\n",
       "      <th>users_quantity</th>\n",
       "      <th>total_users</th>\n",
       "      <th>users_share</th>\n",
       "    </tr>\n",
       "    <tr>\n",
       "      <th>event_name</th>\n",
       "      <th></th>\n",
       "      <th></th>\n",
       "      <th></th>\n",
       "    </tr>\n",
       "  </thead>\n",
       "  <tbody>\n",
       "    <tr>\n",
       "      <th>MainScreenAppear</th>\n",
       "      <td>4926</td>\n",
       "      <td>4997</td>\n",
       "      <td>98.579147</td>\n",
       "    </tr>\n",
       "    <tr>\n",
       "      <th>OffersScreenAppear</th>\n",
       "      <td>3062</td>\n",
       "      <td>4997</td>\n",
       "      <td>61.276766</td>\n",
       "    </tr>\n",
       "    <tr>\n",
       "      <th>CartScreenAppear</th>\n",
       "      <td>2504</td>\n",
       "      <td>4997</td>\n",
       "      <td>50.110066</td>\n",
       "    </tr>\n",
       "    <tr>\n",
       "      <th>PaymentScreenSuccessful</th>\n",
       "      <td>2358</td>\n",
       "      <td>4997</td>\n",
       "      <td>47.188313</td>\n",
       "    </tr>\n",
       "  </tbody>\n",
       "</table>\n",
       "</div>"
      ],
      "text/plain": [
       "                         users_quantity  total_users  users_share\n",
       "event_name                                                       \n",
       "MainScreenAppear                   4926         4997    98.579147\n",
       "OffersScreenAppear                 3062         4997    61.276766\n",
       "CartScreenAppear                   2504         4997    50.110066\n",
       "PaymentScreenSuccessful            2358         4997    47.188313"
      ]
     },
     "metadata": {},
     "output_type": "display_data"
    }
   ],
   "source": [
    "#объединение контрольных групп\n",
    "users246247_by_events = users246_by_events + users247_by_events\n",
    "users246247_by_events['users_share'] = users246247_by_events['users_quantity'] / users246247_by_events['total_users'] * 100\n",
    "display(users246247_by_events)"
   ]
  },
  {
   "cell_type": "code",
   "execution_count": 35,
   "metadata": {},
   "outputs": [
    {
     "name": "stdout",
     "output_type": "stream",
     "text": [
      "p-значение:  0.2949721933554552\n",
      "Не получилось отвергнуть нулевую гипотезу, нет оснований считать доли разными\n"
     ]
    }
   ],
   "source": [
    "get_z_results(users246_by_events, users248_by_events, event_name1 = 'MainScreenAppear')"
   ]
  },
  {
   "cell_type": "code",
   "execution_count": 36,
   "metadata": {},
   "outputs": [
    {
     "name": "stdout",
     "output_type": "stream",
     "text": [
      "p-значение:  0.20836205402738917\n",
      "Не получилось отвергнуть нулевую гипотезу, нет оснований считать доли разными\n"
     ]
    }
   ],
   "source": [
    "get_z_results(users246_by_events, users248_by_events, event_name1 = 'OffersScreenAppear')"
   ]
  },
  {
   "cell_type": "code",
   "execution_count": 37,
   "metadata": {},
   "outputs": [
    {
     "name": "stdout",
     "output_type": "stream",
     "text": [
      "p-значение:  0.07842923237520116\n",
      "Не получилось отвергнуть нулевую гипотезу, нет оснований считать доли разными\n"
     ]
    }
   ],
   "source": [
    "get_z_results(users246_by_events, users248_by_events, event_name1 = 'CartScreenAppear')"
   ]
  },
  {
   "cell_type": "code",
   "execution_count": 38,
   "metadata": {},
   "outputs": [
    {
     "name": "stdout",
     "output_type": "stream",
     "text": [
      "p-значение:  0.2122553275697796\n",
      "Не получилось отвергнуть нулевую гипотезу, нет оснований считать доли разными\n"
     ]
    }
   ],
   "source": [
    "get_z_results(users246_by_events, users248_by_events, event_name1 = 'PaymentScreenSuccessful')"
   ]
  },
  {
   "cell_type": "code",
   "execution_count": 39,
   "metadata": {},
   "outputs": [
    {
     "name": "stdout",
     "output_type": "stream",
     "text": [
      "p-значение:  0.4587053616621515\n",
      "Не получилось отвергнуть нулевую гипотезу, нет оснований считать доли разными\n"
     ]
    }
   ],
   "source": [
    "get_z_results(users247_by_events, users248_by_events, event_name1 = 'MainScreenAppear')"
   ]
  },
  {
   "cell_type": "code",
   "execution_count": 40,
   "metadata": {},
   "outputs": [
    {
     "name": "stdout",
     "output_type": "stream",
     "text": [
      "p-значение:  0.9197817830592261\n",
      "Не получилось отвергнуть нулевую гипотезу, нет оснований считать доли разными\n"
     ]
    }
   ],
   "source": [
    "get_z_results(users247_by_events, users248_by_events, event_name1 = 'OffersScreenAppear')"
   ]
  },
  {
   "cell_type": "code",
   "execution_count": 41,
   "metadata": {},
   "outputs": [
    {
     "name": "stdout",
     "output_type": "stream",
     "text": [
      "p-значение:  0.5786197879539783\n",
      "Не получилось отвергнуть нулевую гипотезу, нет оснований считать доли разными\n"
     ]
    }
   ],
   "source": [
    "get_z_results(users247_by_events, users248_by_events, event_name1 = 'CartScreenAppear')"
   ]
  },
  {
   "cell_type": "code",
   "execution_count": 42,
   "metadata": {},
   "outputs": [
    {
     "name": "stdout",
     "output_type": "stream",
     "text": [
      "p-значение:  0.7373415053803964\n",
      "Не получилось отвергнуть нулевую гипотезу, нет оснований считать доли разными\n"
     ]
    }
   ],
   "source": [
    "get_z_results(users247_by_events, users248_by_events, event_name1 = 'PaymentScreenSuccessful')"
   ]
  },
  {
   "cell_type": "code",
   "execution_count": 43,
   "metadata": {},
   "outputs": [
    {
     "name": "stdout",
     "output_type": "stream",
     "text": [
      "p-значение:  0.29424526837179577\n",
      "Не получилось отвергнуть нулевую гипотезу, нет оснований считать доли разными\n"
     ]
    }
   ],
   "source": [
    "get_z_results(users246247_by_events, users248_by_events, event_name1 = 'MainScreenAppear')"
   ]
  },
  {
   "cell_type": "code",
   "execution_count": 44,
   "metadata": {},
   "outputs": [
    {
     "name": "stdout",
     "output_type": "stream",
     "text": [
      "p-значение:  0.43425549655188256\n",
      "Не получилось отвергнуть нулевую гипотезу, нет оснований считать доли разными\n"
     ]
    }
   ],
   "source": [
    "get_z_results(users246247_by_events, users248_by_events, event_name1 = 'OffersScreenAppear')"
   ]
  },
  {
   "cell_type": "code",
   "execution_count": 45,
   "metadata": {},
   "outputs": [
    {
     "name": "stdout",
     "output_type": "stream",
     "text": [
      "p-значение:  0.18175875284404386\n",
      "Не получилось отвергнуть нулевую гипотезу, нет оснований считать доли разными\n"
     ]
    }
   ],
   "source": [
    "get_z_results(users246247_by_events, users248_by_events, event_name1 = 'CartScreenAppear')"
   ]
  },
  {
   "cell_type": "code",
   "execution_count": 46,
   "metadata": {},
   "outputs": [
    {
     "name": "stdout",
     "output_type": "stream",
     "text": [
      "p-значение:  0.6004294282308704\n",
      "Не получилось отвергнуть нулевую гипотезу, нет оснований считать доли разными\n"
     ]
    }
   ],
   "source": [
    "get_z_results(users246247_by_events, users248_by_events, event_name1 = 'PaymentScreenSuccessful')"
   ]
  },
  {
   "cell_type": "markdown",
   "metadata": {},
   "source": [
    "Ни один из проведенных 12 z-тестов не дал возможности отвергнуть нулевую гипотезу о равенстве долей, следовательно, говорить об ошибке первого рода не имеет смысла. Все это предположительно приводит к мысли о неэффективности гипотезы и отсутствии необходимости дальнейшего проведения теста, так как значимых результатов он не показал."
   ]
  },
  {
   "cell_type": "code",
   "execution_count": 47,
   "metadata": {
    "scrolled": true
   },
   "outputs": [
    {
     "data": {
      "text/plain": [
       "(0.004265318777560645, 0.04999999999999971)"
      ]
     },
     "execution_count": 47,
     "metadata": {},
     "output_type": "execute_result"
    }
   ],
   "source": [
    "#поправка уровня статистической значимости 12 проверок\n",
    "m = 12\n",
    "alpha = 0.05\n",
    "alpha_sidak = 1 - (1 - alpha) ** (1/m)\n",
    "fwer_sidak = 1 - (1 - alpha_sidak) ** m\n",
    "alpha_sidak, fwer_sidak"
   ]
  },
  {
   "cell_type": "markdown",
   "metadata": {},
   "source": [
    "После проведения множественных проверок на одних и тех же данных, как правило, повышается вероятность ошибки первого рода (то есть отвергнуть нулевую гипотезу некорректно). Уменьшив уровень значимости единичной проверки с помощью метода Шидака (до 0.004), мы снижаем вероятность ошибки первого рода и оставляем суммарный уровень значимости всех проверок на прежнем уровне (стремится к 0.5). В данном конкретном случае замена значения alpha в каждом из проводимых тестов не поменяла результатов, так как ни одна нулевая гипотеза не оказалась отвергнутой."
   ]
  },
  {
   "cell_type": "markdown",
   "metadata": {},
   "source": [
    "## Итоговый вывод"
   ]
  },
  {
   "cell_type": "markdown",
   "metadata": {},
   "source": [
    "Все запланированные вначале этапы проектной работы выполнены.\n",
    "\n",
    "    1. Пропуски отсутствуют, тип данных в столбце с датой приведен к нужному формату.\n",
    "    2. Определено среднее количество событий на пользователя (чуть более 32), а также минимальная и максимальная дата имеющихся в таблице событий.\n",
    "    3. Отброшено менее 2% событий из общего массива данных, которые выполнены менее 1% пользователей, для очищения датасета от неполных данных. Таким образом для анализа оказались представлены данные о проведении теста за неделю с 01 по 07 августа 2019 года.\n",
    "    4. При изучении воронки продаж определены пять событий в датасете, их порядок. Событие Tutorial исключено из анализа, так как не являтся частью последовательного процесса, который проходит пользователь на сайте при совершении покупок, является опциональным и выполяется небольшим процентом пользователей.\n",
    "    5. Рассчитаны доли конверсии пользователей, которые переходят на каждый последующий шаг, на первом шаге перехода из первого события во второе теряется наибольшее количество посетителей сайта.\n",
    "    6. После проведения АА тестирования для сравнения двух контрольных групп 246 и 247 сделаны выводы о корректности выборок в датасете и отвергнуты гипотезы о статистической значимости различий между ними.\n",
    "    7. Расчет результатов АВ тестирования для сравнения контрольных групп с тестовой 248 также не показал статистически значимых результатов. Нет основания отвергнуть ни одну нулевую гипотезу о равенстве групп.\n",
    "    \n",
    "Таким образом, тестирование можно завершить и признать гипотезу о влиянии изменении шрифта на увеличение количество пользователей сайта неэффективной."
   ]
  }
 ],
 "metadata": {
  "ExecuteTimeLog": [
   {
    "duration": 409,
    "start_time": "2024-06-12T02:19:47.596Z"
   },
   {
    "duration": 2,
    "start_time": "2024-06-12T02:20:26.623Z"
   },
   {
    "duration": 1033,
    "start_time": "2024-06-12T02:20:30.247Z"
   },
   {
    "duration": 377,
    "start_time": "2024-06-12T02:21:25.295Z"
   },
   {
    "duration": 230,
    "start_time": "2024-06-12T02:22:34.118Z"
   },
   {
    "duration": 70,
    "start_time": "2024-06-12T02:27:34.806Z"
   },
   {
    "duration": 60,
    "start_time": "2024-06-12T02:28:09.971Z"
   },
   {
    "duration": 46,
    "start_time": "2024-06-12T02:28:49.050Z"
   },
   {
    "duration": 96,
    "start_time": "2024-06-12T02:31:52.591Z"
   },
   {
    "duration": 4,
    "start_time": "2024-06-12T02:32:05.557Z"
   },
   {
    "duration": 5,
    "start_time": "2024-06-12T02:32:23.900Z"
   },
   {
    "duration": 5,
    "start_time": "2024-06-12T02:32:31.134Z"
   },
   {
    "duration": 19,
    "start_time": "2024-06-12T02:33:25.359Z"
   },
   {
    "duration": 18,
    "start_time": "2024-06-12T02:33:38.976Z"
   },
   {
    "duration": 7,
    "start_time": "2024-06-12T02:34:22.136Z"
   },
   {
    "duration": 8,
    "start_time": "2024-06-12T02:39:40.575Z"
   },
   {
    "duration": 56,
    "start_time": "2024-06-12T02:40:43.999Z"
   },
   {
    "duration": 9,
    "start_time": "2024-06-12T02:40:51.672Z"
   },
   {
    "duration": 11,
    "start_time": "2024-06-12T02:41:16.231Z"
   },
   {
    "duration": 7,
    "start_time": "2024-06-12T02:41:35.681Z"
   },
   {
    "duration": 10,
    "start_time": "2024-06-12T02:41:43.005Z"
   },
   {
    "duration": 12,
    "start_time": "2024-06-12T02:44:10.885Z"
   },
   {
    "duration": 13,
    "start_time": "2024-06-12T02:44:23.798Z"
   },
   {
    "duration": 9,
    "start_time": "2024-06-12T02:44:39.354Z"
   },
   {
    "duration": 7,
    "start_time": "2024-06-12T02:45:08.881Z"
   },
   {
    "duration": 10,
    "start_time": "2024-06-12T02:45:30.244Z"
   },
   {
    "duration": 52,
    "start_time": "2024-06-12T02:46:12.127Z"
   },
   {
    "duration": 91,
    "start_time": "2024-06-12T02:48:40.750Z"
   },
   {
    "duration": 96,
    "start_time": "2024-06-12T02:48:52.260Z"
   },
   {
    "duration": 4,
    "start_time": "2024-06-12T02:50:29.908Z"
   },
   {
    "duration": 4,
    "start_time": "2024-06-12T02:50:40.431Z"
   },
   {
    "duration": 7,
    "start_time": "2024-06-12T02:52:14.258Z"
   },
   {
    "duration": 10,
    "start_time": "2024-06-12T02:52:28.454Z"
   },
   {
    "duration": 38,
    "start_time": "2024-06-12T02:52:53.553Z"
   },
   {
    "duration": 67,
    "start_time": "2024-06-12T02:55:51.243Z"
   },
   {
    "duration": 7,
    "start_time": "2024-06-12T02:56:18.350Z"
   },
   {
    "duration": 8,
    "start_time": "2024-06-12T02:56:26.144Z"
   },
   {
    "duration": 61,
    "start_time": "2024-06-12T02:59:07.250Z"
   },
   {
    "duration": 7,
    "start_time": "2024-06-12T02:59:15.837Z"
   },
   {
    "duration": 51,
    "start_time": "2024-06-12T02:59:23.716Z"
   },
   {
    "duration": 7,
    "start_time": "2024-06-12T02:59:59.312Z"
   },
   {
    "duration": 15,
    "start_time": "2024-06-12T03:01:23.875Z"
   },
   {
    "duration": 36,
    "start_time": "2024-06-12T03:01:46.136Z"
   },
   {
    "duration": 26,
    "start_time": "2024-06-12T03:02:12.210Z"
   },
   {
    "duration": 24,
    "start_time": "2024-06-12T03:03:10.312Z"
   },
   {
    "duration": 21,
    "start_time": "2024-06-12T03:03:28.976Z"
   },
   {
    "duration": 23,
    "start_time": "2024-06-12T03:03:45.300Z"
   },
   {
    "duration": 28,
    "start_time": "2024-06-12T03:03:55.819Z"
   },
   {
    "duration": 23,
    "start_time": "2024-06-12T03:04:44.183Z"
   },
   {
    "duration": 27,
    "start_time": "2024-06-12T03:04:53.586Z"
   },
   {
    "duration": 490,
    "start_time": "2024-06-12T03:05:34.196Z"
   },
   {
    "duration": 30,
    "start_time": "2024-06-12T03:05:51.051Z"
   },
   {
    "duration": 51,
    "start_time": "2024-06-12T03:06:09.690Z"
   },
   {
    "duration": 54,
    "start_time": "2024-06-12T03:06:50.168Z"
   },
   {
    "duration": 27,
    "start_time": "2024-06-12T03:07:29.383Z"
   },
   {
    "duration": 23,
    "start_time": "2024-06-12T03:08:10.456Z"
   },
   {
    "duration": 7,
    "start_time": "2024-06-12T03:10:09.209Z"
   },
   {
    "duration": 8,
    "start_time": "2024-06-12T03:11:00.734Z"
   },
   {
    "duration": 396,
    "start_time": "2024-06-12T03:11:28.064Z"
   },
   {
    "duration": 492,
    "start_time": "2024-06-12T03:14:36.426Z"
   },
   {
    "duration": 21,
    "start_time": "2024-06-12T03:15:23.537Z"
   },
   {
    "duration": 9,
    "start_time": "2024-06-12T03:15:57.836Z"
   },
   {
    "duration": 62,
    "start_time": "2024-06-12T03:16:45.479Z"
   },
   {
    "duration": 9,
    "start_time": "2024-06-12T03:16:58.099Z"
   },
   {
    "duration": 8,
    "start_time": "2024-06-12T03:17:17.532Z"
   },
   {
    "duration": 53,
    "start_time": "2024-06-12T03:17:26.420Z"
   },
   {
    "duration": 64,
    "start_time": "2024-06-12T03:19:48.222Z"
   },
   {
    "duration": 10,
    "start_time": "2024-06-12T03:19:56.326Z"
   },
   {
    "duration": 8,
    "start_time": "2024-06-12T03:20:19.692Z"
   },
   {
    "duration": 53,
    "start_time": "2024-06-12T03:20:24.701Z"
   },
   {
    "duration": 69,
    "start_time": "2024-06-12T03:21:08.183Z"
   },
   {
    "duration": 42,
    "start_time": "2024-06-12T03:21:13.704Z"
   },
   {
    "duration": 26,
    "start_time": "2024-06-12T03:21:28.763Z"
   },
   {
    "duration": 27,
    "start_time": "2024-06-12T03:22:28.859Z"
   },
   {
    "duration": 25,
    "start_time": "2024-06-12T03:22:38.677Z"
   },
   {
    "duration": 44,
    "start_time": "2024-06-12T03:24:21.712Z"
   },
   {
    "duration": 245,
    "start_time": "2024-06-12T03:24:56.472Z"
   },
   {
    "duration": 426,
    "start_time": "2024-06-12T03:34:41.484Z"
   },
   {
    "duration": 265,
    "start_time": "2024-06-12T03:35:08.933Z"
   },
   {
    "duration": 506,
    "start_time": "2024-06-12T03:36:12.075Z"
   },
   {
    "duration": 525,
    "start_time": "2024-06-12T03:36:32.838Z"
   },
   {
    "duration": 549,
    "start_time": "2024-06-12T03:36:58.201Z"
   },
   {
    "duration": 562,
    "start_time": "2024-06-12T03:37:19.843Z"
   },
   {
    "duration": 359,
    "start_time": "2024-06-12T03:38:59.585Z"
   },
   {
    "duration": 62,
    "start_time": "2024-06-12T03:39:17.398Z"
   },
   {
    "duration": 453,
    "start_time": "2024-06-12T03:39:23.668Z"
   },
   {
    "duration": 530,
    "start_time": "2024-06-12T03:40:03.932Z"
   },
   {
    "duration": 529,
    "start_time": "2024-06-12T03:47:52.517Z"
   },
   {
    "duration": 512,
    "start_time": "2024-06-12T03:48:01.717Z"
   },
   {
    "duration": 504,
    "start_time": "2024-06-12T03:49:23.661Z"
   },
   {
    "duration": 3,
    "start_time": "2024-06-12T03:51:36.807Z"
   },
   {
    "duration": 63,
    "start_time": "2024-06-12T03:52:27.095Z"
   },
   {
    "duration": 509,
    "start_time": "2024-06-12T03:52:42.082Z"
   },
   {
    "duration": 517,
    "start_time": "2024-06-12T03:53:10.767Z"
   },
   {
    "duration": 509,
    "start_time": "2024-06-12T03:54:31.900Z"
   },
   {
    "duration": 557,
    "start_time": "2024-06-12T03:54:51.254Z"
   },
   {
    "duration": 330,
    "start_time": "2024-06-12T03:56:40.310Z"
   },
   {
    "duration": 535,
    "start_time": "2024-06-12T03:56:53.605Z"
   },
   {
    "duration": 658,
    "start_time": "2024-06-12T03:57:36.140Z"
   },
   {
    "duration": 524,
    "start_time": "2024-06-12T04:02:15.741Z"
   },
   {
    "duration": 551,
    "start_time": "2024-06-12T04:02:40.155Z"
   },
   {
    "duration": 540,
    "start_time": "2024-06-12T04:03:15.614Z"
   },
   {
    "duration": 39,
    "start_time": "2024-06-12T04:04:45.684Z"
   },
   {
    "duration": 17,
    "start_time": "2024-06-12T04:04:58.690Z"
   },
   {
    "duration": 17,
    "start_time": "2024-06-12T04:05:26.043Z"
   },
   {
    "duration": 17,
    "start_time": "2024-06-12T04:05:42.338Z"
   },
   {
    "duration": 20,
    "start_time": "2024-06-12T04:05:58.693Z"
   },
   {
    "duration": 7,
    "start_time": "2024-06-12T04:08:11.866Z"
   },
   {
    "duration": 8,
    "start_time": "2024-06-12T04:09:00.308Z"
   },
   {
    "duration": 20,
    "start_time": "2024-06-12T04:13:31.064Z"
   },
   {
    "duration": 27,
    "start_time": "2024-06-12T04:13:52.712Z"
   },
   {
    "duration": 33,
    "start_time": "2024-06-12T04:16:54.637Z"
   },
   {
    "duration": 31,
    "start_time": "2024-06-12T04:18:18.049Z"
   },
   {
    "duration": 57,
    "start_time": "2024-06-12T04:20:52.320Z"
   },
   {
    "duration": 40,
    "start_time": "2024-06-12T04:20:59.555Z"
   },
   {
    "duration": 875,
    "start_time": "2024-06-13T03:22:35.643Z"
   },
   {
    "duration": 922,
    "start_time": "2024-06-13T03:22:36.520Z"
   },
   {
    "duration": 5,
    "start_time": "2024-06-13T03:22:37.444Z"
   },
   {
    "duration": 23,
    "start_time": "2024-06-13T03:22:37.450Z"
   },
   {
    "duration": 6,
    "start_time": "2024-06-13T03:22:37.475Z"
   },
   {
    "duration": 18,
    "start_time": "2024-06-13T03:22:37.483Z"
   },
   {
    "duration": 117,
    "start_time": "2024-06-13T03:22:37.503Z"
   },
   {
    "duration": 64,
    "start_time": "2024-06-13T03:22:37.622Z"
   },
   {
    "duration": 12,
    "start_time": "2024-06-13T03:22:37.688Z"
   },
   {
    "duration": 35,
    "start_time": "2024-06-13T03:22:37.702Z"
   },
   {
    "duration": 21,
    "start_time": "2024-06-13T03:22:37.739Z"
   },
   {
    "duration": 627,
    "start_time": "2024-06-13T03:22:37.761Z"
   },
   {
    "duration": 8,
    "start_time": "2024-06-13T03:22:38.389Z"
   },
   {
    "duration": 36,
    "start_time": "2024-06-13T03:22:38.399Z"
   },
   {
    "duration": 38,
    "start_time": "2024-06-13T03:22:38.437Z"
   },
   {
    "duration": 36,
    "start_time": "2024-06-13T03:26:31.845Z"
   },
   {
    "duration": 39,
    "start_time": "2024-06-13T03:26:51.778Z"
   },
   {
    "duration": 37,
    "start_time": "2024-06-13T03:38:08.118Z"
   },
   {
    "duration": 60,
    "start_time": "2024-06-13T03:38:28.091Z"
   },
   {
    "duration": 43,
    "start_time": "2024-06-13T03:39:17.235Z"
   },
   {
    "duration": 58,
    "start_time": "2024-06-13T03:39:45.887Z"
   },
   {
    "duration": 60,
    "start_time": "2024-06-13T03:41:17.473Z"
   },
   {
    "duration": 60,
    "start_time": "2024-06-13T03:41:25.875Z"
   },
   {
    "duration": 67,
    "start_time": "2024-06-13T03:41:49.958Z"
   },
   {
    "duration": 63,
    "start_time": "2024-06-13T03:44:25.112Z"
   },
   {
    "duration": 9,
    "start_time": "2024-06-13T03:57:24.451Z"
   },
   {
    "duration": 92,
    "start_time": "2024-06-13T03:58:21.451Z"
   },
   {
    "duration": 8,
    "start_time": "2024-06-13T03:58:33.807Z"
   },
   {
    "duration": 6,
    "start_time": "2024-06-13T04:00:30.070Z"
   },
   {
    "duration": 12,
    "start_time": "2024-06-13T04:00:44.818Z"
   },
   {
    "duration": 11,
    "start_time": "2024-06-13T04:02:31.039Z"
   },
   {
    "duration": 15,
    "start_time": "2024-06-13T04:03:23.062Z"
   },
   {
    "duration": 15,
    "start_time": "2024-06-13T04:03:34.027Z"
   },
   {
    "duration": 9,
    "start_time": "2024-06-13T04:08:21.132Z"
   },
   {
    "duration": 8,
    "start_time": "2024-06-13T04:08:38.831Z"
   },
   {
    "duration": 25,
    "start_time": "2024-06-13T04:10:08.451Z"
   },
   {
    "duration": 19,
    "start_time": "2024-06-13T04:10:33.686Z"
   },
   {
    "duration": 7,
    "start_time": "2024-06-13T04:11:02.388Z"
   },
   {
    "duration": 7,
    "start_time": "2024-06-13T04:11:14.904Z"
   },
   {
    "duration": 10,
    "start_time": "2024-06-13T04:11:31.078Z"
   },
   {
    "duration": 7,
    "start_time": "2024-06-13T04:12:11.039Z"
   },
   {
    "duration": 9,
    "start_time": "2024-06-13T04:12:36.840Z"
   },
   {
    "duration": 6,
    "start_time": "2024-06-13T04:15:22.971Z"
   },
   {
    "duration": 6,
    "start_time": "2024-06-13T04:17:03.984Z"
   },
   {
    "duration": 4,
    "start_time": "2024-06-13T04:17:21.742Z"
   },
   {
    "duration": 5,
    "start_time": "2024-06-13T04:17:32.965Z"
   },
   {
    "duration": 4,
    "start_time": "2024-06-13T04:17:43.066Z"
   },
   {
    "duration": 4,
    "start_time": "2024-06-13T04:17:58.446Z"
   },
   {
    "duration": 5,
    "start_time": "2024-06-13T04:18:17.732Z"
   },
   {
    "duration": 27,
    "start_time": "2024-06-13T04:21:57.825Z"
   },
   {
    "duration": 36,
    "start_time": "2024-06-13T04:23:21.717Z"
   },
   {
    "duration": 519,
    "start_time": "2024-06-13T04:29:14.329Z"
   },
   {
    "duration": 7,
    "start_time": "2024-06-13T04:36:57.115Z"
   },
   {
    "duration": 9,
    "start_time": "2024-06-13T04:37:10.075Z"
   },
   {
    "duration": 8,
    "start_time": "2024-06-13T04:37:33.032Z"
   },
   {
    "duration": 21,
    "start_time": "2024-06-13T04:38:09.571Z"
   },
   {
    "duration": 23,
    "start_time": "2024-06-13T04:38:19.190Z"
   },
   {
    "duration": 1181,
    "start_time": "2024-06-13T04:45:19.070Z"
   },
   {
    "duration": 242,
    "start_time": "2024-06-13T04:45:20.256Z"
   },
   {
    "duration": 5,
    "start_time": "2024-06-13T04:45:20.500Z"
   },
   {
    "duration": 22,
    "start_time": "2024-06-13T04:45:20.507Z"
   },
   {
    "duration": 11,
    "start_time": "2024-06-13T04:45:20.531Z"
   },
   {
    "duration": 29,
    "start_time": "2024-06-13T04:45:20.543Z"
   },
   {
    "duration": 93,
    "start_time": "2024-06-13T04:45:20.574Z"
   },
   {
    "duration": 40,
    "start_time": "2024-06-13T04:45:20.669Z"
   },
   {
    "duration": 9,
    "start_time": "2024-06-13T04:45:20.711Z"
   },
   {
    "duration": 53,
    "start_time": "2024-06-13T04:45:20.721Z"
   },
   {
    "duration": 6,
    "start_time": "2024-06-13T04:45:20.776Z"
   },
   {
    "duration": 630,
    "start_time": "2024-06-13T04:45:20.783Z"
   },
   {
    "duration": 8,
    "start_time": "2024-06-13T04:45:21.414Z"
   },
   {
    "duration": 45,
    "start_time": "2024-06-13T04:45:21.424Z"
   },
   {
    "duration": 21,
    "start_time": "2024-06-13T04:45:21.471Z"
   },
   {
    "duration": 45,
    "start_time": "2024-06-13T04:45:21.493Z"
   },
   {
    "duration": 65,
    "start_time": "2024-06-13T04:45:21.556Z"
   },
   {
    "duration": 9,
    "start_time": "2024-06-13T04:45:21.623Z"
   },
   {
    "duration": 24,
    "start_time": "2024-06-13T04:45:21.634Z"
   },
   {
    "duration": 37,
    "start_time": "2024-06-13T04:45:21.659Z"
   },
   {
    "duration": 12,
    "start_time": "2024-06-13T04:58:38.859Z"
   },
   {
    "duration": 1118,
    "start_time": "2024-06-13T06:38:07.910Z"
   },
   {
    "duration": 234,
    "start_time": "2024-06-13T06:38:09.030Z"
   },
   {
    "duration": 5,
    "start_time": "2024-06-13T06:38:09.266Z"
   },
   {
    "duration": 20,
    "start_time": "2024-06-13T06:38:09.273Z"
   },
   {
    "duration": 10,
    "start_time": "2024-06-13T06:38:09.295Z"
   },
   {
    "duration": 26,
    "start_time": "2024-06-13T06:38:09.307Z"
   },
   {
    "duration": 104,
    "start_time": "2024-06-13T06:38:09.355Z"
   },
   {
    "duration": 41,
    "start_time": "2024-06-13T06:38:09.461Z"
   },
   {
    "duration": 9,
    "start_time": "2024-06-13T06:38:09.504Z"
   },
   {
    "duration": 60,
    "start_time": "2024-06-13T06:38:09.516Z"
   },
   {
    "duration": 25,
    "start_time": "2024-06-13T06:38:09.578Z"
   },
   {
    "duration": 690,
    "start_time": "2024-06-13T06:38:09.605Z"
   },
   {
    "duration": 8,
    "start_time": "2024-06-13T06:38:10.297Z"
   },
   {
    "duration": 37,
    "start_time": "2024-06-13T06:38:10.306Z"
   },
   {
    "duration": 29,
    "start_time": "2024-06-13T06:38:10.357Z"
   },
   {
    "duration": 39,
    "start_time": "2024-06-13T06:38:10.388Z"
   },
   {
    "duration": 110,
    "start_time": "2024-06-13T06:38:10.429Z"
   },
   {
    "duration": 25,
    "start_time": "2024-06-13T06:38:10.541Z"
   },
   {
    "duration": 12,
    "start_time": "2024-06-13T06:38:10.568Z"
   },
   {
    "duration": 55,
    "start_time": "2024-06-13T06:38:10.582Z"
   },
   {
    "duration": 12,
    "start_time": "2024-06-13T06:40:25.444Z"
   },
   {
    "duration": 30,
    "start_time": "2024-06-13T06:45:07.952Z"
   },
   {
    "duration": 24,
    "start_time": "2024-06-13T06:46:32.780Z"
   },
   {
    "duration": 23,
    "start_time": "2024-06-13T06:47:29.079Z"
   },
   {
    "duration": 115,
    "start_time": "2024-06-13T06:47:42.229Z"
   },
   {
    "duration": 27,
    "start_time": "2024-06-13T06:47:53.039Z"
   },
   {
    "duration": 16,
    "start_time": "2024-06-13T06:55:50.076Z"
   },
   {
    "duration": 6,
    "start_time": "2024-06-13T06:56:38.337Z"
   },
   {
    "duration": 1211,
    "start_time": "2024-06-13T08:54:24.709Z"
   },
   {
    "duration": 276,
    "start_time": "2024-06-13T08:54:25.921Z"
   },
   {
    "duration": 5,
    "start_time": "2024-06-13T08:54:26.198Z"
   },
   {
    "duration": 16,
    "start_time": "2024-06-13T08:54:26.205Z"
   },
   {
    "duration": 4,
    "start_time": "2024-06-13T08:54:26.223Z"
   },
   {
    "duration": 20,
    "start_time": "2024-06-13T08:54:26.228Z"
   },
   {
    "duration": 72,
    "start_time": "2024-06-13T08:54:26.250Z"
   },
   {
    "duration": 33,
    "start_time": "2024-06-13T08:54:26.324Z"
   },
   {
    "duration": 14,
    "start_time": "2024-06-13T08:54:26.359Z"
   },
   {
    "duration": 38,
    "start_time": "2024-06-13T08:54:26.376Z"
   },
   {
    "duration": 7,
    "start_time": "2024-06-13T08:54:26.416Z"
   },
   {
    "duration": 565,
    "start_time": "2024-06-13T08:54:26.425Z"
   },
   {
    "duration": 12,
    "start_time": "2024-06-13T08:54:26.991Z"
   },
   {
    "duration": 26,
    "start_time": "2024-06-13T08:54:27.005Z"
   },
   {
    "duration": 17,
    "start_time": "2024-06-13T08:54:27.032Z"
   },
   {
    "duration": 31,
    "start_time": "2024-06-13T08:54:27.051Z"
   },
   {
    "duration": 57,
    "start_time": "2024-06-13T08:54:27.102Z"
   },
   {
    "duration": 9,
    "start_time": "2024-06-13T08:54:27.161Z"
   },
   {
    "duration": 15,
    "start_time": "2024-06-13T08:54:27.172Z"
   },
   {
    "duration": 41,
    "start_time": "2024-06-13T08:54:27.188Z"
   },
   {
    "duration": 19,
    "start_time": "2024-06-13T08:54:27.230Z"
   },
   {
    "duration": 18,
    "start_time": "2024-06-13T08:54:27.251Z"
   },
   {
    "duration": 68,
    "start_time": "2024-06-13T08:54:27.270Z"
   },
   {
    "duration": 0,
    "start_time": "2024-06-13T08:54:27.339Z"
   },
   {
    "duration": 19,
    "start_time": "2024-06-13T08:57:24.116Z"
   },
   {
    "duration": 27,
    "start_time": "2024-06-13T09:11:38.364Z"
   },
   {
    "duration": 28,
    "start_time": "2024-06-13T09:13:25.422Z"
   },
   {
    "duration": 108,
    "start_time": "2024-06-13T09:13:40.763Z"
   },
   {
    "duration": 28,
    "start_time": "2024-06-13T09:13:55.008Z"
   },
   {
    "duration": 27,
    "start_time": "2024-06-13T09:14:07.418Z"
   },
   {
    "duration": 5,
    "start_time": "2024-06-13T09:15:47.594Z"
   },
   {
    "duration": 60,
    "start_time": "2024-06-13T09:16:50.397Z"
   },
   {
    "duration": 7,
    "start_time": "2024-06-13T09:16:57.728Z"
   },
   {
    "duration": 1044,
    "start_time": "2024-06-13T09:17:18.526Z"
   },
   {
    "duration": 3,
    "start_time": "2024-06-13T09:18:38.139Z"
   },
   {
    "duration": 3,
    "start_time": "2024-06-13T09:19:06.178Z"
   },
   {
    "duration": 1025,
    "start_time": "2024-06-13T09:20:31.127Z"
   },
   {
    "duration": 4,
    "start_time": "2024-06-13T09:21:52.482Z"
   },
   {
    "duration": 1003,
    "start_time": "2024-06-13T09:23:33.048Z"
   },
   {
    "duration": 4,
    "start_time": "2024-06-13T09:25:08.430Z"
   },
   {
    "duration": 1094,
    "start_time": "2024-06-13T09:25:28.629Z"
   },
   {
    "duration": 1081,
    "start_time": "2024-06-13T09:27:56.990Z"
   },
   {
    "duration": 1198,
    "start_time": "2024-06-13T17:53:48.262Z"
   },
   {
    "duration": 304,
    "start_time": "2024-06-13T17:53:49.462Z"
   },
   {
    "duration": 4,
    "start_time": "2024-06-13T17:53:49.768Z"
   },
   {
    "duration": 26,
    "start_time": "2024-06-13T17:53:49.774Z"
   },
   {
    "duration": 9,
    "start_time": "2024-06-13T17:53:49.802Z"
   },
   {
    "duration": 18,
    "start_time": "2024-06-13T17:53:49.813Z"
   },
   {
    "duration": 83,
    "start_time": "2024-06-13T17:53:49.832Z"
   },
   {
    "duration": 36,
    "start_time": "2024-06-13T17:53:49.917Z"
   },
   {
    "duration": 8,
    "start_time": "2024-06-13T17:53:49.955Z"
   },
   {
    "duration": 46,
    "start_time": "2024-06-13T17:53:49.966Z"
   },
   {
    "duration": 8,
    "start_time": "2024-06-13T17:53:50.013Z"
   },
   {
    "duration": 628,
    "start_time": "2024-06-13T17:53:50.023Z"
   },
   {
    "duration": 8,
    "start_time": "2024-06-13T17:53:50.653Z"
   },
   {
    "duration": 40,
    "start_time": "2024-06-13T17:53:50.662Z"
   },
   {
    "duration": 22,
    "start_time": "2024-06-13T17:53:50.712Z"
   },
   {
    "duration": 36,
    "start_time": "2024-06-13T17:53:50.736Z"
   },
   {
    "duration": 83,
    "start_time": "2024-06-13T17:53:50.773Z"
   },
   {
    "duration": 10,
    "start_time": "2024-06-13T17:53:50.858Z"
   },
   {
    "duration": 8,
    "start_time": "2024-06-13T17:53:50.870Z"
   },
   {
    "duration": 54,
    "start_time": "2024-06-13T17:53:50.880Z"
   },
   {
    "duration": 31,
    "start_time": "2024-06-13T17:53:50.935Z"
   },
   {
    "duration": 45,
    "start_time": "2024-06-13T17:53:50.968Z"
   },
   {
    "duration": 4,
    "start_time": "2024-06-13T17:53:51.015Z"
   },
   {
    "duration": 7,
    "start_time": "2024-06-13T17:53:51.021Z"
   },
   {
    "duration": 1082,
    "start_time": "2024-06-13T17:53:51.029Z"
   },
   {
    "duration": 1016,
    "start_time": "2024-06-13T17:56:18.604Z"
   },
   {
    "duration": 1047,
    "start_time": "2024-06-13T17:58:06.927Z"
   },
   {
    "duration": 4,
    "start_time": "2024-06-13T18:41:46.174Z"
   },
   {
    "duration": 7,
    "start_time": "2024-06-13T18:41:57.726Z"
   },
   {
    "duration": 9,
    "start_time": "2024-06-13T18:42:28.055Z"
   },
   {
    "duration": 2054,
    "start_time": "2024-06-13T18:44:46.812Z"
   },
   {
    "duration": 32,
    "start_time": "2024-06-13T18:45:04.512Z"
   },
   {
    "duration": 37,
    "start_time": "2024-06-13T18:46:02.350Z"
   },
   {
    "duration": 41,
    "start_time": "2024-06-13T18:46:23.841Z"
   },
   {
    "duration": 5,
    "start_time": "2024-06-13T18:46:35.891Z"
   },
   {
    "duration": 9,
    "start_time": "2024-06-13T18:47:00.192Z"
   },
   {
    "duration": 5,
    "start_time": "2024-06-13T18:47:14.422Z"
   },
   {
    "duration": 38,
    "start_time": "2024-06-13T18:47:39.904Z"
   },
   {
    "duration": 40,
    "start_time": "2024-06-13T18:48:08.489Z"
   },
   {
    "duration": 3,
    "start_time": "2024-06-13T18:50:23.534Z"
   },
   {
    "duration": 7,
    "start_time": "2024-06-13T18:50:34.777Z"
   },
   {
    "duration": 6,
    "start_time": "2024-06-13T18:51:50.925Z"
   },
   {
    "duration": 7,
    "start_time": "2024-06-13T18:52:08.619Z"
   },
   {
    "duration": 36,
    "start_time": "2024-06-13T18:53:21.032Z"
   },
   {
    "duration": 37,
    "start_time": "2024-06-13T18:53:43.163Z"
   },
   {
    "duration": 39,
    "start_time": "2024-06-13T18:54:03.258Z"
   },
   {
    "duration": 8,
    "start_time": "2024-06-13T18:54:21.424Z"
   },
   {
    "duration": 6,
    "start_time": "2024-06-13T19:12:54.038Z"
   },
   {
    "duration": 1102,
    "start_time": "2024-06-13T19:13:06.611Z"
   },
   {
    "duration": 4,
    "start_time": "2024-06-13T19:13:39.851Z"
   },
   {
    "duration": 5,
    "start_time": "2024-06-13T19:16:28.730Z"
   },
   {
    "duration": 10,
    "start_time": "2024-06-13T19:16:32.943Z"
   },
   {
    "duration": 3,
    "start_time": "2024-06-13T19:16:45.038Z"
   },
   {
    "duration": 1107,
    "start_time": "2024-06-13T19:16:52.702Z"
   },
   {
    "duration": 195,
    "start_time": "2024-06-13T19:16:53.811Z"
   },
   {
    "duration": 5,
    "start_time": "2024-06-13T19:16:54.008Z"
   },
   {
    "duration": 26,
    "start_time": "2024-06-13T19:16:54.015Z"
   },
   {
    "duration": 12,
    "start_time": "2024-06-13T19:16:54.043Z"
   },
   {
    "duration": 32,
    "start_time": "2024-06-13T19:16:54.057Z"
   },
   {
    "duration": 73,
    "start_time": "2024-06-13T19:16:54.091Z"
   },
   {
    "duration": 34,
    "start_time": "2024-06-13T19:16:54.165Z"
   },
   {
    "duration": 7,
    "start_time": "2024-06-13T19:16:54.212Z"
   },
   {
    "duration": 30,
    "start_time": "2024-06-13T19:16:54.220Z"
   },
   {
    "duration": 6,
    "start_time": "2024-06-13T19:16:54.252Z"
   },
   {
    "duration": 576,
    "start_time": "2024-06-13T19:16:54.259Z"
   },
   {
    "duration": 7,
    "start_time": "2024-06-13T19:16:54.837Z"
   },
   {
    "duration": 32,
    "start_time": "2024-06-13T19:16:54.847Z"
   },
   {
    "duration": 35,
    "start_time": "2024-06-13T19:16:54.881Z"
   },
   {
    "duration": 36,
    "start_time": "2024-06-13T19:16:54.917Z"
   },
   {
    "duration": 74,
    "start_time": "2024-06-13T19:16:54.954Z"
   },
   {
    "duration": 8,
    "start_time": "2024-06-13T19:16:55.030Z"
   },
   {
    "duration": 30,
    "start_time": "2024-06-13T19:16:55.040Z"
   },
   {
    "duration": 34,
    "start_time": "2024-06-13T19:16:55.071Z"
   },
   {
    "duration": 38,
    "start_time": "2024-06-13T19:16:55.107Z"
   },
   {
    "duration": 35,
    "start_time": "2024-06-13T19:16:55.147Z"
   },
   {
    "duration": 4,
    "start_time": "2024-06-13T19:16:55.183Z"
   },
   {
    "duration": 24,
    "start_time": "2024-06-13T19:16:55.188Z"
   },
   {
    "duration": 104,
    "start_time": "2024-06-13T19:16:55.213Z"
   },
   {
    "duration": 0,
    "start_time": "2024-06-13T19:16:55.319Z"
   },
   {
    "duration": 0,
    "start_time": "2024-06-13T19:16:55.320Z"
   },
   {
    "duration": 0,
    "start_time": "2024-06-13T19:16:55.321Z"
   },
   {
    "duration": 0,
    "start_time": "2024-06-13T19:16:55.322Z"
   },
   {
    "duration": 3,
    "start_time": "2024-06-13T19:17:27.449Z"
   },
   {
    "duration": 4,
    "start_time": "2024-06-13T19:17:36.131Z"
   },
   {
    "duration": 5,
    "start_time": "2024-06-13T19:31:00.973Z"
   },
   {
    "duration": 4,
    "start_time": "2024-06-13T19:31:28.269Z"
   },
   {
    "duration": 5,
    "start_time": "2024-06-13T19:31:46.944Z"
   },
   {
    "duration": 43,
    "start_time": "2024-06-13T19:31:49.000Z"
   },
   {
    "duration": 12,
    "start_time": "2024-06-13T19:43:53.861Z"
   },
   {
    "duration": 8,
    "start_time": "2024-06-13T19:45:00.245Z"
   },
   {
    "duration": 5,
    "start_time": "2024-06-13T19:45:14.076Z"
   },
   {
    "duration": 4,
    "start_time": "2024-06-13T19:45:40.203Z"
   },
   {
    "duration": 4,
    "start_time": "2024-06-13T19:45:42.732Z"
   },
   {
    "duration": 5,
    "start_time": "2024-06-13T19:46:09.816Z"
   },
   {
    "duration": 5,
    "start_time": "2024-06-13T19:46:38.274Z"
   },
   {
    "duration": 4,
    "start_time": "2024-06-13T19:46:56.165Z"
   },
   {
    "duration": 4,
    "start_time": "2024-06-13T19:47:16.736Z"
   },
   {
    "duration": 5,
    "start_time": "2024-06-13T19:48:07.056Z"
   },
   {
    "duration": 5,
    "start_time": "2024-06-13T19:48:26.891Z"
   },
   {
    "duration": 4,
    "start_time": "2024-06-13T19:48:46.500Z"
   },
   {
    "duration": 4,
    "start_time": "2024-06-13T19:56:04.380Z"
   },
   {
    "duration": 4,
    "start_time": "2024-06-13T19:56:29.098Z"
   },
   {
    "duration": 4,
    "start_time": "2024-06-13T19:59:31.797Z"
   },
   {
    "duration": 4,
    "start_time": "2024-06-13T19:59:48.431Z"
   },
   {
    "duration": 1363,
    "start_time": "2024-06-14T03:57:55.854Z"
   },
   {
    "duration": 336,
    "start_time": "2024-06-14T03:57:57.219Z"
   },
   {
    "duration": 5,
    "start_time": "2024-06-14T03:57:57.557Z"
   },
   {
    "duration": 19,
    "start_time": "2024-06-14T03:57:57.564Z"
   },
   {
    "duration": 10,
    "start_time": "2024-06-14T03:57:57.586Z"
   },
   {
    "duration": 20,
    "start_time": "2024-06-14T03:57:57.598Z"
   },
   {
    "duration": 100,
    "start_time": "2024-06-14T03:57:57.620Z"
   },
   {
    "duration": 40,
    "start_time": "2024-06-14T03:57:57.721Z"
   },
   {
    "duration": 28,
    "start_time": "2024-06-14T03:57:57.762Z"
   },
   {
    "duration": 24,
    "start_time": "2024-06-14T03:57:57.792Z"
   },
   {
    "duration": 8,
    "start_time": "2024-06-14T03:57:57.818Z"
   },
   {
    "duration": 645,
    "start_time": "2024-06-14T03:57:57.828Z"
   },
   {
    "duration": 12,
    "start_time": "2024-06-14T03:57:58.475Z"
   },
   {
    "duration": 44,
    "start_time": "2024-06-14T03:57:58.490Z"
   },
   {
    "duration": 20,
    "start_time": "2024-06-14T03:57:58.536Z"
   },
   {
    "duration": 49,
    "start_time": "2024-06-14T03:57:58.558Z"
   },
   {
    "duration": 74,
    "start_time": "2024-06-14T03:57:58.609Z"
   },
   {
    "duration": 10,
    "start_time": "2024-06-14T03:57:58.685Z"
   },
   {
    "duration": 7,
    "start_time": "2024-06-14T03:57:58.696Z"
   },
   {
    "duration": 46,
    "start_time": "2024-06-14T03:57:58.705Z"
   },
   {
    "duration": 42,
    "start_time": "2024-06-14T03:57:58.753Z"
   },
   {
    "duration": 36,
    "start_time": "2024-06-14T03:57:58.796Z"
   },
   {
    "duration": 5,
    "start_time": "2024-06-14T03:57:58.833Z"
   },
   {
    "duration": 6,
    "start_time": "2024-06-14T03:57:58.839Z"
   },
   {
    "duration": 17,
    "start_time": "2024-06-14T03:57:58.846Z"
   },
   {
    "duration": 18,
    "start_time": "2024-06-14T03:57:58.865Z"
   },
   {
    "duration": 7,
    "start_time": "2024-06-14T03:57:58.884Z"
   },
   {
    "duration": 6,
    "start_time": "2024-06-14T03:57:58.892Z"
   },
   {
    "duration": 22,
    "start_time": "2024-06-14T03:57:58.900Z"
   },
   {
    "duration": 48,
    "start_time": "2024-06-14T03:57:58.923Z"
   },
   {
    "duration": 9,
    "start_time": "2024-06-14T03:57:58.982Z"
   },
   {
    "duration": 7,
    "start_time": "2024-06-14T03:57:58.992Z"
   },
   {
    "duration": 20,
    "start_time": "2024-06-14T03:57:59.001Z"
   },
   {
    "duration": 10,
    "start_time": "2024-06-14T03:57:59.023Z"
   },
   {
    "duration": 8,
    "start_time": "2024-06-14T03:57:59.034Z"
   },
   {
    "duration": 5,
    "start_time": "2024-06-14T03:57:59.043Z"
   },
   {
    "duration": 9,
    "start_time": "2024-06-14T03:57:59.049Z"
   },
   {
    "duration": 6,
    "start_time": "2024-06-14T03:57:59.059Z"
   },
   {
    "duration": 20,
    "start_time": "2024-06-14T03:57:59.066Z"
   },
   {
    "duration": 8,
    "start_time": "2024-06-14T03:57:59.088Z"
   },
   {
    "duration": 5,
    "start_time": "2024-06-14T03:57:59.100Z"
   },
   {
    "duration": 14,
    "start_time": "2024-06-14T03:57:59.106Z"
   },
   {
    "duration": 10,
    "start_time": "2024-06-14T03:57:59.121Z"
   },
   {
    "duration": 4,
    "start_time": "2024-06-14T03:57:59.133Z"
   },
   {
    "duration": 3,
    "start_time": "2024-06-14T04:02:44.647Z"
   },
   {
    "duration": 5,
    "start_time": "2024-06-14T04:02:53.064Z"
   },
   {
    "duration": 5,
    "start_time": "2024-06-14T04:06:12.466Z"
   },
   {
    "duration": 8,
    "start_time": "2024-06-14T04:20:21.366Z"
   },
   {
    "duration": 110,
    "start_time": "2024-06-14T04:23:06.471Z"
   },
   {
    "duration": 10,
    "start_time": "2024-06-14T04:23:18.925Z"
   },
   {
    "duration": 11,
    "start_time": "2024-06-14T04:24:38.347Z"
   },
   {
    "duration": 10,
    "start_time": "2024-06-14T04:24:48.460Z"
   },
   {
    "duration": 4,
    "start_time": "2024-06-14T04:25:20.552Z"
   },
   {
    "duration": 11,
    "start_time": "2024-06-14T04:26:40.161Z"
   },
   {
    "duration": 11,
    "start_time": "2024-06-14T04:27:09.139Z"
   },
   {
    "duration": 62,
    "start_time": "2024-06-14T04:30:39.879Z"
   },
   {
    "duration": 56,
    "start_time": "2024-06-14T04:30:47.585Z"
   },
   {
    "duration": 57,
    "start_time": "2024-06-14T04:31:27.595Z"
   },
   {
    "duration": 1094,
    "start_time": "2024-06-14T04:56:16.508Z"
   },
   {
    "duration": 249,
    "start_time": "2024-06-14T04:56:17.604Z"
   },
   {
    "duration": 5,
    "start_time": "2024-06-14T04:56:17.854Z"
   },
   {
    "duration": 47,
    "start_time": "2024-06-14T04:56:17.861Z"
   },
   {
    "duration": 5,
    "start_time": "2024-06-14T04:56:17.911Z"
   },
   {
    "duration": 19,
    "start_time": "2024-06-14T04:56:17.918Z"
   },
   {
    "duration": 99,
    "start_time": "2024-06-14T04:56:17.939Z"
   },
   {
    "duration": 59,
    "start_time": "2024-06-14T04:56:18.040Z"
   },
   {
    "duration": 13,
    "start_time": "2024-06-14T04:56:18.101Z"
   },
   {
    "duration": 37,
    "start_time": "2024-06-14T04:56:18.115Z"
   },
   {
    "duration": 6,
    "start_time": "2024-06-14T04:56:18.154Z"
   },
   {
    "duration": 629,
    "start_time": "2024-06-14T04:56:18.162Z"
   },
   {
    "duration": 11,
    "start_time": "2024-06-14T04:56:18.794Z"
   },
   {
    "duration": 34,
    "start_time": "2024-06-14T04:56:18.811Z"
   },
   {
    "duration": 43,
    "start_time": "2024-06-14T04:56:18.847Z"
   },
   {
    "duration": 37,
    "start_time": "2024-06-14T04:56:18.892Z"
   },
   {
    "duration": 84,
    "start_time": "2024-06-14T04:56:18.930Z"
   },
   {
    "duration": 11,
    "start_time": "2024-06-14T04:56:19.016Z"
   },
   {
    "duration": 17,
    "start_time": "2024-06-14T04:56:19.029Z"
   },
   {
    "duration": 48,
    "start_time": "2024-06-14T04:56:19.048Z"
   },
   {
    "duration": 53,
    "start_time": "2024-06-14T04:56:19.098Z"
   },
   {
    "duration": 61,
    "start_time": "2024-06-14T04:56:19.152Z"
   },
   {
    "duration": 44,
    "start_time": "2024-06-14T04:56:19.215Z"
   },
   {
    "duration": 23,
    "start_time": "2024-06-14T04:56:19.261Z"
   },
   {
    "duration": 7,
    "start_time": "2024-06-14T04:56:19.286Z"
   },
   {
    "duration": 11,
    "start_time": "2024-06-14T04:56:19.295Z"
   },
   {
    "duration": 10,
    "start_time": "2024-06-14T04:56:19.308Z"
   },
   {
    "duration": 12,
    "start_time": "2024-06-14T04:56:19.320Z"
   },
   {
    "duration": 23,
    "start_time": "2024-06-14T04:56:19.334Z"
   },
   {
    "duration": 74,
    "start_time": "2024-06-14T04:56:19.359Z"
   },
   {
    "duration": 9,
    "start_time": "2024-06-14T04:56:19.435Z"
   },
   {
    "duration": 8,
    "start_time": "2024-06-14T04:56:19.445Z"
   },
   {
    "duration": 21,
    "start_time": "2024-06-14T04:56:19.454Z"
   },
   {
    "duration": 14,
    "start_time": "2024-06-14T04:56:19.476Z"
   },
   {
    "duration": 7,
    "start_time": "2024-06-14T04:56:19.491Z"
   },
   {
    "duration": 13,
    "start_time": "2024-06-14T04:56:19.499Z"
   },
   {
    "duration": 16,
    "start_time": "2024-06-14T04:56:19.514Z"
   },
   {
    "duration": 17,
    "start_time": "2024-06-14T04:56:19.532Z"
   },
   {
    "duration": 6,
    "start_time": "2024-06-14T04:56:19.551Z"
   },
   {
    "duration": 9,
    "start_time": "2024-06-14T04:56:19.558Z"
   },
   {
    "duration": 11,
    "start_time": "2024-06-14T04:56:19.570Z"
   },
   {
    "duration": 6,
    "start_time": "2024-06-14T04:56:19.582Z"
   },
   {
    "duration": 6,
    "start_time": "2024-06-14T04:56:19.589Z"
   },
   {
    "duration": 6,
    "start_time": "2024-06-14T04:56:19.596Z"
   },
   {
    "duration": 13,
    "start_time": "2024-06-14T04:56:51.847Z"
   },
   {
    "duration": 1016,
    "start_time": "2024-06-14T06:53:52.519Z"
   },
   {
    "duration": 174,
    "start_time": "2024-06-14T06:53:53.537Z"
   },
   {
    "duration": 5,
    "start_time": "2024-06-14T06:53:53.712Z"
   },
   {
    "duration": 34,
    "start_time": "2024-06-14T06:53:53.718Z"
   },
   {
    "duration": 5,
    "start_time": "2024-06-14T06:53:53.754Z"
   },
   {
    "duration": 16,
    "start_time": "2024-06-14T06:53:53.760Z"
   },
   {
    "duration": 66,
    "start_time": "2024-06-14T06:53:53.777Z"
   },
   {
    "duration": 31,
    "start_time": "2024-06-14T06:53:53.845Z"
   },
   {
    "duration": 8,
    "start_time": "2024-06-14T06:53:53.878Z"
   },
   {
    "duration": 33,
    "start_time": "2024-06-14T06:53:53.887Z"
   },
   {
    "duration": 5,
    "start_time": "2024-06-14T06:53:53.921Z"
   },
   {
    "duration": 571,
    "start_time": "2024-06-14T06:53:53.927Z"
   },
   {
    "duration": 14,
    "start_time": "2024-06-14T06:53:54.499Z"
   },
   {
    "duration": 30,
    "start_time": "2024-06-14T06:53:54.515Z"
   },
   {
    "duration": 16,
    "start_time": "2024-06-14T06:53:54.546Z"
   },
   {
    "duration": 47,
    "start_time": "2024-06-14T06:53:54.563Z"
   },
   {
    "duration": 55,
    "start_time": "2024-06-14T06:53:54.611Z"
   },
   {
    "duration": 9,
    "start_time": "2024-06-14T06:53:54.667Z"
   },
   {
    "duration": 12,
    "start_time": "2024-06-14T06:53:54.677Z"
   },
   {
    "duration": 44,
    "start_time": "2024-06-14T06:53:54.690Z"
   },
   {
    "duration": 43,
    "start_time": "2024-06-14T06:53:54.735Z"
   },
   {
    "duration": 44,
    "start_time": "2024-06-14T06:53:54.780Z"
   },
   {
    "duration": 32,
    "start_time": "2024-06-14T06:53:54.826Z"
   },
   {
    "duration": 5,
    "start_time": "2024-06-14T06:53:54.859Z"
   },
   {
    "duration": 7,
    "start_time": "2024-06-14T06:53:54.865Z"
   },
   {
    "duration": 4,
    "start_time": "2024-06-14T06:53:54.873Z"
   },
   {
    "duration": 4,
    "start_time": "2024-06-14T06:53:54.878Z"
   },
   {
    "duration": 7,
    "start_time": "2024-06-14T06:53:54.908Z"
   },
   {
    "duration": 12,
    "start_time": "2024-06-14T06:53:54.917Z"
   },
   {
    "duration": 37,
    "start_time": "2024-06-14T06:53:54.931Z"
   },
   {
    "duration": 7,
    "start_time": "2024-06-14T06:53:54.969Z"
   },
   {
    "duration": 19,
    "start_time": "2024-06-14T06:53:54.977Z"
   },
   {
    "duration": 12,
    "start_time": "2024-06-14T06:53:54.998Z"
   },
   {
    "duration": 17,
    "start_time": "2024-06-14T06:53:55.011Z"
   },
   {
    "duration": 38,
    "start_time": "2024-06-14T06:53:55.029Z"
   },
   {
    "duration": 7,
    "start_time": "2024-06-14T06:53:55.068Z"
   },
   {
    "duration": 7,
    "start_time": "2024-06-14T06:53:55.076Z"
   },
   {
    "duration": 4,
    "start_time": "2024-06-14T06:53:55.084Z"
   },
   {
    "duration": 5,
    "start_time": "2024-06-14T06:53:55.089Z"
   },
   {
    "duration": 9,
    "start_time": "2024-06-14T06:53:55.095Z"
   },
   {
    "duration": 4,
    "start_time": "2024-06-14T06:53:55.107Z"
   },
   {
    "duration": 15,
    "start_time": "2024-06-14T06:53:55.113Z"
   },
   {
    "duration": 4,
    "start_time": "2024-06-14T06:53:55.129Z"
   },
   {
    "duration": 6,
    "start_time": "2024-06-14T06:53:55.134Z"
   },
   {
    "duration": 27,
    "start_time": "2024-06-14T06:58:35.495Z"
   },
   {
    "duration": 1037,
    "start_time": "2024-06-14T07:06:34.502Z"
   },
   {
    "duration": 170,
    "start_time": "2024-06-14T07:06:35.540Z"
   },
   {
    "duration": 4,
    "start_time": "2024-06-14T07:06:35.712Z"
   },
   {
    "duration": 34,
    "start_time": "2024-06-14T07:06:35.717Z"
   },
   {
    "duration": 4,
    "start_time": "2024-06-14T07:06:35.753Z"
   },
   {
    "duration": 25,
    "start_time": "2024-06-14T07:06:35.758Z"
   },
   {
    "duration": 68,
    "start_time": "2024-06-14T07:06:35.785Z"
   },
   {
    "duration": 30,
    "start_time": "2024-06-14T07:06:35.855Z"
   },
   {
    "duration": 7,
    "start_time": "2024-06-14T07:06:35.886Z"
   },
   {
    "duration": 17,
    "start_time": "2024-06-14T07:06:35.909Z"
   },
   {
    "duration": 10,
    "start_time": "2024-06-14T07:06:35.928Z"
   },
   {
    "duration": 572,
    "start_time": "2024-06-14T07:06:35.939Z"
   },
   {
    "duration": 7,
    "start_time": "2024-06-14T07:06:36.512Z"
   },
   {
    "duration": 37,
    "start_time": "2024-06-14T07:06:36.521Z"
   },
   {
    "duration": 19,
    "start_time": "2024-06-14T07:06:36.560Z"
   },
   {
    "duration": 52,
    "start_time": "2024-06-14T07:06:36.581Z"
   },
   {
    "duration": 57,
    "start_time": "2024-06-14T07:06:36.634Z"
   },
   {
    "duration": 25,
    "start_time": "2024-06-14T07:06:36.692Z"
   },
   {
    "duration": 21,
    "start_time": "2024-06-14T07:06:36.718Z"
   },
   {
    "duration": 32,
    "start_time": "2024-06-14T07:06:36.740Z"
   },
   {
    "duration": 44,
    "start_time": "2024-06-14T07:06:36.774Z"
   },
   {
    "duration": 38,
    "start_time": "2024-06-14T07:06:36.819Z"
   },
   {
    "duration": 35,
    "start_time": "2024-06-14T07:06:36.859Z"
   },
   {
    "duration": 7,
    "start_time": "2024-06-14T07:06:36.911Z"
   },
   {
    "duration": 34,
    "start_time": "2024-06-14T07:06:36.920Z"
   },
   {
    "duration": 18,
    "start_time": "2024-06-14T07:06:36.955Z"
   },
   {
    "duration": 10,
    "start_time": "2024-06-14T07:06:36.975Z"
   },
   {
    "duration": 7,
    "start_time": "2024-06-14T07:06:36.987Z"
   },
   {
    "duration": 20,
    "start_time": "2024-06-14T07:06:36.995Z"
   },
   {
    "duration": 37,
    "start_time": "2024-06-14T07:06:37.017Z"
   },
   {
    "duration": 7,
    "start_time": "2024-06-14T07:06:37.056Z"
   },
   {
    "duration": 9,
    "start_time": "2024-06-14T07:06:37.064Z"
   },
   {
    "duration": 6,
    "start_time": "2024-06-14T07:06:37.074Z"
   },
   {
    "duration": 4,
    "start_time": "2024-06-14T07:06:37.081Z"
   },
   {
    "duration": 25,
    "start_time": "2024-06-14T07:06:37.087Z"
   },
   {
    "duration": 7,
    "start_time": "2024-06-14T07:06:37.113Z"
   },
   {
    "duration": 15,
    "start_time": "2024-06-14T07:06:37.121Z"
   },
   {
    "duration": 14,
    "start_time": "2024-06-14T07:06:37.137Z"
   },
   {
    "duration": 8,
    "start_time": "2024-06-14T07:06:37.152Z"
   },
   {
    "duration": 30,
    "start_time": "2024-06-14T07:06:37.161Z"
   },
   {
    "duration": 4,
    "start_time": "2024-06-14T07:06:37.194Z"
   },
   {
    "duration": 5,
    "start_time": "2024-06-14T07:06:37.199Z"
   },
   {
    "duration": 5,
    "start_time": "2024-06-14T07:06:37.206Z"
   },
   {
    "duration": 4,
    "start_time": "2024-06-14T07:06:37.212Z"
   },
   {
    "duration": 56,
    "start_time": "2024-06-14T19:28:33.470Z"
   },
   {
    "duration": 1214,
    "start_time": "2024-06-14T19:28:38.716Z"
   },
   {
    "duration": 786,
    "start_time": "2024-06-14T19:28:39.931Z"
   },
   {
    "duration": 4,
    "start_time": "2024-06-14T19:28:40.718Z"
   },
   {
    "duration": 12,
    "start_time": "2024-06-14T19:28:40.724Z"
   },
   {
    "duration": 4,
    "start_time": "2024-06-14T19:28:40.738Z"
   },
   {
    "duration": 15,
    "start_time": "2024-06-14T19:28:40.743Z"
   },
   {
    "duration": 87,
    "start_time": "2024-06-14T19:28:40.759Z"
   },
   {
    "duration": 93,
    "start_time": "2024-06-14T19:28:40.847Z"
   },
   {
    "duration": 34,
    "start_time": "2024-06-14T19:28:40.942Z"
   },
   {
    "duration": 8,
    "start_time": "2024-06-14T19:28:40.979Z"
   },
   {
    "duration": 37,
    "start_time": "2024-06-14T19:28:40.989Z"
   },
   {
    "duration": 7,
    "start_time": "2024-06-14T19:28:41.027Z"
   },
   {
    "duration": 588,
    "start_time": "2024-06-14T19:28:41.036Z"
   },
   {
    "duration": 7,
    "start_time": "2024-06-14T19:28:41.626Z"
   },
   {
    "duration": 27,
    "start_time": "2024-06-14T19:28:41.635Z"
   },
   {
    "duration": 16,
    "start_time": "2024-06-14T19:28:41.663Z"
   },
   {
    "duration": 57,
    "start_time": "2024-06-14T19:28:41.680Z"
   },
   {
    "duration": 71,
    "start_time": "2024-06-14T19:28:41.739Z"
   },
   {
    "duration": 12,
    "start_time": "2024-06-14T19:28:41.812Z"
   },
   {
    "duration": 7,
    "start_time": "2024-06-14T19:28:41.825Z"
   },
   {
    "duration": 34,
    "start_time": "2024-06-14T19:28:41.834Z"
   },
   {
    "duration": 75,
    "start_time": "2024-06-14T19:28:41.870Z"
   },
   {
    "duration": 37,
    "start_time": "2024-06-14T19:28:41.946Z"
   },
   {
    "duration": 46,
    "start_time": "2024-06-14T19:28:41.984Z"
   },
   {
    "duration": 5,
    "start_time": "2024-06-14T19:28:42.032Z"
   },
   {
    "duration": 10,
    "start_time": "2024-06-14T19:28:42.038Z"
   },
   {
    "duration": 4,
    "start_time": "2024-06-14T19:28:42.049Z"
   },
   {
    "duration": 4,
    "start_time": "2024-06-14T19:28:42.057Z"
   },
   {
    "duration": 5,
    "start_time": "2024-06-14T19:28:42.062Z"
   },
   {
    "duration": 11,
    "start_time": "2024-06-14T19:28:42.068Z"
   },
   {
    "duration": 37,
    "start_time": "2024-06-14T19:28:42.109Z"
   },
   {
    "duration": 7,
    "start_time": "2024-06-14T19:28:42.148Z"
   },
   {
    "duration": 6,
    "start_time": "2024-06-14T19:28:42.156Z"
   },
   {
    "duration": 14,
    "start_time": "2024-06-14T19:28:42.163Z"
   },
   {
    "duration": 4,
    "start_time": "2024-06-14T19:28:42.178Z"
   },
   {
    "duration": 28,
    "start_time": "2024-06-14T19:28:42.183Z"
   },
   {
    "duration": 5,
    "start_time": "2024-06-14T19:28:42.212Z"
   },
   {
    "duration": 28,
    "start_time": "2024-06-14T19:28:42.218Z"
   },
   {
    "duration": 14,
    "start_time": "2024-06-14T19:28:42.248Z"
   },
   {
    "duration": 29,
    "start_time": "2024-06-14T19:28:42.263Z"
   },
   {
    "duration": 23,
    "start_time": "2024-06-14T19:28:42.294Z"
   },
   {
    "duration": 4,
    "start_time": "2024-06-14T19:28:42.319Z"
   },
   {
    "duration": 4,
    "start_time": "2024-06-14T19:28:42.324Z"
   },
   {
    "duration": 4,
    "start_time": "2024-06-14T19:28:42.330Z"
   },
   {
    "duration": 4,
    "start_time": "2024-06-14T19:28:42.335Z"
   },
   {
    "duration": 71,
    "start_time": "2024-06-14T19:29:23.633Z"
   },
   {
    "duration": 88,
    "start_time": "2024-06-14T19:30:20.634Z"
   },
   {
    "duration": 49,
    "start_time": "2024-06-15T06:00:52.062Z"
   },
   {
    "duration": 1330,
    "start_time": "2024-06-15T06:00:58.700Z"
   },
   {
    "duration": 926,
    "start_time": "2024-06-15T06:01:00.032Z"
   },
   {
    "duration": 5,
    "start_time": "2024-06-15T06:01:00.959Z"
   },
   {
    "duration": 50,
    "start_time": "2024-06-15T06:01:00.966Z"
   },
   {
    "duration": 35,
    "start_time": "2024-06-15T06:01:01.018Z"
   },
   {
    "duration": 29,
    "start_time": "2024-06-15T06:01:01.054Z"
   },
   {
    "duration": 95,
    "start_time": "2024-06-15T06:01:01.084Z"
   },
   {
    "duration": 111,
    "start_time": "2024-06-15T06:01:01.181Z"
   },
   {
    "duration": 95,
    "start_time": "2024-06-15T06:01:01.294Z"
   },
   {
    "duration": 34,
    "start_time": "2024-06-15T06:01:01.390Z"
   },
   {
    "duration": 21,
    "start_time": "2024-06-15T06:01:01.425Z"
   },
   {
    "duration": 38,
    "start_time": "2024-06-15T06:01:01.447Z"
   },
   {
    "duration": 14,
    "start_time": "2024-06-15T06:01:01.487Z"
   },
   {
    "duration": 606,
    "start_time": "2024-06-15T06:01:01.504Z"
   },
   {
    "duration": 8,
    "start_time": "2024-06-15T06:01:02.112Z"
   },
   {
    "duration": 66,
    "start_time": "2024-06-15T06:01:02.121Z"
   },
   {
    "duration": 26,
    "start_time": "2024-06-15T06:01:02.189Z"
   },
   {
    "duration": 48,
    "start_time": "2024-06-15T06:01:02.216Z"
   },
   {
    "duration": 71,
    "start_time": "2024-06-15T06:01:02.265Z"
   },
   {
    "duration": 21,
    "start_time": "2024-06-15T06:01:02.337Z"
   },
   {
    "duration": 163,
    "start_time": "2024-06-15T06:01:02.359Z"
   },
   {
    "duration": 126,
    "start_time": "2024-06-15T06:01:02.524Z"
   },
   {
    "duration": 53,
    "start_time": "2024-06-15T06:01:02.651Z"
   },
   {
    "duration": 38,
    "start_time": "2024-06-15T06:01:02.706Z"
   },
   {
    "duration": 43,
    "start_time": "2024-06-15T06:01:02.746Z"
   },
   {
    "duration": 5,
    "start_time": "2024-06-15T06:01:02.791Z"
   },
   {
    "duration": 30,
    "start_time": "2024-06-15T06:01:02.798Z"
   },
   {
    "duration": 33,
    "start_time": "2024-06-15T06:01:02.829Z"
   },
   {
    "duration": 25,
    "start_time": "2024-06-15T06:01:02.864Z"
   },
   {
    "duration": 17,
    "start_time": "2024-06-15T06:01:02.890Z"
   },
   {
    "duration": 24,
    "start_time": "2024-06-15T06:01:02.908Z"
   },
   {
    "duration": 51,
    "start_time": "2024-06-15T06:01:02.934Z"
   },
   {
    "duration": 8,
    "start_time": "2024-06-15T06:01:02.987Z"
   },
   {
    "duration": 17,
    "start_time": "2024-06-15T06:01:02.996Z"
   },
   {
    "duration": 12,
    "start_time": "2024-06-15T06:01:03.014Z"
   },
   {
    "duration": 8,
    "start_time": "2024-06-15T06:01:03.027Z"
   },
   {
    "duration": 12,
    "start_time": "2024-06-15T06:01:03.036Z"
   },
   {
    "duration": 10,
    "start_time": "2024-06-15T06:01:03.049Z"
   },
   {
    "duration": 10,
    "start_time": "2024-06-15T06:01:03.060Z"
   },
   {
    "duration": 7,
    "start_time": "2024-06-15T06:01:03.072Z"
   },
   {
    "duration": 5,
    "start_time": "2024-06-15T06:01:03.082Z"
   },
   {
    "duration": 7,
    "start_time": "2024-06-15T06:01:03.089Z"
   },
   {
    "duration": 15,
    "start_time": "2024-06-15T06:01:03.098Z"
   },
   {
    "duration": 7,
    "start_time": "2024-06-15T06:01:03.114Z"
   },
   {
    "duration": 10,
    "start_time": "2024-06-15T06:01:03.123Z"
   },
   {
    "duration": 22,
    "start_time": "2024-06-15T06:01:03.135Z"
   },
   {
    "duration": 149,
    "start_time": "2024-06-15T06:01:46.710Z"
   },
   {
    "duration": 36,
    "start_time": "2024-06-15T06:05:50.851Z"
   },
   {
    "duration": 1147,
    "start_time": "2024-06-15T06:08:07.312Z"
   },
   {
    "duration": 236,
    "start_time": "2024-06-15T06:08:08.461Z"
   },
   {
    "duration": 6,
    "start_time": "2024-06-15T06:08:08.698Z"
   },
   {
    "duration": 44,
    "start_time": "2024-06-15T06:08:08.706Z"
   },
   {
    "duration": 19,
    "start_time": "2024-06-15T06:08:08.752Z"
   },
   {
    "duration": 28,
    "start_time": "2024-06-15T06:08:08.774Z"
   },
   {
    "duration": 91,
    "start_time": "2024-06-15T06:08:08.804Z"
   },
   {
    "duration": 103,
    "start_time": "2024-06-15T06:08:08.897Z"
   },
   {
    "duration": 174,
    "start_time": "2024-06-15T06:08:09.002Z"
   },
   {
    "duration": 46,
    "start_time": "2024-06-15T06:08:09.178Z"
   },
   {
    "duration": 1,
    "start_time": "2024-06-15T06:08:09.227Z"
   },
   {
    "duration": 0,
    "start_time": "2024-06-15T06:08:09.229Z"
   },
   {
    "duration": 0,
    "start_time": "2024-06-15T06:08:09.231Z"
   },
   {
    "duration": 0,
    "start_time": "2024-06-15T06:08:09.232Z"
   },
   {
    "duration": 0,
    "start_time": "2024-06-15T06:08:09.233Z"
   },
   {
    "duration": 0,
    "start_time": "2024-06-15T06:08:09.235Z"
   },
   {
    "duration": 0,
    "start_time": "2024-06-15T06:08:09.236Z"
   },
   {
    "duration": 0,
    "start_time": "2024-06-15T06:08:09.238Z"
   },
   {
    "duration": 0,
    "start_time": "2024-06-15T06:08:09.239Z"
   },
   {
    "duration": 0,
    "start_time": "2024-06-15T06:08:09.240Z"
   },
   {
    "duration": 0,
    "start_time": "2024-06-15T06:08:09.241Z"
   },
   {
    "duration": 0,
    "start_time": "2024-06-15T06:08:09.243Z"
   },
   {
    "duration": 0,
    "start_time": "2024-06-15T06:08:09.244Z"
   },
   {
    "duration": 0,
    "start_time": "2024-06-15T06:08:09.246Z"
   },
   {
    "duration": 0,
    "start_time": "2024-06-15T06:08:09.247Z"
   },
   {
    "duration": 0,
    "start_time": "2024-06-15T06:08:09.248Z"
   },
   {
    "duration": 0,
    "start_time": "2024-06-15T06:08:09.250Z"
   },
   {
    "duration": 0,
    "start_time": "2024-06-15T06:08:09.251Z"
   },
   {
    "duration": 0,
    "start_time": "2024-06-15T06:08:09.251Z"
   },
   {
    "duration": 0,
    "start_time": "2024-06-15T06:08:09.254Z"
   },
   {
    "duration": 0,
    "start_time": "2024-06-15T06:08:09.255Z"
   },
   {
    "duration": 1,
    "start_time": "2024-06-15T06:08:09.256Z"
   },
   {
    "duration": 0,
    "start_time": "2024-06-15T06:08:09.257Z"
   },
   {
    "duration": 0,
    "start_time": "2024-06-15T06:08:09.258Z"
   },
   {
    "duration": 0,
    "start_time": "2024-06-15T06:08:09.259Z"
   },
   {
    "duration": 0,
    "start_time": "2024-06-15T06:08:09.260Z"
   },
   {
    "duration": 0,
    "start_time": "2024-06-15T06:08:09.261Z"
   },
   {
    "duration": 0,
    "start_time": "2024-06-15T06:08:09.262Z"
   },
   {
    "duration": 0,
    "start_time": "2024-06-15T06:08:09.263Z"
   },
   {
    "duration": 0,
    "start_time": "2024-06-15T06:08:09.265Z"
   },
   {
    "duration": 0,
    "start_time": "2024-06-15T06:08:09.266Z"
   },
   {
    "duration": 0,
    "start_time": "2024-06-15T06:08:09.267Z"
   },
   {
    "duration": 0,
    "start_time": "2024-06-15T06:08:09.268Z"
   },
   {
    "duration": 1,
    "start_time": "2024-06-15T06:08:09.269Z"
   },
   {
    "duration": 0,
    "start_time": "2024-06-15T06:08:09.271Z"
   },
   {
    "duration": 0,
    "start_time": "2024-06-15T06:08:09.272Z"
   },
   {
    "duration": 0,
    "start_time": "2024-06-15T06:08:09.273Z"
   },
   {
    "duration": 54,
    "start_time": "2024-06-15T06:10:25.921Z"
   },
   {
    "duration": 3,
    "start_time": "2024-06-15T06:10:53.249Z"
   },
   {
    "duration": 5,
    "start_time": "2024-06-15T06:11:07.783Z"
   },
   {
    "duration": 5,
    "start_time": "2024-06-15T06:12:55.038Z"
   },
   {
    "duration": 1213,
    "start_time": "2024-06-15T06:13:57.392Z"
   },
   {
    "duration": 232,
    "start_time": "2024-06-15T06:13:58.609Z"
   },
   {
    "duration": 12,
    "start_time": "2024-06-15T06:13:58.843Z"
   },
   {
    "duration": 18,
    "start_time": "2024-06-15T06:13:58.858Z"
   },
   {
    "duration": 15,
    "start_time": "2024-06-15T06:13:58.878Z"
   },
   {
    "duration": 21,
    "start_time": "2024-06-15T06:13:58.895Z"
   },
   {
    "duration": 106,
    "start_time": "2024-06-15T06:13:58.918Z"
   },
   {
    "duration": 111,
    "start_time": "2024-06-15T06:13:59.026Z"
   },
   {
    "duration": 174,
    "start_time": "2024-06-15T06:13:59.139Z"
   },
   {
    "duration": 4,
    "start_time": "2024-06-15T06:13:59.316Z"
   },
   {
    "duration": 55,
    "start_time": "2024-06-15T06:13:59.322Z"
   },
   {
    "duration": 8,
    "start_time": "2024-06-15T06:13:59.379Z"
   },
   {
    "duration": 25,
    "start_time": "2024-06-15T06:13:59.389Z"
   },
   {
    "duration": 8,
    "start_time": "2024-06-15T06:13:59.416Z"
   },
   {
    "duration": 665,
    "start_time": "2024-06-15T06:13:59.426Z"
   },
   {
    "duration": 12,
    "start_time": "2024-06-15T06:14:00.093Z"
   },
   {
    "duration": 108,
    "start_time": "2024-06-15T06:14:00.107Z"
   },
   {
    "duration": 36,
    "start_time": "2024-06-15T06:14:00.217Z"
   },
   {
    "duration": 71,
    "start_time": "2024-06-15T06:14:00.255Z"
   },
   {
    "duration": 93,
    "start_time": "2024-06-15T06:14:00.329Z"
   },
   {
    "duration": 13,
    "start_time": "2024-06-15T06:14:00.423Z"
   },
   {
    "duration": 60,
    "start_time": "2024-06-15T06:14:00.438Z"
   },
   {
    "duration": 92,
    "start_time": "2024-06-15T06:14:00.500Z"
   },
   {
    "duration": 77,
    "start_time": "2024-06-15T06:14:00.595Z"
   },
   {
    "duration": 50,
    "start_time": "2024-06-15T06:14:00.675Z"
   },
   {
    "duration": 74,
    "start_time": "2024-06-15T06:14:00.727Z"
   },
   {
    "duration": 9,
    "start_time": "2024-06-15T06:14:00.803Z"
   },
   {
    "duration": 59,
    "start_time": "2024-06-15T06:14:00.816Z"
   },
   {
    "duration": 50,
    "start_time": "2024-06-15T06:14:00.877Z"
   },
   {
    "duration": 60,
    "start_time": "2024-06-15T06:14:00.929Z"
   },
   {
    "duration": 57,
    "start_time": "2024-06-15T06:14:00.991Z"
   },
   {
    "duration": 72,
    "start_time": "2024-06-15T06:14:01.050Z"
   },
   {
    "duration": 95,
    "start_time": "2024-06-15T06:14:01.124Z"
   },
   {
    "duration": 12,
    "start_time": "2024-06-15T06:14:01.222Z"
   },
   {
    "duration": 52,
    "start_time": "2024-06-15T06:14:01.236Z"
   },
   {
    "duration": 70,
    "start_time": "2024-06-15T06:14:01.290Z"
   },
   {
    "duration": 49,
    "start_time": "2024-06-15T06:14:01.362Z"
   },
   {
    "duration": 71,
    "start_time": "2024-06-15T06:14:01.413Z"
   },
   {
    "duration": 51,
    "start_time": "2024-06-15T06:14:01.486Z"
   },
   {
    "duration": 77,
    "start_time": "2024-06-15T06:14:01.539Z"
   },
   {
    "duration": 29,
    "start_time": "2024-06-15T06:14:01.618Z"
   },
   {
    "duration": 30,
    "start_time": "2024-06-15T06:14:01.649Z"
   },
   {
    "duration": 42,
    "start_time": "2024-06-15T06:14:01.681Z"
   },
   {
    "duration": 34,
    "start_time": "2024-06-15T06:14:01.725Z"
   },
   {
    "duration": 16,
    "start_time": "2024-06-15T06:14:01.761Z"
   },
   {
    "duration": 16,
    "start_time": "2024-06-15T06:14:01.779Z"
   },
   {
    "duration": 15,
    "start_time": "2024-06-15T06:14:01.797Z"
   },
   {
    "duration": 50,
    "start_time": "2024-06-15T07:50:12.516Z"
   },
   {
    "duration": 1368,
    "start_time": "2024-06-15T07:50:22.836Z"
   },
   {
    "duration": 821,
    "start_time": "2024-06-15T07:50:24.205Z"
   },
   {
    "duration": 5,
    "start_time": "2024-06-15T07:50:25.028Z"
   },
   {
    "duration": 22,
    "start_time": "2024-06-15T07:50:25.034Z"
   },
   {
    "duration": 8,
    "start_time": "2024-06-15T07:50:25.059Z"
   },
   {
    "duration": 16,
    "start_time": "2024-06-15T07:50:25.070Z"
   },
   {
    "duration": 108,
    "start_time": "2024-06-15T07:50:25.088Z"
   },
   {
    "duration": 95,
    "start_time": "2024-06-15T07:50:25.197Z"
   },
   {
    "duration": 169,
    "start_time": "2024-06-15T07:50:25.294Z"
   },
   {
    "duration": 3,
    "start_time": "2024-06-15T07:50:25.465Z"
   },
   {
    "duration": 53,
    "start_time": "2024-06-15T07:50:25.470Z"
   },
   {
    "duration": 7,
    "start_time": "2024-06-15T07:50:25.525Z"
   },
   {
    "duration": 18,
    "start_time": "2024-06-15T07:50:25.533Z"
   },
   {
    "duration": 6,
    "start_time": "2024-06-15T07:50:25.554Z"
   },
   {
    "duration": 264,
    "start_time": "2024-06-15T07:50:25.561Z"
   },
   {
    "duration": 0,
    "start_time": "2024-06-15T07:50:25.827Z"
   },
   {
    "duration": 0,
    "start_time": "2024-06-15T07:50:25.828Z"
   },
   {
    "duration": 0,
    "start_time": "2024-06-15T07:50:25.829Z"
   },
   {
    "duration": 0,
    "start_time": "2024-06-15T07:50:25.830Z"
   },
   {
    "duration": 0,
    "start_time": "2024-06-15T07:50:25.831Z"
   },
   {
    "duration": 0,
    "start_time": "2024-06-15T07:50:25.832Z"
   },
   {
    "duration": 0,
    "start_time": "2024-06-15T07:50:25.833Z"
   },
   {
    "duration": 0,
    "start_time": "2024-06-15T07:50:25.834Z"
   },
   {
    "duration": 0,
    "start_time": "2024-06-15T07:50:25.835Z"
   },
   {
    "duration": 0,
    "start_time": "2024-06-15T07:50:25.836Z"
   },
   {
    "duration": 0,
    "start_time": "2024-06-15T07:50:25.837Z"
   },
   {
    "duration": 0,
    "start_time": "2024-06-15T07:50:25.838Z"
   },
   {
    "duration": 0,
    "start_time": "2024-06-15T07:50:25.839Z"
   },
   {
    "duration": 0,
    "start_time": "2024-06-15T07:50:25.840Z"
   },
   {
    "duration": 0,
    "start_time": "2024-06-15T07:50:25.841Z"
   },
   {
    "duration": 0,
    "start_time": "2024-06-15T07:50:25.842Z"
   },
   {
    "duration": 0,
    "start_time": "2024-06-15T07:50:25.843Z"
   },
   {
    "duration": 0,
    "start_time": "2024-06-15T07:50:25.844Z"
   },
   {
    "duration": 0,
    "start_time": "2024-06-15T07:50:25.845Z"
   },
   {
    "duration": 0,
    "start_time": "2024-06-15T07:50:25.846Z"
   },
   {
    "duration": 0,
    "start_time": "2024-06-15T07:50:25.847Z"
   },
   {
    "duration": 0,
    "start_time": "2024-06-15T07:50:25.848Z"
   },
   {
    "duration": 0,
    "start_time": "2024-06-15T07:50:25.849Z"
   },
   {
    "duration": 0,
    "start_time": "2024-06-15T07:50:25.850Z"
   },
   {
    "duration": 0,
    "start_time": "2024-06-15T07:50:25.851Z"
   },
   {
    "duration": 0,
    "start_time": "2024-06-15T07:50:25.852Z"
   },
   {
    "duration": 0,
    "start_time": "2024-06-15T07:50:25.853Z"
   },
   {
    "duration": 0,
    "start_time": "2024-06-15T07:50:25.854Z"
   },
   {
    "duration": 0,
    "start_time": "2024-06-15T07:50:25.855Z"
   },
   {
    "duration": 0,
    "start_time": "2024-06-15T07:50:25.856Z"
   },
   {
    "duration": 0,
    "start_time": "2024-06-15T07:50:25.857Z"
   },
   {
    "duration": 0,
    "start_time": "2024-06-15T07:50:25.857Z"
   },
   {
    "duration": 47,
    "start_time": "2024-06-15T07:52:08.758Z"
   },
   {
    "duration": 96353,
    "start_time": "2024-06-15T07:52:16.886Z"
   },
   {
    "duration": 50,
    "start_time": "2024-06-16T06:29:27.314Z"
   },
   {
    "duration": 1140,
    "start_time": "2024-06-16T06:29:33.414Z"
   },
   {
    "duration": 820,
    "start_time": "2024-06-16T06:29:34.556Z"
   },
   {
    "duration": 4,
    "start_time": "2024-06-16T06:29:35.378Z"
   },
   {
    "duration": 16,
    "start_time": "2024-06-16T06:29:35.383Z"
   },
   {
    "duration": 7,
    "start_time": "2024-06-16T06:29:35.400Z"
   },
   {
    "duration": 18,
    "start_time": "2024-06-16T06:29:35.408Z"
   },
   {
    "duration": 74,
    "start_time": "2024-06-16T06:29:35.427Z"
   },
   {
    "duration": 110,
    "start_time": "2024-06-16T06:29:35.503Z"
   },
   {
    "duration": 145,
    "start_time": "2024-06-16T06:29:35.614Z"
   },
   {
    "duration": 3,
    "start_time": "2024-06-16T06:29:35.761Z"
   },
   {
    "duration": 46,
    "start_time": "2024-06-16T06:29:35.765Z"
   },
   {
    "duration": 6,
    "start_time": "2024-06-16T06:29:35.812Z"
   },
   {
    "duration": 23,
    "start_time": "2024-06-16T06:29:35.819Z"
   },
   {
    "duration": 35,
    "start_time": "2024-06-16T06:29:35.843Z"
   },
   {
    "duration": 28,
    "start_time": "2024-06-16T06:29:35.879Z"
   },
   {
    "duration": 6,
    "start_time": "2024-06-16T06:29:35.909Z"
   },
   {
    "duration": 27,
    "start_time": "2024-06-16T06:29:35.916Z"
   },
   {
    "duration": 15,
    "start_time": "2024-06-16T06:29:35.944Z"
   },
   {
    "duration": 38,
    "start_time": "2024-06-16T06:29:35.961Z"
   },
   {
    "duration": 54,
    "start_time": "2024-06-16T06:29:36.001Z"
   },
   {
    "duration": 10,
    "start_time": "2024-06-16T06:29:36.056Z"
   },
   {
    "duration": 11,
    "start_time": "2024-06-16T06:29:36.067Z"
   },
   {
    "duration": 42,
    "start_time": "2024-06-16T06:29:36.080Z"
   },
   {
    "duration": 42,
    "start_time": "2024-06-16T06:29:36.123Z"
   },
   {
    "duration": 33,
    "start_time": "2024-06-16T06:29:36.166Z"
   },
   {
    "duration": 46,
    "start_time": "2024-06-16T06:29:36.200Z"
   },
   {
    "duration": 5,
    "start_time": "2024-06-16T06:29:36.247Z"
   },
   {
    "duration": 30,
    "start_time": "2024-06-16T06:29:36.255Z"
   },
   {
    "duration": 35,
    "start_time": "2024-06-16T06:29:36.286Z"
   },
   {
    "duration": 23,
    "start_time": "2024-06-16T06:29:36.323Z"
   },
   {
    "duration": 16,
    "start_time": "2024-06-16T06:29:36.347Z"
   },
   {
    "duration": 27,
    "start_time": "2024-06-16T06:29:36.365Z"
   },
   {
    "duration": 38,
    "start_time": "2024-06-16T06:29:36.394Z"
   },
   {
    "duration": 7,
    "start_time": "2024-06-16T06:29:36.433Z"
   },
   {
    "duration": 26,
    "start_time": "2024-06-16T06:29:36.441Z"
   },
   {
    "duration": 7,
    "start_time": "2024-06-16T06:29:36.469Z"
   },
   {
    "duration": 27,
    "start_time": "2024-06-16T06:29:36.477Z"
   },
   {
    "duration": 7,
    "start_time": "2024-06-16T06:29:36.505Z"
   },
   {
    "duration": 17,
    "start_time": "2024-06-16T06:29:36.513Z"
   },
   {
    "duration": 5,
    "start_time": "2024-06-16T06:29:36.531Z"
   },
   {
    "duration": 11,
    "start_time": "2024-06-16T06:29:36.537Z"
   },
   {
    "duration": 14,
    "start_time": "2024-06-16T06:29:36.549Z"
   },
   {
    "duration": 28,
    "start_time": "2024-06-16T06:29:36.564Z"
   },
   {
    "duration": 19,
    "start_time": "2024-06-16T06:29:36.593Z"
   },
   {
    "duration": 23,
    "start_time": "2024-06-16T06:29:36.613Z"
   },
   {
    "duration": 14,
    "start_time": "2024-06-16T06:29:36.638Z"
   },
   {
    "duration": 7,
    "start_time": "2024-06-16T06:29:36.653Z"
   },
   {
    "duration": 29,
    "start_time": "2024-06-16T06:30:05.074Z"
   },
   {
    "duration": 90,
    "start_time": "2024-06-16T06:30:36.534Z"
   },
   {
    "duration": 186,
    "start_time": "2024-06-16T06:31:18.436Z"
   },
   {
    "duration": 19,
    "start_time": "2024-06-16T06:32:20.521Z"
   },
   {
    "duration": 44,
    "start_time": "2024-06-16T06:32:54.800Z"
   },
   {
    "duration": 51,
    "start_time": "2024-06-16T06:33:15.402Z"
   },
   {
    "duration": 894,
    "start_time": "2024-06-16T06:38:22.616Z"
   },
   {
    "duration": 156,
    "start_time": "2024-06-16T06:39:39.285Z"
   },
   {
    "duration": 862,
    "start_time": "2024-06-16T07:02:01.581Z"
   },
   {
    "duration": 276,
    "start_time": "2024-06-16T07:02:37.563Z"
   },
   {
    "duration": 10,
    "start_time": "2024-06-16T07:04:28.861Z"
   },
   {
    "duration": 9,
    "start_time": "2024-06-16T07:04:39.642Z"
   },
   {
    "duration": 3,
    "start_time": "2024-06-16T07:05:17.140Z"
   },
   {
    "duration": 1324,
    "start_time": "2024-06-16T07:07:26.530Z"
   },
   {
    "duration": 869,
    "start_time": "2024-06-16T07:07:59.754Z"
   },
   {
    "duration": 879,
    "start_time": "2024-06-16T07:08:13.463Z"
   },
   {
    "duration": 205,
    "start_time": "2024-06-16T07:08:19.935Z"
   },
   {
    "duration": 296,
    "start_time": "2024-06-16T07:09:29.352Z"
   },
   {
    "duration": 430,
    "start_time": "2024-06-16T07:09:55.780Z"
   },
   {
    "duration": 152,
    "start_time": "2024-06-16T07:15:52.693Z"
   },
   {
    "duration": 184,
    "start_time": "2024-06-16T07:16:11.646Z"
   },
   {
    "duration": 193,
    "start_time": "2024-06-16T07:16:22.914Z"
   },
   {
    "duration": 854,
    "start_time": "2024-06-16T07:17:45.239Z"
   },
   {
    "duration": 982,
    "start_time": "2024-06-16T07:20:56.797Z"
   },
   {
    "duration": 204,
    "start_time": "2024-06-16T07:21:12.087Z"
   },
   {
    "duration": 208,
    "start_time": "2024-06-16T07:21:23.670Z"
   },
   {
    "duration": 267,
    "start_time": "2024-06-16T07:21:36.418Z"
   },
   {
    "duration": 227,
    "start_time": "2024-06-16T07:21:54.111Z"
   },
   {
    "duration": 206,
    "start_time": "2024-06-16T07:22:16.304Z"
   },
   {
    "duration": 220,
    "start_time": "2024-06-16T07:22:36.943Z"
   },
   {
    "duration": 220,
    "start_time": "2024-06-16T07:22:54.411Z"
   },
   {
    "duration": 231,
    "start_time": "2024-06-16T07:26:26.112Z"
   },
   {
    "duration": 217,
    "start_time": "2024-06-16T07:27:11.717Z"
   },
   {
    "duration": 199,
    "start_time": "2024-06-16T07:28:03.394Z"
   },
   {
    "duration": 218,
    "start_time": "2024-06-16T07:28:32.507Z"
   },
   {
    "duration": 206,
    "start_time": "2024-06-16T07:30:01.347Z"
   },
   {
    "duration": 202,
    "start_time": "2024-06-16T07:31:31.038Z"
   },
   {
    "duration": 303,
    "start_time": "2024-06-16T07:31:50.543Z"
   },
   {
    "duration": 204,
    "start_time": "2024-06-16T07:32:02.303Z"
   },
   {
    "duration": 199,
    "start_time": "2024-06-16T07:32:44.092Z"
   },
   {
    "duration": 203,
    "start_time": "2024-06-16T07:33:13.381Z"
   },
   {
    "duration": 211,
    "start_time": "2024-06-16T07:34:03.614Z"
   },
   {
    "duration": 205,
    "start_time": "2024-06-16T07:34:37.187Z"
   },
   {
    "duration": 221,
    "start_time": "2024-06-16T07:34:49.616Z"
   },
   {
    "duration": 228,
    "start_time": "2024-06-16T07:36:45.301Z"
   },
   {
    "duration": 205,
    "start_time": "2024-06-16T07:37:02.900Z"
   },
   {
    "duration": 297,
    "start_time": "2024-06-16T07:38:05.344Z"
   },
   {
    "duration": 219,
    "start_time": "2024-06-16T07:38:22.450Z"
   },
   {
    "duration": 119,
    "start_time": "2024-06-16T07:38:38.548Z"
   },
   {
    "duration": 170,
    "start_time": "2024-06-16T07:38:48.914Z"
   },
   {
    "duration": 187,
    "start_time": "2024-06-16T07:39:27.787Z"
   },
   {
    "duration": 186,
    "start_time": "2024-06-16T07:39:42.847Z"
   },
   {
    "duration": 175,
    "start_time": "2024-06-16T07:40:10.531Z"
   },
   {
    "duration": 174,
    "start_time": "2024-06-16T07:40:41.671Z"
   },
   {
    "duration": 5,
    "start_time": "2024-06-16T07:41:02.241Z"
   },
   {
    "duration": 172,
    "start_time": "2024-06-16T07:41:05.738Z"
   },
   {
    "duration": 229,
    "start_time": "2024-06-16T07:42:23.543Z"
   },
   {
    "duration": 238,
    "start_time": "2024-06-16T07:43:06.074Z"
   },
   {
    "duration": 176,
    "start_time": "2024-06-16T07:44:38.873Z"
   },
   {
    "duration": 240,
    "start_time": "2024-06-16T07:44:48.455Z"
   },
   {
    "duration": 236,
    "start_time": "2024-06-16T07:45:14.684Z"
   },
   {
    "duration": 246,
    "start_time": "2024-06-16T07:45:32.402Z"
   },
   {
    "duration": 277,
    "start_time": "2024-06-16T07:46:06.429Z"
   },
   {
    "duration": 277,
    "start_time": "2024-06-16T07:46:39.297Z"
   },
   {
    "duration": 256,
    "start_time": "2024-06-16T07:46:58.352Z"
   },
   {
    "duration": 236,
    "start_time": "2024-06-16T07:49:31.786Z"
   },
   {
    "duration": 272,
    "start_time": "2024-06-16T07:49:45.552Z"
   },
   {
    "duration": 279,
    "start_time": "2024-06-16T07:53:30.401Z"
   },
   {
    "duration": 324,
    "start_time": "2024-06-16T07:53:41.248Z"
   },
   {
    "duration": 203,
    "start_time": "2024-06-16T07:54:04.747Z"
   },
   {
    "duration": 268,
    "start_time": "2024-06-16T07:54:15.148Z"
   },
   {
    "duration": 4,
    "start_time": "2024-06-16T07:54:26.606Z"
   },
   {
    "duration": 184,
    "start_time": "2024-06-16T07:54:36.528Z"
   },
   {
    "duration": 182,
    "start_time": "2024-06-16T07:54:54.504Z"
   },
   {
    "duration": 255,
    "start_time": "2024-06-16T07:55:03.958Z"
   },
   {
    "duration": 272,
    "start_time": "2024-06-16T07:57:33.288Z"
   },
   {
    "duration": 448,
    "start_time": "2024-06-16T07:59:26.377Z"
   },
   {
    "duration": 472,
    "start_time": "2024-06-16T08:00:52.013Z"
   },
   {
    "duration": 540,
    "start_time": "2024-06-16T08:01:01.739Z"
   },
   {
    "duration": 450,
    "start_time": "2024-06-16T08:03:28.278Z"
   },
   {
    "duration": 425,
    "start_time": "2024-06-16T08:03:48.652Z"
   },
   {
    "duration": 437,
    "start_time": "2024-06-16T08:03:57.515Z"
   },
   {
    "duration": 425,
    "start_time": "2024-06-16T08:04:10.560Z"
   },
   {
    "duration": 432,
    "start_time": "2024-06-16T08:05:55.962Z"
   },
   {
    "duration": 974,
    "start_time": "2024-06-16T08:13:35.155Z"
   },
   {
    "duration": 164,
    "start_time": "2024-06-16T08:13:36.131Z"
   },
   {
    "duration": 4,
    "start_time": "2024-06-16T08:13:36.296Z"
   },
   {
    "duration": 22,
    "start_time": "2024-06-16T08:13:36.302Z"
   },
   {
    "duration": 5,
    "start_time": "2024-06-16T08:13:36.325Z"
   },
   {
    "duration": 28,
    "start_time": "2024-06-16T08:13:36.331Z"
   },
   {
    "duration": 67,
    "start_time": "2024-06-16T08:13:36.360Z"
   },
   {
    "duration": 94,
    "start_time": "2024-06-16T08:13:36.429Z"
   },
   {
    "duration": 140,
    "start_time": "2024-06-16T08:13:36.524Z"
   },
   {
    "duration": 3,
    "start_time": "2024-06-16T08:13:36.667Z"
   },
   {
    "duration": 49,
    "start_time": "2024-06-16T08:13:36.671Z"
   },
   {
    "duration": 6,
    "start_time": "2024-06-16T08:13:36.721Z"
   },
   {
    "duration": 20,
    "start_time": "2024-06-16T08:13:36.729Z"
   },
   {
    "duration": 6,
    "start_time": "2024-06-16T08:13:36.751Z"
   },
   {
    "duration": 465,
    "start_time": "2024-06-16T08:13:36.758Z"
   },
   {
    "duration": 6,
    "start_time": "2024-06-16T08:13:37.224Z"
   },
   {
    "duration": 26,
    "start_time": "2024-06-16T08:13:37.231Z"
   },
   {
    "duration": 17,
    "start_time": "2024-06-16T08:13:37.258Z"
   },
   {
    "duration": 57,
    "start_time": "2024-06-16T08:13:37.276Z"
   },
   {
    "duration": 76,
    "start_time": "2024-06-16T08:13:37.334Z"
   },
   {
    "duration": 11,
    "start_time": "2024-06-16T08:13:37.411Z"
   },
   {
    "duration": 8,
    "start_time": "2024-06-16T08:13:37.423Z"
   },
   {
    "duration": 31,
    "start_time": "2024-06-16T08:13:37.432Z"
   },
   {
    "duration": 57,
    "start_time": "2024-06-16T08:13:37.464Z"
   },
   {
    "duration": 37,
    "start_time": "2024-06-16T08:13:37.522Z"
   },
   {
    "duration": 32,
    "start_time": "2024-06-16T08:13:37.560Z"
   },
   {
    "duration": 4,
    "start_time": "2024-06-16T08:13:37.593Z"
   },
   {
    "duration": 21,
    "start_time": "2024-06-16T08:13:37.600Z"
   },
   {
    "duration": 4,
    "start_time": "2024-06-16T08:13:37.622Z"
   },
   {
    "duration": 6,
    "start_time": "2024-06-16T08:13:37.627Z"
   },
   {
    "duration": 4,
    "start_time": "2024-06-16T08:13:37.635Z"
   },
   {
    "duration": 22,
    "start_time": "2024-06-16T08:13:37.640Z"
   },
   {
    "duration": 36,
    "start_time": "2024-06-16T08:13:37.663Z"
   },
   {
    "duration": 6,
    "start_time": "2024-06-16T08:13:37.701Z"
   },
   {
    "duration": 11,
    "start_time": "2024-06-16T08:13:37.720Z"
   },
   {
    "duration": 4,
    "start_time": "2024-06-16T08:13:37.732Z"
   },
   {
    "duration": 20,
    "start_time": "2024-06-16T08:13:37.737Z"
   },
   {
    "duration": 14,
    "start_time": "2024-06-16T08:13:37.758Z"
   },
   {
    "duration": 23,
    "start_time": "2024-06-16T08:13:37.774Z"
   },
   {
    "duration": 16,
    "start_time": "2024-06-16T08:13:37.799Z"
   },
   {
    "duration": 6,
    "start_time": "2024-06-16T08:13:37.816Z"
   },
   {
    "duration": 5,
    "start_time": "2024-06-16T08:13:37.823Z"
   },
   {
    "duration": 8,
    "start_time": "2024-06-16T08:13:37.829Z"
   },
   {
    "duration": 11,
    "start_time": "2024-06-16T08:13:37.838Z"
   },
   {
    "duration": 10,
    "start_time": "2024-06-16T08:13:37.850Z"
   },
   {
    "duration": 6,
    "start_time": "2024-06-16T08:13:37.861Z"
   },
   {
    "duration": 9,
    "start_time": "2024-06-16T08:13:37.868Z"
   },
   {
    "duration": 1202,
    "start_time": "2024-06-16T09:55:00.347Z"
   },
   {
    "duration": 225,
    "start_time": "2024-06-16T09:55:01.555Z"
   },
   {
    "duration": 5,
    "start_time": "2024-06-16T09:55:01.781Z"
   },
   {
    "duration": 51,
    "start_time": "2024-06-16T09:55:01.787Z"
   },
   {
    "duration": 28,
    "start_time": "2024-06-16T09:55:01.840Z"
   },
   {
    "duration": 46,
    "start_time": "2024-06-16T09:55:01.870Z"
   },
   {
    "duration": 111,
    "start_time": "2024-06-16T09:55:01.917Z"
   },
   {
    "duration": 126,
    "start_time": "2024-06-16T09:55:02.029Z"
   },
   {
    "duration": 173,
    "start_time": "2024-06-16T09:55:02.157Z"
   },
   {
    "duration": 4,
    "start_time": "2024-06-16T09:55:02.332Z"
   },
   {
    "duration": 49,
    "start_time": "2024-06-16T09:55:02.337Z"
   },
   {
    "duration": 8,
    "start_time": "2024-06-16T09:55:02.387Z"
   },
   {
    "duration": 25,
    "start_time": "2024-06-16T09:55:02.397Z"
   },
   {
    "duration": 7,
    "start_time": "2024-06-16T09:55:02.425Z"
   },
   {
    "duration": 534,
    "start_time": "2024-06-16T09:55:02.455Z"
   },
   {
    "duration": 8,
    "start_time": "2024-06-16T09:55:02.990Z"
   },
   {
    "duration": 62,
    "start_time": "2024-06-16T09:55:02.999Z"
   },
   {
    "duration": 22,
    "start_time": "2024-06-16T09:55:03.068Z"
   },
   {
    "duration": 42,
    "start_time": "2024-06-16T09:55:03.092Z"
   },
   {
    "duration": 78,
    "start_time": "2024-06-16T09:55:03.136Z"
   },
   {
    "duration": 13,
    "start_time": "2024-06-16T09:55:03.216Z"
   },
   {
    "duration": 27,
    "start_time": "2024-06-16T09:55:03.230Z"
   },
   {
    "duration": 36,
    "start_time": "2024-06-16T09:55:03.258Z"
   },
   {
    "duration": 64,
    "start_time": "2024-06-16T09:55:03.296Z"
   },
   {
    "duration": 39,
    "start_time": "2024-06-16T09:55:03.362Z"
   },
   {
    "duration": 56,
    "start_time": "2024-06-16T09:55:03.403Z"
   },
   {
    "duration": 6,
    "start_time": "2024-06-16T09:55:03.460Z"
   },
   {
    "duration": 19,
    "start_time": "2024-06-16T09:55:03.468Z"
   },
   {
    "duration": 12,
    "start_time": "2024-06-16T09:55:03.488Z"
   },
   {
    "duration": 14,
    "start_time": "2024-06-16T09:55:03.501Z"
   },
   {
    "duration": 19,
    "start_time": "2024-06-16T09:55:03.516Z"
   },
   {
    "duration": 23,
    "start_time": "2024-06-16T09:55:03.537Z"
   },
   {
    "duration": 59,
    "start_time": "2024-06-16T09:55:03.562Z"
   },
   {
    "duration": 9,
    "start_time": "2024-06-16T09:55:03.623Z"
   },
   {
    "duration": 26,
    "start_time": "2024-06-16T09:55:03.634Z"
   },
   {
    "duration": 34,
    "start_time": "2024-06-16T09:55:03.662Z"
   },
   {
    "duration": 37,
    "start_time": "2024-06-16T09:55:03.698Z"
   },
   {
    "duration": 30,
    "start_time": "2024-06-16T09:55:03.737Z"
   },
   {
    "duration": 38,
    "start_time": "2024-06-16T09:55:03.769Z"
   },
   {
    "duration": 36,
    "start_time": "2024-06-16T09:55:03.809Z"
   },
   {
    "duration": 30,
    "start_time": "2024-06-16T09:55:03.849Z"
   },
   {
    "duration": 15,
    "start_time": "2024-06-16T09:55:03.881Z"
   },
   {
    "duration": 27,
    "start_time": "2024-06-16T09:55:03.898Z"
   },
   {
    "duration": 24,
    "start_time": "2024-06-16T09:55:03.927Z"
   },
   {
    "duration": 10,
    "start_time": "2024-06-16T09:55:03.952Z"
   },
   {
    "duration": 31,
    "start_time": "2024-06-16T09:55:03.963Z"
   },
   {
    "duration": 13,
    "start_time": "2024-06-16T09:55:03.996Z"
   },
   {
    "duration": 1163,
    "start_time": "2024-06-16T09:58:55.464Z"
   },
   {
    "duration": 235,
    "start_time": "2024-06-16T09:58:56.629Z"
   },
   {
    "duration": 7,
    "start_time": "2024-06-16T09:58:56.866Z"
   },
   {
    "duration": 17,
    "start_time": "2024-06-16T09:58:56.875Z"
   },
   {
    "duration": 5,
    "start_time": "2024-06-16T09:58:56.894Z"
   },
   {
    "duration": 26,
    "start_time": "2024-06-16T09:58:56.901Z"
   },
   {
    "duration": 108,
    "start_time": "2024-06-16T09:58:56.929Z"
   },
   {
    "duration": 143,
    "start_time": "2024-06-16T09:58:57.039Z"
   },
   {
    "duration": 174,
    "start_time": "2024-06-16T09:58:57.184Z"
   },
   {
    "duration": 3,
    "start_time": "2024-06-16T09:58:57.361Z"
   },
   {
    "duration": 37,
    "start_time": "2024-06-16T09:58:57.366Z"
   },
   {
    "duration": 7,
    "start_time": "2024-06-16T09:58:57.405Z"
   },
   {
    "duration": 46,
    "start_time": "2024-06-16T09:58:57.413Z"
   },
   {
    "duration": 6,
    "start_time": "2024-06-16T09:58:57.461Z"
   },
   {
    "duration": 567,
    "start_time": "2024-06-16T09:58:57.470Z"
   },
   {
    "duration": 17,
    "start_time": "2024-06-16T09:58:58.039Z"
   },
   {
    "duration": 30,
    "start_time": "2024-06-16T09:58:58.058Z"
   },
   {
    "duration": 24,
    "start_time": "2024-06-16T09:58:58.090Z"
   },
   {
    "duration": 65,
    "start_time": "2024-06-16T09:58:58.115Z"
   },
   {
    "duration": 79,
    "start_time": "2024-06-16T09:58:58.182Z"
   },
   {
    "duration": 13,
    "start_time": "2024-06-16T09:58:58.263Z"
   },
   {
    "duration": 18,
    "start_time": "2024-06-16T09:58:58.278Z"
   },
   {
    "duration": 36,
    "start_time": "2024-06-16T09:58:58.297Z"
   },
   {
    "duration": 70,
    "start_time": "2024-06-16T09:58:58.335Z"
   },
   {
    "duration": 59,
    "start_time": "2024-06-16T09:58:58.407Z"
   },
   {
    "duration": 38,
    "start_time": "2024-06-16T09:58:58.468Z"
   },
   {
    "duration": 6,
    "start_time": "2024-06-16T09:58:58.508Z"
   },
   {
    "duration": 9,
    "start_time": "2024-06-16T09:58:58.518Z"
   },
   {
    "duration": 28,
    "start_time": "2024-06-16T09:58:58.529Z"
   },
   {
    "duration": 6,
    "start_time": "2024-06-16T09:58:58.558Z"
   },
   {
    "duration": 8,
    "start_time": "2024-06-16T09:58:58.565Z"
   },
   {
    "duration": 27,
    "start_time": "2024-06-16T09:58:58.575Z"
   },
   {
    "duration": 62,
    "start_time": "2024-06-16T09:58:58.604Z"
   },
   {
    "duration": 11,
    "start_time": "2024-06-16T09:58:58.668Z"
   },
   {
    "duration": 29,
    "start_time": "2024-06-16T09:58:58.681Z"
   },
   {
    "duration": 15,
    "start_time": "2024-06-16T09:58:58.712Z"
   },
   {
    "duration": 31,
    "start_time": "2024-06-16T09:58:58.729Z"
   },
   {
    "duration": 14,
    "start_time": "2024-06-16T09:58:58.762Z"
   },
   {
    "duration": 40,
    "start_time": "2024-06-16T09:58:58.778Z"
   },
   {
    "duration": 38,
    "start_time": "2024-06-16T09:58:58.820Z"
   },
   {
    "duration": 11,
    "start_time": "2024-06-16T09:58:58.860Z"
   },
   {
    "duration": 17,
    "start_time": "2024-06-16T09:58:58.873Z"
   },
   {
    "duration": 28,
    "start_time": "2024-06-16T09:58:58.892Z"
   },
   {
    "duration": 17,
    "start_time": "2024-06-16T09:58:58.922Z"
   },
   {
    "duration": 14,
    "start_time": "2024-06-16T09:58:58.940Z"
   },
   {
    "duration": 9,
    "start_time": "2024-06-16T09:58:58.955Z"
   },
   {
    "duration": 19,
    "start_time": "2024-06-16T09:58:58.966Z"
   }
  ],
  "kernelspec": {
   "display_name": "Python 3 (ipykernel)",
   "language": "python",
   "name": "python3"
  },
  "language_info": {
   "codemirror_mode": {
    "name": "ipython",
    "version": 3
   },
   "file_extension": ".py",
   "mimetype": "text/x-python",
   "name": "python",
   "nbconvert_exporter": "python",
   "pygments_lexer": "ipython3",
   "version": "3.11.5"
  },
  "toc": {
   "base_numbering": 1,
   "nav_menu": {},
   "number_sections": true,
   "sideBar": true,
   "skip_h1_title": true,
   "title_cell": "Table of Contents",
   "title_sidebar": "Contents",
   "toc_cell": false,
   "toc_position": {},
   "toc_section_display": true,
   "toc_window_display": false
  }
 },
 "nbformat": 4,
 "nbformat_minor": 2
}
